{
  "nbformat": 4,
  "nbformat_minor": 0,
  "metadata": {
    "colab": {
      "name": "articles_data_word2vec.ipynb",
      "provenance": [],
      "collapsed_sections": []
    },
    "kernelspec": {
      "name": "python3",
      "display_name": "Python 3"
    },
    "language_info": {
      "name": "python"
    }
  },
  "cells": [
    {
      "cell_type": "markdown",
      "source": [
        "# Dataset 1: articles_dataset.csv"
      ],
      "metadata": {
        "id": "UpPhv0GBqx2S"
      }
    },
    {
      "cell_type": "markdown",
      "source": [
        "#### a. Import required libraries"
      ],
      "metadata": {
        "id": "kQcsadeGriB2"
      }
    },
    {
      "cell_type": "code",
      "source": [
        "from google.colab import drive\n",
        "drive.mount('/content/drive')"
      ],
      "metadata": {
        "colab": {
          "base_uri": "https://localhost:8080/"
        },
        "id": "bsrHkHRjr5Ll",
        "outputId": "0e8b8e01-826d-47fc-d5a1-b105a20bd596"
      },
      "execution_count": 1,
      "outputs": [
        {
          "output_type": "stream",
          "name": "stdout",
          "text": [
            "Mounted at /content/drive\n"
          ]
        }
      ]
    },
    {
      "cell_type": "code",
      "execution_count": 25,
      "metadata": {
        "id": "gqjmz1z0qpp1",
        "colab": {
          "base_uri": "https://localhost:8080/"
        },
        "outputId": "1036e206-5c67-4a86-90d1-92911caf9ec4"
      },
      "outputs": [
        {
          "output_type": "stream",
          "name": "stdout",
          "text": [
            "[nltk_data] Downloading package stopwords to /root/nltk_data...\n",
            "[nltk_data]   Package stopwords is already up-to-date!\n"
          ]
        }
      ],
      "source": [
        "#import library\n",
        "import os\n",
        "import random\n",
        "import re\n",
        "import string\n",
        "\n",
        "import nltk\n",
        "import numpy as np\n",
        "import pandas as pd\n",
        "\n",
        "from gensim.models import Word2Vec\n",
        "\n",
        "from nltk import word_tokenize\n",
        "from nltk.corpus import stopwords\n",
        "from collections import Counter\n",
        "\n",
        "from ds_utils.clustering import vectorize, mbkmeans_clusters\n",
        "from sklearn.cluster import MiniBatchKMeans\n",
        "from sklearn.metrics import silhouette_samples, silhouette_score\n",
        "\n",
        "nltk.download(\"stopwords\")\n",
        "\n",
        "SEED = 42\n",
        "random.seed(SEED)\n",
        "os.environ[\"PYTHONHASHSEED\"] = str(SEED)\n",
        "np.random.seed(SEED)"
      ]
    },
    {
      "cell_type": "markdown",
      "source": [
        "#### b. Data Preprocessing"
      ],
      "metadata": {
        "id": "FnDV6FweRaBe"
      }
    },
    {
      "cell_type": "code",
      "source": [
        "import pandas as pd\n",
        "df = pd.read_csv(\"./drive/MyDrive/STBI/Proyek/Dataset/articles_data.csv\")\n",
        "df.head()"
      ],
      "metadata": {
        "colab": {
          "base_uri": "https://localhost:8080/",
          "height": 618
        },
        "id": "GpFt4Bi8soHi",
        "outputId": "962b0b3d-2a57-4029-f184-f6ac7ae69ff5"
      },
      "execution_count": 3,
      "outputs": [
        {
          "output_type": "execute_result",
          "data": {
            "text/plain": [
              "   Unnamed: 0           source_id         source_name              author  \\\n",
              "0           0             reuters             Reuters   Reuters Editorial   \n",
              "1           1     the-irish-times     The Irish Times  Eoin Burke-Kennedy   \n",
              "2           2     the-irish-times     The Irish Times   Deirdre McQuillan   \n",
              "3           3  al-jazeera-english  Al Jazeera English          Al Jazeera   \n",
              "4           4            bbc-news            BBC News            BBC News   \n",
              "\n",
              "                                               title  \\\n",
              "0  NTSB says Autopilot engaged in 2018 California...   \n",
              "1       Unemployment falls to post-crash low of 5.2%   \n",
              "2  Louise Kennedy AW2019: Long coats, sparkling t...   \n",
              "3  North Korean footballer Han joins Italian gian...   \n",
              "4  UK government lawyer says proroguing parliamen...   \n",
              "\n",
              "                                         description  \\\n",
              "0  The National Transportation Safety Board said ...   \n",
              "1  Latest monthly figures reflect continued growt...   \n",
              "2  Autumn-winter collection features designer’s g...   \n",
              "3  Han is the first North Korean player in the Se...   \n",
              "4  The UK government's lawyer, David Johnston arg...   \n",
              "\n",
              "                                                 url  \\\n",
              "0  https://www.reuters.com/article/us-tesla-crash...   \n",
              "1  https://www.irishtimes.com/business/economy/un...   \n",
              "2  https://www.irishtimes.com/\\t\\t\\t\\t\\t\\t\\t/life...   \n",
              "3  https://www.aljazeera.com/news/2019/09/north-k...   \n",
              "4  https://www.bbc.co.uk/news/av/uk-scotland-4956...   \n",
              "\n",
              "                                        url_to_image          published_at  \\\n",
              "0  https://s4.reutersmedia.net/resources/r/?m=02&...  2019-09-03T16:22:20Z   \n",
              "1  https://www.irishtimes.com/image-creator/?id=1...  2019-09-03T10:32:28Z   \n",
              "2  https://www.irishtimes.com/image-creator/?id=1...  2019-09-03T14:40:00Z   \n",
              "3  https://www.aljazeera.com/mritems/Images/2019/...  2019-09-03T17:25:39Z   \n",
              "4  https://ichef.bbci.co.uk/news/1024/branded_new...  2019-09-03T14:39:21Z   \n",
              "\n",
              "                                             content  top_article  \\\n",
              "0  WASHINGTON (Reuters) - The National Transporta...          0.0   \n",
              "1  The States jobless rate fell to 5.2 per cent l...          0.0   \n",
              "2  Louise Kennedy is showing off her autumn-winte...          1.0   \n",
              "3  Han Kwang Song, the first North Korean footbal...          0.0   \n",
              "4                                                NaN          0.0   \n",
              "\n",
              "   engagement_reaction_count  engagement_comment_count  \\\n",
              "0                        0.0                       0.0   \n",
              "1                        6.0                      10.0   \n",
              "2                        NaN                       NaN   \n",
              "3                        0.0                       0.0   \n",
              "4                        0.0                       0.0   \n",
              "\n",
              "   engagement_share_count  engagement_comment_plugin_count  \n",
              "0                  2528.0                              0.0  \n",
              "1                     2.0                              0.0  \n",
              "2                     NaN                              NaN  \n",
              "3                     7.0                              0.0  \n",
              "4                     0.0                              0.0  "
            ],
            "text/html": [
              "\n",
              "  <div id=\"df-5ff326e5-8a6f-459c-8db6-29ab6cf39137\">\n",
              "    <div class=\"colab-df-container\">\n",
              "      <div>\n",
              "<style scoped>\n",
              "    .dataframe tbody tr th:only-of-type {\n",
              "        vertical-align: middle;\n",
              "    }\n",
              "\n",
              "    .dataframe tbody tr th {\n",
              "        vertical-align: top;\n",
              "    }\n",
              "\n",
              "    .dataframe thead th {\n",
              "        text-align: right;\n",
              "    }\n",
              "</style>\n",
              "<table border=\"1\" class=\"dataframe\">\n",
              "  <thead>\n",
              "    <tr style=\"text-align: right;\">\n",
              "      <th></th>\n",
              "      <th>Unnamed: 0</th>\n",
              "      <th>source_id</th>\n",
              "      <th>source_name</th>\n",
              "      <th>author</th>\n",
              "      <th>title</th>\n",
              "      <th>description</th>\n",
              "      <th>url</th>\n",
              "      <th>url_to_image</th>\n",
              "      <th>published_at</th>\n",
              "      <th>content</th>\n",
              "      <th>top_article</th>\n",
              "      <th>engagement_reaction_count</th>\n",
              "      <th>engagement_comment_count</th>\n",
              "      <th>engagement_share_count</th>\n",
              "      <th>engagement_comment_plugin_count</th>\n",
              "    </tr>\n",
              "  </thead>\n",
              "  <tbody>\n",
              "    <tr>\n",
              "      <th>0</th>\n",
              "      <td>0</td>\n",
              "      <td>reuters</td>\n",
              "      <td>Reuters</td>\n",
              "      <td>Reuters Editorial</td>\n",
              "      <td>NTSB says Autopilot engaged in 2018 California...</td>\n",
              "      <td>The National Transportation Safety Board said ...</td>\n",
              "      <td>https://www.reuters.com/article/us-tesla-crash...</td>\n",
              "      <td>https://s4.reutersmedia.net/resources/r/?m=02&amp;...</td>\n",
              "      <td>2019-09-03T16:22:20Z</td>\n",
              "      <td>WASHINGTON (Reuters) - The National Transporta...</td>\n",
              "      <td>0.0</td>\n",
              "      <td>0.0</td>\n",
              "      <td>0.0</td>\n",
              "      <td>2528.0</td>\n",
              "      <td>0.0</td>\n",
              "    </tr>\n",
              "    <tr>\n",
              "      <th>1</th>\n",
              "      <td>1</td>\n",
              "      <td>the-irish-times</td>\n",
              "      <td>The Irish Times</td>\n",
              "      <td>Eoin Burke-Kennedy</td>\n",
              "      <td>Unemployment falls to post-crash low of 5.2%</td>\n",
              "      <td>Latest monthly figures reflect continued growt...</td>\n",
              "      <td>https://www.irishtimes.com/business/economy/un...</td>\n",
              "      <td>https://www.irishtimes.com/image-creator/?id=1...</td>\n",
              "      <td>2019-09-03T10:32:28Z</td>\n",
              "      <td>The States jobless rate fell to 5.2 per cent l...</td>\n",
              "      <td>0.0</td>\n",
              "      <td>6.0</td>\n",
              "      <td>10.0</td>\n",
              "      <td>2.0</td>\n",
              "      <td>0.0</td>\n",
              "    </tr>\n",
              "    <tr>\n",
              "      <th>2</th>\n",
              "      <td>2</td>\n",
              "      <td>the-irish-times</td>\n",
              "      <td>The Irish Times</td>\n",
              "      <td>Deirdre McQuillan</td>\n",
              "      <td>Louise Kennedy AW2019: Long coats, sparkling t...</td>\n",
              "      <td>Autumn-winter collection features designer’s g...</td>\n",
              "      <td>https://www.irishtimes.com/\\t\\t\\t\\t\\t\\t\\t/life...</td>\n",
              "      <td>https://www.irishtimes.com/image-creator/?id=1...</td>\n",
              "      <td>2019-09-03T14:40:00Z</td>\n",
              "      <td>Louise Kennedy is showing off her autumn-winte...</td>\n",
              "      <td>1.0</td>\n",
              "      <td>NaN</td>\n",
              "      <td>NaN</td>\n",
              "      <td>NaN</td>\n",
              "      <td>NaN</td>\n",
              "    </tr>\n",
              "    <tr>\n",
              "      <th>3</th>\n",
              "      <td>3</td>\n",
              "      <td>al-jazeera-english</td>\n",
              "      <td>Al Jazeera English</td>\n",
              "      <td>Al Jazeera</td>\n",
              "      <td>North Korean footballer Han joins Italian gian...</td>\n",
              "      <td>Han is the first North Korean player in the Se...</td>\n",
              "      <td>https://www.aljazeera.com/news/2019/09/north-k...</td>\n",
              "      <td>https://www.aljazeera.com/mritems/Images/2019/...</td>\n",
              "      <td>2019-09-03T17:25:39Z</td>\n",
              "      <td>Han Kwang Song, the first North Korean footbal...</td>\n",
              "      <td>0.0</td>\n",
              "      <td>0.0</td>\n",
              "      <td>0.0</td>\n",
              "      <td>7.0</td>\n",
              "      <td>0.0</td>\n",
              "    </tr>\n",
              "    <tr>\n",
              "      <th>4</th>\n",
              "      <td>4</td>\n",
              "      <td>bbc-news</td>\n",
              "      <td>BBC News</td>\n",
              "      <td>BBC News</td>\n",
              "      <td>UK government lawyer says proroguing parliamen...</td>\n",
              "      <td>The UK government's lawyer, David Johnston arg...</td>\n",
              "      <td>https://www.bbc.co.uk/news/av/uk-scotland-4956...</td>\n",
              "      <td>https://ichef.bbci.co.uk/news/1024/branded_new...</td>\n",
              "      <td>2019-09-03T14:39:21Z</td>\n",
              "      <td>NaN</td>\n",
              "      <td>0.0</td>\n",
              "      <td>0.0</td>\n",
              "      <td>0.0</td>\n",
              "      <td>0.0</td>\n",
              "      <td>0.0</td>\n",
              "    </tr>\n",
              "  </tbody>\n",
              "</table>\n",
              "</div>\n",
              "      <button class=\"colab-df-convert\" onclick=\"convertToInteractive('df-5ff326e5-8a6f-459c-8db6-29ab6cf39137')\"\n",
              "              title=\"Convert this dataframe to an interactive table.\"\n",
              "              style=\"display:none;\">\n",
              "        \n",
              "  <svg xmlns=\"http://www.w3.org/2000/svg\" height=\"24px\"viewBox=\"0 0 24 24\"\n",
              "       width=\"24px\">\n",
              "    <path d=\"M0 0h24v24H0V0z\" fill=\"none\"/>\n",
              "    <path d=\"M18.56 5.44l.94 2.06.94-2.06 2.06-.94-2.06-.94-.94-2.06-.94 2.06-2.06.94zm-11 1L8.5 8.5l.94-2.06 2.06-.94-2.06-.94L8.5 2.5l-.94 2.06-2.06.94zm10 10l.94 2.06.94-2.06 2.06-.94-2.06-.94-.94-2.06-.94 2.06-2.06.94z\"/><path d=\"M17.41 7.96l-1.37-1.37c-.4-.4-.92-.59-1.43-.59-.52 0-1.04.2-1.43.59L10.3 9.45l-7.72 7.72c-.78.78-.78 2.05 0 2.83L4 21.41c.39.39.9.59 1.41.59.51 0 1.02-.2 1.41-.59l7.78-7.78 2.81-2.81c.8-.78.8-2.07 0-2.86zM5.41 20L4 18.59l7.72-7.72 1.47 1.35L5.41 20z\"/>\n",
              "  </svg>\n",
              "      </button>\n",
              "      \n",
              "  <style>\n",
              "    .colab-df-container {\n",
              "      display:flex;\n",
              "      flex-wrap:wrap;\n",
              "      gap: 12px;\n",
              "    }\n",
              "\n",
              "    .colab-df-convert {\n",
              "      background-color: #E8F0FE;\n",
              "      border: none;\n",
              "      border-radius: 50%;\n",
              "      cursor: pointer;\n",
              "      display: none;\n",
              "      fill: #1967D2;\n",
              "      height: 32px;\n",
              "      padding: 0 0 0 0;\n",
              "      width: 32px;\n",
              "    }\n",
              "\n",
              "    .colab-df-convert:hover {\n",
              "      background-color: #E2EBFA;\n",
              "      box-shadow: 0px 1px 2px rgba(60, 64, 67, 0.3), 0px 1px 3px 1px rgba(60, 64, 67, 0.15);\n",
              "      fill: #174EA6;\n",
              "    }\n",
              "\n",
              "    [theme=dark] .colab-df-convert {\n",
              "      background-color: #3B4455;\n",
              "      fill: #D2E3FC;\n",
              "    }\n",
              "\n",
              "    [theme=dark] .colab-df-convert:hover {\n",
              "      background-color: #434B5C;\n",
              "      box-shadow: 0px 1px 3px 1px rgba(0, 0, 0, 0.15);\n",
              "      filter: drop-shadow(0px 1px 2px rgba(0, 0, 0, 0.3));\n",
              "      fill: #FFFFFF;\n",
              "    }\n",
              "  </style>\n",
              "\n",
              "      <script>\n",
              "        const buttonEl =\n",
              "          document.querySelector('#df-5ff326e5-8a6f-459c-8db6-29ab6cf39137 button.colab-df-convert');\n",
              "        buttonEl.style.display =\n",
              "          google.colab.kernel.accessAllowed ? 'block' : 'none';\n",
              "\n",
              "        async function convertToInteractive(key) {\n",
              "          const element = document.querySelector('#df-5ff326e5-8a6f-459c-8db6-29ab6cf39137');\n",
              "          const dataTable =\n",
              "            await google.colab.kernel.invokeFunction('convertToInteractive',\n",
              "                                                     [key], {});\n",
              "          if (!dataTable) return;\n",
              "\n",
              "          const docLinkHtml = 'Like what you see? Visit the ' +\n",
              "            '<a target=\"_blank\" href=https://colab.research.google.com/notebooks/data_table.ipynb>data table notebook</a>'\n",
              "            + ' to learn more about interactive tables.';\n",
              "          element.innerHTML = '';\n",
              "          dataTable['output_type'] = 'display_data';\n",
              "          await google.colab.output.renderOutput(dataTable, element);\n",
              "          const docLink = document.createElement('div');\n",
              "          docLink.innerHTML = docLinkHtml;\n",
              "          element.appendChild(docLink);\n",
              "        }\n",
              "      </script>\n",
              "    </div>\n",
              "  </div>\n",
              "  "
            ]
          },
          "metadata": {},
          "execution_count": 3
        }
      ]
    },
    {
      "cell_type": "code",
      "source": [
        "df.shape"
      ],
      "metadata": {
        "colab": {
          "base_uri": "https://localhost:8080/"
        },
        "id": "64UyFB7gtIlv",
        "outputId": "8e107ed3-de86-4017-9066-c7a59f43ad66"
      },
      "execution_count": 4,
      "outputs": [
        {
          "output_type": "execute_result",
          "data": {
            "text/plain": [
              "(10437, 15)"
            ]
          },
          "metadata": {},
          "execution_count": 4
        }
      ]
    },
    {
      "cell_type": "code",
      "source": [
        "df.info()"
      ],
      "metadata": {
        "colab": {
          "base_uri": "https://localhost:8080/"
        },
        "id": "sxFndGzPtd1Z",
        "outputId": "13aa6e7f-43d0-48c1-ef6b-177fd519b72e"
      },
      "execution_count": 5,
      "outputs": [
        {
          "output_type": "stream",
          "name": "stdout",
          "text": [
            "<class 'pandas.core.frame.DataFrame'>\n",
            "RangeIndex: 10437 entries, 0 to 10436\n",
            "Data columns (total 15 columns):\n",
            " #   Column                           Non-Null Count  Dtype  \n",
            "---  ------                           --------------  -----  \n",
            " 0   Unnamed: 0                       10437 non-null  int64  \n",
            " 1   source_id                        10437 non-null  object \n",
            " 2   source_name                      10437 non-null  object \n",
            " 3   author                           9417 non-null   object \n",
            " 4   title                            10435 non-null  object \n",
            " 5   description                      10413 non-null  object \n",
            " 6   url                              10436 non-null  object \n",
            " 7   url_to_image                     9781 non-null   object \n",
            " 8   published_at                     10436 non-null  object \n",
            " 9   content                          9145 non-null   object \n",
            " 10  top_article                      10435 non-null  float64\n",
            " 11  engagement_reaction_count        10319 non-null  float64\n",
            " 12  engagement_comment_count         10319 non-null  float64\n",
            " 13  engagement_share_count           10319 non-null  float64\n",
            " 14  engagement_comment_plugin_count  10319 non-null  float64\n",
            "dtypes: float64(5), int64(1), object(9)\n",
            "memory usage: 1.2+ MB\n"
          ]
        }
      ]
    },
    {
      "cell_type": "code",
      "source": [
        "# drop atribut \n",
        "df = df.drop(['Unnamed: 0', 'source_id', 'title', 'description', 'source_name', 'author', 'url', 'url_to_image', 'published_at', 'top_article', 'engagement_reaction_count', 'engagement_comment_count', 'engagement_share_count', 'engagement_comment_plugin_count'], axis = 1)"
      ],
      "metadata": {
        "id": "xnSb1zRtw9gB"
      },
      "execution_count": 6,
      "outputs": []
    },
    {
      "cell_type": "code",
      "source": [
        "df.info()"
      ],
      "metadata": {
        "colab": {
          "base_uri": "https://localhost:8080/"
        },
        "id": "0-XSaGz4Nvb4",
        "outputId": "2f6eb3e7-97a4-41c8-cc70-0d2e45001f49"
      },
      "execution_count": 7,
      "outputs": [
        {
          "output_type": "stream",
          "name": "stdout",
          "text": [
            "<class 'pandas.core.frame.DataFrame'>\n",
            "RangeIndex: 10437 entries, 0 to 10436\n",
            "Data columns (total 1 columns):\n",
            " #   Column   Non-Null Count  Dtype \n",
            "---  ------   --------------  ----- \n",
            " 0   content  9145 non-null   object\n",
            "dtypes: object(1)\n",
            "memory usage: 81.7+ KB\n"
          ]
        }
      ]
    },
    {
      "cell_type": "code",
      "source": [
        "# Checking duplicate value\n",
        "print(str(df.describe(include=object)))"
      ],
      "metadata": {
        "colab": {
          "base_uri": "https://localhost:8080/"
        },
        "id": "BnmNZeKKtlwJ",
        "outputId": "5b14c092-d1b8-4be7-cb1e-d4d12384aa80"
      },
      "execution_count": 8,
      "outputs": [
        {
          "output_type": "stream",
          "name": "stdout",
          "text": [
            "                                                  content\n",
            "count                                                9145\n",
            "unique                                               8385\n",
            "top     Chat with us in Facebook Messenger. Find out w...\n",
            "freq                                                  125\n"
          ]
        }
      ]
    },
    {
      "cell_type": "code",
      "source": [
        "# remove duplicate value (text) in contenct attribute\n",
        "df.drop_duplicates(subset=['content'], keep='last')"
      ],
      "metadata": {
        "id": "kt7hJOH6wPVF",
        "colab": {
          "base_uri": "https://localhost:8080/",
          "height": 424
        },
        "outputId": "53a4186f-3662-47d9-d9be-6c4ac52933c0"
      },
      "execution_count": 9,
      "outputs": [
        {
          "output_type": "execute_result",
          "data": {
            "text/plain": [
              "                                                 content\n",
              "1      The States jobless rate fell to 5.2 per cent l...\n",
              "2      Louise Kennedy is showing off her autumn-winte...\n",
              "3      Han Kwang Song, the first North Korean footbal...\n",
              "5      \"This Tender Land: a Novel\" (Atria Books), by ...\n",
              "6      LONDON (Reuters) - The European Union is waiti...\n",
              "...                                                  ...\n",
              "10429  For his latest installation of the SCAR Projec...\n",
              "10431  There are numerous bargains waiting to be pick...\n",
              "10432  Growth in the U.S. economys vast services sect...\n",
              "10433  ZURICH/HONG KONG (Reuters) - The announcement ...\n",
              "10436                                                NaN\n",
              "\n",
              "[8386 rows x 1 columns]"
            ],
            "text/html": [
              "\n",
              "  <div id=\"df-158ab77a-5395-4fca-bcea-4338999c82e6\">\n",
              "    <div class=\"colab-df-container\">\n",
              "      <div>\n",
              "<style scoped>\n",
              "    .dataframe tbody tr th:only-of-type {\n",
              "        vertical-align: middle;\n",
              "    }\n",
              "\n",
              "    .dataframe tbody tr th {\n",
              "        vertical-align: top;\n",
              "    }\n",
              "\n",
              "    .dataframe thead th {\n",
              "        text-align: right;\n",
              "    }\n",
              "</style>\n",
              "<table border=\"1\" class=\"dataframe\">\n",
              "  <thead>\n",
              "    <tr style=\"text-align: right;\">\n",
              "      <th></th>\n",
              "      <th>content</th>\n",
              "    </tr>\n",
              "  </thead>\n",
              "  <tbody>\n",
              "    <tr>\n",
              "      <th>1</th>\n",
              "      <td>The States jobless rate fell to 5.2 per cent l...</td>\n",
              "    </tr>\n",
              "    <tr>\n",
              "      <th>2</th>\n",
              "      <td>Louise Kennedy is showing off her autumn-winte...</td>\n",
              "    </tr>\n",
              "    <tr>\n",
              "      <th>3</th>\n",
              "      <td>Han Kwang Song, the first North Korean footbal...</td>\n",
              "    </tr>\n",
              "    <tr>\n",
              "      <th>5</th>\n",
              "      <td>\"This Tender Land: a Novel\" (Atria Books), by ...</td>\n",
              "    </tr>\n",
              "    <tr>\n",
              "      <th>6</th>\n",
              "      <td>LONDON (Reuters) - The European Union is waiti...</td>\n",
              "    </tr>\n",
              "    <tr>\n",
              "      <th>...</th>\n",
              "      <td>...</td>\n",
              "    </tr>\n",
              "    <tr>\n",
              "      <th>10429</th>\n",
              "      <td>For his latest installation of the SCAR Projec...</td>\n",
              "    </tr>\n",
              "    <tr>\n",
              "      <th>10431</th>\n",
              "      <td>There are numerous bargains waiting to be pick...</td>\n",
              "    </tr>\n",
              "    <tr>\n",
              "      <th>10432</th>\n",
              "      <td>Growth in the U.S. economys vast services sect...</td>\n",
              "    </tr>\n",
              "    <tr>\n",
              "      <th>10433</th>\n",
              "      <td>ZURICH/HONG KONG (Reuters) - The announcement ...</td>\n",
              "    </tr>\n",
              "    <tr>\n",
              "      <th>10436</th>\n",
              "      <td>NaN</td>\n",
              "    </tr>\n",
              "  </tbody>\n",
              "</table>\n",
              "<p>8386 rows × 1 columns</p>\n",
              "</div>\n",
              "      <button class=\"colab-df-convert\" onclick=\"convertToInteractive('df-158ab77a-5395-4fca-bcea-4338999c82e6')\"\n",
              "              title=\"Convert this dataframe to an interactive table.\"\n",
              "              style=\"display:none;\">\n",
              "        \n",
              "  <svg xmlns=\"http://www.w3.org/2000/svg\" height=\"24px\"viewBox=\"0 0 24 24\"\n",
              "       width=\"24px\">\n",
              "    <path d=\"M0 0h24v24H0V0z\" fill=\"none\"/>\n",
              "    <path d=\"M18.56 5.44l.94 2.06.94-2.06 2.06-.94-2.06-.94-.94-2.06-.94 2.06-2.06.94zm-11 1L8.5 8.5l.94-2.06 2.06-.94-2.06-.94L8.5 2.5l-.94 2.06-2.06.94zm10 10l.94 2.06.94-2.06 2.06-.94-2.06-.94-.94-2.06-.94 2.06-2.06.94z\"/><path d=\"M17.41 7.96l-1.37-1.37c-.4-.4-.92-.59-1.43-.59-.52 0-1.04.2-1.43.59L10.3 9.45l-7.72 7.72c-.78.78-.78 2.05 0 2.83L4 21.41c.39.39.9.59 1.41.59.51 0 1.02-.2 1.41-.59l7.78-7.78 2.81-2.81c.8-.78.8-2.07 0-2.86zM5.41 20L4 18.59l7.72-7.72 1.47 1.35L5.41 20z\"/>\n",
              "  </svg>\n",
              "      </button>\n",
              "      \n",
              "  <style>\n",
              "    .colab-df-container {\n",
              "      display:flex;\n",
              "      flex-wrap:wrap;\n",
              "      gap: 12px;\n",
              "    }\n",
              "\n",
              "    .colab-df-convert {\n",
              "      background-color: #E8F0FE;\n",
              "      border: none;\n",
              "      border-radius: 50%;\n",
              "      cursor: pointer;\n",
              "      display: none;\n",
              "      fill: #1967D2;\n",
              "      height: 32px;\n",
              "      padding: 0 0 0 0;\n",
              "      width: 32px;\n",
              "    }\n",
              "\n",
              "    .colab-df-convert:hover {\n",
              "      background-color: #E2EBFA;\n",
              "      box-shadow: 0px 1px 2px rgba(60, 64, 67, 0.3), 0px 1px 3px 1px rgba(60, 64, 67, 0.15);\n",
              "      fill: #174EA6;\n",
              "    }\n",
              "\n",
              "    [theme=dark] .colab-df-convert {\n",
              "      background-color: #3B4455;\n",
              "      fill: #D2E3FC;\n",
              "    }\n",
              "\n",
              "    [theme=dark] .colab-df-convert:hover {\n",
              "      background-color: #434B5C;\n",
              "      box-shadow: 0px 1px 3px 1px rgba(0, 0, 0, 0.15);\n",
              "      filter: drop-shadow(0px 1px 2px rgba(0, 0, 0, 0.3));\n",
              "      fill: #FFFFFF;\n",
              "    }\n",
              "  </style>\n",
              "\n",
              "      <script>\n",
              "        const buttonEl =\n",
              "          document.querySelector('#df-158ab77a-5395-4fca-bcea-4338999c82e6 button.colab-df-convert');\n",
              "        buttonEl.style.display =\n",
              "          google.colab.kernel.accessAllowed ? 'block' : 'none';\n",
              "\n",
              "        async function convertToInteractive(key) {\n",
              "          const element = document.querySelector('#df-158ab77a-5395-4fca-bcea-4338999c82e6');\n",
              "          const dataTable =\n",
              "            await google.colab.kernel.invokeFunction('convertToInteractive',\n",
              "                                                     [key], {});\n",
              "          if (!dataTable) return;\n",
              "\n",
              "          const docLinkHtml = 'Like what you see? Visit the ' +\n",
              "            '<a target=\"_blank\" href=https://colab.research.google.com/notebooks/data_table.ipynb>data table notebook</a>'\n",
              "            + ' to learn more about interactive tables.';\n",
              "          element.innerHTML = '';\n",
              "          dataTable['output_type'] = 'display_data';\n",
              "          await google.colab.output.renderOutput(dataTable, element);\n",
              "          const docLink = document.createElement('div');\n",
              "          docLink.innerHTML = docLinkHtml;\n",
              "          element.appendChild(docLink);\n",
              "        }\n",
              "      </script>\n",
              "    </div>\n",
              "  </div>\n",
              "  "
            ]
          },
          "metadata": {},
          "execution_count": 9
        }
      ]
    },
    {
      "cell_type": "code",
      "source": [
        "# Checking null value in attribute \n",
        "df.isna().sum()"
      ],
      "metadata": {
        "colab": {
          "base_uri": "https://localhost:8080/"
        },
        "id": "hu5MLaFZTEqa",
        "outputId": "93500c0c-faf3-45f1-9362-6d714aeba66f"
      },
      "execution_count": 10,
      "outputs": [
        {
          "output_type": "execute_result",
          "data": {
            "text/plain": [
              "content    1292\n",
              "dtype: int64"
            ]
          },
          "metadata": {},
          "execution_count": 10
        }
      ]
    },
    {
      "cell_type": "code",
      "source": [
        "#drop null value\n",
        "df = df.dropna()\n"
      ],
      "metadata": {
        "id": "21Ps9_eyUASb"
      },
      "execution_count": 11,
      "outputs": []
    },
    {
      "cell_type": "code",
      "source": [
        "df"
      ],
      "metadata": {
        "colab": {
          "base_uri": "https://localhost:8080/",
          "height": 424
        },
        "id": "zZn0x5ZkW2H5",
        "outputId": "be72b85c-e379-447f-942d-2df18cc7353b"
      },
      "execution_count": 12,
      "outputs": [
        {
          "output_type": "execute_result",
          "data": {
            "text/plain": [
              "                                                 content\n",
              "0      WASHINGTON (Reuters) - The National Transporta...\n",
              "1      The States jobless rate fell to 5.2 per cent l...\n",
              "2      Louise Kennedy is showing off her autumn-winte...\n",
              "3      Han Kwang Song, the first North Korean footbal...\n",
              "5      \"This Tender Land: a Novel\" (Atria Books), by ...\n",
              "...                                                  ...\n",
              "10428  Just last week, the Disney Magic arrived to Ne...\n",
              "10429  For his latest installation of the SCAR Projec...\n",
              "10431  There are numerous bargains waiting to be pick...\n",
              "10432  Growth in the U.S. economys vast services sect...\n",
              "10433  ZURICH/HONG KONG (Reuters) - The announcement ...\n",
              "\n",
              "[9145 rows x 1 columns]"
            ],
            "text/html": [
              "\n",
              "  <div id=\"df-060613fc-a5ad-4f86-a47c-25c882d2e67c\">\n",
              "    <div class=\"colab-df-container\">\n",
              "      <div>\n",
              "<style scoped>\n",
              "    .dataframe tbody tr th:only-of-type {\n",
              "        vertical-align: middle;\n",
              "    }\n",
              "\n",
              "    .dataframe tbody tr th {\n",
              "        vertical-align: top;\n",
              "    }\n",
              "\n",
              "    .dataframe thead th {\n",
              "        text-align: right;\n",
              "    }\n",
              "</style>\n",
              "<table border=\"1\" class=\"dataframe\">\n",
              "  <thead>\n",
              "    <tr style=\"text-align: right;\">\n",
              "      <th></th>\n",
              "      <th>content</th>\n",
              "    </tr>\n",
              "  </thead>\n",
              "  <tbody>\n",
              "    <tr>\n",
              "      <th>0</th>\n",
              "      <td>WASHINGTON (Reuters) - The National Transporta...</td>\n",
              "    </tr>\n",
              "    <tr>\n",
              "      <th>1</th>\n",
              "      <td>The States jobless rate fell to 5.2 per cent l...</td>\n",
              "    </tr>\n",
              "    <tr>\n",
              "      <th>2</th>\n",
              "      <td>Louise Kennedy is showing off her autumn-winte...</td>\n",
              "    </tr>\n",
              "    <tr>\n",
              "      <th>3</th>\n",
              "      <td>Han Kwang Song, the first North Korean footbal...</td>\n",
              "    </tr>\n",
              "    <tr>\n",
              "      <th>5</th>\n",
              "      <td>\"This Tender Land: a Novel\" (Atria Books), by ...</td>\n",
              "    </tr>\n",
              "    <tr>\n",
              "      <th>...</th>\n",
              "      <td>...</td>\n",
              "    </tr>\n",
              "    <tr>\n",
              "      <th>10428</th>\n",
              "      <td>Just last week, the Disney Magic arrived to Ne...</td>\n",
              "    </tr>\n",
              "    <tr>\n",
              "      <th>10429</th>\n",
              "      <td>For his latest installation of the SCAR Projec...</td>\n",
              "    </tr>\n",
              "    <tr>\n",
              "      <th>10431</th>\n",
              "      <td>There are numerous bargains waiting to be pick...</td>\n",
              "    </tr>\n",
              "    <tr>\n",
              "      <th>10432</th>\n",
              "      <td>Growth in the U.S. economys vast services sect...</td>\n",
              "    </tr>\n",
              "    <tr>\n",
              "      <th>10433</th>\n",
              "      <td>ZURICH/HONG KONG (Reuters) - The announcement ...</td>\n",
              "    </tr>\n",
              "  </tbody>\n",
              "</table>\n",
              "<p>9145 rows × 1 columns</p>\n",
              "</div>\n",
              "      <button class=\"colab-df-convert\" onclick=\"convertToInteractive('df-060613fc-a5ad-4f86-a47c-25c882d2e67c')\"\n",
              "              title=\"Convert this dataframe to an interactive table.\"\n",
              "              style=\"display:none;\">\n",
              "        \n",
              "  <svg xmlns=\"http://www.w3.org/2000/svg\" height=\"24px\"viewBox=\"0 0 24 24\"\n",
              "       width=\"24px\">\n",
              "    <path d=\"M0 0h24v24H0V0z\" fill=\"none\"/>\n",
              "    <path d=\"M18.56 5.44l.94 2.06.94-2.06 2.06-.94-2.06-.94-.94-2.06-.94 2.06-2.06.94zm-11 1L8.5 8.5l.94-2.06 2.06-.94-2.06-.94L8.5 2.5l-.94 2.06-2.06.94zm10 10l.94 2.06.94-2.06 2.06-.94-2.06-.94-.94-2.06-.94 2.06-2.06.94z\"/><path d=\"M17.41 7.96l-1.37-1.37c-.4-.4-.92-.59-1.43-.59-.52 0-1.04.2-1.43.59L10.3 9.45l-7.72 7.72c-.78.78-.78 2.05 0 2.83L4 21.41c.39.39.9.59 1.41.59.51 0 1.02-.2 1.41-.59l7.78-7.78 2.81-2.81c.8-.78.8-2.07 0-2.86zM5.41 20L4 18.59l7.72-7.72 1.47 1.35L5.41 20z\"/>\n",
              "  </svg>\n",
              "      </button>\n",
              "      \n",
              "  <style>\n",
              "    .colab-df-container {\n",
              "      display:flex;\n",
              "      flex-wrap:wrap;\n",
              "      gap: 12px;\n",
              "    }\n",
              "\n",
              "    .colab-df-convert {\n",
              "      background-color: #E8F0FE;\n",
              "      border: none;\n",
              "      border-radius: 50%;\n",
              "      cursor: pointer;\n",
              "      display: none;\n",
              "      fill: #1967D2;\n",
              "      height: 32px;\n",
              "      padding: 0 0 0 0;\n",
              "      width: 32px;\n",
              "    }\n",
              "\n",
              "    .colab-df-convert:hover {\n",
              "      background-color: #E2EBFA;\n",
              "      box-shadow: 0px 1px 2px rgba(60, 64, 67, 0.3), 0px 1px 3px 1px rgba(60, 64, 67, 0.15);\n",
              "      fill: #174EA6;\n",
              "    }\n",
              "\n",
              "    [theme=dark] .colab-df-convert {\n",
              "      background-color: #3B4455;\n",
              "      fill: #D2E3FC;\n",
              "    }\n",
              "\n",
              "    [theme=dark] .colab-df-convert:hover {\n",
              "      background-color: #434B5C;\n",
              "      box-shadow: 0px 1px 3px 1px rgba(0, 0, 0, 0.15);\n",
              "      filter: drop-shadow(0px 1px 2px rgba(0, 0, 0, 0.3));\n",
              "      fill: #FFFFFF;\n",
              "    }\n",
              "  </style>\n",
              "\n",
              "      <script>\n",
              "        const buttonEl =\n",
              "          document.querySelector('#df-060613fc-a5ad-4f86-a47c-25c882d2e67c button.colab-df-convert');\n",
              "        buttonEl.style.display =\n",
              "          google.colab.kernel.accessAllowed ? 'block' : 'none';\n",
              "\n",
              "        async function convertToInteractive(key) {\n",
              "          const element = document.querySelector('#df-060613fc-a5ad-4f86-a47c-25c882d2e67c');\n",
              "          const dataTable =\n",
              "            await google.colab.kernel.invokeFunction('convertToInteractive',\n",
              "                                                     [key], {});\n",
              "          if (!dataTable) return;\n",
              "\n",
              "          const docLinkHtml = 'Like what you see? Visit the ' +\n",
              "            '<a target=\"_blank\" href=https://colab.research.google.com/notebooks/data_table.ipynb>data table notebook</a>'\n",
              "            + ' to learn more about interactive tables.';\n",
              "          element.innerHTML = '';\n",
              "          dataTable['output_type'] = 'display_data';\n",
              "          await google.colab.output.renderOutput(dataTable, element);\n",
              "          const docLink = document.createElement('div');\n",
              "          docLink.innerHTML = docLinkHtml;\n",
              "          element.appendChild(docLink);\n",
              "        }\n",
              "      </script>\n",
              "    </div>\n",
              "  </div>\n",
              "  "
            ]
          },
          "metadata": {},
          "execution_count": 12
        }
      ]
    },
    {
      "cell_type": "code",
      "source": [
        "#saving the result\n",
        "df.to_csv(\"./drive/MyDrive/STBI/Proyek/Dataset/clean_articles_data_word2vec.csv\", index=True)"
      ],
      "metadata": {
        "id": "WPJzR5wzaGvU"
      },
      "execution_count": null,
      "outputs": []
    },
    {
      "cell_type": "markdown",
      "source": [
        "#### C. Text Preprocessing"
      ],
      "metadata": {
        "id": "BGtlEWGoyWLl"
      }
    },
    {
      "cell_type": "code",
      "source": [
        "# remove number\n",
        "def remove_number(text):\n",
        "    return  re.sub(r\"\\[0-9]+\", \"\", str(text))\n",
        " \n",
        "df = df['content'].apply(remove_number)"
      ],
      "metadata": {
        "id": "CJPXoLJxyZwj"
      },
      "execution_count": 13,
      "outputs": []
    },
    {
      "cell_type": "code",
      "source": [
        "# remove punctuation\n",
        "def punctuation(txt):\n",
        "  return re.sub(r\"[^\\w\\s]\",\"\", str(txt))\n",
        "\n",
        "df = df.apply(punctuation)"
      ],
      "metadata": {
        "id": "PVdttlEmyi_i"
      },
      "execution_count": 14,
      "outputs": []
    },
    {
      "cell_type": "code",
      "source": [
        "import nltk\n",
        "nltk.download('punkt')\n",
        "# tokenization\n",
        "def word_tokenize_wrapper(text):\n",
        "  return word_tokenize(text)\n",
        "df = df.apply(word_tokenize_wrapper)"
      ],
      "metadata": {
        "colab": {
          "base_uri": "https://localhost:8080/"
        },
        "id": "eJ1E4xQdyp3B",
        "outputId": "d47bb660-509f-4ec3-eca3-ef18eba5b3a6"
      },
      "execution_count": 15,
      "outputs": [
        {
          "output_type": "stream",
          "name": "stdout",
          "text": [
            "[nltk_data] Downloading package punkt to /root/nltk_data...\n",
            "[nltk_data]   Unzipping tokenizers/punkt.zip.\n"
          ]
        }
      ]
    },
    {
      "cell_type": "code",
      "source": [
        "#stopword removal\n",
        "import nltk\n",
        "nltk.download('stopwords')\n",
        "from nltk.corpus import stopwords\n",
        "sw_nltk = stopwords.words('english')\n",
        "print(sw_nltk)\n",
        "def stopword(text):\n",
        "  words = [word for word in text if word.lower() not in sw_nltk]\n",
        "  return words\n",
        "df = df.apply(stopword)"
      ],
      "metadata": {
        "colab": {
          "base_uri": "https://localhost:8080/"
        },
        "id": "EnFNni5My0XL",
        "outputId": "0e73b9a1-2c76-4fee-9733-4f11fe312bcf"
      },
      "execution_count": 16,
      "outputs": [
        {
          "output_type": "stream",
          "name": "stdout",
          "text": [
            "[nltk_data] Downloading package stopwords to /root/nltk_data...\n",
            "[nltk_data]   Package stopwords is already up-to-date!\n",
            "['i', 'me', 'my', 'myself', 'we', 'our', 'ours', 'ourselves', 'you', \"you're\", \"you've\", \"you'll\", \"you'd\", 'your', 'yours', 'yourself', 'yourselves', 'he', 'him', 'his', 'himself', 'she', \"she's\", 'her', 'hers', 'herself', 'it', \"it's\", 'its', 'itself', 'they', 'them', 'their', 'theirs', 'themselves', 'what', 'which', 'who', 'whom', 'this', 'that', \"that'll\", 'these', 'those', 'am', 'is', 'are', 'was', 'were', 'be', 'been', 'being', 'have', 'has', 'had', 'having', 'do', 'does', 'did', 'doing', 'a', 'an', 'the', 'and', 'but', 'if', 'or', 'because', 'as', 'until', 'while', 'of', 'at', 'by', 'for', 'with', 'about', 'against', 'between', 'into', 'through', 'during', 'before', 'after', 'above', 'below', 'to', 'from', 'up', 'down', 'in', 'out', 'on', 'off', 'over', 'under', 'again', 'further', 'then', 'once', 'here', 'there', 'when', 'where', 'why', 'how', 'all', 'any', 'both', 'each', 'few', 'more', 'most', 'other', 'some', 'such', 'no', 'nor', 'not', 'only', 'own', 'same', 'so', 'than', 'too', 'very', 's', 't', 'can', 'will', 'just', 'don', \"don't\", 'should', \"should've\", 'now', 'd', 'll', 'm', 'o', 're', 've', 'y', 'ain', 'aren', \"aren't\", 'couldn', \"couldn't\", 'didn', \"didn't\", 'doesn', \"doesn't\", 'hadn', \"hadn't\", 'hasn', \"hasn't\", 'haven', \"haven't\", 'isn', \"isn't\", 'ma', 'mightn', \"mightn't\", 'mustn', \"mustn't\", 'needn', \"needn't\", 'shan', \"shan't\", 'shouldn', \"shouldn't\", 'wasn', \"wasn't\", 'weren', \"weren't\", 'won', \"won't\", 'wouldn', \"wouldn't\"]\n"
          ]
        }
      ]
    },
    {
      "cell_type": "code",
      "source": [
        "#normalization\n",
        "nltk.download('wordnet')\n",
        "from nltk.stem import WordNetLemmatizer\n",
        "def lemma(text):\n",
        "  lemmatizer = WordNetLemmatizer()\n",
        "  Output= [lemmatizer.lemmatize(words_sent) for words_sent in text]\n",
        "  return Output\n",
        "df = df.apply(lemma)"
      ],
      "metadata": {
        "colab": {
          "base_uri": "https://localhost:8080/"
        },
        "id": "sgZICs3-0W12",
        "outputId": "87966948-510c-4599-fe34-5c378de8147e"
      },
      "execution_count": 17,
      "outputs": [
        {
          "output_type": "stream",
          "name": "stdout",
          "text": [
            "[nltk_data] Downloading package wordnet to /root/nltk_data...\n",
            "[nltk_data]   Unzipping corpora/wordnet.zip.\n"
          ]
        }
      ]
    },
    {
      "cell_type": "code",
      "source": [
        "#saving the rusult\n",
        "df.to_csv(\"./drive/MyDrive/STBI/Proyek/Dataset/prepro_articles_data_word2vec.csv\", index=True)"
      ],
      "metadata": {
        "id": "xSqS6MtuzKOH"
      },
      "execution_count": null,
      "outputs": []
    },
    {
      "cell_type": "markdown",
      "source": [
        "#### D. Word Embeding Using Word2Vec"
      ],
      "metadata": {
        "id": "3TmuYmfwusfC"
      }
    },
    {
      "cell_type": "code",
      "source": [
        "# vocabulary\n",
        "docs = df.values\n",
        "tokenized_docs = df.values\n",
        "vocab = Counter()\n",
        "for token in tokenized_docs:\n",
        "    vocab.update(token)\n",
        "\n",
        "len(vocab)"
      ],
      "metadata": {
        "id": "g2WLwryDuwUA",
        "colab": {
          "base_uri": "https://localhost:8080/"
        },
        "outputId": "27efcd3b-8e28-4d59-87ee-8c36cbaa5e04"
      },
      "execution_count": 18,
      "outputs": [
        {
          "output_type": "execute_result",
          "data": {
            "text/plain": [
              "35843"
            ]
          },
          "metadata": {},
          "execution_count": 18
        }
      ]
    },
    {
      "cell_type": "code",
      "source": [
        "vocab.most_common(10)"
      ],
      "metadata": {
        "colab": {
          "base_uri": "https://localhost:8080/"
        },
        "id": "T0RVRon30-N1",
        "outputId": "85a0f80f-0b52-4063-9fc0-4f711f5ca160"
      },
      "execution_count": 19,
      "outputs": [
        {
          "output_type": "execute_result",
          "data": {
            "text/plain": [
              "[('char', 8773),\n",
              " ('said', 1712),\n",
              " ('Reuters', 1309),\n",
              " ('year', 1099),\n",
              " ('US', 1090),\n",
              " ('new', 824),\n",
              " ('say', 734),\n",
              " ('Thursday', 711),\n",
              " ('President', 702),\n",
              " ('one', 646)]"
            ]
          },
          "metadata": {},
          "execution_count": 19
        }
      ]
    },
    {
      "cell_type": "code",
      "source": [
        "#word embedding with word2vec\n",
        "model1 = Word2Vec(sentences=tokenized_docs, workers=1, seed=42)"
      ],
      "metadata": {
        "id": "EO5RHSxk1CAH"
      },
      "execution_count": 20,
      "outputs": []
    },
    {
      "cell_type": "code",
      "source": [
        "# test model\n",
        "model1.wv.most_similar(\"moon\", topn=5)"
      ],
      "metadata": {
        "colab": {
          "base_uri": "https://localhost:8080/"
        },
        "id": "zHRa7YKo1GcD",
        "outputId": "3ff6ed07-c10b-4da8-8662-41ae57f145bc"
      },
      "execution_count": 21,
      "outputs": [
        {
          "output_type": "execute_result",
          "data": {
            "text/plain": [
              "[('different', 0.999763011932373),\n",
              " ('thats', 0.9997302293777466),\n",
              " ('massive', 0.9997126460075378),\n",
              " ('sometimes', 0.9997038841247559),\n",
              " ('product', 0.9996679425239563)]"
            ]
          },
          "metadata": {},
          "execution_count": 21
        }
      ]
    },
    {
      "cell_type": "code",
      "source": [
        "vectorized_docs = vectorize(df, model = model1, strategy=\"average\")\n",
        "len(vectorized_docs), len(vectorized_docs[0])"
      ],
      "metadata": {
        "colab": {
          "base_uri": "https://localhost:8080/"
        },
        "id": "jKqDi_4iPlI4",
        "outputId": "996cbf38-4f67-43c4-85c3-0b5cb2010c24"
      },
      "execution_count": 22,
      "outputs": [
        {
          "output_type": "execute_result",
          "data": {
            "text/plain": [
              "(9145, 100)"
            ]
          },
          "metadata": {},
          "execution_count": 22
        }
      ]
    },
    {
      "cell_type": "markdown",
      "source": [
        "#### E. Generate and analyze clusters"
      ],
      "metadata": {
        "id": "tZFS7PGTFjt3"
      }
    },
    {
      "cell_type": "code",
      "source": [
        "def mbkmeans_clusters(X, k, mb=500, print_silhouette_values=False):\n",
        "    \"\"\"Generate clusters.\n",
        "\n",
        "    Args:\n",
        "        X: Matrix of features.\n",
        "        k: Number of clusters.\n",
        "        mb: Size of mini-batches. Defaults to 500.\n",
        "        print_silhouette_values: Print silhouette values per cluster.\n",
        "\n",
        "    Returns:\n",
        "        Trained clustering model and labels based on X.\n",
        "    \"\"\"\n",
        "    km = MiniBatchKMeans(n_clusters=k, batch_size=mb).fit(X)\n",
        "    print(f\"For n_clusters = {k}\")\n",
        "    print(f\"Silhouette coefficient: {silhouette_score(X, km.labels_):0.2f}\")\n",
        "    print(f\"Inertia:{km.inertia_}\")\n",
        "\n",
        "    if print_silhouette_values:\n",
        "        sample_silhouette_values = silhouette_samples(X, km.labels_)\n",
        "        print(f\"Silhouette values:\")\n",
        "        silhouette_values = []\n",
        "        for i in range(k):\n",
        "            cluster_silhouette_values = sample_silhouette_values[km.labels_ == i]\n",
        "            silhouette_values.append(\n",
        "                (\n",
        "                    i,\n",
        "                    cluster_silhouette_values.shape[0],\n",
        "                    cluster_silhouette_values.mean(),\n",
        "                    cluster_silhouette_values.min(),\n",
        "                    cluster_silhouette_values.max(),\n",
        "                )\n",
        "            )\n",
        "        silhouette_values = sorted(\n",
        "            silhouette_values, key=lambda tup: tup[2], reverse=True\n",
        "        )\n",
        "        for s in silhouette_values:\n",
        "            print(\n",
        "                f\"    Cluster {s[0]}: Size:{s[1]} | Avg:{s[2]:.2f} | Min:{s[3]:.2f} | Max: {s[4]:.2f}\"\n",
        "            )\n",
        "    return km, km.labels_"
      ],
      "metadata": {
        "id": "8828rE3kFlTG"
      },
      "execution_count": 26,
      "outputs": []
    },
    {
      "cell_type": "code",
      "source": [
        "clustering, cluster_labels = mbkmeans_clusters(X=vectorized_docs, k=50, print_silhouette_values=True)\n",
        "df_clusters = pd.DataFrame({\n",
        "    \"text\": docs,\n",
        "    \"tokens\": [\" \".join(text) for text in tokenized_docs],\n",
        "    \"cluster\": cluster_labels\n",
        "})"
      ],
      "metadata": {
        "colab": {
          "base_uri": "https://localhost:8080/"
        },
        "id": "JDFTPxSmFpGT",
        "outputId": "6a232a7e-1321-439f-8a1d-3bee2a5a6a8d"
      },
      "execution_count": 27,
      "outputs": [
        {
          "output_type": "stream",
          "name": "stdout",
          "text": [
            "For n_clusters = 50\n",
            "Silhouette coefficient: 0.17\n",
            "Inertia:414.6398246826995\n",
            "Silhouette values:\n",
            "    Cluster 2: Size:125 | Avg:1.00 | Min:1.00 | Max: 1.00\n",
            "    Cluster 4: Size:89 | Avg:1.00 | Min:1.00 | Max: 1.00\n",
            "    Cluster 23: Size:38 | Avg:0.39 | Min:-0.36 | Max: 0.68\n",
            "    Cluster 7: Size:146 | Avg:0.37 | Min:-0.03 | Max: 0.57\n",
            "    Cluster 6: Size:194 | Avg:0.37 | Min:0.02 | Max: 0.57\n",
            "    Cluster 12: Size:97 | Avg:0.31 | Min:-0.07 | Max: 0.53\n",
            "    Cluster 47: Size:146 | Avg:0.28 | Min:-0.05 | Max: 0.50\n",
            "    Cluster 3: Size:108 | Avg:0.28 | Min:-0.04 | Max: 0.50\n",
            "    Cluster 8: Size:125 | Avg:0.24 | Min:0.04 | Max: 0.44\n",
            "    Cluster 41: Size:64 | Avg:0.22 | Min:-0.00 | Max: 0.45\n",
            "    Cluster 0: Size:82 | Avg:0.22 | Min:-0.02 | Max: 0.47\n",
            "    Cluster 18: Size:40 | Avg:0.22 | Min:-0.13 | Max: 0.47\n",
            "    Cluster 26: Size:144 | Avg:0.22 | Min:-0.11 | Max: 0.46\n",
            "    Cluster 46: Size:123 | Avg:0.21 | Min:-0.12 | Max: 0.43\n",
            "    Cluster 15: Size:88 | Avg:0.21 | Min:-0.11 | Max: 0.46\n",
            "    Cluster 30: Size:118 | Avg:0.20 | Min:-0.09 | Max: 0.48\n",
            "    Cluster 14: Size:100 | Avg:0.20 | Min:-0.09 | Max: 0.44\n",
            "    Cluster 44: Size:20 | Avg:0.20 | Min:-0.15 | Max: 0.39\n",
            "    Cluster 11: Size:304 | Avg:0.18 | Min:-0.04 | Max: 0.40\n",
            "    Cluster 39: Size:501 | Avg:0.17 | Min:-0.11 | Max: 0.45\n",
            "    Cluster 42: Size:163 | Avg:0.17 | Min:-0.03 | Max: 0.43\n",
            "    Cluster 31: Size:34 | Avg:0.17 | Min:-0.07 | Max: 0.41\n",
            "    Cluster 32: Size:246 | Avg:0.17 | Min:-0.07 | Max: 0.42\n",
            "    Cluster 35: Size:415 | Avg:0.16 | Min:-0.08 | Max: 0.39\n",
            "    Cluster 17: Size:102 | Avg:0.16 | Min:-0.12 | Max: 0.45\n",
            "    Cluster 22: Size:227 | Avg:0.15 | Min:-0.11 | Max: 0.41\n",
            "    Cluster 19: Size:154 | Avg:0.15 | Min:-0.15 | Max: 0.42\n",
            "    Cluster 40: Size:362 | Avg:0.15 | Min:-0.11 | Max: 0.43\n",
            "    Cluster 24: Size:85 | Avg:0.14 | Min:-0.08 | Max: 0.36\n",
            "    Cluster 25: Size:166 | Avg:0.14 | Min:-0.08 | Max: 0.39\n",
            "    Cluster 21: Size:258 | Avg:0.14 | Min:-0.10 | Max: 0.40\n",
            "    Cluster 9: Size:527 | Avg:0.13 | Min:-0.09 | Max: 0.38\n",
            "    Cluster 10: Size:140 | Avg:0.13 | Min:-0.11 | Max: 0.42\n",
            "    Cluster 45: Size:209 | Avg:0.13 | Min:-0.09 | Max: 0.38\n",
            "    Cluster 20: Size:427 | Avg:0.13 | Min:-0.12 | Max: 0.38\n",
            "    Cluster 27: Size:33 | Avg:0.12 | Min:-0.09 | Max: 0.34\n",
            "    Cluster 13: Size:43 | Avg:0.12 | Min:-0.11 | Max: 0.34\n",
            "    Cluster 33: Size:344 | Avg:0.12 | Min:-0.08 | Max: 0.38\n",
            "    Cluster 29: Size:93 | Avg:0.12 | Min:-0.14 | Max: 0.36\n",
            "    Cluster 37: Size:146 | Avg:0.11 | Min:-0.19 | Max: 0.37\n",
            "    Cluster 49: Size:339 | Avg:0.10 | Min:-0.16 | Max: 0.37\n",
            "    Cluster 28: Size:455 | Avg:0.10 | Min:-0.12 | Max: 0.33\n",
            "    Cluster 38: Size:391 | Avg:0.09 | Min:-0.16 | Max: 0.29\n",
            "    Cluster 48: Size:125 | Avg:0.09 | Min:-0.05 | Max: 0.33\n",
            "    Cluster 5: Size:275 | Avg:0.08 | Min:-0.21 | Max: 0.34\n",
            "    Cluster 1: Size:454 | Avg:0.08 | Min:-0.17 | Max: 0.32\n",
            "    Cluster 36: Size:59 | Avg:0.06 | Min:-0.20 | Max: 0.29\n",
            "    Cluster 43: Size:31 | Avg:0.04 | Min:-0.22 | Max: 0.36\n",
            "    Cluster 34: Size:80 | Avg:0.03 | Min:-0.19 | Max: 0.30\n",
            "    Cluster 16: Size:110 | Avg:0.02 | Min:-0.21 | Max: 0.25\n"
          ]
        }
      ]
    },
    {
      "cell_type": "code",
      "source": [
        "print(\"Top terms per cluster (based on centroids):\")\n",
        "for i in range(50):\n",
        "    tokens_per_cluster = \"\"\n",
        "    most_representative = model1.wv.most_similar(positive=[clustering.cluster_centers_[i]], topn=5)\n",
        "    for t in most_representative:\n",
        "        tokens_per_cluster += f\"{t[0]} \"\n",
        "    print(f\"Cluster {i}: {tokens_per_cluster}\")"
      ],
      "metadata": {
        "colab": {
          "base_uri": "https://localhost:8080/"
        },
        "id": "3WpVI-PHGcLD",
        "outputId": "c724401a-daa8-4ea0-c5dd-74657e5a6fc3"
      },
      "execution_count": 29,
      "outputs": [
        {
          "output_type": "stream",
          "name": "stdout",
          "text": [
            "Top terms per cluster (based on centroids):\n",
            "Cluster 0: Japan win semifinal warmup Walt \n",
            "Cluster 1: rule adding Press visit tax \n",
            "Cluster 2: whats happening Messenger Find Chat \n",
            "Cluster 3: inquiry adviser Jimmy Erdogan Mike \n",
            "Cluster 4: minute BBC Service five World \n",
            "Cluster 5: store hour almost count loss \n",
            "Cluster 6: patient land finally sea nothing \n",
            "Cluster 7: Agriculture Paschal Mohammad defy Finance \n",
            "Cluster 8: Photo Police PC Media High \n",
            "Cluster 9: significant scheduled nothing history open \n",
            "Cluster 10: party delay Dáil longawaited legal \n",
            "Cluster 11: third record well thing fall \n",
            "Cluster 12: Washington investigate president Bolton presidency \n",
            "Cluster 13: High Plans Liberal Getty Scottish \n",
            "Cluster 14: Ukraine tweeted Afghanistan whistleblower resort \n",
            "Cluster 15: Mellon bourse City Governor stripped \n",
            "Cluster 16: expected reduce Walmart due planned \n",
            "Cluster 17: little dating difficult content notorious \n",
            "Cluster 18: impeachment inquiry Putin Pences Pompeo \n",
            "Cluster 19: qualifying 5 quarterfinal match finish \n",
            "Cluster 20: demonstration taken never doctor right \n",
            "Cluster 21: hold aimed visit Agency announce \n",
            "Cluster 22: Treasury resolution peace Congress complaint \n",
            "Cluster 23: financial video OECD social quest \n",
            "Cluster 24: Craig Charlton Place Sir Samuel \n",
            "Cluster 25: much sport best look model \n",
            "Cluster 26: MPs Israels proposal Donohoe Conservative \n",
            "Cluster 27: City Mellon bourse Giants stripped \n",
            "Cluster 28: deadly le weekend straight loss \n",
            "Cluster 29: military Russia response exchange congressional \n",
            "Cluster 30: Congress complaint Treasury committee peace \n",
            "Cluster 31: PC newborn Photo copyrightMetropolitan Police \n",
            "Cluster 32: 15 hour seven almost second \n",
            "Cluster 33: senior ally Chinese backed hold \n",
            "Cluster 34: dating difficult oldest content little \n",
            "Cluster 35: history came nothing face small \n",
            "Cluster 36: PC Photo Police Media Samuel \n",
            "Cluster 37: Washington president investigate Bolton aide \n",
            "Cluster 38: previous industrial fell Walmart planned \n",
            "Cluster 39: lot chain room single using \n",
            "Cluster 40: store count deadly almost loss \n",
            "Cluster 41: Mike president investigate Zelensky Secretary \n",
            "Cluster 42: seven 15 hour almost second \n",
            "Cluster 43: foreign leader rejected secretary Commerce \n",
            "Cluster 44: Cameron Airways Canadian Jo Tory \n",
            "Cluster 45: capital opening head moved settlement \n",
            "Cluster 46: bourse stripped Aug Gov posed \n",
            "Cluster 47: PC Photo Police Media Lane \n",
            "Cluster 48: early th mass several le \n",
            "Cluster 49: hold panel Chinese Beijing Agency \n"
          ]
        }
      ]
    },
    {
      "cell_type": "code",
      "source": [
        "test_cluster = 48\n",
        "most_representative_docs = np.argsort(\n",
        "    np.linalg.norm(vectorized_docs - clustering.cluster_centers_[test_cluster], axis=1)\n",
        ")\n",
        "for d in most_representative_docs[:10]:\n",
        "    print(docs[d])\n",
        "    print(\"-------------\")"
      ],
      "metadata": {
        "colab": {
          "base_uri": "https://localhost:8080/"
        },
        "id": "n9XnjdtNHGoY",
        "outputId": "855c4918-5e11-4533-e8ce-38edf5fe10c4"
      },
      "execution_count": 30,
      "outputs": [
        {
          "output_type": "stream",
          "name": "stdout",
          "text": [
            "['Walmart', 'Inc', 'said', 'stop', 'selling', 'ammunition', 'assaultstyle', 'rifle', 'handgun', 'restricting', 'retailer', 'gunrelated', 'sale', 'policy', 'two', 'deadly', 'shooting', 'Walmart', 'store', 'last', 'month', 'Ammunition', 'used', 'highcapacity', '254', 'char']\n",
            "-------------\n",
            "['Virgin', 'Galactic', 'say', 'contracted', 'Italian', 'air', 'force', 'suborbital', 'research', 'flight', 'aboard', 'winged', 'rocket', 'ship', 'company', 'announced', 'Wednesday', 'mission', 'flown', 'early', 'next', 'year', 'carrying', 'three', 'Italian', 'specialist', '492', 'char']\n",
            "-------------\n",
            "['North', 'Korea', 'fired', 'may', 'submarinelaunched', 'ballistic', 'missile', 'SLBM', 'Wednesday', 'would', 'first', 'test', 'three', 'year', 'relatively', 'young', 'rapidly', 'progressing', 'programme', 'deliver', 'nuclear', 'weapon', 'launch', 'come', 'hour', 'af', '4742', 'char']\n",
            "-------------\n",
            "['Walmart', 'Tuesday', 'said', 'ban', 'shopper', 'openly', 'carrying', 'gun', 'store', 'end', 'sale', 'ammunition', 'handgun', 'assaultstyle', 'weapon', 'company', 'made', 'change', 'response', 'two', 'deadly', 'shooting', 'killed', '24', 'people', 'stor', '6919', 'char']\n",
            "-------------\n",
            "['Moscow', 'court', 'sentenced', 'participant', 'summer', 'series', 'protest', 'four', 'year', 'prison', 'Konstantin', 'Kotov', 'sentenced', 'Thursday', 'convicted', 'repeatedly', 'calling', 'taking', 'part', 'unauthorized', 'protest', 'conviction', 'came', 'da', '472', 'char']\n",
            "-------------\n",
            "['average', 'US', 'price', 'regulargrade', 'gasoline', 'dropped', '3', 'cent', 'per', 'gallon', '38', 'liter', 'past', 'three', 'week', '263', 'price', '20', 'cent', 'lower', 'midJuly', 'However', 'industry', 'analyst', 'Trilby', 'Lundberg', 'Lundberg', 'Survey', 'say', '519', 'char']\n",
            "-------------\n",
            "['central', 'Somalia', '5000', 'Sufi', 'fighter', 'signing', 'join', 'national', 'army', 'surprise', 'move', 'two', 'month', 'ago', 'group', 'decided', 'fighter', 'integrated', 'far', 'local', 'group', 'go', 'alShabab', 'fighter', 'win', '222', 'char']\n",
            "-------------\n",
            "['Two', 'men', 'arrested', 'attempted', 'carjacking', 'Belfast', 'last', 'week', 'incident', 'recorded', 'onlooker', 'posted', 'social', 'medium', 'took', 'place', 'Ireton', 'Street', 'Botanic', 'Avenue', 'Friday', 'Shortly', '730pm', 'owner', 'veh', '1059', 'char']\n",
            "-------------\n",
            "['Airbnb', 'Thursday', 'announced', 'plan', 'go', 'public', '2020', 'homesharing', 'rental', 'startup', 'last', 'privately', 'valued', '31', 'billion', 'September', '2017', 'Airbnb', 'teased', 'potential', 'IPO', 'plan', 'recently', 'March', 'year', 'cofounder', 'Nathan', 'Blechar', '315', 'char']\n",
            "-------------\n",
            "['Federal', 'investigator', 'Thursday', 'released', 'preliminary', 'report', 'Conception', 'boat', 'fire', 'killed', 'nearly', 'threedozen', 'people', 'earlier', 'month', 'coast', 'California', 'said', 'entire', 'crew', 'asleep', 'blaze', 'began', 'National', 'Transportation', '2888', 'char']\n",
            "-------------\n"
          ]
        }
      ]
    },
    {
      "cell_type": "markdown",
      "source": [
        "#### F. TF-IDF"
      ],
      "metadata": {
        "id": "TMAA3YrKDbU1"
      }
    },
    {
      "cell_type": "code",
      "source": [
        "# untuk tf-idf\n",
        "import pandas as pd\n",
        "data = pd.read_csv(\"./drive/MyDrive/STBI/Proyek/Dataset/articles_data.csv\")\n",
        "data.head()"
      ],
      "metadata": {
        "colab": {
          "base_uri": "https://localhost:8080/",
          "height": 618
        },
        "id": "kNQHWH1YEqga",
        "outputId": "badb9972-6d4c-4c37-dfb7-03ec0a9f27a3"
      },
      "execution_count": 33,
      "outputs": [
        {
          "output_type": "execute_result",
          "data": {
            "text/plain": [
              "   Unnamed: 0           source_id         source_name              author  \\\n",
              "0           0             reuters             Reuters   Reuters Editorial   \n",
              "1           1     the-irish-times     The Irish Times  Eoin Burke-Kennedy   \n",
              "2           2     the-irish-times     The Irish Times   Deirdre McQuillan   \n",
              "3           3  al-jazeera-english  Al Jazeera English          Al Jazeera   \n",
              "4           4            bbc-news            BBC News            BBC News   \n",
              "\n",
              "                                               title  \\\n",
              "0  NTSB says Autopilot engaged in 2018 California...   \n",
              "1       Unemployment falls to post-crash low of 5.2%   \n",
              "2  Louise Kennedy AW2019: Long coats, sparkling t...   \n",
              "3  North Korean footballer Han joins Italian gian...   \n",
              "4  UK government lawyer says proroguing parliamen...   \n",
              "\n",
              "                                         description  \\\n",
              "0  The National Transportation Safety Board said ...   \n",
              "1  Latest monthly figures reflect continued growt...   \n",
              "2  Autumn-winter collection features designer’s g...   \n",
              "3  Han is the first North Korean player in the Se...   \n",
              "4  The UK government's lawyer, David Johnston arg...   \n",
              "\n",
              "                                                 url  \\\n",
              "0  https://www.reuters.com/article/us-tesla-crash...   \n",
              "1  https://www.irishtimes.com/business/economy/un...   \n",
              "2  https://www.irishtimes.com/\\t\\t\\t\\t\\t\\t\\t/life...   \n",
              "3  https://www.aljazeera.com/news/2019/09/north-k...   \n",
              "4  https://www.bbc.co.uk/news/av/uk-scotland-4956...   \n",
              "\n",
              "                                        url_to_image          published_at  \\\n",
              "0  https://s4.reutersmedia.net/resources/r/?m=02&...  2019-09-03T16:22:20Z   \n",
              "1  https://www.irishtimes.com/image-creator/?id=1...  2019-09-03T10:32:28Z   \n",
              "2  https://www.irishtimes.com/image-creator/?id=1...  2019-09-03T14:40:00Z   \n",
              "3  https://www.aljazeera.com/mritems/Images/2019/...  2019-09-03T17:25:39Z   \n",
              "4  https://ichef.bbci.co.uk/news/1024/branded_new...  2019-09-03T14:39:21Z   \n",
              "\n",
              "                                             content  top_article  \\\n",
              "0  WASHINGTON (Reuters) - The National Transporta...          0.0   \n",
              "1  The States jobless rate fell to 5.2 per cent l...          0.0   \n",
              "2  Louise Kennedy is showing off her autumn-winte...          1.0   \n",
              "3  Han Kwang Song, the first North Korean footbal...          0.0   \n",
              "4                                                NaN          0.0   \n",
              "\n",
              "   engagement_reaction_count  engagement_comment_count  \\\n",
              "0                        0.0                       0.0   \n",
              "1                        6.0                      10.0   \n",
              "2                        NaN                       NaN   \n",
              "3                        0.0                       0.0   \n",
              "4                        0.0                       0.0   \n",
              "\n",
              "   engagement_share_count  engagement_comment_plugin_count  \n",
              "0                  2528.0                              0.0  \n",
              "1                     2.0                              0.0  \n",
              "2                     NaN                              NaN  \n",
              "3                     7.0                              0.0  \n",
              "4                     0.0                              0.0  "
            ],
            "text/html": [
              "\n",
              "  <div id=\"df-eecaae5c-1d25-498a-92b3-e21cca9f7214\">\n",
              "    <div class=\"colab-df-container\">\n",
              "      <div>\n",
              "<style scoped>\n",
              "    .dataframe tbody tr th:only-of-type {\n",
              "        vertical-align: middle;\n",
              "    }\n",
              "\n",
              "    .dataframe tbody tr th {\n",
              "        vertical-align: top;\n",
              "    }\n",
              "\n",
              "    .dataframe thead th {\n",
              "        text-align: right;\n",
              "    }\n",
              "</style>\n",
              "<table border=\"1\" class=\"dataframe\">\n",
              "  <thead>\n",
              "    <tr style=\"text-align: right;\">\n",
              "      <th></th>\n",
              "      <th>Unnamed: 0</th>\n",
              "      <th>source_id</th>\n",
              "      <th>source_name</th>\n",
              "      <th>author</th>\n",
              "      <th>title</th>\n",
              "      <th>description</th>\n",
              "      <th>url</th>\n",
              "      <th>url_to_image</th>\n",
              "      <th>published_at</th>\n",
              "      <th>content</th>\n",
              "      <th>top_article</th>\n",
              "      <th>engagement_reaction_count</th>\n",
              "      <th>engagement_comment_count</th>\n",
              "      <th>engagement_share_count</th>\n",
              "      <th>engagement_comment_plugin_count</th>\n",
              "    </tr>\n",
              "  </thead>\n",
              "  <tbody>\n",
              "    <tr>\n",
              "      <th>0</th>\n",
              "      <td>0</td>\n",
              "      <td>reuters</td>\n",
              "      <td>Reuters</td>\n",
              "      <td>Reuters Editorial</td>\n",
              "      <td>NTSB says Autopilot engaged in 2018 California...</td>\n",
              "      <td>The National Transportation Safety Board said ...</td>\n",
              "      <td>https://www.reuters.com/article/us-tesla-crash...</td>\n",
              "      <td>https://s4.reutersmedia.net/resources/r/?m=02&amp;...</td>\n",
              "      <td>2019-09-03T16:22:20Z</td>\n",
              "      <td>WASHINGTON (Reuters) - The National Transporta...</td>\n",
              "      <td>0.0</td>\n",
              "      <td>0.0</td>\n",
              "      <td>0.0</td>\n",
              "      <td>2528.0</td>\n",
              "      <td>0.0</td>\n",
              "    </tr>\n",
              "    <tr>\n",
              "      <th>1</th>\n",
              "      <td>1</td>\n",
              "      <td>the-irish-times</td>\n",
              "      <td>The Irish Times</td>\n",
              "      <td>Eoin Burke-Kennedy</td>\n",
              "      <td>Unemployment falls to post-crash low of 5.2%</td>\n",
              "      <td>Latest monthly figures reflect continued growt...</td>\n",
              "      <td>https://www.irishtimes.com/business/economy/un...</td>\n",
              "      <td>https://www.irishtimes.com/image-creator/?id=1...</td>\n",
              "      <td>2019-09-03T10:32:28Z</td>\n",
              "      <td>The States jobless rate fell to 5.2 per cent l...</td>\n",
              "      <td>0.0</td>\n",
              "      <td>6.0</td>\n",
              "      <td>10.0</td>\n",
              "      <td>2.0</td>\n",
              "      <td>0.0</td>\n",
              "    </tr>\n",
              "    <tr>\n",
              "      <th>2</th>\n",
              "      <td>2</td>\n",
              "      <td>the-irish-times</td>\n",
              "      <td>The Irish Times</td>\n",
              "      <td>Deirdre McQuillan</td>\n",
              "      <td>Louise Kennedy AW2019: Long coats, sparkling t...</td>\n",
              "      <td>Autumn-winter collection features designer’s g...</td>\n",
              "      <td>https://www.irishtimes.com/\\t\\t\\t\\t\\t\\t\\t/life...</td>\n",
              "      <td>https://www.irishtimes.com/image-creator/?id=1...</td>\n",
              "      <td>2019-09-03T14:40:00Z</td>\n",
              "      <td>Louise Kennedy is showing off her autumn-winte...</td>\n",
              "      <td>1.0</td>\n",
              "      <td>NaN</td>\n",
              "      <td>NaN</td>\n",
              "      <td>NaN</td>\n",
              "      <td>NaN</td>\n",
              "    </tr>\n",
              "    <tr>\n",
              "      <th>3</th>\n",
              "      <td>3</td>\n",
              "      <td>al-jazeera-english</td>\n",
              "      <td>Al Jazeera English</td>\n",
              "      <td>Al Jazeera</td>\n",
              "      <td>North Korean footballer Han joins Italian gian...</td>\n",
              "      <td>Han is the first North Korean player in the Se...</td>\n",
              "      <td>https://www.aljazeera.com/news/2019/09/north-k...</td>\n",
              "      <td>https://www.aljazeera.com/mritems/Images/2019/...</td>\n",
              "      <td>2019-09-03T17:25:39Z</td>\n",
              "      <td>Han Kwang Song, the first North Korean footbal...</td>\n",
              "      <td>0.0</td>\n",
              "      <td>0.0</td>\n",
              "      <td>0.0</td>\n",
              "      <td>7.0</td>\n",
              "      <td>0.0</td>\n",
              "    </tr>\n",
              "    <tr>\n",
              "      <th>4</th>\n",
              "      <td>4</td>\n",
              "      <td>bbc-news</td>\n",
              "      <td>BBC News</td>\n",
              "      <td>BBC News</td>\n",
              "      <td>UK government lawyer says proroguing parliamen...</td>\n",
              "      <td>The UK government's lawyer, David Johnston arg...</td>\n",
              "      <td>https://www.bbc.co.uk/news/av/uk-scotland-4956...</td>\n",
              "      <td>https://ichef.bbci.co.uk/news/1024/branded_new...</td>\n",
              "      <td>2019-09-03T14:39:21Z</td>\n",
              "      <td>NaN</td>\n",
              "      <td>0.0</td>\n",
              "      <td>0.0</td>\n",
              "      <td>0.0</td>\n",
              "      <td>0.0</td>\n",
              "      <td>0.0</td>\n",
              "    </tr>\n",
              "  </tbody>\n",
              "</table>\n",
              "</div>\n",
              "      <button class=\"colab-df-convert\" onclick=\"convertToInteractive('df-eecaae5c-1d25-498a-92b3-e21cca9f7214')\"\n",
              "              title=\"Convert this dataframe to an interactive table.\"\n",
              "              style=\"display:none;\">\n",
              "        \n",
              "  <svg xmlns=\"http://www.w3.org/2000/svg\" height=\"24px\"viewBox=\"0 0 24 24\"\n",
              "       width=\"24px\">\n",
              "    <path d=\"M0 0h24v24H0V0z\" fill=\"none\"/>\n",
              "    <path d=\"M18.56 5.44l.94 2.06.94-2.06 2.06-.94-2.06-.94-.94-2.06-.94 2.06-2.06.94zm-11 1L8.5 8.5l.94-2.06 2.06-.94-2.06-.94L8.5 2.5l-.94 2.06-2.06.94zm10 10l.94 2.06.94-2.06 2.06-.94-2.06-.94-.94-2.06-.94 2.06-2.06.94z\"/><path d=\"M17.41 7.96l-1.37-1.37c-.4-.4-.92-.59-1.43-.59-.52 0-1.04.2-1.43.59L10.3 9.45l-7.72 7.72c-.78.78-.78 2.05 0 2.83L4 21.41c.39.39.9.59 1.41.59.51 0 1.02-.2 1.41-.59l7.78-7.78 2.81-2.81c.8-.78.8-2.07 0-2.86zM5.41 20L4 18.59l7.72-7.72 1.47 1.35L5.41 20z\"/>\n",
              "  </svg>\n",
              "      </button>\n",
              "      \n",
              "  <style>\n",
              "    .colab-df-container {\n",
              "      display:flex;\n",
              "      flex-wrap:wrap;\n",
              "      gap: 12px;\n",
              "    }\n",
              "\n",
              "    .colab-df-convert {\n",
              "      background-color: #E8F0FE;\n",
              "      border: none;\n",
              "      border-radius: 50%;\n",
              "      cursor: pointer;\n",
              "      display: none;\n",
              "      fill: #1967D2;\n",
              "      height: 32px;\n",
              "      padding: 0 0 0 0;\n",
              "      width: 32px;\n",
              "    }\n",
              "\n",
              "    .colab-df-convert:hover {\n",
              "      background-color: #E2EBFA;\n",
              "      box-shadow: 0px 1px 2px rgba(60, 64, 67, 0.3), 0px 1px 3px 1px rgba(60, 64, 67, 0.15);\n",
              "      fill: #174EA6;\n",
              "    }\n",
              "\n",
              "    [theme=dark] .colab-df-convert {\n",
              "      background-color: #3B4455;\n",
              "      fill: #D2E3FC;\n",
              "    }\n",
              "\n",
              "    [theme=dark] .colab-df-convert:hover {\n",
              "      background-color: #434B5C;\n",
              "      box-shadow: 0px 1px 3px 1px rgba(0, 0, 0, 0.15);\n",
              "      filter: drop-shadow(0px 1px 2px rgba(0, 0, 0, 0.3));\n",
              "      fill: #FFFFFF;\n",
              "    }\n",
              "  </style>\n",
              "\n",
              "      <script>\n",
              "        const buttonEl =\n",
              "          document.querySelector('#df-eecaae5c-1d25-498a-92b3-e21cca9f7214 button.colab-df-convert');\n",
              "        buttonEl.style.display =\n",
              "          google.colab.kernel.accessAllowed ? 'block' : 'none';\n",
              "\n",
              "        async function convertToInteractive(key) {\n",
              "          const element = document.querySelector('#df-eecaae5c-1d25-498a-92b3-e21cca9f7214');\n",
              "          const dataTable =\n",
              "            await google.colab.kernel.invokeFunction('convertToInteractive',\n",
              "                                                     [key], {});\n",
              "          if (!dataTable) return;\n",
              "\n",
              "          const docLinkHtml = 'Like what you see? Visit the ' +\n",
              "            '<a target=\"_blank\" href=https://colab.research.google.com/notebooks/data_table.ipynb>data table notebook</a>'\n",
              "            + ' to learn more about interactive tables.';\n",
              "          element.innerHTML = '';\n",
              "          dataTable['output_type'] = 'display_data';\n",
              "          await google.colab.output.renderOutput(dataTable, element);\n",
              "          const docLink = document.createElement('div');\n",
              "          docLink.innerHTML = docLinkHtml;\n",
              "          element.appendChild(docLink);\n",
              "        }\n",
              "      </script>\n",
              "    </div>\n",
              "  </div>\n",
              "  "
            ]
          },
          "metadata": {},
          "execution_count": 33
        }
      ]
    },
    {
      "cell_type": "code",
      "source": [
        "from sklearn.feature_extraction.text import TfidfVectorizer\n",
        "\n",
        "def tfidf(df):\n",
        "    tfidf = TfidfVectorizer( stop_words='english',use_idf=True)\n",
        "    tfidf_matrix = tfidf.fit_transform(df)\n",
        "    return tfidf_matrix"
      ],
      "metadata": {
        "id": "YGJWjRIWDeOn"
      },
      "execution_count": 34,
      "outputs": []
    },
    {
      "cell_type": "code",
      "source": [
        "# Let's create a matrix with tfidf for the column abstract\n",
        "tfidf_matrix = tfidf(data['content'].values.astype('U'))"
      ],
      "metadata": {
        "id": "jcNL_Cm9Dkl4"
      },
      "execution_count": 35,
      "outputs": []
    },
    {
      "cell_type": "code",
      "source": [
        "# in order to explore which documents have more similar respresentaiton, consine simliartiy can be used\n",
        "from sklearn.metrics.pairwise import linear_kernel\n",
        "cosine_similarities = linear_kernel(tfidf_matrix[0:1], tfidf_matrix).flatten()\n",
        "\n",
        "# 10 most related documents indices\n",
        "related_docs_indices = cosine_similarities.argsort()[:-11:-1]\n",
        "print(\"Related Document:\",related_docs_indices)\n",
        "\n",
        "# Cosine Similarties of related documents\n",
        "print(\"Cosine Similarites of related documents\",cosine_similarities[related_docs_indices])"
      ],
      "metadata": {
        "colab": {
          "base_uri": "https://localhost:8080/"
        },
        "id": "8n-WuEH0F3uB",
        "outputId": "02d83cff-917d-41c3-b710-bae0401f5e14"
      },
      "execution_count": 36,
      "outputs": [
        {
          "output_type": "stream",
          "name": "stdout",
          "text": [
            "Related Document: [    0   143   490  1152  9923 10338  9266  8975  9825  6624]\n",
            "Cosine Similarites of related documents [1.         1.         0.85994523 0.41752305 0.28955808 0.28955808\n",
            " 0.25402214 0.21863433 0.19385649 0.18572314]\n"
          ]
        }
      ]
    },
    {
      "cell_type": "code",
      "source": [
        "# Let's take a look at two most similar document\n",
        "data.iloc[0]['content']"
      ],
      "metadata": {
        "colab": {
          "base_uri": "https://localhost:8080/",
          "height": 52
        },
        "id": "xixKLt6HGBIk",
        "outputId": "01ca053b-10f7-40e3-cdb4-1651d2b1fe4c"
      },
      "execution_count": 37,
      "outputs": [
        {
          "output_type": "execute_result",
          "data": {
            "text/plain": [
              "'WASHINGTON (Reuters) - The National Transportation Safety Board said Tuesday a Tesla Model S was in Autopilot mode when it struck a fire truck in Culver City, California one of a series of crashes the board is investigating involving Tesla’s driver assistance… [+478 chars]'"
            ],
            "application/vnd.google.colaboratory.intrinsic+json": {
              "type": "string"
            }
          },
          "metadata": {},
          "execution_count": 37
        }
      ]
    },
    {
      "cell_type": "code",
      "source": [
        "from wordcloud import WordCloud\n",
        "import matplotlib.pyplot as plt\n",
        "wordcloud = WordCloud().generate(data.iloc[0]['content'])\n",
        "plt.imshow(wordcloud, interpolation=\"bilinear\")"
      ],
      "metadata": {
        "colab": {
          "base_uri": "https://localhost:8080/",
          "height": 236
        },
        "id": "PETGgFZXGNn4",
        "outputId": "6e9fa29f-da83-489b-a790-3e30509b5437"
      },
      "execution_count": 38,
      "outputs": [
        {
          "output_type": "execute_result",
          "data": {
            "text/plain": [
              "<matplotlib.image.AxesImage at 0x7f523c3d7f90>"
            ]
          },
          "metadata": {},
          "execution_count": 38
        },
        {
          "output_type": "display_data",
          "data": {
            "text/plain": [
              "<Figure size 432x288 with 1 Axes>"
            ],
            "image/png": "[encoded data removed]"
          },
          "metadata": {
            "needs_background": "light"
          }
        }
      ]
    },
    {
      "cell_type": "code",
      "source": [
        ""
      ],
      "metadata": {
        "id": "ClXkEQALG3y_"
      },
      "execution_count": null,
      "outputs": []
    }
  ]
}