{
  "nbformat": 4,
  "nbformat_minor": 0,
  "metadata": {
    "colab": {
      "name": "articles_data_fasttext_tf-idf group.ipynb",
      "provenance": []
    },
    "kernelspec": {
      "name": "python3",
      "display_name": "Python 3"
    },
    "language_info": {
      "name": "python"
    }
  },
  "cells": [
    {
      "cell_type": "markdown",
      "source": [
        "# Dataset 1: articles_dataset.csv"
      ],
      "metadata": {
        "id": "UpPhv0GBqx2S"
      }
    },
    {
      "cell_type": "markdown",
      "source": [
        "#### a. Import required libraries"
      ],
      "metadata": {
        "id": "kQcsadeGriB2"
      }
    },
    {
      "cell_type": "code",
      "source": [
        "from google.colab import drive\n",
        "drive.mount('/content/drive')"
      ],
      "metadata": {
        "colab": {
          "base_uri": "https://localhost:8080/"
        },
        "id": "bsrHkHRjr5Ll",
        "outputId": "1d0bd45e-d268-4d8e-d0c8-39fc052f01d1"
      },
      "execution_count": null,
      "outputs": [
        {
          "output_type": "stream",
          "name": "stdout",
          "text": [
            "Mounted at /content/drive\n"
          ]
        }
      ]
    },
    {
      "cell_type": "code",
      "execution_count": null,
      "metadata": {
        "id": "gqjmz1z0qpp1",
        "colab": {
          "base_uri": "https://localhost:8080/"
        },
        "outputId": "966f4e70-a022-4b51-a52c-2d6ddd3695a3"
      },
      "outputs": [
        {
          "output_type": "stream",
          "name": "stdout",
          "text": [
            "[nltk_data] Downloading package stopwords to /root/nltk_data...\n",
            "[nltk_data]   Package stopwords is already up-to-date!\n"
          ]
        }
      ],
      "source": [
        "import sys\n",
        "sys.path.append(\"../\")\n",
        "\n",
        "import os\n",
        "from collections import Counter\n",
        "from time import time\n",
        "\n",
        "import gensim\n",
        "import numpy as np\n",
        "import pandas as pd\n",
        "import re\n",
        "import string\n",
        "\n",
        "from ds_utils.clustering import vectorize, mbkmeans_clusters\n",
        "from sklearn.cluster import MiniBatchKMeans\n",
        "from sklearn.metrics import silhouette_samples, silhouette_score\n",
        "\n",
        "from gensim.models import Word2Vec\n",
        "from tqdm.notebook import tqdm\n",
        "from nltk.tokenize import word_tokenize \n",
        "from nltk.probability import FreqDist\n",
        "from nltk.corpus import stopwords\n",
        "from gensim.models.fasttext import FastText"
      ]
    },
    {
      "cell_type": "markdown",
      "source": [
        "#### b. Data Preprocessing and Text Preprocessing"
      ],
      "metadata": {
        "id": "FnDV6FweRaBe"
      }
    },
    {
      "cell_type": "code",
      "source": [
        "import pandas as pd\n",
        "df = pd.read_csv(\"./drive/MyDrive/STBI/Proyek/Dataset/articles_data.csv\")\n",
        "df.head()"
      ],
      "metadata": {
        "colab": {
          "base_uri": "https://localhost:8080/",
          "height": 618
        },
        "id": "GpFt4Bi8soHi",
        "outputId": "6439ca34-dc1a-44de-8e36-5a8c01c0771e"
      },
      "execution_count": null,
      "outputs": [
        {
          "output_type": "execute_result",
          "data": {
            "text/plain": [
              "   Unnamed: 0           source_id         source_name              author  \\\n",
              "0           0             reuters             Reuters   Reuters Editorial   \n",
              "1           1     the-irish-times     The Irish Times  Eoin Burke-Kennedy   \n",
              "2           2     the-irish-times     The Irish Times   Deirdre McQuillan   \n",
              "3           3  al-jazeera-english  Al Jazeera English          Al Jazeera   \n",
              "4           4            bbc-news            BBC News            BBC News   \n",
              "\n",
              "                                               title  \\\n",
              "0  NTSB says Autopilot engaged in 2018 California...   \n",
              "1       Unemployment falls to post-crash low of 5.2%   \n",
              "2  Louise Kennedy AW2019: Long coats, sparkling t...   \n",
              "3  North Korean footballer Han joins Italian gian...   \n",
              "4  UK government lawyer says proroguing parliamen...   \n",
              "\n",
              "                                         description  \\\n",
              "0  The National Transportation Safety Board said ...   \n",
              "1  Latest monthly figures reflect continued growt...   \n",
              "2  Autumn-winter collection features designer’s g...   \n",
              "3  Han is the first North Korean player in the Se...   \n",
              "4  The UK government's lawyer, David Johnston arg...   \n",
              "\n",
              "                                                 url  \\\n",
              "0  https://www.reuters.com/article/us-tesla-crash...   \n",
              "1  https://www.irishtimes.com/business/economy/un...   \n",
              "2  https://www.irishtimes.com/\\t\\t\\t\\t\\t\\t\\t/life...   \n",
              "3  https://www.aljazeera.com/news/2019/09/north-k...   \n",
              "4  https://www.bbc.co.uk/news/av/uk-scotland-4956...   \n",
              "\n",
              "                                        url_to_image          published_at  \\\n",
              "0  https://s4.reutersmedia.net/resources/r/?m=02&...  2019-09-03T16:22:20Z   \n",
              "1  https://www.irishtimes.com/image-creator/?id=1...  2019-09-03T10:32:28Z   \n",
              "2  https://www.irishtimes.com/image-creator/?id=1...  2019-09-03T14:40:00Z   \n",
              "3  https://www.aljazeera.com/mritems/Images/2019/...  2019-09-03T17:25:39Z   \n",
              "4  https://ichef.bbci.co.uk/news/1024/branded_new...  2019-09-03T14:39:21Z   \n",
              "\n",
              "                                             content  top_article  \\\n",
              "0  WASHINGTON (Reuters) - The National Transporta...          0.0   \n",
              "1  The States jobless rate fell to 5.2 per cent l...          0.0   \n",
              "2  Louise Kennedy is showing off her autumn-winte...          1.0   \n",
              "3  Han Kwang Song, the first North Korean footbal...          0.0   \n",
              "4                                                NaN          0.0   \n",
              "\n",
              "   engagement_reaction_count  engagement_comment_count  \\\n",
              "0                        0.0                       0.0   \n",
              "1                        6.0                      10.0   \n",
              "2                        NaN                       NaN   \n",
              "3                        0.0                       0.0   \n",
              "4                        0.0                       0.0   \n",
              "\n",
              "   engagement_share_count  engagement_comment_plugin_count  \n",
              "0                  2528.0                              0.0  \n",
              "1                     2.0                              0.0  \n",
              "2                     NaN                              NaN  \n",
              "3                     7.0                              0.0  \n",
              "4                     0.0                              0.0  "
            ],
            "text/html": [
              "\n",
              "  <div id=\"df-1cb1c5c9-cb81-483d-947d-f2cc5d83c359\">\n",
              "    <div class=\"colab-df-container\">\n",
              "      <div>\n",
              "<style scoped>\n",
              "    .dataframe tbody tr th:only-of-type {\n",
              "        vertical-align: middle;\n",
              "    }\n",
              "\n",
              "    .dataframe tbody tr th {\n",
              "        vertical-align: top;\n",
              "    }\n",
              "\n",
              "    .dataframe thead th {\n",
              "        text-align: right;\n",
              "    }\n",
              "</style>\n",
              "<table border=\"1\" class=\"dataframe\">\n",
              "  <thead>\n",
              "    <tr style=\"text-align: right;\">\n",
              "      <th></th>\n",
              "      <th>Unnamed: 0</th>\n",
              "      <th>source_id</th>\n",
              "      <th>source_name</th>\n",
              "      <th>author</th>\n",
              "      <th>title</th>\n",
              "      <th>description</th>\n",
              "      <th>url</th>\n",
              "      <th>url_to_image</th>\n",
              "      <th>published_at</th>\n",
              "      <th>content</th>\n",
              "      <th>top_article</th>\n",
              "      <th>engagement_reaction_count</th>\n",
              "      <th>engagement_comment_count</th>\n",
              "      <th>engagement_share_count</th>\n",
              "      <th>engagement_comment_plugin_count</th>\n",
              "    </tr>\n",
              "  </thead>\n",
              "  <tbody>\n",
              "    <tr>\n",
              "      <th>0</th>\n",
              "      <td>0</td>\n",
              "      <td>reuters</td>\n",
              "      <td>Reuters</td>\n",
              "      <td>Reuters Editorial</td>\n",
              "      <td>NTSB says Autopilot engaged in 2018 California...</td>\n",
              "      <td>The National Transportation Safety Board said ...</td>\n",
              "      <td>https://www.reuters.com/article/us-tesla-crash...</td>\n",
              "      <td>https://s4.reutersmedia.net/resources/r/?m=02&amp;...</td>\n",
              "      <td>2019-09-03T16:22:20Z</td>\n",
              "      <td>WASHINGTON (Reuters) - The National Transporta...</td>\n",
              "      <td>0.0</td>\n",
              "      <td>0.0</td>\n",
              "      <td>0.0</td>\n",
              "      <td>2528.0</td>\n",
              "      <td>0.0</td>\n",
              "    </tr>\n",
              "    <tr>\n",
              "      <th>1</th>\n",
              "      <td>1</td>\n",
              "      <td>the-irish-times</td>\n",
              "      <td>The Irish Times</td>\n",
              "      <td>Eoin Burke-Kennedy</td>\n",
              "      <td>Unemployment falls to post-crash low of 5.2%</td>\n",
              "      <td>Latest monthly figures reflect continued growt...</td>\n",
              "      <td>https://www.irishtimes.com/business/economy/un...</td>\n",
              "      <td>https://www.irishtimes.com/image-creator/?id=1...</td>\n",
              "      <td>2019-09-03T10:32:28Z</td>\n",
              "      <td>The States jobless rate fell to 5.2 per cent l...</td>\n",
              "      <td>0.0</td>\n",
              "      <td>6.0</td>\n",
              "      <td>10.0</td>\n",
              "      <td>2.0</td>\n",
              "      <td>0.0</td>\n",
              "    </tr>\n",
              "    <tr>\n",
              "      <th>2</th>\n",
              "      <td>2</td>\n",
              "      <td>the-irish-times</td>\n",
              "      <td>The Irish Times</td>\n",
              "      <td>Deirdre McQuillan</td>\n",
              "      <td>Louise Kennedy AW2019: Long coats, sparkling t...</td>\n",
              "      <td>Autumn-winter collection features designer’s g...</td>\n",
              "      <td>https://www.irishtimes.com/\\t\\t\\t\\t\\t\\t\\t/life...</td>\n",
              "      <td>https://www.irishtimes.com/image-creator/?id=1...</td>\n",
              "      <td>2019-09-03T14:40:00Z</td>\n",
              "      <td>Louise Kennedy is showing off her autumn-winte...</td>\n",
              "      <td>1.0</td>\n",
              "      <td>NaN</td>\n",
              "      <td>NaN</td>\n",
              "      <td>NaN</td>\n",
              "      <td>NaN</td>\n",
              "    </tr>\n",
              "    <tr>\n",
              "      <th>3</th>\n",
              "      <td>3</td>\n",
              "      <td>al-jazeera-english</td>\n",
              "      <td>Al Jazeera English</td>\n",
              "      <td>Al Jazeera</td>\n",
              "      <td>North Korean footballer Han joins Italian gian...</td>\n",
              "      <td>Han is the first North Korean player in the Se...</td>\n",
              "      <td>https://www.aljazeera.com/news/2019/09/north-k...</td>\n",
              "      <td>https://www.aljazeera.com/mritems/Images/2019/...</td>\n",
              "      <td>2019-09-03T17:25:39Z</td>\n",
              "      <td>Han Kwang Song, the first North Korean footbal...</td>\n",
              "      <td>0.0</td>\n",
              "      <td>0.0</td>\n",
              "      <td>0.0</td>\n",
              "      <td>7.0</td>\n",
              "      <td>0.0</td>\n",
              "    </tr>\n",
              "    <tr>\n",
              "      <th>4</th>\n",
              "      <td>4</td>\n",
              "      <td>bbc-news</td>\n",
              "      <td>BBC News</td>\n",
              "      <td>BBC News</td>\n",
              "      <td>UK government lawyer says proroguing parliamen...</td>\n",
              "      <td>The UK government's lawyer, David Johnston arg...</td>\n",
              "      <td>https://www.bbc.co.uk/news/av/uk-scotland-4956...</td>\n",
              "      <td>https://ichef.bbci.co.uk/news/1024/branded_new...</td>\n",
              "      <td>2019-09-03T14:39:21Z</td>\n",
              "      <td>NaN</td>\n",
              "      <td>0.0</td>\n",
              "      <td>0.0</td>\n",
              "      <td>0.0</td>\n",
              "      <td>0.0</td>\n",
              "      <td>0.0</td>\n",
              "    </tr>\n",
              "  </tbody>\n",
              "</table>\n",
              "</div>\n",
              "      <button class=\"colab-df-convert\" onclick=\"convertToInteractive('df-1cb1c5c9-cb81-483d-947d-f2cc5d83c359')\"\n",
              "              title=\"Convert this dataframe to an interactive table.\"\n",
              "              style=\"display:none;\">\n",
              "        \n",
              "  <svg xmlns=\"http://www.w3.org/2000/svg\" height=\"24px\"viewBox=\"0 0 24 24\"\n",
              "       width=\"24px\">\n",
              "    <path d=\"M0 0h24v24H0V0z\" fill=\"none\"/>\n",
              "    <path d=\"M18.56 5.44l.94 2.06.94-2.06 2.06-.94-2.06-.94-.94-2.06-.94 2.06-2.06.94zm-11 1L8.5 8.5l.94-2.06 2.06-.94-2.06-.94L8.5 2.5l-.94 2.06-2.06.94zm10 10l.94 2.06.94-2.06 2.06-.94-2.06-.94-.94-2.06-.94 2.06-2.06.94z\"/><path d=\"M17.41 7.96l-1.37-1.37c-.4-.4-.92-.59-1.43-.59-.52 0-1.04.2-1.43.59L10.3 9.45l-7.72 7.72c-.78.78-.78 2.05 0 2.83L4 21.41c.39.39.9.59 1.41.59.51 0 1.02-.2 1.41-.59l7.78-7.78 2.81-2.81c.8-.78.8-2.07 0-2.86zM5.41 20L4 18.59l7.72-7.72 1.47 1.35L5.41 20z\"/>\n",
              "  </svg>\n",
              "      </button>\n",
              "      \n",
              "  <style>\n",
              "    .colab-df-container {\n",
              "      display:flex;\n",
              "      flex-wrap:wrap;\n",
              "      gap: 12px;\n",
              "    }\n",
              "\n",
              "    .colab-df-convert {\n",
              "      background-color: #E8F0FE;\n",
              "      border: none;\n",
              "      border-radius: 50%;\n",
              "      cursor: pointer;\n",
              "      display: none;\n",
              "      fill: #1967D2;\n",
              "      height: 32px;\n",
              "      padding: 0 0 0 0;\n",
              "      width: 32px;\n",
              "    }\n",
              "\n",
              "    .colab-df-convert:hover {\n",
              "      background-color: #E2EBFA;\n",
              "      box-shadow: 0px 1px 2px rgba(60, 64, 67, 0.3), 0px 1px 3px 1px rgba(60, 64, 67, 0.15);\n",
              "      fill: #174EA6;\n",
              "    }\n",
              "\n",
              "    [theme=dark] .colab-df-convert {\n",
              "      background-color: #3B4455;\n",
              "      fill: #D2E3FC;\n",
              "    }\n",
              "\n",
              "    [theme=dark] .colab-df-convert:hover {\n",
              "      background-color: #434B5C;\n",
              "      box-shadow: 0px 1px 3px 1px rgba(0, 0, 0, 0.15);\n",
              "      filter: drop-shadow(0px 1px 2px rgba(0, 0, 0, 0.3));\n",
              "      fill: #FFFFFF;\n",
              "    }\n",
              "  </style>\n",
              "\n",
              "      <script>\n",
              "        const buttonEl =\n",
              "          document.querySelector('#df-1cb1c5c9-cb81-483d-947d-f2cc5d83c359 button.colab-df-convert');\n",
              "        buttonEl.style.display =\n",
              "          google.colab.kernel.accessAllowed ? 'block' : 'none';\n",
              "\n",
              "        async function convertToInteractive(key) {\n",
              "          const element = document.querySelector('#df-1cb1c5c9-cb81-483d-947d-f2cc5d83c359');\n",
              "          const dataTable =\n",
              "            await google.colab.kernel.invokeFunction('convertToInteractive',\n",
              "                                                     [key], {});\n",
              "          if (!dataTable) return;\n",
              "\n",
              "          const docLinkHtml = 'Like what you see? Visit the ' +\n",
              "            '<a target=\"_blank\" href=https://colab.research.google.com/notebooks/data_table.ipynb>data table notebook</a>'\n",
              "            + ' to learn more about interactive tables.';\n",
              "          element.innerHTML = '';\n",
              "          dataTable['output_type'] = 'display_data';\n",
              "          await google.colab.output.renderOutput(dataTable, element);\n",
              "          const docLink = document.createElement('div');\n",
              "          docLink.innerHTML = docLinkHtml;\n",
              "          element.appendChild(docLink);\n",
              "        }\n",
              "      </script>\n",
              "    </div>\n",
              "  </div>\n",
              "  "
            ]
          },
          "metadata": {},
          "execution_count": 8
        }
      ]
    },
    {
      "cell_type": "code",
      "source": [
        "df.shape"
      ],
      "metadata": {
        "colab": {
          "base_uri": "https://localhost:8080/"
        },
        "id": "64UyFB7gtIlv",
        "outputId": "6d3e5cf3-5e97-4e27-bdba-883c78daa322"
      },
      "execution_count": null,
      "outputs": [
        {
          "output_type": "execute_result",
          "data": {
            "text/plain": [
              "(10437, 15)"
            ]
          },
          "metadata": {},
          "execution_count": 4
        }
      ]
    },
    {
      "cell_type": "code",
      "source": [
        "df.info()"
      ],
      "metadata": {
        "colab": {
          "base_uri": "https://localhost:8080/"
        },
        "id": "sxFndGzPtd1Z",
        "outputId": "caa5810d-7970-4252-fd31-de4cfcecb826"
      },
      "execution_count": null,
      "outputs": [
        {
          "output_type": "stream",
          "name": "stdout",
          "text": [
            "<class 'pandas.core.frame.DataFrame'>\n",
            "RangeIndex: 10437 entries, 0 to 10436\n",
            "Data columns (total 15 columns):\n",
            " #   Column                           Non-Null Count  Dtype  \n",
            "---  ------                           --------------  -----  \n",
            " 0   Unnamed: 0                       10437 non-null  int64  \n",
            " 1   source_id                        10437 non-null  object \n",
            " 2   source_name                      10437 non-null  object \n",
            " 3   author                           9417 non-null   object \n",
            " 4   title                            10435 non-null  object \n",
            " 5   description                      10413 non-null  object \n",
            " 6   url                              10436 non-null  object \n",
            " 7   url_to_image                     9781 non-null   object \n",
            " 8   published_at                     10436 non-null  object \n",
            " 9   content                          9145 non-null   object \n",
            " 10  top_article                      10435 non-null  float64\n",
            " 11  engagement_reaction_count        10319 non-null  float64\n",
            " 12  engagement_comment_count         10319 non-null  float64\n",
            " 13  engagement_share_count           10319 non-null  float64\n",
            " 14  engagement_comment_plugin_count  10319 non-null  float64\n",
            "dtypes: float64(5), int64(1), object(9)\n",
            "memory usage: 1.2+ MB\n"
          ]
        }
      ]
    },
    {
      "cell_type": "code",
      "source": [
        "# drop atribut \n",
        "df = df.drop(['Unnamed: 0', 'source_id', 'title', 'description', 'source_name', 'author', 'url', 'url_to_image', 'published_at', 'top_article', 'engagement_reaction_count', 'engagement_comment_count', 'engagement_share_count', 'engagement_comment_plugin_count'], axis = 1)"
      ],
      "metadata": {
        "id": "MR6zDRFAL8aC"
      },
      "execution_count": null,
      "outputs": []
    },
    {
      "cell_type": "code",
      "source": [
        "df.info()"
      ],
      "metadata": {
        "colab": {
          "base_uri": "https://localhost:8080/"
        },
        "id": "iC-GT-pLXXEA",
        "outputId": "ba391d90-45a2-49d6-9d4e-9919b5214a17"
      },
      "execution_count": null,
      "outputs": [
        {
          "output_type": "stream",
          "name": "stdout",
          "text": [
            "<class 'pandas.core.frame.DataFrame'>\n",
            "RangeIndex: 10437 entries, 0 to 10436\n",
            "Data columns (total 1 columns):\n",
            " #   Column   Non-Null Count  Dtype \n",
            "---  ------   --------------  ----- \n",
            " 0   content  9145 non-null   object\n",
            "dtypes: object(1)\n",
            "memory usage: 81.7+ KB\n"
          ]
        }
      ]
    },
    {
      "cell_type": "code",
      "source": [
        "# Checking duplicate value\n",
        "print(str(df.describe(include=object)))"
      ],
      "metadata": {
        "colab": {
          "base_uri": "https://localhost:8080/"
        },
        "id": "9LViulgLJzR0",
        "outputId": "ae36176d-f2e1-473f-fb82-146b31020b29"
      },
      "execution_count": null,
      "outputs": [
        {
          "output_type": "stream",
          "name": "stdout",
          "text": [
            "                                                  content\n",
            "count                                                9145\n",
            "unique                                               8385\n",
            "top     Chat with us in Facebook Messenger. Find out w...\n",
            "freq                                                  125\n"
          ]
        }
      ]
    },
    {
      "cell_type": "code",
      "source": [
        "# remove duplicate value (text) in contenct attribute\n",
        "df.drop_duplicates(subset=['content'], keep='last')"
      ],
      "metadata": {
        "id": "WPJzR5wzaGvU",
        "colab": {
          "base_uri": "https://localhost:8080/",
          "height": 424
        },
        "outputId": "09c0ecc1-2191-4aa8-cc6c-0f95cfcc4417"
      },
      "execution_count": null,
      "outputs": [
        {
          "output_type": "execute_result",
          "data": {
            "text/plain": [
              "                                                 content\n",
              "1      The States jobless rate fell to 5.2 per cent l...\n",
              "2      Louise Kennedy is showing off her autumn-winte...\n",
              "3      Han Kwang Song, the first North Korean footbal...\n",
              "5      \"This Tender Land: a Novel\" (Atria Books), by ...\n",
              "6      LONDON (Reuters) - The European Union is waiti...\n",
              "...                                                  ...\n",
              "10429  For his latest installation of the SCAR Projec...\n",
              "10431  There are numerous bargains waiting to be pick...\n",
              "10432  Growth in the U.S. economys vast services sect...\n",
              "10433  ZURICH/HONG KONG (Reuters) - The announcement ...\n",
              "10436                                                NaN\n",
              "\n",
              "[8386 rows x 1 columns]"
            ],
            "text/html": [
              "\n",
              "  <div id=\"df-45243952-4eaf-47a2-8162-de3db472fd1b\">\n",
              "    <div class=\"colab-df-container\">\n",
              "      <div>\n",
              "<style scoped>\n",
              "    .dataframe tbody tr th:only-of-type {\n",
              "        vertical-align: middle;\n",
              "    }\n",
              "\n",
              "    .dataframe tbody tr th {\n",
              "        vertical-align: top;\n",
              "    }\n",
              "\n",
              "    .dataframe thead th {\n",
              "        text-align: right;\n",
              "    }\n",
              "</style>\n",
              "<table border=\"1\" class=\"dataframe\">\n",
              "  <thead>\n",
              "    <tr style=\"text-align: right;\">\n",
              "      <th></th>\n",
              "      <th>content</th>\n",
              "    </tr>\n",
              "  </thead>\n",
              "  <tbody>\n",
              "    <tr>\n",
              "      <th>1</th>\n",
              "      <td>The States jobless rate fell to 5.2 per cent l...</td>\n",
              "    </tr>\n",
              "    <tr>\n",
              "      <th>2</th>\n",
              "      <td>Louise Kennedy is showing off her autumn-winte...</td>\n",
              "    </tr>\n",
              "    <tr>\n",
              "      <th>3</th>\n",
              "      <td>Han Kwang Song, the first North Korean footbal...</td>\n",
              "    </tr>\n",
              "    <tr>\n",
              "      <th>5</th>\n",
              "      <td>\"This Tender Land: a Novel\" (Atria Books), by ...</td>\n",
              "    </tr>\n",
              "    <tr>\n",
              "      <th>6</th>\n",
              "      <td>LONDON (Reuters) - The European Union is waiti...</td>\n",
              "    </tr>\n",
              "    <tr>\n",
              "      <th>...</th>\n",
              "      <td>...</td>\n",
              "    </tr>\n",
              "    <tr>\n",
              "      <th>10429</th>\n",
              "      <td>For his latest installation of the SCAR Projec...</td>\n",
              "    </tr>\n",
              "    <tr>\n",
              "      <th>10431</th>\n",
              "      <td>There are numerous bargains waiting to be pick...</td>\n",
              "    </tr>\n",
              "    <tr>\n",
              "      <th>10432</th>\n",
              "      <td>Growth in the U.S. economys vast services sect...</td>\n",
              "    </tr>\n",
              "    <tr>\n",
              "      <th>10433</th>\n",
              "      <td>ZURICH/HONG KONG (Reuters) - The announcement ...</td>\n",
              "    </tr>\n",
              "    <tr>\n",
              "      <th>10436</th>\n",
              "      <td>NaN</td>\n",
              "    </tr>\n",
              "  </tbody>\n",
              "</table>\n",
              "<p>8386 rows × 1 columns</p>\n",
              "</div>\n",
              "      <button class=\"colab-df-convert\" onclick=\"convertToInteractive('df-45243952-4eaf-47a2-8162-de3db472fd1b')\"\n",
              "              title=\"Convert this dataframe to an interactive table.\"\n",
              "              style=\"display:none;\">\n",
              "        \n",
              "  <svg xmlns=\"http://www.w3.org/2000/svg\" height=\"24px\"viewBox=\"0 0 24 24\"\n",
              "       width=\"24px\">\n",
              "    <path d=\"M0 0h24v24H0V0z\" fill=\"none\"/>\n",
              "    <path d=\"M18.56 5.44l.94 2.06.94-2.06 2.06-.94-2.06-.94-.94-2.06-.94 2.06-2.06.94zm-11 1L8.5 8.5l.94-2.06 2.06-.94-2.06-.94L8.5 2.5l-.94 2.06-2.06.94zm10 10l.94 2.06.94-2.06 2.06-.94-2.06-.94-.94-2.06-.94 2.06-2.06.94z\"/><path d=\"M17.41 7.96l-1.37-1.37c-.4-.4-.92-.59-1.43-.59-.52 0-1.04.2-1.43.59L10.3 9.45l-7.72 7.72c-.78.78-.78 2.05 0 2.83L4 21.41c.39.39.9.59 1.41.59.51 0 1.02-.2 1.41-.59l7.78-7.78 2.81-2.81c.8-.78.8-2.07 0-2.86zM5.41 20L4 18.59l7.72-7.72 1.47 1.35L5.41 20z\"/>\n",
              "  </svg>\n",
              "      </button>\n",
              "      \n",
              "  <style>\n",
              "    .colab-df-container {\n",
              "      display:flex;\n",
              "      flex-wrap:wrap;\n",
              "      gap: 12px;\n",
              "    }\n",
              "\n",
              "    .colab-df-convert {\n",
              "      background-color: #E8F0FE;\n",
              "      border: none;\n",
              "      border-radius: 50%;\n",
              "      cursor: pointer;\n",
              "      display: none;\n",
              "      fill: #1967D2;\n",
              "      height: 32px;\n",
              "      padding: 0 0 0 0;\n",
              "      width: 32px;\n",
              "    }\n",
              "\n",
              "    .colab-df-convert:hover {\n",
              "      background-color: #E2EBFA;\n",
              "      box-shadow: 0px 1px 2px rgba(60, 64, 67, 0.3), 0px 1px 3px 1px rgba(60, 64, 67, 0.15);\n",
              "      fill: #174EA6;\n",
              "    }\n",
              "\n",
              "    [theme=dark] .colab-df-convert {\n",
              "      background-color: #3B4455;\n",
              "      fill: #D2E3FC;\n",
              "    }\n",
              "\n",
              "    [theme=dark] .colab-df-convert:hover {\n",
              "      background-color: #434B5C;\n",
              "      box-shadow: 0px 1px 3px 1px rgba(0, 0, 0, 0.15);\n",
              "      filter: drop-shadow(0px 1px 2px rgba(0, 0, 0, 0.3));\n",
              "      fill: #FFFFFF;\n",
              "    }\n",
              "  </style>\n",
              "\n",
              "      <script>\n",
              "        const buttonEl =\n",
              "          document.querySelector('#df-45243952-4eaf-47a2-8162-de3db472fd1b button.colab-df-convert');\n",
              "        buttonEl.style.display =\n",
              "          google.colab.kernel.accessAllowed ? 'block' : 'none';\n",
              "\n",
              "        async function convertToInteractive(key) {\n",
              "          const element = document.querySelector('#df-45243952-4eaf-47a2-8162-de3db472fd1b');\n",
              "          const dataTable =\n",
              "            await google.colab.kernel.invokeFunction('convertToInteractive',\n",
              "                                                     [key], {});\n",
              "          if (!dataTable) return;\n",
              "\n",
              "          const docLinkHtml = 'Like what you see? Visit the ' +\n",
              "            '<a target=\"_blank\" href=https://colab.research.google.com/notebooks/data_table.ipynb>data table notebook</a>'\n",
              "            + ' to learn more about interactive tables.';\n",
              "          element.innerHTML = '';\n",
              "          dataTable['output_type'] = 'display_data';\n",
              "          await google.colab.output.renderOutput(dataTable, element);\n",
              "          const docLink = document.createElement('div');\n",
              "          docLink.innerHTML = docLinkHtml;\n",
              "          element.appendChild(docLink);\n",
              "        }\n",
              "      </script>\n",
              "    </div>\n",
              "  </div>\n",
              "  "
            ]
          },
          "metadata": {},
          "execution_count": 12
        }
      ]
    },
    {
      "cell_type": "code",
      "source": [
        "# Checking null value in attribute \n",
        "df.isna().sum()"
      ],
      "metadata": {
        "colab": {
          "base_uri": "https://localhost:8080/"
        },
        "id": "pfiqAfmaKZXv",
        "outputId": "d5fe76cd-3d81-47ae-f8bf-4b5b659af61b"
      },
      "execution_count": null,
      "outputs": [
        {
          "output_type": "execute_result",
          "data": {
            "text/plain": [
              "content    1292\n",
              "dtype: int64"
            ]
          },
          "metadata": {},
          "execution_count": 13
        }
      ]
    },
    {
      "cell_type": "code",
      "source": [
        "#drop null value\n",
        "df = df.dropna()"
      ],
      "metadata": {
        "id": "etbHa4a0Kajb"
      },
      "execution_count": null,
      "outputs": []
    },
    {
      "cell_type": "code",
      "source": [
        "df"
      ],
      "metadata": {
        "colab": {
          "base_uri": "https://localhost:8080/",
          "height": 424
        },
        "id": "mkbce3aFKcwD",
        "outputId": "f4844cea-b58b-429a-b866-b55f51ea11f1"
      },
      "execution_count": null,
      "outputs": [
        {
          "output_type": "execute_result",
          "data": {
            "text/plain": [
              "                                                 content\n",
              "0      WASHINGTON (Reuters) - The National Transporta...\n",
              "1      The States jobless rate fell to 5.2 per cent l...\n",
              "2      Louise Kennedy is showing off her autumn-winte...\n",
              "3      Han Kwang Song, the first North Korean footbal...\n",
              "5      \"This Tender Land: a Novel\" (Atria Books), by ...\n",
              "...                                                  ...\n",
              "10428  Just last week, the Disney Magic arrived to Ne...\n",
              "10429  For his latest installation of the SCAR Projec...\n",
              "10431  There are numerous bargains waiting to be pick...\n",
              "10432  Growth in the U.S. economys vast services sect...\n",
              "10433  ZURICH/HONG KONG (Reuters) - The announcement ...\n",
              "\n",
              "[9145 rows x 1 columns]"
            ],
            "text/html": [
              "\n",
              "  <div id=\"df-dc8283df-a3f3-478d-9b50-b4438eed8cdb\">\n",
              "    <div class=\"colab-df-container\">\n",
              "      <div>\n",
              "<style scoped>\n",
              "    .dataframe tbody tr th:only-of-type {\n",
              "        vertical-align: middle;\n",
              "    }\n",
              "\n",
              "    .dataframe tbody tr th {\n",
              "        vertical-align: top;\n",
              "    }\n",
              "\n",
              "    .dataframe thead th {\n",
              "        text-align: right;\n",
              "    }\n",
              "</style>\n",
              "<table border=\"1\" class=\"dataframe\">\n",
              "  <thead>\n",
              "    <tr style=\"text-align: right;\">\n",
              "      <th></th>\n",
              "      <th>content</th>\n",
              "    </tr>\n",
              "  </thead>\n",
              "  <tbody>\n",
              "    <tr>\n",
              "      <th>0</th>\n",
              "      <td>WASHINGTON (Reuters) - The National Transporta...</td>\n",
              "    </tr>\n",
              "    <tr>\n",
              "      <th>1</th>\n",
              "      <td>The States jobless rate fell to 5.2 per cent l...</td>\n",
              "    </tr>\n",
              "    <tr>\n",
              "      <th>2</th>\n",
              "      <td>Louise Kennedy is showing off her autumn-winte...</td>\n",
              "    </tr>\n",
              "    <tr>\n",
              "      <th>3</th>\n",
              "      <td>Han Kwang Song, the first North Korean footbal...</td>\n",
              "    </tr>\n",
              "    <tr>\n",
              "      <th>5</th>\n",
              "      <td>\"This Tender Land: a Novel\" (Atria Books), by ...</td>\n",
              "    </tr>\n",
              "    <tr>\n",
              "      <th>...</th>\n",
              "      <td>...</td>\n",
              "    </tr>\n",
              "    <tr>\n",
              "      <th>10428</th>\n",
              "      <td>Just last week, the Disney Magic arrived to Ne...</td>\n",
              "    </tr>\n",
              "    <tr>\n",
              "      <th>10429</th>\n",
              "      <td>For his latest installation of the SCAR Projec...</td>\n",
              "    </tr>\n",
              "    <tr>\n",
              "      <th>10431</th>\n",
              "      <td>There are numerous bargains waiting to be pick...</td>\n",
              "    </tr>\n",
              "    <tr>\n",
              "      <th>10432</th>\n",
              "      <td>Growth in the U.S. economys vast services sect...</td>\n",
              "    </tr>\n",
              "    <tr>\n",
              "      <th>10433</th>\n",
              "      <td>ZURICH/HONG KONG (Reuters) - The announcement ...</td>\n",
              "    </tr>\n",
              "  </tbody>\n",
              "</table>\n",
              "<p>9145 rows × 1 columns</p>\n",
              "</div>\n",
              "      <button class=\"colab-df-convert\" onclick=\"convertToInteractive('df-dc8283df-a3f3-478d-9b50-b4438eed8cdb')\"\n",
              "              title=\"Convert this dataframe to an interactive table.\"\n",
              "              style=\"display:none;\">\n",
              "        \n",
              "  <svg xmlns=\"http://www.w3.org/2000/svg\" height=\"24px\"viewBox=\"0 0 24 24\"\n",
              "       width=\"24px\">\n",
              "    <path d=\"M0 0h24v24H0V0z\" fill=\"none\"/>\n",
              "    <path d=\"M18.56 5.44l.94 2.06.94-2.06 2.06-.94-2.06-.94-.94-2.06-.94 2.06-2.06.94zm-11 1L8.5 8.5l.94-2.06 2.06-.94-2.06-.94L8.5 2.5l-.94 2.06-2.06.94zm10 10l.94 2.06.94-2.06 2.06-.94-2.06-.94-.94-2.06-.94 2.06-2.06.94z\"/><path d=\"M17.41 7.96l-1.37-1.37c-.4-.4-.92-.59-1.43-.59-.52 0-1.04.2-1.43.59L10.3 9.45l-7.72 7.72c-.78.78-.78 2.05 0 2.83L4 21.41c.39.39.9.59 1.41.59.51 0 1.02-.2 1.41-.59l7.78-7.78 2.81-2.81c.8-.78.8-2.07 0-2.86zM5.41 20L4 18.59l7.72-7.72 1.47 1.35L5.41 20z\"/>\n",
              "  </svg>\n",
              "      </button>\n",
              "      \n",
              "  <style>\n",
              "    .colab-df-container {\n",
              "      display:flex;\n",
              "      flex-wrap:wrap;\n",
              "      gap: 12px;\n",
              "    }\n",
              "\n",
              "    .colab-df-convert {\n",
              "      background-color: #E8F0FE;\n",
              "      border: none;\n",
              "      border-radius: 50%;\n",
              "      cursor: pointer;\n",
              "      display: none;\n",
              "      fill: #1967D2;\n",
              "      height: 32px;\n",
              "      padding: 0 0 0 0;\n",
              "      width: 32px;\n",
              "    }\n",
              "\n",
              "    .colab-df-convert:hover {\n",
              "      background-color: #E2EBFA;\n",
              "      box-shadow: 0px 1px 2px rgba(60, 64, 67, 0.3), 0px 1px 3px 1px rgba(60, 64, 67, 0.15);\n",
              "      fill: #174EA6;\n",
              "    }\n",
              "\n",
              "    [theme=dark] .colab-df-convert {\n",
              "      background-color: #3B4455;\n",
              "      fill: #D2E3FC;\n",
              "    }\n",
              "\n",
              "    [theme=dark] .colab-df-convert:hover {\n",
              "      background-color: #434B5C;\n",
              "      box-shadow: 0px 1px 3px 1px rgba(0, 0, 0, 0.15);\n",
              "      filter: drop-shadow(0px 1px 2px rgba(0, 0, 0, 0.3));\n",
              "      fill: #FFFFFF;\n",
              "    }\n",
              "  </style>\n",
              "\n",
              "      <script>\n",
              "        const buttonEl =\n",
              "          document.querySelector('#df-dc8283df-a3f3-478d-9b50-b4438eed8cdb button.colab-df-convert');\n",
              "        buttonEl.style.display =\n",
              "          google.colab.kernel.accessAllowed ? 'block' : 'none';\n",
              "\n",
              "        async function convertToInteractive(key) {\n",
              "          const element = document.querySelector('#df-dc8283df-a3f3-478d-9b50-b4438eed8cdb');\n",
              "          const dataTable =\n",
              "            await google.colab.kernel.invokeFunction('convertToInteractive',\n",
              "                                                     [key], {});\n",
              "          if (!dataTable) return;\n",
              "\n",
              "          const docLinkHtml = 'Like what you see? Visit the ' +\n",
              "            '<a target=\"_blank\" href=https://colab.research.google.com/notebooks/data_table.ipynb>data table notebook</a>'\n",
              "            + ' to learn more about interactive tables.';\n",
              "          element.innerHTML = '';\n",
              "          dataTable['output_type'] = 'display_data';\n",
              "          await google.colab.output.renderOutput(dataTable, element);\n",
              "          const docLink = document.createElement('div');\n",
              "          docLink.innerHTML = docLinkHtml;\n",
              "          element.appendChild(docLink);\n",
              "        }\n",
              "      </script>\n",
              "    </div>\n",
              "  </div>\n",
              "  "
            ]
          },
          "metadata": {},
          "execution_count": 15
        }
      ]
    },
    {
      "cell_type": "code",
      "source": [
        "# remove number\n",
        "def remove_number(text):\n",
        "    return  re.sub(r\"\\[0-9]+\", \"\", str(text))\n",
        " \n",
        "df = df['content'].apply(remove_number)"
      ],
      "metadata": {
        "id": "tlS7Kt4lKfi7"
      },
      "execution_count": null,
      "outputs": []
    },
    {
      "cell_type": "code",
      "source": [
        "# remove punctuation\n",
        "def punctuation(txt):\n",
        "  return re.sub(r\"[^\\w\\s]\",\"\", str(txt))\n",
        "\n",
        "df = df.apply(punctuation)"
      ],
      "metadata": {
        "id": "QjMZSZ7HKg6S"
      },
      "execution_count": null,
      "outputs": []
    },
    {
      "cell_type": "code",
      "source": [
        "import nltk\n",
        "nltk.download('punkt')\n",
        "# tokenization\n",
        "def word_tokenize_wrapper(text):\n",
        "  return word_tokenize(text)\n",
        "df = df.apply(word_tokenize_wrapper)"
      ],
      "metadata": {
        "colab": {
          "base_uri": "https://localhost:8080/"
        },
        "id": "2plLNG1NKier",
        "outputId": "ec790ac3-4dba-46f3-de45-5c40dcf5ea8c"
      },
      "execution_count": null,
      "outputs": [
        {
          "output_type": "stream",
          "name": "stdout",
          "text": [
            "[nltk_data] Downloading package punkt to /root/nltk_data...\n",
            "[nltk_data]   Package punkt is already up-to-date!\n"
          ]
        }
      ]
    },
    {
      "cell_type": "code",
      "source": [
        "#stopword removal\n",
        "import nltk\n",
        "nltk.download('stopwords')\n",
        "from nltk.corpus import stopwords\n",
        "sw_nltk = stopwords.words('english')\n",
        "print(sw_nltk)\n",
        "def stopword(text):\n",
        "  words = [word for word in text if word.lower() not in sw_nltk]\n",
        "  return words\n",
        "df = df.apply(stopword)"
      ],
      "metadata": {
        "colab": {
          "base_uri": "https://localhost:8080/"
        },
        "id": "xpWc6RCcKkN3",
        "outputId": "12a861c3-81a5-4e84-d2e4-8decdda1bd68"
      },
      "execution_count": null,
      "outputs": [
        {
          "output_type": "stream",
          "name": "stdout",
          "text": [
            "[nltk_data] Downloading package stopwords to /root/nltk_data...\n",
            "[nltk_data]   Package stopwords is already up-to-date!\n",
            "['i', 'me', 'my', 'myself', 'we', 'our', 'ours', 'ourselves', 'you', \"you're\", \"you've\", \"you'll\", \"you'd\", 'your', 'yours', 'yourself', 'yourselves', 'he', 'him', 'his', 'himself', 'she', \"she's\", 'her', 'hers', 'herself', 'it', \"it's\", 'its', 'itself', 'they', 'them', 'their', 'theirs', 'themselves', 'what', 'which', 'who', 'whom', 'this', 'that', \"that'll\", 'these', 'those', 'am', 'is', 'are', 'was', 'were', 'be', 'been', 'being', 'have', 'has', 'had', 'having', 'do', 'does', 'did', 'doing', 'a', 'an', 'the', 'and', 'but', 'if', 'or', 'because', 'as', 'until', 'while', 'of', 'at', 'by', 'for', 'with', 'about', 'against', 'between', 'into', 'through', 'during', 'before', 'after', 'above', 'below', 'to', 'from', 'up', 'down', 'in', 'out', 'on', 'off', 'over', 'under', 'again', 'further', 'then', 'once', 'here', 'there', 'when', 'where', 'why', 'how', 'all', 'any', 'both', 'each', 'few', 'more', 'most', 'other', 'some', 'such', 'no', 'nor', 'not', 'only', 'own', 'same', 'so', 'than', 'too', 'very', 's', 't', 'can', 'will', 'just', 'don', \"don't\", 'should', \"should've\", 'now', 'd', 'll', 'm', 'o', 're', 've', 'y', 'ain', 'aren', \"aren't\", 'couldn', \"couldn't\", 'didn', \"didn't\", 'doesn', \"doesn't\", 'hadn', \"hadn't\", 'hasn', \"hasn't\", 'haven', \"haven't\", 'isn', \"isn't\", 'ma', 'mightn', \"mightn't\", 'mustn', \"mustn't\", 'needn', \"needn't\", 'shan', \"shan't\", 'shouldn', \"shouldn't\", 'wasn', \"wasn't\", 'weren', \"weren't\", 'won', \"won't\", 'wouldn', \"wouldn't\"]\n"
          ]
        }
      ]
    },
    {
      "cell_type": "code",
      "source": [
        "#normalization\n",
        "nltk.download('wordnet')\n",
        "from nltk.stem import WordNetLemmatizer\n",
        "def lemma(text):\n",
        "  lemmatizer = WordNetLemmatizer()\n",
        "  Output= [lemmatizer.lemmatize(words_sent) for words_sent in text]\n",
        "  return Output\n",
        "df = df.apply(lemma)"
      ],
      "metadata": {
        "colab": {
          "base_uri": "https://localhost:8080/"
        },
        "id": "JMqBigR2Ktdj",
        "outputId": "8686b134-c4c7-45a8-d2d9-9d5198b0ab93"
      },
      "execution_count": null,
      "outputs": [
        {
          "output_type": "stream",
          "name": "stdout",
          "text": [
            "[nltk_data] Downloading package wordnet to /root/nltk_data...\n",
            "[nltk_data]   Unzipping corpora/wordnet.zip.\n"
          ]
        }
      ]
    },
    {
      "cell_type": "markdown",
      "source": [
        "#### D. Pemodelan dengan Word Embedding"
      ],
      "metadata": {
        "id": "zP6z8b9MaQkW"
      }
    },
    {
      "cell_type": "markdown",
      "source": [
        "##### 1. FastText"
      ],
      "metadata": {
        "id": "AQr76qTeKEut"
      }
    },
    {
      "cell_type": "code",
      "source": [
        "# vocabulary\n",
        "docs = df.values\n",
        "tokenized_docs = df.values\n",
        "vocab = Counter()\n",
        "for token in tokenized_docs:\n",
        "    vocab.update(token)\n",
        "\n",
        "len(vocab)"
      ],
      "metadata": {
        "colab": {
          "base_uri": "https://localhost:8080/"
        },
        "id": "ew-Fnsn0tjqX",
        "outputId": "f6c37597-e17a-4f98-e83e-0753d2f79833"
      },
      "execution_count": null,
      "outputs": [
        {
          "output_type": "execute_result",
          "data": {
            "text/plain": [
              "35843"
            ]
          },
          "metadata": {},
          "execution_count": 22
        }
      ]
    },
    {
      "cell_type": "code",
      "source": [
        "vocab.most_common(10)"
      ],
      "metadata": {
        "colab": {
          "base_uri": "https://localhost:8080/"
        },
        "id": "9FO2IGamK5q-",
        "outputId": "b610e4c4-3a31-43f9-cd7a-63b451eea5c3"
      },
      "execution_count": null,
      "outputs": [
        {
          "output_type": "execute_result",
          "data": {
            "text/plain": [
              "[('char', 8773),\n",
              " ('said', 1712),\n",
              " ('Reuters', 1309),\n",
              " ('year', 1099),\n",
              " ('US', 1090),\n",
              " ('new', 824),\n",
              " ('say', 734),\n",
              " ('Thursday', 711),\n",
              " ('President', 702),\n",
              " ('one', 646)]"
            ]
          },
          "metadata": {},
          "execution_count": 23
        }
      ]
    },
    {
      "cell_type": "code",
      "source": [
        "model2 = FastText(sentences=tokenized_docs, size = 100, workers=1, seed=42)"
      ],
      "metadata": {
        "id": "LV4AOToYs6kU"
      },
      "execution_count": null,
      "outputs": []
    },
    {
      "cell_type": "code",
      "source": [
        "# test model\n",
        "model2.wv.most_similar(\"moon\", topn=5)"
      ],
      "metadata": {
        "colab": {
          "base_uri": "https://localhost:8080/"
        },
        "id": "Bd8EymKsrx4E",
        "outputId": "2992668f-395c-4287-a7c4-c583aaa12ce5"
      },
      "execution_count": null,
      "outputs": [
        {
          "output_type": "execute_result",
          "data": {
            "text/plain": [
              "[('typhoon', 0.9996442198753357),\n",
              " ('Typhoon', 0.9995806813240051),\n",
              " ('Pokémon', 0.9992265105247498),\n",
              " ('Gordon', 0.9989269971847534),\n",
              " ('Solomon', 0.9987795352935791)]"
            ]
          },
          "metadata": {},
          "execution_count": 25
        }
      ]
    },
    {
      "cell_type": "code",
      "source": [
        "vectorized_docs = vectorize(df, model = model2, strategy=\"average\")\n",
        "len(vectorized_docs), len(vectorized_docs[0])"
      ],
      "metadata": {
        "colab": {
          "base_uri": "https://localhost:8080/"
        },
        "id": "q6_VNJUnLHWf",
        "outputId": "9d4b7171-3ce3-400f-b7ae-7fbd54070042"
      },
      "execution_count": null,
      "outputs": [
        {
          "output_type": "execute_result",
          "data": {
            "text/plain": [
              "(9145, 100)"
            ]
          },
          "metadata": {},
          "execution_count": 30
        }
      ]
    },
    {
      "cell_type": "markdown",
      "source": [
        "#### E. Generate and analyze clusters"
      ],
      "metadata": {
        "id": "TAOdBdUhLtal"
      }
    },
    {
      "cell_type": "code",
      "source": [
        "def mbkmeans_clusters(X, k, mb=500, print_silhouette_values=False):\n",
        "    \"\"\"Generate clusters.\n",
        "\n",
        "    Args:\n",
        "        X: Matrix of features.\n",
        "        k: Number of clusters.\n",
        "        mb: Size of mini-batches. Defaults to 500.\n",
        "        print_silhouette_values: Print silhouette values per cluster.\n",
        "\n",
        "    Returns:\n",
        "        Trained clustering model and labels based on X.\n",
        "    \"\"\"\n",
        "    km = MiniBatchKMeans(n_clusters=k, batch_size=mb).fit(X)\n",
        "    print(f\"For n_clusters = {k}\")\n",
        "    print(f\"Silhouette coefficient: {silhouette_score(X, km.labels_):0.2f}\")\n",
        "    print(f\"Inertia:{km.inertia_}\")\n",
        "\n",
        "    if print_silhouette_values:\n",
        "        sample_silhouette_values = silhouette_samples(X, km.labels_)\n",
        "        print(f\"Silhouette values:\")\n",
        "        silhouette_values = []\n",
        "        for i in range(k):\n",
        "            cluster_silhouette_values = sample_silhouette_values[km.labels_ == i]\n",
        "            silhouette_values.append(\n",
        "                (\n",
        "                    i,\n",
        "                    cluster_silhouette_values.shape[0],\n",
        "                    cluster_silhouette_values.mean(),\n",
        "                    cluster_silhouette_values.min(),\n",
        "                    cluster_silhouette_values.max(),\n",
        "                )\n",
        "            )\n",
        "        silhouette_values = sorted(\n",
        "            silhouette_values, key=lambda tup: tup[2], reverse=True\n",
        "        )\n",
        "        for s in silhouette_values:\n",
        "            print(\n",
        "                f\"    Cluster {s[0]}: Size:{s[1]} | Avg:{s[2]:.2f} | Min:{s[3]:.2f} | Max: {s[4]:.2f}\"\n",
        "            )\n",
        "    return km, km.labels_"
      ],
      "metadata": {
        "id": "SlUUICSsLwJ_"
      },
      "execution_count": null,
      "outputs": []
    },
    {
      "cell_type": "code",
      "source": [
        "clustering, cluster_labels = mbkmeans_clusters(X=vectorized_docs, k=50, print_silhouette_values=True)\n",
        "df_clusters = pd.DataFrame({\n",
        "    \"text\": docs,\n",
        "    \"tokens\": [\" \".join(text) for text in tokenized_docs],\n",
        "    \"cluster\": cluster_labels\n",
        "})"
      ],
      "metadata": {
        "colab": {
          "base_uri": "https://localhost:8080/"
        },
        "id": "tMM0gC5-LzMM",
        "outputId": "832e8814-78d6-4261-aa76-03af29f7166f"
      },
      "execution_count": null,
      "outputs": [
        {
          "output_type": "stream",
          "name": "stdout",
          "text": [
            "For n_clusters = 50\n",
            "Silhouette coefficient: 0.14\n",
            "Inertia:572.8318026070413\n",
            "Silhouette values:\n",
            "    Cluster 2: Size:125 | Avg:1.00 | Min:1.00 | Max: 1.00\n",
            "    Cluster 3: Size:89 | Avg:1.00 | Min:1.00 | Max: 1.00\n",
            "    Cluster 31: Size:26 | Avg:0.95 | Min:0.34 | Max: 0.98\n",
            "    Cluster 11: Size:69 | Avg:0.32 | Min:-0.05 | Max: 0.48\n",
            "    Cluster 43: Size:86 | Avg:0.27 | Min:0.01 | Max: 0.46\n",
            "    Cluster 30: Size:133 | Avg:0.23 | Min:-0.12 | Max: 0.46\n",
            "    Cluster 26: Size:161 | Avg:0.22 | Min:-0.03 | Max: 0.43\n",
            "    Cluster 25: Size:54 | Avg:0.20 | Min:-0.07 | Max: 0.50\n",
            "    Cluster 12: Size:135 | Avg:0.20 | Min:-0.04 | Max: 0.40\n",
            "    Cluster 4: Size:179 | Avg:0.19 | Min:-0.04 | Max: 0.39\n",
            "    Cluster 6: Size:166 | Avg:0.18 | Min:-0.07 | Max: 0.42\n",
            "    Cluster 13: Size:141 | Avg:0.16 | Min:-0.07 | Max: 0.37\n",
            "    Cluster 23: Size:361 | Avg:0.15 | Min:0.01 | Max: 0.34\n",
            "    Cluster 15: Size:309 | Avg:0.15 | Min:-0.02 | Max: 0.36\n",
            "    Cluster 19: Size:127 | Avg:0.15 | Min:-0.07 | Max: 0.37\n",
            "    Cluster 33: Size:148 | Avg:0.14 | Min:-0.04 | Max: 0.36\n",
            "    Cluster 42: Size:121 | Avg:0.14 | Min:-0.06 | Max: 0.33\n",
            "    Cluster 45: Size:174 | Avg:0.13 | Min:-0.05 | Max: 0.33\n",
            "    Cluster 48: Size:311 | Avg:0.13 | Min:-0.08 | Max: 0.39\n",
            "    Cluster 46: Size:389 | Avg:0.13 | Min:-0.05 | Max: 0.31\n",
            "    Cluster 41: Size:300 | Avg:0.13 | Min:-0.02 | Max: 0.36\n",
            "    Cluster 32: Size:330 | Avg:0.13 | Min:-0.03 | Max: 0.36\n",
            "    Cluster 34: Size:283 | Avg:0.13 | Min:-0.10 | Max: 0.36\n",
            "    Cluster 8: Size:267 | Avg:0.12 | Min:-0.04 | Max: 0.33\n",
            "    Cluster 38: Size:79 | Avg:0.11 | Min:-0.06 | Max: 0.32\n",
            "    Cluster 14: Size:260 | Avg:0.11 | Min:-0.16 | Max: 0.37\n",
            "    Cluster 22: Size:196 | Avg:0.11 | Min:-0.07 | Max: 0.34\n",
            "    Cluster 21: Size:404 | Avg:0.11 | Min:-0.06 | Max: 0.38\n",
            "    Cluster 47: Size:114 | Avg:0.11 | Min:-0.12 | Max: 0.37\n",
            "    Cluster 28: Size:265 | Avg:0.11 | Min:-0.07 | Max: 0.36\n",
            "    Cluster 39: Size:205 | Avg:0.10 | Min:-0.08 | Max: 0.35\n",
            "    Cluster 16: Size:212 | Avg:0.10 | Min:-0.08 | Max: 0.33\n",
            "    Cluster 5: Size:134 | Avg:0.10 | Min:-0.16 | Max: 0.36\n",
            "    Cluster 9: Size:198 | Avg:0.10 | Min:-0.05 | Max: 0.32\n",
            "    Cluster 29: Size:295 | Avg:0.10 | Min:-0.05 | Max: 0.33\n",
            "    Cluster 40: Size:141 | Avg:0.09 | Min:-0.11 | Max: 0.32\n",
            "    Cluster 10: Size:143 | Avg:0.09 | Min:-0.11 | Max: 0.34\n",
            "    Cluster 18: Size:145 | Avg:0.08 | Min:-0.09 | Max: 0.32\n",
            "    Cluster 36: Size:134 | Avg:0.08 | Min:-0.09 | Max: 0.31\n",
            "    Cluster 1: Size:217 | Avg:0.08 | Min:-0.07 | Max: 0.33\n",
            "    Cluster 49: Size:211 | Avg:0.07 | Min:-0.12 | Max: 0.31\n",
            "    Cluster 7: Size:194 | Avg:0.07 | Min:-0.14 | Max: 0.30\n",
            "    Cluster 17: Size:197 | Avg:0.06 | Min:-0.17 | Max: 0.35\n",
            "    Cluster 27: Size:176 | Avg:0.05 | Min:-0.14 | Max: 0.28\n",
            "    Cluster 35: Size:182 | Avg:0.05 | Min:-0.13 | Max: 0.28\n",
            "    Cluster 44: Size:177 | Avg:0.05 | Min:-0.11 | Max: 0.30\n",
            "    Cluster 20: Size:86 | Avg:0.03 | Min:-0.16 | Max: 0.21\n",
            "    Cluster 0: Size:79 | Avg:0.02 | Min:-0.16 | Max: 0.28\n",
            "    Cluster 37: Size:155 | Avg:0.01 | Min:-0.23 | Max: 0.25\n",
            "    Cluster 24: Size:62 | Avg:-0.04 | Min:-0.27 | Max: 0.18\n"
          ]
        }
      ]
    },
    {
      "cell_type": "code",
      "source": [
        "print(\"Top terms per cluster (based on centroids):\")\n",
        "for i in range(50):\n",
        "    tokens_per_cluster = \"\"\n",
        "    most_representative = model2.wv.most_similar(positive=[clustering.cluster_centers_[i]], topn=5)\n",
        "    for t in most_representative:\n",
        "        tokens_per_cluster += f\"{t[0]} \"\n",
        "    print(f\"Cluster {i}: {tokens_per_cluster}\")"
      ],
      "metadata": {
        "colab": {
          "base_uri": "https://localhost:8080/"
        },
        "id": "4OOZ6LvXL6gD",
        "outputId": "bfc3ef33-35b0-4cdf-d153-3b91aee850bd"
      },
      "execution_count": null,
      "outputs": [
        {
          "output_type": "stream",
          "name": "stdout",
          "text": [
            "Top terms per cluster (based on centroids):\n",
            "Cluster 0: performance closely overturn ORourke Rhode \n",
            "Cluster 1: try aft due digital Kickoff \n",
            "Cluster 2: whats Find Messenger Facebooks Facebook \n",
            "Cluster 3: bulletin Jews bullet BBC news \n",
            "Cluster 4: prestigious Door aide denial Ivanka \n",
            "Cluster 5: Cyril caucus cash carbon emerge \n",
            "Cluster 6: Brazils spokesperson sponsor Varadkar supreme \n",
            "Cluster 7: chemical responsible trajectory effect draw \n",
            "Cluster 8: migrant follow Hollywood semiautonomous jewelry \n",
            "Cluster 9: Chile heat pace space explore \n",
            "Cluster 10: safely parallel attitude outdoor malicious \n",
            "Cluster 11: democratic impeach forum NOAA admit \n",
            "Cluster 12: hedge Feige cartridge edge capacity \n",
            "Cluster 13: tennis terrorism exporter Brett culprit \n",
            "Cluster 14: recovery record earthquake perfect read \n",
            "Cluster 15: controversial Sudanese entrepreneur responsibility architect \n",
            "Cluster 16: shrank lockdown smart barely enough \n",
            "Cluster 17: Rhode simultaneously draft Powell alcohol \n",
            "Cluster 18: displayed reduce established rose fatal \n",
            "Cluster 19: escape Oversight surge hedge bridge \n",
            "Cluster 20: Ukraines Ukraine inquiry Mnangagwa Hous \n",
            "Cluster 21: inspector nose relief portrait issue \n",
            "Cluster 22: choose town chose Smart motor \n",
            "Cluster 23: spread Ill battle Cross dinosaur \n",
            "Cluster 24: Pentagon enforce Zelensky commentator support \n",
            "Cluster 25: gesture quantum Great Zhengzhou sits \n",
            "Cluster 26: Ukraines Ukraine inquiry Trevor represents \n",
            "Cluster 27: suit Greens blog Cabinet Phil \n",
            "Cluster 28: rose reduce headline spree rely \n",
            "Cluster 29: flow naturally insult grocery approximately \n",
            "Cluster 30: knowledge oversight Oversight College carry \n",
            "Cluster 31: final alternative Athletics divisive medium \n",
            "Cluster 32: religious phase Hezbollah disclose retail \n",
            "Cluster 33: colonial defense enforce reject Egypt \n",
            "Cluster 34: legendary salary portrait Portuguese atomic \n",
            "Cluster 35: Crystal pivotal extraordinary vital total \n",
            "Cluster 36: Texas Larry Hubert desert Frankfurt \n",
            "Cluster 37: target loom supermarket Yet Soviet \n",
            "Cluster 38: military mental rural pretrial environmental \n",
            "Cluster 39: develop theory stimulus spread standalone \n",
            "Cluster 40: Modern spoken Honduras enemy Islamic \n",
            "Cluster 41: Croke pair disperse behavior sue \n",
            "Cluster 42: refresh requires impose denial Obamaera \n",
            "Cluster 43: forecaster Israelis Bob Israel Listen \n",
            "Cluster 44: disappearance asleep branch franc Cyprus \n",
            "Cluster 45: Taoiseach opioid blockade Paradise literally \n",
            "Cluster 46: ORourke experience ceremony modern draft \n",
            "Cluster 47: stadium warmup audio full bus \n",
            "Cluster 48: stomach Castle holy shift Cross \n",
            "Cluster 49: refinery secondary approximately airstrikes extra \n"
          ]
        }
      ]
    },
    {
      "cell_type": "code",
      "source": [
        "\n",
        "test_cluster = 48\n",
        "most_representative_docs = np.argsort(\n",
        "    np.linalg.norm(vectorized_docs - clustering.cluster_centers_[test_cluster], axis=1)\n",
        ")\n",
        "for d in most_representative_docs[:20]:\n",
        "    print(docs[d])\n",
        "    print(\"-------------\")"
      ],
      "metadata": {
        "colab": {
          "base_uri": "https://localhost:8080/"
        },
        "id": "DI5cTRLnL_hr",
        "outputId": "164915d0-89cc-4000-f214-2b0e9e034455"
      },
      "execution_count": null,
      "outputs": [
        {
          "output_type": "stream",
          "name": "stdout",
          "text": [
            "['Two', 'highlight', 'attending', 'Mickeys', 'NotSoScary', 'Halloween', 'Party', 'family', 'always', 'grabbing', 'sidewalk', 'seat', 'Mickeys', 'BooToYou', 'Halloween', 'Parade', 'watching', 'party', 'exclusive', 'firework', 'show', 'year', 'spooky', 'new', 'eleme', '1196', 'char']\n",
            "-------------\n",
            "['Loog', 'Guitars', '20', 'year', 'ago', 'ambition', 'learn', 'play', 'guitar', 'petered', 'somewhere', 'learning', 'E', 'minor', 'G', 'C', 'mean', 'could', 'theory', 'play', 'number', 'pop', 'song', 'James', 'Blunt', 'U2', 'spring', 'mind', 'use', 'four', '381', 'char']\n",
            "-------------\n",
            "['PARISGoogle', 'paying', '1', 'billion', 'fine', 'back', 'tax', 'settle', 'pair', 'tax', 'dispute', 'France', 'faced', 'year', 'investigation', 'whether', 'properly', 'declared', 'activity', 'country', 'Alphabet', 'Inc', 'GOOGL', '13', '772', 'char']\n",
            "-------------\n",
            "['aware', 'ruleI', 'dont', 'agree', 'Crazy', 'Unfortunately', 'rule', 'applied', 'universally', 'many', 'athlete', 'missed', '3', 'test', '12', 'month', 'period', 'without', 'made', 'aware', 'rule', 'httpstcogmhSQG7AXo', 'Ali', 'Jawad', 'AliJawa', '21', 'char']\n",
            "-------------\n",
            "['one', 'surprising', 'WWE', 'moment', 'year', 'SmackDown', 'Womens', 'Champion', 'Bayley', 'turned', 'heel', 'main', 'event', 'Monday', 'Night', 'RAW', 'Bayley', 'teaming', 'RAW', 'Womens', 'Champion', 'Becky', 'Lynch', 'take', 'Womens', 'Tag', 'Team', 'Champions', 'Nikki', 'Cross', '2233', 'char']\n",
            "-------------\n",
            "['HAVANA', 'Reuters', 'Jason', 'Sanchez', '35', 'able', 'start', 'buying', 'spare', 'part', 'online', 'last', 'year', 'cellphone', 'repair', 'shop', 'Havana', 'thanks', 'advent', 'cryptocurrency', 'trading', 'Communistrun', 'Cuba', 'Cuba', 'many', 'way', 'remains', 'stuck', 'analogue', '5260', 'char']\n",
            "-------------\n",
            "['Watford', 'bos', 'Quique', 'Sanchez', 'Flores', 'say', 'positive', 'future', 'seeing', 'side', 'fight', 'back', 'two', 'goal', 'draw', '22', 'home', 'Arsenal', 'first', 'game', 'back', 'charge', 'MATCH', 'REPORT', 'Watford', '22', 'Arsenal']\n",
            "-------------\n",
            "['Knot', 'Gifts', 'Back', 'program', 'couple', 'attach', 'charity', 'choice', 'gift', 'registry', 'every', 'gift', 'purchased', 'couple', 'registry', 'Knot', 'donates', 'extra', 'cost', 'couple', 'guest', '3', 'percent', 'price', 'every', 'gift', '1650', 'char']\n",
            "-------------\n",
            "['Delta', 'airline', 'choice', 'even', 'fly', 'carrier', 'time', 'year', 'youll', 'want', 'know', 'massive', 'update', 'coming', 'Delta', 'Amex', 'credit', 'card', 'Starting', 'January', '30', '2020', 'Deltas', 'four', 'consumer', 'card', 'three', 'business', 'c', '10818', 'char']\n",
            "-------------\n",
            "['short', 'story', 'Stephen', 'OReilly', 'evening', 'one', 'Irelands', 'longestestablished', 'literary', 'prize', 'RTÉ', 'Radio', '1', 'Short', 'Story', 'Competition', 'Honour', 'Francis', 'MacManus', 'award', 'ceremony', 'Dublin', 'OReilly', 'life', 'Galway', 'first', 'prize', '3', '3902', 'char']\n",
            "-------------\n",
            "['Sep', '10', '2019', '600', 'ET', 'Stocks', 'raced', 'higher', 'start', 'September', 'sign', 'faltering', 'growth', 'keeping', 'investor', 'edge', 'navigate', 'historically', 'turbulent', 'period', 'market', 'best', 'analysis', 'insight', 'WS', '127', 'char']\n",
            "-------------\n",
            "['Nadal', 'broke', 'Medvedev', 'take', '32', 'lead', 'third', 'set', 'Medvedev', 'broke', 'back', 'held', '43', 'Nadal', 'two', 'break', 'point', '44', 'Medvedev', 'fought', 'highlight', '28shot', 'rally', 'took', 'player', 'fro', 'Nadal', 'hit', 'forehand', '1385', 'char']\n",
            "-------------\n",
            "['three', 'year', 'ago', 'outbreak', 'Zika', 'virus', 'caused', 'crisis', 'Brazil', 'dramatic', 'increase', 'baby', 'born', 'microcephaly', 'baby', 'young', 'child', 'facing', 'variety', 'medical', 'problem', 'uncertain', 'future', 'sudden', 'dr', '281', 'char']\n",
            "-------------\n",
            "['ATampT', 'Inc', 'agreed', 'buy', 'Time', 'Warner', 'nearly', 'three', 'year', 'ago', 'promised', 'create', 'entertainment', 'advertising', 'behemoth', 'could', 'take', 'Silicon', 'Valley', 'giant', 'like', 'Alphabet', 'Incs', 'Google', 'Netflix', 'Inc', 'telecom', 'giant', 'pressure', '86', 'char']\n",
            "-------------\n",
            "['Today', 'episode', 'almost', 'entirely', 'forgotten', 'doubt', 'one', 'person', 'hundred', 'could', 'explain', 'seemed', 'important', 'Americans', 'could', 'explain', 'bimetallism', 'debate', '1890s', 'Similarly', 'many', 'people', '2378', 'char']\n",
            "-------------\n",
            "['Sep', '6', '2019', '600', 'ET', 'Goldman', 'Sachs', 'Groups', 'partnership', 'shrinking', 'new', 'chief', 'executive', 'want', 'restore', 'exclusivity', 'least', 'dozen', 'Goldman', 'partner', 'negotiating', 'exit', 'firm', 'likely', 'announced', 'coming', 'wee', '112', 'char']\n",
            "-------------\n",
            "['Derry', 'City', '2', 'Dundalk', '2', 'Dundalk', 'win', '65', 'penalty', 'Dundalk', 'secured', 'first', 'silverware', 'season', 'Brandywell', 'Saturday', 'evening', 'Vinny', 'Perths', 'men', 'securing', 'EA', 'Sports', 'Cup', 'sudden', 'death', 'penalty', 'shootout', 'Brandywell', 'victor', '2612', 'char']\n",
            "-------------\n",
            "['ASOS', 'stock', 'ton', 'trendy', 'clothing', 'accessory', 'including', 'edgy', 'ear', 'cuff', 'price', 'start', '5', 'ASOS', 'one', 'ontrend', 'retailer', 'curating', 'massive', 'selection', 'stylish', 'clothes', 'accessory', 'shoe', 'jewelry', '1026', 'char']\n",
            "-------------\n",
            "['Next', 'month', 'Sams', 'Club', 'member', 'Michigan', 'Pennsylvania', 'North', 'Carolina', 'able', 'purchase', 'bundled', 'discount', 'health', 'service', 'cost', 'ranging', '50', 'individual', 'membership', '240', 'six', 'member', 'family', 'plan', 'Business', 'Inside', '4262', 'char']\n",
            "-------------\n",
            "['Reuters', 'Even', 'though', 'woman', 'golf', 'dominated', 'Asian', 'player', 'eligible', 'week', 'Solheim', 'Cup', 'event', 'nonetheless', 'remains', 'highlight', 'calendar', 'two', 'evenlymatched', 'team', 'genuine', 'rivalry', 'nearly', 'three', 'decade', 'maki', '2889', 'char']\n",
            "-------------\n"
          ]
        }
      ]
    },
    {
      "cell_type": "code",
      "source": [
        "docs"
      ],
      "metadata": {
        "colab": {
          "base_uri": "https://localhost:8080/"
        },
        "id": "nscqHdUXMEY7",
        "outputId": "4064a958-1690-4b19-c219-5009c24e7a50"
      },
      "execution_count": null,
      "outputs": [
        {
          "output_type": "execute_result",
          "data": {
            "text/plain": [
              "array([list(['WASHINGTON', 'Reuters', 'National', 'Transportation', 'Safety', 'Board', 'said', 'Tuesday', 'Tesla', 'Model', 'Autopilot', 'mode', 'struck', 'fire', 'truck', 'Culver', 'City', 'California', 'one', 'series', 'crash', 'board', 'investigating', 'involving', 'Teslas', 'driver', 'assistance', '478', 'char']),\n",
              "       list(['States', 'jobless', 'rate', 'fell', '52', 'per', 'cent', 'last', 'month', 'according', 'latest', 'official', 'figure', 'higher', 'previously', 'reported', 'account', 'upward', 'revision', 'Central', 'Statistics', 'Office', 'CSO', 'one', 'several', 'last', 'two', 'year', 'Nonethe', '800', 'char']),\n",
              "       list(['Louise', 'Kennedy', 'showing', 'autumnwinter', 'collection', 'Dublin', 'tonight', 'show', 'start', 'glittering', 'new', 'take', 'Black', 'Watch', 'tartan', 'Sixteen', 'model', 'present', '60', 'ensemble', '200', 'guest', 'including', 'designer', 'close', 'frie', '2156', 'char']),\n",
              "       ...,\n",
              "       list(['numerous', 'bargain', 'waiting', 'picked', 'stock', 'market', 'following', 'tepid', 'gain', 'realized', 'third', 'quarter', 'tumultuous', 'start', 'fourth', 'Thankfully', 'strategist', 'Goldman', 'Sachs', 'done', 'legwork', 'identifying', 'sto', '906', 'char']),\n",
              "       list(['Growth', 'US', 'economy', 'vast', 'service', 'sector', 'slowed', 'sharply', 'September', 'lowest', 'point', 'three', 'year', 'suggesting', 'Trump', 'administration', 'trade', 'conflict', 'rising', 'uncertainty', 'weakening', 'bulk', 'economy', 'Institute', 'Supply', '3274', 'char']),\n",
              "       list(['ZURICHHONG', 'KONG', 'Reuters', 'announcement', 'Julius', 'Baer', 'week', 'hired', 'five', 'senior', 'banker', 'Credit', 'Suisse', 'underscore', 'challenge', 'facing', 'Chief', 'Executive', 'Tidjane', 'Thiam', 'seek', 'reassure', 'staff', 'investor', 'wake', 'spying', '2880', 'char'])],\n",
              "      dtype=object)"
            ]
          },
          "metadata": {},
          "execution_count": 36
        }
      ]
    }
  ]
}