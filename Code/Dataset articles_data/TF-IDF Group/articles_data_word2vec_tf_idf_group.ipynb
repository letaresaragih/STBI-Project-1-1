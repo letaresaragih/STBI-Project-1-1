{
  "nbformat": 4,
  "nbformat_minor": 0,
  "metadata": {
    "colab": {
      "name": "articles_data_word2vec_tf-idf group.ipynb",
      "provenance": [],
      "collapsed_sections": []
    },
    "kernelspec": {
      "name": "python3",
      "display_name": "Python 3"
    },
    "language_info": {
      "name": "python"
    }
  },
  "cells": [
    {
      "cell_type": "markdown",
      "source": [
        "# Dataset 1: articles_dataset.csv"
      ],
      "metadata": {
        "id": "UpPhv0GBqx2S"
      }
    },
    {
      "cell_type": "markdown",
      "source": [
        "#### a. Import required libraries"
      ],
      "metadata": {
        "id": "kQcsadeGriB2"
      }
    },
    {
      "cell_type": "code",
      "source": [
        "from google.colab import drive\n",
        "drive.mount('/content/drive')"
      ],
      "metadata": {
        "colab": {
          "base_uri": "https://localhost:8080/"
        },
        "id": "bsrHkHRjr5Ll",
        "outputId": "28c988d4-e460-4f43-c463-1ca911bf11b1"
      },
      "execution_count": null,
      "outputs": [
        {
          "output_type": "stream",
          "name": "stdout",
          "text": [
            "Drive already mounted at /content/drive; to attempt to forcibly remount, call drive.mount(\"/content/drive\", force_remount=True).\n"
          ]
        }
      ]
    },
    {
      "cell_type": "code",
      "execution_count": null,
      "metadata": {
        "id": "gqjmz1z0qpp1",
        "colab": {
          "base_uri": "https://localhost:8080/"
        },
        "outputId": "753da8ba-7362-4f81-eb0c-d684b978cecb"
      },
      "outputs": [
        {
          "output_type": "stream",
          "name": "stdout",
          "text": [
            "[nltk_data] Downloading package stopwords to /root/nltk_data...\n",
            "[nltk_data]   Package stopwords is already up-to-date!\n"
          ]
        }
      ],
      "source": [
        "#import library\n",
        "import os\n",
        "import random\n",
        "import re\n",
        "import string\n",
        "\n",
        "import nltk\n",
        "import numpy as np\n",
        "import pandas as pd\n",
        "\n",
        "from gensim.models import Word2Vec\n",
        "\n",
        "from nltk import word_tokenize\n",
        "from nltk.corpus import stopwords\n",
        "from collections import Counter\n",
        "\n",
        "from ds_utils.clustering import vectorize, mbkmeans_clusters\n",
        "from sklearn.cluster import MiniBatchKMeans\n",
        "from sklearn.metrics import silhouette_samples, silhouette_score\n",
        "\n",
        "nltk.download(\"stopwords\")\n",
        "\n",
        "SEED = 42\n",
        "random.seed(SEED)\n",
        "os.environ[\"PYTHONHASHSEED\"] = str(SEED)\n",
        "np.random.seed(SEED)"
      ]
    },
    {
      "cell_type": "markdown",
      "source": [
        "#### b. Data Preprocessing"
      ],
      "metadata": {
        "id": "FnDV6FweRaBe"
      }
    },
    {
      "cell_type": "code",
      "source": [
        "import pandas as pd\n",
        "df = pd.read_csv(\"./drive/MyDrive/STBI/Proyek/Dataset/articles_data.csv\")\n",
        "df.head()"
      ],
      "metadata": {
        "id": "GpFt4Bi8soHi",
        "colab": {
          "base_uri": "https://localhost:8080/",
          "height": 618
        },
        "outputId": "6b9708b4-6986-4cf8-dddc-d92f09ba8e42"
      },
      "execution_count": null,
      "outputs": [
        {
          "output_type": "execute_result",
          "data": {
            "text/plain": [
              "   Unnamed: 0           source_id         source_name              author  \\\n",
              "0           0             reuters             Reuters   Reuters Editorial   \n",
              "1           1     the-irish-times     The Irish Times  Eoin Burke-Kennedy   \n",
              "2           2     the-irish-times     The Irish Times   Deirdre McQuillan   \n",
              "3           3  al-jazeera-english  Al Jazeera English          Al Jazeera   \n",
              "4           4            bbc-news            BBC News            BBC News   \n",
              "\n",
              "                                               title  \\\n",
              "0  NTSB says Autopilot engaged in 2018 California...   \n",
              "1       Unemployment falls to post-crash low of 5.2%   \n",
              "2  Louise Kennedy AW2019: Long coats, sparkling t...   \n",
              "3  North Korean footballer Han joins Italian gian...   \n",
              "4  UK government lawyer says proroguing parliamen...   \n",
              "\n",
              "                                         description  \\\n",
              "0  The National Transportation Safety Board said ...   \n",
              "1  Latest monthly figures reflect continued growt...   \n",
              "2  Autumn-winter collection features designer’s g...   \n",
              "3  Han is the first North Korean player in the Se...   \n",
              "4  The UK government's lawyer, David Johnston arg...   \n",
              "\n",
              "                                                 url  \\\n",
              "0  https://www.reuters.com/article/us-tesla-crash...   \n",
              "1  https://www.irishtimes.com/business/economy/un...   \n",
              "2  https://www.irishtimes.com/\\t\\t\\t\\t\\t\\t\\t/life...   \n",
              "3  https://www.aljazeera.com/news/2019/09/north-k...   \n",
              "4  https://www.bbc.co.uk/news/av/uk-scotland-4956...   \n",
              "\n",
              "                                        url_to_image          published_at  \\\n",
              "0  https://s4.reutersmedia.net/resources/r/?m=02&...  2019-09-03T16:22:20Z   \n",
              "1  https://www.irishtimes.com/image-creator/?id=1...  2019-09-03T10:32:28Z   \n",
              "2  https://www.irishtimes.com/image-creator/?id=1...  2019-09-03T14:40:00Z   \n",
              "3  https://www.aljazeera.com/mritems/Images/2019/...  2019-09-03T17:25:39Z   \n",
              "4  https://ichef.bbci.co.uk/news/1024/branded_new...  2019-09-03T14:39:21Z   \n",
              "\n",
              "                                             content  top_article  \\\n",
              "0  WASHINGTON (Reuters) - The National Transporta...          0.0   \n",
              "1  The States jobless rate fell to 5.2 per cent l...          0.0   \n",
              "2  Louise Kennedy is showing off her autumn-winte...          1.0   \n",
              "3  Han Kwang Song, the first North Korean footbal...          0.0   \n",
              "4                                                NaN          0.0   \n",
              "\n",
              "   engagement_reaction_count  engagement_comment_count  \\\n",
              "0                        0.0                       0.0   \n",
              "1                        6.0                      10.0   \n",
              "2                        NaN                       NaN   \n",
              "3                        0.0                       0.0   \n",
              "4                        0.0                       0.0   \n",
              "\n",
              "   engagement_share_count  engagement_comment_plugin_count  \n",
              "0                  2528.0                              0.0  \n",
              "1                     2.0                              0.0  \n",
              "2                     NaN                              NaN  \n",
              "3                     7.0                              0.0  \n",
              "4                     0.0                              0.0  "
            ],
            "text/html": [
              "\n",
              "  <div id=\"df-a0f11482-df04-4be3-8da2-8f5bc75ea83c\">\n",
              "    <div class=\"colab-df-container\">\n",
              "      <div>\n",
              "<style scoped>\n",
              "    .dataframe tbody tr th:only-of-type {\n",
              "        vertical-align: middle;\n",
              "    }\n",
              "\n",
              "    .dataframe tbody tr th {\n",
              "        vertical-align: top;\n",
              "    }\n",
              "\n",
              "    .dataframe thead th {\n",
              "        text-align: right;\n",
              "    }\n",
              "</style>\n",
              "<table border=\"1\" class=\"dataframe\">\n",
              "  <thead>\n",
              "    <tr style=\"text-align: right;\">\n",
              "      <th></th>\n",
              "      <th>Unnamed: 0</th>\n",
              "      <th>source_id</th>\n",
              "      <th>source_name</th>\n",
              "      <th>author</th>\n",
              "      <th>title</th>\n",
              "      <th>description</th>\n",
              "      <th>url</th>\n",
              "      <th>url_to_image</th>\n",
              "      <th>published_at</th>\n",
              "      <th>content</th>\n",
              "      <th>top_article</th>\n",
              "      <th>engagement_reaction_count</th>\n",
              "      <th>engagement_comment_count</th>\n",
              "      <th>engagement_share_count</th>\n",
              "      <th>engagement_comment_plugin_count</th>\n",
              "    </tr>\n",
              "  </thead>\n",
              "  <tbody>\n",
              "    <tr>\n",
              "      <th>0</th>\n",
              "      <td>0</td>\n",
              "      <td>reuters</td>\n",
              "      <td>Reuters</td>\n",
              "      <td>Reuters Editorial</td>\n",
              "      <td>NTSB says Autopilot engaged in 2018 California...</td>\n",
              "      <td>The National Transportation Safety Board said ...</td>\n",
              "      <td>https://www.reuters.com/article/us-tesla-crash...</td>\n",
              "      <td>https://s4.reutersmedia.net/resources/r/?m=02&amp;...</td>\n",
              "      <td>2019-09-03T16:22:20Z</td>\n",
              "      <td>WASHINGTON (Reuters) - The National Transporta...</td>\n",
              "      <td>0.0</td>\n",
              "      <td>0.0</td>\n",
              "      <td>0.0</td>\n",
              "      <td>2528.0</td>\n",
              "      <td>0.0</td>\n",
              "    </tr>\n",
              "    <tr>\n",
              "      <th>1</th>\n",
              "      <td>1</td>\n",
              "      <td>the-irish-times</td>\n",
              "      <td>The Irish Times</td>\n",
              "      <td>Eoin Burke-Kennedy</td>\n",
              "      <td>Unemployment falls to post-crash low of 5.2%</td>\n",
              "      <td>Latest monthly figures reflect continued growt...</td>\n",
              "      <td>https://www.irishtimes.com/business/economy/un...</td>\n",
              "      <td>https://www.irishtimes.com/image-creator/?id=1...</td>\n",
              "      <td>2019-09-03T10:32:28Z</td>\n",
              "      <td>The States jobless rate fell to 5.2 per cent l...</td>\n",
              "      <td>0.0</td>\n",
              "      <td>6.0</td>\n",
              "      <td>10.0</td>\n",
              "      <td>2.0</td>\n",
              "      <td>0.0</td>\n",
              "    </tr>\n",
              "    <tr>\n",
              "      <th>2</th>\n",
              "      <td>2</td>\n",
              "      <td>the-irish-times</td>\n",
              "      <td>The Irish Times</td>\n",
              "      <td>Deirdre McQuillan</td>\n",
              "      <td>Louise Kennedy AW2019: Long coats, sparkling t...</td>\n",
              "      <td>Autumn-winter collection features designer’s g...</td>\n",
              "      <td>https://www.irishtimes.com/\\t\\t\\t\\t\\t\\t\\t/life...</td>\n",
              "      <td>https://www.irishtimes.com/image-creator/?id=1...</td>\n",
              "      <td>2019-09-03T14:40:00Z</td>\n",
              "      <td>Louise Kennedy is showing off her autumn-winte...</td>\n",
              "      <td>1.0</td>\n",
              "      <td>NaN</td>\n",
              "      <td>NaN</td>\n",
              "      <td>NaN</td>\n",
              "      <td>NaN</td>\n",
              "    </tr>\n",
              "    <tr>\n",
              "      <th>3</th>\n",
              "      <td>3</td>\n",
              "      <td>al-jazeera-english</td>\n",
              "      <td>Al Jazeera English</td>\n",
              "      <td>Al Jazeera</td>\n",
              "      <td>North Korean footballer Han joins Italian gian...</td>\n",
              "      <td>Han is the first North Korean player in the Se...</td>\n",
              "      <td>https://www.aljazeera.com/news/2019/09/north-k...</td>\n",
              "      <td>https://www.aljazeera.com/mritems/Images/2019/...</td>\n",
              "      <td>2019-09-03T17:25:39Z</td>\n",
              "      <td>Han Kwang Song, the first North Korean footbal...</td>\n",
              "      <td>0.0</td>\n",
              "      <td>0.0</td>\n",
              "      <td>0.0</td>\n",
              "      <td>7.0</td>\n",
              "      <td>0.0</td>\n",
              "    </tr>\n",
              "    <tr>\n",
              "      <th>4</th>\n",
              "      <td>4</td>\n",
              "      <td>bbc-news</td>\n",
              "      <td>BBC News</td>\n",
              "      <td>BBC News</td>\n",
              "      <td>UK government lawyer says proroguing parliamen...</td>\n",
              "      <td>The UK government's lawyer, David Johnston arg...</td>\n",
              "      <td>https://www.bbc.co.uk/news/av/uk-scotland-4956...</td>\n",
              "      <td>https://ichef.bbci.co.uk/news/1024/branded_new...</td>\n",
              "      <td>2019-09-03T14:39:21Z</td>\n",
              "      <td>NaN</td>\n",
              "      <td>0.0</td>\n",
              "      <td>0.0</td>\n",
              "      <td>0.0</td>\n",
              "      <td>0.0</td>\n",
              "      <td>0.0</td>\n",
              "    </tr>\n",
              "  </tbody>\n",
              "</table>\n",
              "</div>\n",
              "      <button class=\"colab-df-convert\" onclick=\"convertToInteractive('df-a0f11482-df04-4be3-8da2-8f5bc75ea83c')\"\n",
              "              title=\"Convert this dataframe to an interactive table.\"\n",
              "              style=\"display:none;\">\n",
              "        \n",
              "  <svg xmlns=\"http://www.w3.org/2000/svg\" height=\"24px\"viewBox=\"0 0 24 24\"\n",
              "       width=\"24px\">\n",
              "    <path d=\"M0 0h24v24H0V0z\" fill=\"none\"/>\n",
              "    <path d=\"M18.56 5.44l.94 2.06.94-2.06 2.06-.94-2.06-.94-.94-2.06-.94 2.06-2.06.94zm-11 1L8.5 8.5l.94-2.06 2.06-.94-2.06-.94L8.5 2.5l-.94 2.06-2.06.94zm10 10l.94 2.06.94-2.06 2.06-.94-2.06-.94-.94-2.06-.94 2.06-2.06.94z\"/><path d=\"M17.41 7.96l-1.37-1.37c-.4-.4-.92-.59-1.43-.59-.52 0-1.04.2-1.43.59L10.3 9.45l-7.72 7.72c-.78.78-.78 2.05 0 2.83L4 21.41c.39.39.9.59 1.41.59.51 0 1.02-.2 1.41-.59l7.78-7.78 2.81-2.81c.8-.78.8-2.07 0-2.86zM5.41 20L4 18.59l7.72-7.72 1.47 1.35L5.41 20z\"/>\n",
              "  </svg>\n",
              "      </button>\n",
              "      \n",
              "  <style>\n",
              "    .colab-df-container {\n",
              "      display:flex;\n",
              "      flex-wrap:wrap;\n",
              "      gap: 12px;\n",
              "    }\n",
              "\n",
              "    .colab-df-convert {\n",
              "      background-color: #E8F0FE;\n",
              "      border: none;\n",
              "      border-radius: 50%;\n",
              "      cursor: pointer;\n",
              "      display: none;\n",
              "      fill: #1967D2;\n",
              "      height: 32px;\n",
              "      padding: 0 0 0 0;\n",
              "      width: 32px;\n",
              "    }\n",
              "\n",
              "    .colab-df-convert:hover {\n",
              "      background-color: #E2EBFA;\n",
              "      box-shadow: 0px 1px 2px rgba(60, 64, 67, 0.3), 0px 1px 3px 1px rgba(60, 64, 67, 0.15);\n",
              "      fill: #174EA6;\n",
              "    }\n",
              "\n",
              "    [theme=dark] .colab-df-convert {\n",
              "      background-color: #3B4455;\n",
              "      fill: #D2E3FC;\n",
              "    }\n",
              "\n",
              "    [theme=dark] .colab-df-convert:hover {\n",
              "      background-color: #434B5C;\n",
              "      box-shadow: 0px 1px 3px 1px rgba(0, 0, 0, 0.15);\n",
              "      filter: drop-shadow(0px 1px 2px rgba(0, 0, 0, 0.3));\n",
              "      fill: #FFFFFF;\n",
              "    }\n",
              "  </style>\n",
              "\n",
              "      <script>\n",
              "        const buttonEl =\n",
              "          document.querySelector('#df-a0f11482-df04-4be3-8da2-8f5bc75ea83c button.colab-df-convert');\n",
              "        buttonEl.style.display =\n",
              "          google.colab.kernel.accessAllowed ? 'block' : 'none';\n",
              "\n",
              "        async function convertToInteractive(key) {\n",
              "          const element = document.querySelector('#df-a0f11482-df04-4be3-8da2-8f5bc75ea83c');\n",
              "          const dataTable =\n",
              "            await google.colab.kernel.invokeFunction('convertToInteractive',\n",
              "                                                     [key], {});\n",
              "          if (!dataTable) return;\n",
              "\n",
              "          const docLinkHtml = 'Like what you see? Visit the ' +\n",
              "            '<a target=\"_blank\" href=https://colab.research.google.com/notebooks/data_table.ipynb>data table notebook</a>'\n",
              "            + ' to learn more about interactive tables.';\n",
              "          element.innerHTML = '';\n",
              "          dataTable['output_type'] = 'display_data';\n",
              "          await google.colab.output.renderOutput(dataTable, element);\n",
              "          const docLink = document.createElement('div');\n",
              "          docLink.innerHTML = docLinkHtml;\n",
              "          element.appendChild(docLink);\n",
              "        }\n",
              "      </script>\n",
              "    </div>\n",
              "  </div>\n",
              "  "
            ]
          },
          "metadata": {},
          "execution_count": 80
        }
      ]
    },
    {
      "cell_type": "code",
      "source": [
        "df.shape"
      ],
      "metadata": {
        "id": "64UyFB7gtIlv",
        "colab": {
          "base_uri": "https://localhost:8080/"
        },
        "outputId": "6ff29b91-1881-4770-d412-50cbc6ffce2f"
      },
      "execution_count": null,
      "outputs": [
        {
          "output_type": "execute_result",
          "data": {
            "text/plain": [
              "(10437, 15)"
            ]
          },
          "metadata": {},
          "execution_count": 81
        }
      ]
    },
    {
      "cell_type": "code",
      "source": [
        "df.info()"
      ],
      "metadata": {
        "id": "sxFndGzPtd1Z",
        "colab": {
          "base_uri": "https://localhost:8080/"
        },
        "outputId": "6e8d1cc8-3fdc-4094-eeed-b38bdf8b341a"
      },
      "execution_count": null,
      "outputs": [
        {
          "output_type": "stream",
          "name": "stdout",
          "text": [
            "<class 'pandas.core.frame.DataFrame'>\n",
            "RangeIndex: 10437 entries, 0 to 10436\n",
            "Data columns (total 15 columns):\n",
            " #   Column                           Non-Null Count  Dtype  \n",
            "---  ------                           --------------  -----  \n",
            " 0   Unnamed: 0                       10437 non-null  int64  \n",
            " 1   source_id                        10437 non-null  object \n",
            " 2   source_name                      10437 non-null  object \n",
            " 3   author                           9417 non-null   object \n",
            " 4   title                            10435 non-null  object \n",
            " 5   description                      10413 non-null  object \n",
            " 6   url                              10436 non-null  object \n",
            " 7   url_to_image                     9781 non-null   object \n",
            " 8   published_at                     10436 non-null  object \n",
            " 9   content                          9145 non-null   object \n",
            " 10  top_article                      10435 non-null  float64\n",
            " 11  engagement_reaction_count        10319 non-null  float64\n",
            " 12  engagement_comment_count         10319 non-null  float64\n",
            " 13  engagement_share_count           10319 non-null  float64\n",
            " 14  engagement_comment_plugin_count  10319 non-null  float64\n",
            "dtypes: float64(5), int64(1), object(9)\n",
            "memory usage: 1.2+ MB\n"
          ]
        }
      ]
    },
    {
      "cell_type": "code",
      "source": [
        "# drop atribut \n",
        "df = df.drop(['Unnamed: 0', 'source_id', 'title', 'description', 'source_name', 'author', 'url', 'url_to_image', 'published_at', 'top_article', 'engagement_reaction_count', 'engagement_comment_count', 'engagement_share_count', 'engagement_comment_plugin_count'], axis = 1)"
      ],
      "metadata": {
        "id": "xnSb1zRtw9gB"
      },
      "execution_count": null,
      "outputs": []
    },
    {
      "cell_type": "code",
      "source": [
        "df.info()"
      ],
      "metadata": {
        "id": "0-XSaGz4Nvb4",
        "colab": {
          "base_uri": "https://localhost:8080/"
        },
        "outputId": "5a74214f-2dc6-46b2-a7a3-d084dd739d62"
      },
      "execution_count": null,
      "outputs": [
        {
          "output_type": "stream",
          "name": "stdout",
          "text": [
            "<class 'pandas.core.frame.DataFrame'>\n",
            "RangeIndex: 10437 entries, 0 to 10436\n",
            "Data columns (total 1 columns):\n",
            " #   Column   Non-Null Count  Dtype \n",
            "---  ------   --------------  ----- \n",
            " 0   content  9145 non-null   object\n",
            "dtypes: object(1)\n",
            "memory usage: 81.7+ KB\n"
          ]
        }
      ]
    },
    {
      "cell_type": "code",
      "source": [
        "# Checking duplicate value\n",
        "print(str(df.describe(include=object)))"
      ],
      "metadata": {
        "id": "BnmNZeKKtlwJ",
        "colab": {
          "base_uri": "https://localhost:8080/"
        },
        "outputId": "cad35935-81ae-4d45-d09d-e527238e0d76"
      },
      "execution_count": null,
      "outputs": [
        {
          "output_type": "stream",
          "name": "stdout",
          "text": [
            "                                                  content\n",
            "count                                                9145\n",
            "unique                                               8385\n",
            "top     Chat with us in Facebook Messenger. Find out w...\n",
            "freq                                                  125\n"
          ]
        }
      ]
    },
    {
      "cell_type": "code",
      "source": [
        "# remove duplicate value (text) in contenct attribute\n",
        "df.drop_duplicates(subset=['content'], keep='last')"
      ],
      "metadata": {
        "id": "kt7hJOH6wPVF",
        "colab": {
          "base_uri": "https://localhost:8080/",
          "height": 424
        },
        "outputId": "7d05eff7-36c6-4af3-ad5e-95a705394a61"
      },
      "execution_count": null,
      "outputs": [
        {
          "output_type": "execute_result",
          "data": {
            "text/plain": [
              "                                                 content\n",
              "1      The States jobless rate fell to 5.2 per cent l...\n",
              "2      Louise Kennedy is showing off her autumn-winte...\n",
              "3      Han Kwang Song, the first North Korean footbal...\n",
              "5      \"This Tender Land: a Novel\" (Atria Books), by ...\n",
              "6      LONDON (Reuters) - The European Union is waiti...\n",
              "...                                                  ...\n",
              "10429  For his latest installation of the SCAR Projec...\n",
              "10431  There are numerous bargains waiting to be pick...\n",
              "10432  Growth in the U.S. economys vast services sect...\n",
              "10433  ZURICH/HONG KONG (Reuters) - The announcement ...\n",
              "10436                                                NaN\n",
              "\n",
              "[8386 rows x 1 columns]"
            ],
            "text/html": [
              "\n",
              "  <div id=\"df-7c31fc9c-a000-4bb7-9bc1-c0c09571c532\">\n",
              "    <div class=\"colab-df-container\">\n",
              "      <div>\n",
              "<style scoped>\n",
              "    .dataframe tbody tr th:only-of-type {\n",
              "        vertical-align: middle;\n",
              "    }\n",
              "\n",
              "    .dataframe tbody tr th {\n",
              "        vertical-align: top;\n",
              "    }\n",
              "\n",
              "    .dataframe thead th {\n",
              "        text-align: right;\n",
              "    }\n",
              "</style>\n",
              "<table border=\"1\" class=\"dataframe\">\n",
              "  <thead>\n",
              "    <tr style=\"text-align: right;\">\n",
              "      <th></th>\n",
              "      <th>content</th>\n",
              "    </tr>\n",
              "  </thead>\n",
              "  <tbody>\n",
              "    <tr>\n",
              "      <th>1</th>\n",
              "      <td>The States jobless rate fell to 5.2 per cent l...</td>\n",
              "    </tr>\n",
              "    <tr>\n",
              "      <th>2</th>\n",
              "      <td>Louise Kennedy is showing off her autumn-winte...</td>\n",
              "    </tr>\n",
              "    <tr>\n",
              "      <th>3</th>\n",
              "      <td>Han Kwang Song, the first North Korean footbal...</td>\n",
              "    </tr>\n",
              "    <tr>\n",
              "      <th>5</th>\n",
              "      <td>\"This Tender Land: a Novel\" (Atria Books), by ...</td>\n",
              "    </tr>\n",
              "    <tr>\n",
              "      <th>6</th>\n",
              "      <td>LONDON (Reuters) - The European Union is waiti...</td>\n",
              "    </tr>\n",
              "    <tr>\n",
              "      <th>...</th>\n",
              "      <td>...</td>\n",
              "    </tr>\n",
              "    <tr>\n",
              "      <th>10429</th>\n",
              "      <td>For his latest installation of the SCAR Projec...</td>\n",
              "    </tr>\n",
              "    <tr>\n",
              "      <th>10431</th>\n",
              "      <td>There are numerous bargains waiting to be pick...</td>\n",
              "    </tr>\n",
              "    <tr>\n",
              "      <th>10432</th>\n",
              "      <td>Growth in the U.S. economys vast services sect...</td>\n",
              "    </tr>\n",
              "    <tr>\n",
              "      <th>10433</th>\n",
              "      <td>ZURICH/HONG KONG (Reuters) - The announcement ...</td>\n",
              "    </tr>\n",
              "    <tr>\n",
              "      <th>10436</th>\n",
              "      <td>NaN</td>\n",
              "    </tr>\n",
              "  </tbody>\n",
              "</table>\n",
              "<p>8386 rows × 1 columns</p>\n",
              "</div>\n",
              "      <button class=\"colab-df-convert\" onclick=\"convertToInteractive('df-7c31fc9c-a000-4bb7-9bc1-c0c09571c532')\"\n",
              "              title=\"Convert this dataframe to an interactive table.\"\n",
              "              style=\"display:none;\">\n",
              "        \n",
              "  <svg xmlns=\"http://www.w3.org/2000/svg\" height=\"24px\"viewBox=\"0 0 24 24\"\n",
              "       width=\"24px\">\n",
              "    <path d=\"M0 0h24v24H0V0z\" fill=\"none\"/>\n",
              "    <path d=\"M18.56 5.44l.94 2.06.94-2.06 2.06-.94-2.06-.94-.94-2.06-.94 2.06-2.06.94zm-11 1L8.5 8.5l.94-2.06 2.06-.94-2.06-.94L8.5 2.5l-.94 2.06-2.06.94zm10 10l.94 2.06.94-2.06 2.06-.94-2.06-.94-.94-2.06-.94 2.06-2.06.94z\"/><path d=\"M17.41 7.96l-1.37-1.37c-.4-.4-.92-.59-1.43-.59-.52 0-1.04.2-1.43.59L10.3 9.45l-7.72 7.72c-.78.78-.78 2.05 0 2.83L4 21.41c.39.39.9.59 1.41.59.51 0 1.02-.2 1.41-.59l7.78-7.78 2.81-2.81c.8-.78.8-2.07 0-2.86zM5.41 20L4 18.59l7.72-7.72 1.47 1.35L5.41 20z\"/>\n",
              "  </svg>\n",
              "      </button>\n",
              "      \n",
              "  <style>\n",
              "    .colab-df-container {\n",
              "      display:flex;\n",
              "      flex-wrap:wrap;\n",
              "      gap: 12px;\n",
              "    }\n",
              "\n",
              "    .colab-df-convert {\n",
              "      background-color: #E8F0FE;\n",
              "      border: none;\n",
              "      border-radius: 50%;\n",
              "      cursor: pointer;\n",
              "      display: none;\n",
              "      fill: #1967D2;\n",
              "      height: 32px;\n",
              "      padding: 0 0 0 0;\n",
              "      width: 32px;\n",
              "    }\n",
              "\n",
              "    .colab-df-convert:hover {\n",
              "      background-color: #E2EBFA;\n",
              "      box-shadow: 0px 1px 2px rgba(60, 64, 67, 0.3), 0px 1px 3px 1px rgba(60, 64, 67, 0.15);\n",
              "      fill: #174EA6;\n",
              "    }\n",
              "\n",
              "    [theme=dark] .colab-df-convert {\n",
              "      background-color: #3B4455;\n",
              "      fill: #D2E3FC;\n",
              "    }\n",
              "\n",
              "    [theme=dark] .colab-df-convert:hover {\n",
              "      background-color: #434B5C;\n",
              "      box-shadow: 0px 1px 3px 1px rgba(0, 0, 0, 0.15);\n",
              "      filter: drop-shadow(0px 1px 2px rgba(0, 0, 0, 0.3));\n",
              "      fill: #FFFFFF;\n",
              "    }\n",
              "  </style>\n",
              "\n",
              "      <script>\n",
              "        const buttonEl =\n",
              "          document.querySelector('#df-7c31fc9c-a000-4bb7-9bc1-c0c09571c532 button.colab-df-convert');\n",
              "        buttonEl.style.display =\n",
              "          google.colab.kernel.accessAllowed ? 'block' : 'none';\n",
              "\n",
              "        async function convertToInteractive(key) {\n",
              "          const element = document.querySelector('#df-7c31fc9c-a000-4bb7-9bc1-c0c09571c532');\n",
              "          const dataTable =\n",
              "            await google.colab.kernel.invokeFunction('convertToInteractive',\n",
              "                                                     [key], {});\n",
              "          if (!dataTable) return;\n",
              "\n",
              "          const docLinkHtml = 'Like what you see? Visit the ' +\n",
              "            '<a target=\"_blank\" href=https://colab.research.google.com/notebooks/data_table.ipynb>data table notebook</a>'\n",
              "            + ' to learn more about interactive tables.';\n",
              "          element.innerHTML = '';\n",
              "          dataTable['output_type'] = 'display_data';\n",
              "          await google.colab.output.renderOutput(dataTable, element);\n",
              "          const docLink = document.createElement('div');\n",
              "          docLink.innerHTML = docLinkHtml;\n",
              "          element.appendChild(docLink);\n",
              "        }\n",
              "      </script>\n",
              "    </div>\n",
              "  </div>\n",
              "  "
            ]
          },
          "metadata": {},
          "execution_count": 86
        }
      ]
    },
    {
      "cell_type": "code",
      "source": [
        "# Checking null value in attribute \n",
        "df.isna().sum()"
      ],
      "metadata": {
        "id": "hu5MLaFZTEqa",
        "colab": {
          "base_uri": "https://localhost:8080/"
        },
        "outputId": "c07b70f9-8a7f-4064-903a-59d0b4d5ff14"
      },
      "execution_count": null,
      "outputs": [
        {
          "output_type": "execute_result",
          "data": {
            "text/plain": [
              "content    1292\n",
              "dtype: int64"
            ]
          },
          "metadata": {},
          "execution_count": 87
        }
      ]
    },
    {
      "cell_type": "code",
      "source": [
        "#drop null value\n",
        "df = df.dropna()\n"
      ],
      "metadata": {
        "id": "21Ps9_eyUASb"
      },
      "execution_count": null,
      "outputs": []
    },
    {
      "cell_type": "code",
      "source": [
        "df"
      ],
      "metadata": {
        "id": "zZn0x5ZkW2H5",
        "colab": {
          "base_uri": "https://localhost:8080/",
          "height": 424
        },
        "outputId": "60bd67e6-40e8-4b9c-bd6d-ddc68562f778"
      },
      "execution_count": null,
      "outputs": [
        {
          "output_type": "execute_result",
          "data": {
            "text/plain": [
              "                                                 content\n",
              "0      WASHINGTON (Reuters) - The National Transporta...\n",
              "1      The States jobless rate fell to 5.2 per cent l...\n",
              "2      Louise Kennedy is showing off her autumn-winte...\n",
              "3      Han Kwang Song, the first North Korean footbal...\n",
              "5      \"This Tender Land: a Novel\" (Atria Books), by ...\n",
              "...                                                  ...\n",
              "10428  Just last week, the Disney Magic arrived to Ne...\n",
              "10429  For his latest installation of the SCAR Projec...\n",
              "10431  There are numerous bargains waiting to be pick...\n",
              "10432  Growth in the U.S. economys vast services sect...\n",
              "10433  ZURICH/HONG KONG (Reuters) - The announcement ...\n",
              "\n",
              "[9145 rows x 1 columns]"
            ],
            "text/html": [
              "\n",
              "  <div id=\"df-d4d7d130-35b6-4439-9920-4119ed8ebaa0\">\n",
              "    <div class=\"colab-df-container\">\n",
              "      <div>\n",
              "<style scoped>\n",
              "    .dataframe tbody tr th:only-of-type {\n",
              "        vertical-align: middle;\n",
              "    }\n",
              "\n",
              "    .dataframe tbody tr th {\n",
              "        vertical-align: top;\n",
              "    }\n",
              "\n",
              "    .dataframe thead th {\n",
              "        text-align: right;\n",
              "    }\n",
              "</style>\n",
              "<table border=\"1\" class=\"dataframe\">\n",
              "  <thead>\n",
              "    <tr style=\"text-align: right;\">\n",
              "      <th></th>\n",
              "      <th>content</th>\n",
              "    </tr>\n",
              "  </thead>\n",
              "  <tbody>\n",
              "    <tr>\n",
              "      <th>0</th>\n",
              "      <td>WASHINGTON (Reuters) - The National Transporta...</td>\n",
              "    </tr>\n",
              "    <tr>\n",
              "      <th>1</th>\n",
              "      <td>The States jobless rate fell to 5.2 per cent l...</td>\n",
              "    </tr>\n",
              "    <tr>\n",
              "      <th>2</th>\n",
              "      <td>Louise Kennedy is showing off her autumn-winte...</td>\n",
              "    </tr>\n",
              "    <tr>\n",
              "      <th>3</th>\n",
              "      <td>Han Kwang Song, the first North Korean footbal...</td>\n",
              "    </tr>\n",
              "    <tr>\n",
              "      <th>5</th>\n",
              "      <td>\"This Tender Land: a Novel\" (Atria Books), by ...</td>\n",
              "    </tr>\n",
              "    <tr>\n",
              "      <th>...</th>\n",
              "      <td>...</td>\n",
              "    </tr>\n",
              "    <tr>\n",
              "      <th>10428</th>\n",
              "      <td>Just last week, the Disney Magic arrived to Ne...</td>\n",
              "    </tr>\n",
              "    <tr>\n",
              "      <th>10429</th>\n",
              "      <td>For his latest installation of the SCAR Projec...</td>\n",
              "    </tr>\n",
              "    <tr>\n",
              "      <th>10431</th>\n",
              "      <td>There are numerous bargains waiting to be pick...</td>\n",
              "    </tr>\n",
              "    <tr>\n",
              "      <th>10432</th>\n",
              "      <td>Growth in the U.S. economys vast services sect...</td>\n",
              "    </tr>\n",
              "    <tr>\n",
              "      <th>10433</th>\n",
              "      <td>ZURICH/HONG KONG (Reuters) - The announcement ...</td>\n",
              "    </tr>\n",
              "  </tbody>\n",
              "</table>\n",
              "<p>9145 rows × 1 columns</p>\n",
              "</div>\n",
              "      <button class=\"colab-df-convert\" onclick=\"convertToInteractive('df-d4d7d130-35b6-4439-9920-4119ed8ebaa0')\"\n",
              "              title=\"Convert this dataframe to an interactive table.\"\n",
              "              style=\"display:none;\">\n",
              "        \n",
              "  <svg xmlns=\"http://www.w3.org/2000/svg\" height=\"24px\"viewBox=\"0 0 24 24\"\n",
              "       width=\"24px\">\n",
              "    <path d=\"M0 0h24v24H0V0z\" fill=\"none\"/>\n",
              "    <path d=\"M18.56 5.44l.94 2.06.94-2.06 2.06-.94-2.06-.94-.94-2.06-.94 2.06-2.06.94zm-11 1L8.5 8.5l.94-2.06 2.06-.94-2.06-.94L8.5 2.5l-.94 2.06-2.06.94zm10 10l.94 2.06.94-2.06 2.06-.94-2.06-.94-.94-2.06-.94 2.06-2.06.94z\"/><path d=\"M17.41 7.96l-1.37-1.37c-.4-.4-.92-.59-1.43-.59-.52 0-1.04.2-1.43.59L10.3 9.45l-7.72 7.72c-.78.78-.78 2.05 0 2.83L4 21.41c.39.39.9.59 1.41.59.51 0 1.02-.2 1.41-.59l7.78-7.78 2.81-2.81c.8-.78.8-2.07 0-2.86zM5.41 20L4 18.59l7.72-7.72 1.47 1.35L5.41 20z\"/>\n",
              "  </svg>\n",
              "      </button>\n",
              "      \n",
              "  <style>\n",
              "    .colab-df-container {\n",
              "      display:flex;\n",
              "      flex-wrap:wrap;\n",
              "      gap: 12px;\n",
              "    }\n",
              "\n",
              "    .colab-df-convert {\n",
              "      background-color: #E8F0FE;\n",
              "      border: none;\n",
              "      border-radius: 50%;\n",
              "      cursor: pointer;\n",
              "      display: none;\n",
              "      fill: #1967D2;\n",
              "      height: 32px;\n",
              "      padding: 0 0 0 0;\n",
              "      width: 32px;\n",
              "    }\n",
              "\n",
              "    .colab-df-convert:hover {\n",
              "      background-color: #E2EBFA;\n",
              "      box-shadow: 0px 1px 2px rgba(60, 64, 67, 0.3), 0px 1px 3px 1px rgba(60, 64, 67, 0.15);\n",
              "      fill: #174EA6;\n",
              "    }\n",
              "\n",
              "    [theme=dark] .colab-df-convert {\n",
              "      background-color: #3B4455;\n",
              "      fill: #D2E3FC;\n",
              "    }\n",
              "\n",
              "    [theme=dark] .colab-df-convert:hover {\n",
              "      background-color: #434B5C;\n",
              "      box-shadow: 0px 1px 3px 1px rgba(0, 0, 0, 0.15);\n",
              "      filter: drop-shadow(0px 1px 2px rgba(0, 0, 0, 0.3));\n",
              "      fill: #FFFFFF;\n",
              "    }\n",
              "  </style>\n",
              "\n",
              "      <script>\n",
              "        const buttonEl =\n",
              "          document.querySelector('#df-d4d7d130-35b6-4439-9920-4119ed8ebaa0 button.colab-df-convert');\n",
              "        buttonEl.style.display =\n",
              "          google.colab.kernel.accessAllowed ? 'block' : 'none';\n",
              "\n",
              "        async function convertToInteractive(key) {\n",
              "          const element = document.querySelector('#df-d4d7d130-35b6-4439-9920-4119ed8ebaa0');\n",
              "          const dataTable =\n",
              "            await google.colab.kernel.invokeFunction('convertToInteractive',\n",
              "                                                     [key], {});\n",
              "          if (!dataTable) return;\n",
              "\n",
              "          const docLinkHtml = 'Like what you see? Visit the ' +\n",
              "            '<a target=\"_blank\" href=https://colab.research.google.com/notebooks/data_table.ipynb>data table notebook</a>'\n",
              "            + ' to learn more about interactive tables.';\n",
              "          element.innerHTML = '';\n",
              "          dataTable['output_type'] = 'display_data';\n",
              "          await google.colab.output.renderOutput(dataTable, element);\n",
              "          const docLink = document.createElement('div');\n",
              "          docLink.innerHTML = docLinkHtml;\n",
              "          element.appendChild(docLink);\n",
              "        }\n",
              "      </script>\n",
              "    </div>\n",
              "  </div>\n",
              "  "
            ]
          },
          "metadata": {},
          "execution_count": 89
        }
      ]
    },
    {
      "cell_type": "code",
      "source": [
        "#saving the result\n",
        "df.to_csv(\"./drive/MyDrive/STBI/Proyek/Dataset/clean_articles_data_word2vec.csv\", index=True)"
      ],
      "metadata": {
        "id": "WPJzR5wzaGvU"
      },
      "execution_count": null,
      "outputs": []
    },
    {
      "cell_type": "markdown",
      "source": [
        "#### C. Text Preprocessing"
      ],
      "metadata": {
        "id": "BGtlEWGoyWLl"
      }
    },
    {
      "cell_type": "code",
      "source": [
        "# remove punctuation\n",
        "def punctuation(txt):\n",
        "  return re.sub(r\"[^\\w\\s]\",\"\", str(txt))\n",
        "\n",
        "df = df['content'].apply(punctuation)"
      ],
      "metadata": {
        "id": "PVdttlEmyi_i"
      },
      "execution_count": null,
      "outputs": []
    },
    {
      "cell_type": "code",
      "source": [
        "import nltk\n",
        "nltk.download('punkt')\n",
        "# tokenization\n",
        "def word_tokenize_wrapper(text):\n",
        "  return word_tokenize(text)\n",
        "df = df.apply(word_tokenize_wrapper)"
      ],
      "metadata": {
        "id": "eJ1E4xQdyp3B",
        "colab": {
          "base_uri": "https://localhost:8080/"
        },
        "outputId": "235e8a1f-bb25-4401-9cd4-aac01b6902ef"
      },
      "execution_count": null,
      "outputs": [
        {
          "output_type": "stream",
          "name": "stdout",
          "text": [
            "[nltk_data] Downloading package punkt to /root/nltk_data...\n",
            "[nltk_data]   Package punkt is already up-to-date!\n"
          ]
        }
      ]
    },
    {
      "cell_type": "code",
      "source": [
        "#stopword removal\n",
        "import nltk\n",
        "nltk.download('stopwords')\n",
        "from nltk.corpus import stopwords\n",
        "sw_nltk = stopwords.words('english')\n",
        "print(sw_nltk)\n",
        "def stopword(text):\n",
        "  words = [word for word in text if word.lower() not in sw_nltk]\n",
        "  return words\n",
        "df = df.apply(stopword)"
      ],
      "metadata": {
        "id": "EnFNni5My0XL",
        "colab": {
          "base_uri": "https://localhost:8080/"
        },
        "outputId": "8432df5e-ce02-4786-f99d-d9e8ce760684"
      },
      "execution_count": null,
      "outputs": [
        {
          "output_type": "stream",
          "name": "stdout",
          "text": [
            "[nltk_data] Downloading package stopwords to /root/nltk_data...\n",
            "[nltk_data]   Package stopwords is already up-to-date!\n",
            "['i', 'me', 'my', 'myself', 'we', 'our', 'ours', 'ourselves', 'you', \"you're\", \"you've\", \"you'll\", \"you'd\", 'your', 'yours', 'yourself', 'yourselves', 'he', 'him', 'his', 'himself', 'she', \"she's\", 'her', 'hers', 'herself', 'it', \"it's\", 'its', 'itself', 'they', 'them', 'their', 'theirs', 'themselves', 'what', 'which', 'who', 'whom', 'this', 'that', \"that'll\", 'these', 'those', 'am', 'is', 'are', 'was', 'were', 'be', 'been', 'being', 'have', 'has', 'had', 'having', 'do', 'does', 'did', 'doing', 'a', 'an', 'the', 'and', 'but', 'if', 'or', 'because', 'as', 'until', 'while', 'of', 'at', 'by', 'for', 'with', 'about', 'against', 'between', 'into', 'through', 'during', 'before', 'after', 'above', 'below', 'to', 'from', 'up', 'down', 'in', 'out', 'on', 'off', 'over', 'under', 'again', 'further', 'then', 'once', 'here', 'there', 'when', 'where', 'why', 'how', 'all', 'any', 'both', 'each', 'few', 'more', 'most', 'other', 'some', 'such', 'no', 'nor', 'not', 'only', 'own', 'same', 'so', 'than', 'too', 'very', 's', 't', 'can', 'will', 'just', 'don', \"don't\", 'should', \"should've\", 'now', 'd', 'll', 'm', 'o', 're', 've', 'y', 'ain', 'aren', \"aren't\", 'couldn', \"couldn't\", 'didn', \"didn't\", 'doesn', \"doesn't\", 'hadn', \"hadn't\", 'hasn', \"hasn't\", 'haven', \"haven't\", 'isn', \"isn't\", 'ma', 'mightn', \"mightn't\", 'mustn', \"mustn't\", 'needn', \"needn't\", 'shan', \"shan't\", 'shouldn', \"shouldn't\", 'wasn', \"wasn't\", 'weren', \"weren't\", 'won', \"won't\", 'wouldn', \"wouldn't\"]\n"
          ]
        }
      ]
    },
    {
      "cell_type": "code",
      "source": [
        "#normalization\n",
        "nltk.download('wordnet')\n",
        "from nltk.stem import WordNetLemmatizer\n",
        "def lemma(text):\n",
        "  lemmatizer = WordNetLemmatizer()\n",
        "  Output= [lemmatizer.lemmatize(words_sent) for words_sent in text]\n",
        "  return Output\n",
        "df = df.apply(lemma)"
      ],
      "metadata": {
        "id": "sgZICs3-0W12",
        "colab": {
          "base_uri": "https://localhost:8080/"
        },
        "outputId": "5efb9569-3b30-431b-8328-302108259747"
      },
      "execution_count": null,
      "outputs": [
        {
          "output_type": "stream",
          "name": "stdout",
          "text": [
            "[nltk_data] Downloading package wordnet to /root/nltk_data...\n",
            "[nltk_data]   Package wordnet is already up-to-date!\n"
          ]
        }
      ]
    },
    {
      "cell_type": "code",
      "source": [
        "#saving the rusult\n",
        "df.to_csv(\"./drive/MyDrive/STBI/Proyek/Dataset/prepro_articles_data_word2vec.csv\", index=True)"
      ],
      "metadata": {
        "id": "xSqS6MtuzKOH"
      },
      "execution_count": null,
      "outputs": []
    },
    {
      "cell_type": "markdown",
      "source": [
        "#### D. Word Embeding Using Word2Vec"
      ],
      "metadata": {
        "id": "3TmuYmfwusfC"
      }
    },
    {
      "cell_type": "code",
      "source": [
        "# vocabulary\n",
        "docs = df.values\n",
        "tokenized_docs = df.values\n",
        "vocab = Counter()\n",
        "for token in tokenized_docs:\n",
        "    vocab.update(token)\n",
        "\n",
        "len(vocab)"
      ],
      "metadata": {
        "id": "g2WLwryDuwUA",
        "colab": {
          "base_uri": "https://localhost:8080/"
        },
        "outputId": "49af0e5a-eadc-4eac-edb7-856ad98fe792"
      },
      "execution_count": null,
      "outputs": [
        {
          "output_type": "execute_result",
          "data": {
            "text/plain": [
              "35843"
            ]
          },
          "metadata": {},
          "execution_count": 96
        }
      ]
    },
    {
      "cell_type": "code",
      "source": [
        "vocab.most_common(10)"
      ],
      "metadata": {
        "id": "T0RVRon30-N1",
        "colab": {
          "base_uri": "https://localhost:8080/"
        },
        "outputId": "bf707870-7f12-4e1c-d4d4-9a4c7c9a3358"
      },
      "execution_count": null,
      "outputs": [
        {
          "output_type": "execute_result",
          "data": {
            "text/plain": [
              "[('char', 8773),\n",
              " ('said', 1712),\n",
              " ('Reuters', 1309),\n",
              " ('year', 1099),\n",
              " ('US', 1090),\n",
              " ('new', 824),\n",
              " ('say', 734),\n",
              " ('Thursday', 711),\n",
              " ('President', 702),\n",
              " ('one', 646)]"
            ]
          },
          "metadata": {},
          "execution_count": 97
        }
      ]
    },
    {
      "cell_type": "code",
      "source": [
        "#word embedding with word2vec\n",
        "model1 = Word2Vec(sentences=tokenized_docs, size = 100, workers=1, seed=42)"
      ],
      "metadata": {
        "id": "EO5RHSxk1CAH"
      },
      "execution_count": null,
      "outputs": []
    },
    {
      "cell_type": "code",
      "source": [
        "# test model\n",
        "model1.wv.most_similar(\"moon\", topn=5)"
      ],
      "metadata": {
        "id": "zHRa7YKo1GcD",
        "colab": {
          "base_uri": "https://localhost:8080/"
        },
        "outputId": "1a685a0e-cb06-4ae0-e201-ff476b141a31"
      },
      "execution_count": null,
      "outputs": [
        {
          "output_type": "execute_result",
          "data": {
            "text/plain": [
              "[('different', 0.9997158050537109),\n",
              " ('making', 0.999668538570404),\n",
              " ('usually', 0.9996521472930908),\n",
              " ('sometimes', 0.9995822906494141),\n",
              " ('problem', 0.9995766878128052)]"
            ]
          },
          "metadata": {},
          "execution_count": 99
        }
      ]
    },
    {
      "cell_type": "code",
      "source": [
        "vectorized_docs = vectorize(df, model = model1, strategy=\"average\")\n",
        "len(vectorized_docs), len(vectorized_docs[0])"
      ],
      "metadata": {
        "id": "jKqDi_4iPlI4",
        "colab": {
          "base_uri": "https://localhost:8080/"
        },
        "outputId": "dea05c4d-4990-4f4b-b0c9-323b5ed1384e"
      },
      "execution_count": null,
      "outputs": [
        {
          "output_type": "execute_result",
          "data": {
            "text/plain": [
              "(9145, 100)"
            ]
          },
          "metadata": {},
          "execution_count": 100
        }
      ]
    },
    {
      "cell_type": "markdown",
      "source": [
        "#### E. Generate and analyze clusters"
      ],
      "metadata": {
        "id": "tZFS7PGTFjt3"
      }
    },
    {
      "cell_type": "code",
      "source": [
        "def mbkmeans_clusters(X, k, mb=500, print_silhouette_values=False):\n",
        "    \"\"\"Generate clusters.\n",
        "\n",
        "    Args:\n",
        "        X: Matrix of features.\n",
        "        k: Number of clusters.\n",
        "        mb: Size of mini-batches. Defaults to 500.\n",
        "        print_silhouette_values: Print silhouette values per cluster.\n",
        "\n",
        "    Returns:\n",
        "        Trained clustering model and labels based on X.\n",
        "    \"\"\"\n",
        "    km = MiniBatchKMeans(n_clusters=k, batch_size=mb).fit(X)\n",
        "    print(f\"For n_clusters = {k}\")\n",
        "    print(f\"Silhouette coefficient: {silhouette_score(X, km.labels_):0.2f}\")\n",
        "    print(f\"Inertia:{km.inertia_}\")\n",
        "\n",
        "    if print_silhouette_values:\n",
        "        sample_silhouette_values = silhouette_samples(X, km.labels_)\n",
        "        print(f\"Silhouette values:\")\n",
        "        silhouette_values = []\n",
        "        for i in range(k):\n",
        "            cluster_silhouette_values = sample_silhouette_values[km.labels_ == i]\n",
        "            silhouette_values.append(\n",
        "                (\n",
        "                    i,\n",
        "                    cluster_silhouette_values.shape[0],\n",
        "                    cluster_silhouette_values.mean(),\n",
        "                    cluster_silhouette_values.min(),\n",
        "                    cluster_silhouette_values.max(),\n",
        "                )\n",
        "            )\n",
        "        silhouette_values = sorted(\n",
        "            silhouette_values, key=lambda tup: tup[2], reverse=True\n",
        "        )\n",
        "        for s in silhouette_values:\n",
        "            print(\n",
        "                f\"    Cluster {s[0]}: Size:{s[1]} | Avg:{s[2]:.2f} | Min:{s[3]:.2f} | Max: {s[4]:.2f}\"\n",
        "            )\n",
        "    return km, km.labels_"
      ],
      "metadata": {
        "id": "8828rE3kFlTG"
      },
      "execution_count": null,
      "outputs": []
    },
    {
      "cell_type": "code",
      "source": [
        "clustering, cluster_labels = mbkmeans_clusters(X=vectorized_docs, k=50, print_silhouette_values=True)\n",
        "df_clusters = pd.DataFrame({\n",
        "    \"text\": docs,\n",
        "    \"tokens\": [\" \".join(text) for text in tokenized_docs],\n",
        "    \"cluster\": cluster_labels\n",
        "})"
      ],
      "metadata": {
        "id": "JDFTPxSmFpGT",
        "colab": {
          "base_uri": "https://localhost:8080/"
        },
        "outputId": "82f72fd9-d5cf-4ea4-8b1c-300d959e87c5"
      },
      "execution_count": null,
      "outputs": [
        {
          "output_type": "stream",
          "name": "stdout",
          "text": [
            "For n_clusters = 50\n",
            "Silhouette coefficient: 0.18\n",
            "Inertia:392.68604791796577\n",
            "Silhouette values:\n",
            "    Cluster 2: Size:125 | Avg:1.00 | Min:1.00 | Max: 1.00\n",
            "    Cluster 4: Size:89 | Avg:1.00 | Min:1.00 | Max: 1.00\n",
            "    Cluster 41: Size:27 | Avg:0.89 | Min:0.06 | Max: 0.95\n",
            "    Cluster 7: Size:239 | Avg:0.31 | Min:-0.06 | Max: 0.54\n",
            "    Cluster 49: Size:19 | Avg:0.30 | Min:-0.04 | Max: 0.55\n",
            "    Cluster 30: Size:26 | Avg:0.30 | Min:-0.14 | Max: 0.51\n",
            "    Cluster 26: Size:70 | Avg:0.30 | Min:0.02 | Max: 0.49\n",
            "    Cluster 8: Size:167 | Avg:0.30 | Min:-0.05 | Max: 0.53\n",
            "    Cluster 3: Size:79 | Avg:0.25 | Min:-0.00 | Max: 0.46\n",
            "    Cluster 44: Size:99 | Avg:0.25 | Min:-0.02 | Max: 0.44\n",
            "    Cluster 24: Size:523 | Avg:0.24 | Min:-0.07 | Max: 0.50\n",
            "    Cluster 34: Size:116 | Avg:0.24 | Min:-0.03 | Max: 0.46\n",
            "    Cluster 13: Size:143 | Avg:0.23 | Min:-0.06 | Max: 0.48\n",
            "    Cluster 42: Size:106 | Avg:0.22 | Min:-0.08 | Max: 0.47\n",
            "    Cluster 46: Size:102 | Avg:0.21 | Min:-0.06 | Max: 0.48\n",
            "    Cluster 36: Size:25 | Avg:0.21 | Min:-0.08 | Max: 0.43\n",
            "    Cluster 11: Size:624 | Avg:0.20 | Min:-0.03 | Max: 0.42\n",
            "    Cluster 15: Size:186 | Avg:0.20 | Min:-0.06 | Max: 0.48\n",
            "    Cluster 18: Size:57 | Avg:0.19 | Min:0.02 | Max: 0.40\n",
            "    Cluster 29: Size:108 | Avg:0.18 | Min:-0.05 | Max: 0.41\n",
            "    Cluster 40: Size:72 | Avg:0.18 | Min:-0.07 | Max: 0.42\n",
            "    Cluster 32: Size:117 | Avg:0.18 | Min:-0.07 | Max: 0.45\n",
            "    Cluster 1: Size:380 | Avg:0.17 | Min:0.01 | Max: 0.39\n",
            "    Cluster 22: Size:158 | Avg:0.16 | Min:-0.18 | Max: 0.44\n",
            "    Cluster 9: Size:449 | Avg:0.16 | Min:-0.01 | Max: 0.41\n",
            "    Cluster 28: Size:102 | Avg:0.16 | Min:-0.11 | Max: 0.42\n",
            "    Cluster 0: Size:150 | Avg:0.16 | Min:-0.24 | Max: 0.42\n",
            "    Cluster 48: Size:281 | Avg:0.15 | Min:-0.09 | Max: 0.43\n",
            "    Cluster 47: Size:499 | Avg:0.15 | Min:-0.06 | Max: 0.38\n",
            "    Cluster 21: Size:255 | Avg:0.15 | Min:-0.10 | Max: 0.41\n",
            "    Cluster 31: Size:169 | Avg:0.15 | Min:-0.04 | Max: 0.40\n",
            "    Cluster 6: Size:136 | Avg:0.14 | Min:-0.12 | Max: 0.36\n",
            "    Cluster 17: Size:127 | Avg:0.13 | Min:-0.22 | Max: 0.42\n",
            "    Cluster 33: Size:90 | Avg:0.13 | Min:-0.12 | Max: 0.36\n",
            "    Cluster 38: Size:75 | Avg:0.13 | Min:-0.06 | Max: 0.36\n",
            "    Cluster 39: Size:351 | Avg:0.13 | Min:-0.12 | Max: 0.36\n",
            "    Cluster 14: Size:388 | Avg:0.12 | Min:-0.16 | Max: 0.40\n",
            "    Cluster 16: Size:286 | Avg:0.11 | Min:-0.12 | Max: 0.31\n",
            "    Cluster 5: Size:230 | Avg:0.11 | Min:-0.09 | Max: 0.30\n",
            "    Cluster 20: Size:144 | Avg:0.10 | Min:-0.14 | Max: 0.35\n",
            "    Cluster 10: Size:146 | Avg:0.10 | Min:-0.05 | Max: 0.35\n",
            "    Cluster 27: Size:263 | Avg:0.10 | Min:-0.09 | Max: 0.34\n",
            "    Cluster 25: Size:383 | Avg:0.09 | Min:-0.09 | Max: 0.30\n",
            "    Cluster 37: Size:378 | Avg:0.07 | Min:-0.12 | Max: 0.29\n",
            "    Cluster 43: Size:53 | Avg:0.07 | Min:-0.13 | Max: 0.33\n",
            "    Cluster 23: Size:66 | Avg:0.06 | Min:-0.18 | Max: 0.26\n",
            "    Cluster 19: Size:120 | Avg:0.06 | Min:-0.17 | Max: 0.33\n",
            "    Cluster 35: Size:63 | Avg:0.05 | Min:-0.22 | Max: 0.25\n",
            "    Cluster 45: Size:177 | Avg:0.04 | Min:-0.21 | Max: 0.28\n",
            "    Cluster 12: Size:107 | Avg:0.02 | Min:-0.22 | Max: 0.25\n"
          ]
        }
      ]
    },
    {
      "cell_type": "code",
      "source": [
        "print(\"Top terms per cluster (based on centroids):\")\n",
        "for i in range(50):\n",
        "    tokens_per_cluster = \"\"\n",
        "    most_representative = model1.wv.most_similar(positive=[clustering.cluster_centers_[i]], topn=5)\n",
        "    for t in most_representative:\n",
        "        tokens_per_cluster += f\"{t[0]} \"\n",
        "    print(f\"Cluster {i}: {tokens_per_cluster}\")"
      ],
      "metadata": {
        "id": "3WpVI-PHGcLD",
        "colab": {
          "base_uri": "https://localhost:8080/"
        },
        "outputId": "692c63e4-3513-403b-871c-11b9b2146dcb"
      },
      "execution_count": null,
      "outputs": [
        {
          "output_type": "stream",
          "name": "stdout",
          "text": [
            "Top terms per cluster (based on centroids):\n",
            "Cluster 0: market important there best platform \n",
            "Cluster 1: experience list never loan test \n",
            "Cluster 2: happening whats Messenger Find Chat \n",
            "Cluster 3: Mike Zelensky Secretary adviser Jimmy \n",
            "Cluster 4: minute BBC Service World five \n",
            "Cluster 5: Twitter intelligence document response policy \n",
            "Cluster 6: High Craig Adrian Sir shoe \n",
            "Cluster 7: land airport course patient holiday \n",
            "Cluster 8: PC Photo Police Media Consumers \n",
            "Cluster 9: list experience reason loan decided \n",
            "Cluster 10: due Walmart strike reduce cut \n",
            "Cluster 11: loss 18 place count deadly \n",
            "Cluster 12: 24 le 18 straight deadly \n",
            "Cluster 13: president investigate Washington Mike Bolton \n",
            "Cluster 14: rule panel approved term hold \n",
            "Cluster 15: whistleblower security Bush Ukraines frontrunner \n",
            "Cluster 16: concern panel aimed approved close \n",
            "Cluster 17: quarterfinal squad qualifying win Japan \n",
            "Cluster 18: City Mellon Yankees Mets bourse \n",
            "Cluster 19: senior Senate Taliban military Tehran \n",
            "Cluster 20: 15 seven past hour second \n",
            "Cluster 21: Taliban border Russias Tehran Senate \n",
            "Cluster 22: 5 finish qualifying match seventh \n",
            "Cluster 23: PC Photo Police Media Samuel \n",
            "Cluster 24: experience loan never value list \n",
            "Cluster 25: visit rule hold panel likely \n",
            "Cluster 26: inquiry impeachment Pences Erdogan JeanClaude \n",
            "Cluster 27: almost hour seven store second \n",
            "Cluster 28: committee Russian tweet Commission call \n",
            "Cluster 29: Netanyahus Agriculture Mohammad proposal Israels \n",
            "Cluster 30: Putin impeachment Biden inquiry Juncker \n",
            "Cluster 31: hospital family capital Texas militant \n",
            "Cluster 32: delay party EU Frances warned \n",
            "Cluster 33: Gov Stock bourse Aug Exchange \n",
            "Cluster 34: PC Photo Police Media Consumers \n",
            "Cluster 35: biggest oldest dating little notorious \n",
            "Cluster 36: Jo Airways Cameron Tory Liberal \n",
            "Cluster 37: previous Walmart reduce coach cut \n",
            "Cluster 38: whistleblower Ukraine Afghanistan tweeted frontrunner \n",
            "Cluster 39: le deadly coming count weekend \n",
            "Cluster 40: Mellon bourse Governor Stock CNN \n",
            "Cluster 41: international medium financial OECD Interfax \n",
            "Cluster 42: little biggest dating oldest notorious \n",
            "Cluster 43: bourse Mellon stripped Giants Saints \n",
            "Cluster 44: defy Agriculture Finance Trudeau Israeli \n",
            "Cluster 45: previous citing agreement planned Walmart \n",
            "Cluster 46: Israels proposal Netanyahus MPs Conservative \n",
            "Cluster 47: began staff previous automaker medical \n",
            "Cluster 48: place loss 18 1 reason \n",
            "Cluster 49: Chrissy Hassan Volodymyr Nixon Abdel \n"
          ]
        }
      ]
    },
    {
      "cell_type": "code",
      "source": [
        "test_cluster = 48\n",
        "most_representative_docs = np.argsort(\n",
        "    np.linalg.norm(vectorized_docs - clustering.cluster_centers_[test_cluster], axis=1)\n",
        ")\n",
        "for d in most_representative_docs[:20]:\n",
        "    print(docs[d])\n",
        "    print(\"-------------\")"
      ],
      "metadata": {
        "id": "n9XnjdtNHGoY",
        "colab": {
          "base_uri": "https://localhost:8080/"
        },
        "outputId": "70623350-a149-4b5b-d64c-ddcb7834d96d"
      },
      "execution_count": null,
      "outputs": [
        {
          "output_type": "stream",
          "name": "stdout",
          "text": [
            "['Getty', 'Images', 'ulliWeWork', 'could', 'slash', 'valuation', 'seek', 'public', 'company', '20', 'billion', 'even', 'postpone', 'IPO', 'according', 'Wall', 'Street', 'JournalliliThe', 'proposed', 'cut', 'come', 'day', 'Journal', 'reported', 'shared', 'officespace', 'co', '2162', 'char']\n",
            "-------------\n",
            "['Friday', 'afternoon', 'drove', 'back', 'toward', 'Burgaw', 'town', '4000', '30', 'mile', 'coast', 'check', 'new', 'damage', 'home', 'around', 'house', 'still', 'boarded', 'covered', 'sagging', 'scab', 'blue', 'emergency', 'tarp', 'still', 'win', '1057', 'char']\n",
            "-------------\n",
            "['CNNTributes', 'paid', 'Australian', 'sporting', 'great', 'Danny', 'Frawley', 'former', 'Australian', 'Football', 'League', 'AFL', 'player', 'died', 'singlevehicle', 'crash', 'Monday', 'one', 'day', '56th', 'birthday', 'father', 'three', 'went', 'work', 'sport', '2135', 'char']\n",
            "-------------\n",
            "['see', 'directing', 'movie', 'near', 'futureTee', 'Florida', 'Im', 'thinking', 'getting', 'closer', 'closer', 'last', 'film', 'television', 'show', 'weve', 'produced', 'Ive', 'starred', 'worked', 'help', 'every', 'aspect', 'set', 'Everybod', '1616', 'char']\n",
            "-------------\n",
            "['past', 'week', 'weve', 'able', 'show', 'favorite', 'food', 'drink', 'Disney', 'Springs', 'including', 'Marketplace', 'Landing', 'Town', 'Center', 'Although', 'video', 'series', 'coming', 'end', 'still', 'West', 'Side', 'share', '660', 'char']\n",
            "-------------\n",
            "['Apple', 'begun', 'recruiting', 'several', 'hundred', 'worker', 'Siri', 'grading', 'team', 'Ireland', 'week', 'company', 'paused', 'programme', 'leading', 'layoff', 'contract', 'worker', 'Cork', 'facility', 'company', 'confirmed', 'figure', 'new', 'role', '1453', 'char']\n",
            "-------------\n",
            "['Gardaí', 'deploying', 'extra', 'staff', 'assault', 'hot', 'spot', 'around', 'country', 'amid', 'concern', 'emerging', 'street', 'attack', 'culture', 'Irish', 'Times', 'report', 'recently', 'revealed', 'number', 'assault', 'public', 'place', 'reached', 'record', 'high', 'recent', 'month', 'assa', '402', 'char']\n",
            "-------------\n",
            "['Mohanbir', 'Sawhney', 'professor', 'Kellogg', 'School', 'Management', 'Northwestern', 'University', 'opinion', 'expressed', 'commentary', 'Apples', 'expected', 'launch', 'Tuesday', 'iPhone', '11', 'iPhone', '11', 'Pro', 'iPhone', '11', 'Pro', 'Max', 'mark', 'continuation', '3541', 'char']\n",
            "-------------\n",
            "['early', '2020', 'Apple', 'expected', 'launch', 'new', 'version', 'least', 'expensive', 'iPhone', 'ever', 'iPhone', 'SE', 'original', 'iPhone', 'SE', 'launched', '2016', 'cost', '400', 'iPhone', 'SE', '2', 'could', 'come', 'around', 'similar', 'price', 'point', 'well', '700', 'price', '1000', 'char']\n",
            "-------------\n",
            "['Tech', 'giant', 'Google', 'say', 'paid', 'one', 'billion', 'dollar', 'French', 'authority', 'settle', 'yearslong', 'dispute', 'allegation', 'tax', 'fraud', 'Paris', 'court', 'Thursday', 'approved', 'fine', '500', 'million', 'euro', '551', 'million', 'digital', 'giant', 'charge', '461', 'char']\n",
            "-------------\n",
            "['CNNA', 'major', 'UN', 'report', 'released', 'week', 'show', 'sea', 'level', 'rising', 'around', 'globe', 'mean', 'people', 'live', 'coastal', 'city', 'face', 'real', 'risk', 'losing', 'property', 'case', 'live', 'rising', 'ocean', 'intense', 'storm', '8498', 'char']\n",
            "-------------\n",
            "['Irish', 'male', 'model', 'TV', 'presenter', 'set', 'appear', 'court', 'Dublin', 'Friday', 'morning', 'face', 'money', 'laundering', 'charge', 'relating', '11', 'million', 'cash', 'man', '30', 'investigation', 'Garda', 'past', 'four', 'yea', '1021', 'char']\n",
            "-------------\n",
            "['old', 'dear', 'ring', 'sounding', 'panicked', 'Ross', 'go', 'Im', 'worried', 'look', 'time', 'phone', 'like', 'half', 'nine', 'morning', 'Im', 'Theres', 'hip', 'flask', 'full', 'emergency', 'gin', 'glove', 'box', 'suck', 'OBriens', 'open', 'goe', '5574', 'char']\n",
            "-------------\n",
            "['Apple', 'announced', 'new', 'Apple', 'Watch', 'Series', '5', 'Tuesday', 'company', 'annual', 'September', 'event', 'Steve', 'Jobs', 'Theater', 'Cupertino', 'California', 'Apple', 'Watch', 'Series', '5', 'support', 'alwayson', 'display', 'first', 'time', 'feature', 'wasnt', 'available', '1083', 'char']\n",
            "-------------\n",
            "['Burys', '125year', 'membership', 'EFL', 'came', 'end', 'expulsion', '27', 'August', 'English', 'Football', 'League', 'discus', 'Burys', 'future', 'member', 'club', 'following', 'effort', 'reinstate', 'Shakers', 'League', 'Two', 'next', 'season', 'Bury', 'expelled', 'fro', '2611', 'char']\n",
            "-------------\n",
            "['Theres', 'denying', 'summer', 'mean', 'back', 'school', 'time', 'many', 'Kara', 'Stoltenbergs', 'high', 'school', 'English', 'student', 'Norman', 'Oklahoma', 'put', 'summer', 'job', 'behind', 'focus', 'school', 'much', 'whole', '8032', 'char']\n",
            "-------------\n",
            "['lot', 'folk', 'living', 'silo', 'Ms', 'Gore', 'said', 'May', 'July', 'pride', 'event', 'taking', 'place', 'across', 'country', 'least', '14', 'LGBTQ', 'people', 'killed', 'according', 'report', 'AntiViolence', 'Project', 'Seven', 'victim', 'black', 'tr', '1134', 'char']\n",
            "-------------\n",
            "['Two', 'Irish', 'men', 'held', 'policy', 'custody', 'Tokyo', 'suspicion', 'possessing', 'using', 'heroin', 'face', 'lengthy', 'detention', 'deportation', 'convicted', 'men', 'arrested', 'night', 'September', '26th', 'staff', 'karaoke', 'bar', 'Japanese', 'capital', '2140', 'char']\n",
            "-------------\n",
            "['Apple', 'Inc', 'AAPL', '052', 'looking', 'make', 'splash', 'Hollywood', 'bringing', 'featurelength', 'film', 'theater', 'releasing', 'streaming', 'TV', 'service', 'according', 'people', 'familiar', 'plan', 'company', 'made', 'overture', 'cinema', 'chain', '5744', 'char']\n",
            "-------------\n",
            "['Apple', 'Inc', 'AAPL', '096', 'looking', 'make', 'splash', 'Hollywood', 'bringing', 'featurelength', 'film', 'theater', 'releasing', 'streaming', 'TV', 'service', 'according', 'people', 'familiar', 'plan', 'company', 'made', 'overture', 'cinema', 'chain', '6428', 'char']\n",
            "-------------\n"
          ]
        }
      ]
    },
    {
      "cell_type": "code",
      "source": [
        "docs"
      ],
      "metadata": {
        "colab": {
          "base_uri": "https://localhost:8080/"
        },
        "id": "eYqyr2rDjCRE",
        "outputId": "5ff7f8c2-2230-46c1-ea32-a27e7b2cbd10"
      },
      "execution_count": null,
      "outputs": [
        {
          "output_type": "execute_result",
          "data": {
            "text/plain": [
              "array([list(['WASHINGTON', 'Reuters', 'National', 'Transportation', 'Safety', 'Board', 'said', 'Tuesday', 'Tesla', 'Model', 'Autopilot', 'mode', 'struck', 'fire', 'truck', 'Culver', 'City', 'California', 'one', 'series', 'crash', 'board', 'investigating', 'involving', 'Teslas', 'driver', 'assistance', '478', 'char']),\n",
              "       list(['States', 'jobless', 'rate', 'fell', '52', 'per', 'cent', 'last', 'month', 'according', 'latest', 'official', 'figure', 'higher', 'previously', 'reported', 'account', 'upward', 'revision', 'Central', 'Statistics', 'Office', 'CSO', 'one', 'several', 'last', 'two', 'year', 'Nonethe', '800', 'char']),\n",
              "       list(['Louise', 'Kennedy', 'showing', 'autumnwinter', 'collection', 'Dublin', 'tonight', 'show', 'start', 'glittering', 'new', 'take', 'Black', 'Watch', 'tartan', 'Sixteen', 'model', 'present', '60', 'ensemble', '200', 'guest', 'including', 'designer', 'close', 'frie', '2156', 'char']),\n",
              "       ...,\n",
              "       list(['numerous', 'bargain', 'waiting', 'picked', 'stock', 'market', 'following', 'tepid', 'gain', 'realized', 'third', 'quarter', 'tumultuous', 'start', 'fourth', 'Thankfully', 'strategist', 'Goldman', 'Sachs', 'done', 'legwork', 'identifying', 'sto', '906', 'char']),\n",
              "       list(['Growth', 'US', 'economy', 'vast', 'service', 'sector', 'slowed', 'sharply', 'September', 'lowest', 'point', 'three', 'year', 'suggesting', 'Trump', 'administration', 'trade', 'conflict', 'rising', 'uncertainty', 'weakening', 'bulk', 'economy', 'Institute', 'Supply', '3274', 'char']),\n",
              "       list(['ZURICHHONG', 'KONG', 'Reuters', 'announcement', 'Julius', 'Baer', 'week', 'hired', 'five', 'senior', 'banker', 'Credit', 'Suisse', 'underscore', 'challenge', 'facing', 'Chief', 'Executive', 'Tidjane', 'Thiam', 'seek', 'reassure', 'staff', 'investor', 'wake', 'spying', '2880', 'char'])],\n",
              "      dtype=object)"
            ]
          },
          "metadata": {},
          "execution_count": 111
        }
      ]
    },
    {
      "cell_type": "markdown",
      "source": [
        "#### F. TF-IDF"
      ],
      "metadata": {
        "id": "TMAA3YrKDbU1"
      }
    },
    {
      "cell_type": "code",
      "source": [
        "from sklearn.feature_extraction.text import TfidfVectorizer\n",
        "\n",
        "def tfidf(data):\n",
        "    tfidf = TfidfVectorizer( stop_words='english',use_idf=True)\n",
        "    tfidf_matrix = tfidf.fit_transform(data)\n",
        "    return tfidf_matrix"
      ],
      "metadata": {
        "id": "YGJWjRIWDeOn"
      },
      "execution_count": null,
      "outputs": []
    },
    {
      "cell_type": "code",
      "source": [
        "# Let's create a matrix with tfidf for the column abstract\n",
        "tfidf_matrix = tfidf(most_representative_docs.values.astype('U'))"
      ],
      "metadata": {
        "id": "jcNL_Cm9Dkl4",
        "colab": {
          "base_uri": "https://localhost:8080/",
          "height": 182
        },
        "outputId": "0dfc4a3a-d5ce-4c6a-93d7-37a478acffa9"
      },
      "execution_count": null,
      "outputs": [
        {
          "output_type": "error",
          "ename": "AttributeError",
          "evalue": "ignored",
          "traceback": [
            "\u001b[0;31m---------------------------------------------------------------------------\u001b[0m",
            "\u001b[0;31mAttributeError\u001b[0m                            Traceback (most recent call last)",
            "\u001b[0;32m<ipython-input-106-a637d7a83108>\u001b[0m in \u001b[0;36m<module>\u001b[0;34m()\u001b[0m\n\u001b[1;32m      1\u001b[0m \u001b[0;31m# Let's create a matrix with tfidf for the column abstract\u001b[0m\u001b[0;34m\u001b[0m\u001b[0;34m\u001b[0m\u001b[0;34m\u001b[0m\u001b[0m\n\u001b[0;32m----> 2\u001b[0;31m \u001b[0mtfidf_matrix\u001b[0m \u001b[0;34m=\u001b[0m \u001b[0mtfidf\u001b[0m\u001b[0;34m(\u001b[0m\u001b[0mmost_representative_docs\u001b[0m\u001b[0;34m.\u001b[0m\u001b[0mvalues\u001b[0m\u001b[0;34m.\u001b[0m\u001b[0mastype\u001b[0m\u001b[0;34m(\u001b[0m\u001b[0;34m'U'\u001b[0m\u001b[0;34m)\u001b[0m\u001b[0;34m)\u001b[0m\u001b[0;34m\u001b[0m\u001b[0;34m\u001b[0m\u001b[0m\n\u001b[0m",
            "\u001b[0;31mAttributeError\u001b[0m: 'numpy.ndarray' object has no attribute 'values'"
          ]
        }
      ]
    },
    {
      "cell_type": "code",
      "source": [
        "# in order to explore which documents have more similar respresentaiton, consine simliartiy can be used\n",
        "from sklearn.metrics.pairwise import linear_kernel\n",
        "cosine_similarities = linear_kernel(tfidf_matrix[0:1], tfidf_matrix).flatten()\n",
        "\n",
        "# 10 most related documents indices\n",
        "related_docs_indices = cosine_similarities.argsort()[:-11:-1]\n",
        "print(\"Related Document:\",related_docs_indices)\n",
        "\n",
        "# Cosine Similarties of related documents\n",
        "print(\"Cosine Similarites of related documents\",cosine_similarities[related_docs_indices])"
      ],
      "metadata": {
        "id": "8n-WuEH0F3uB"
      },
      "execution_count": null,
      "outputs": []
    },
    {
      "cell_type": "code",
      "source": [
        "# Let's take a look at two most similar document\n",
        "data.iloc[0]['content']"
      ],
      "metadata": {
        "id": "xixKLt6HGBIk"
      },
      "execution_count": null,
      "outputs": []
    },
    {
      "cell_type": "code",
      "source": [
        "from wordcloud import WordCloud\n",
        "import matplotlib.pyplot as plt\n",
        "wordcloud = WordCloud().generate(data.iloc[0]['content'])\n",
        "plt.imshow(wordcloud, interpolation=\"bilinear\")"
      ],
      "metadata": {
        "id": "PETGgFZXGNn4"
      },
      "execution_count": null,
      "outputs": []
    },
    {
      "cell_type": "code",
      "source": [
        ""
      ],
      "metadata": {
        "id": "ClXkEQALG3y_"
      },
      "execution_count": null,
      "outputs": []
    }
  ]
}