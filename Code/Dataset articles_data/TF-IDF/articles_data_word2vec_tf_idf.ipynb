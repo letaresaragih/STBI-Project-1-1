{
  "nbformat": 4,
  "nbformat_minor": 0,
  "metadata": {
    "colab": {
      "name": "articles_data_word2vec_tf_idf.ipynb",
      "provenance": [],
      "collapsed_sections": []
    },
    "kernelspec": {
      "name": "python3",
      "display_name": "Python 3"
    },
    "language_info": {
      "name": "python"
    }
  },
  "cells": [
    {
      "cell_type": "markdown",
      "source": [
        "# Dataset 1: articles_dataset.csv"
      ],
      "metadata": {
        "id": "UpPhv0GBqx2S"
      }
    },
    {
      "cell_type": "markdown",
      "source": [
        "#### a. Import required libraries"
      ],
      "metadata": {
        "id": "kQcsadeGriB2"
      }
    },
    {
      "cell_type": "code",
      "source": [
        "from google.colab import drive\n",
        "drive.mount('/content/drive')"
      ],
      "metadata": {
        "colab": {
          "base_uri": "https://localhost:8080/"
        },
        "id": "bsrHkHRjr5Ll",
        "outputId": "50adff9c-08f7-4db4-e99e-17127400ffd6"
      },
      "execution_count": null,
      "outputs": [
        {
          "output_type": "stream",
          "name": "stdout",
          "text": [
            "Mounted at /content/drive\n"
          ]
        }
      ]
    },
    {
      "cell_type": "code",
      "execution_count": null,
      "metadata": {
        "id": "gqjmz1z0qpp1",
        "colab": {
          "base_uri": "https://localhost:8080/"
        },
        "outputId": "e4c76243-7859-4ae0-b130-00360de860f1"
      },
      "outputs": [
        {
          "output_type": "stream",
          "name": "stdout",
          "text": [
            "[nltk_data] Downloading package stopwords to /root/nltk_data...\n",
            "[nltk_data]   Unzipping corpora/stopwords.zip.\n"
          ]
        }
      ],
      "source": [
        "#import library\n",
        "import os\n",
        "import random\n",
        "import re\n",
        "import string\n",
        "\n",
        "import nltk\n",
        "import numpy as np\n",
        "import pandas as pd\n",
        "\n",
        "from gensim.models import Word2Vec\n",
        "\n",
        "from nltk import word_tokenize\n",
        "from nltk.corpus import stopwords\n",
        "from collections import Counter\n",
        "\n",
        "nltk.download(\"stopwords\")\n",
        "\n",
        "SEED = 42\n",
        "random.seed(SEED)\n",
        "os.environ[\"PYTHONHASHSEED\"] = str(SEED)\n",
        "np.random.seed(SEED)"
      ]
    },
    {
      "cell_type": "markdown",
      "source": [
        "#### b. Data Preprocessing"
      ],
      "metadata": {
        "id": "FnDV6FweRaBe"
      }
    },
    {
      "cell_type": "code",
      "source": [
        "import pandas as pd\n",
        "df = pd.read_csv(\"./drive/MyDrive/STBI/Proyek/Dataset/articles_data.csv\")\n",
        "df.head()"
      ],
      "metadata": {
        "id": "GpFt4Bi8soHi",
        "colab": {
          "base_uri": "https://localhost:8080/",
          "height": 618
        },
        "outputId": "177a6cfa-38bd-4025-ff8e-7e8682b77430"
      },
      "execution_count": null,
      "outputs": [
        {
          "output_type": "execute_result",
          "data": {
            "text/plain": [
              "   Unnamed: 0           source_id         source_name              author  \\\n",
              "0           0             reuters             Reuters   Reuters Editorial   \n",
              "1           1     the-irish-times     The Irish Times  Eoin Burke-Kennedy   \n",
              "2           2     the-irish-times     The Irish Times   Deirdre McQuillan   \n",
              "3           3  al-jazeera-english  Al Jazeera English          Al Jazeera   \n",
              "4           4            bbc-news            BBC News            BBC News   \n",
              "\n",
              "                                               title  \\\n",
              "0  NTSB says Autopilot engaged in 2018 California...   \n",
              "1       Unemployment falls to post-crash low of 5.2%   \n",
              "2  Louise Kennedy AW2019: Long coats, sparkling t...   \n",
              "3  North Korean footballer Han joins Italian gian...   \n",
              "4  UK government lawyer says proroguing parliamen...   \n",
              "\n",
              "                                         description  \\\n",
              "0  The National Transportation Safety Board said ...   \n",
              "1  Latest monthly figures reflect continued growt...   \n",
              "2  Autumn-winter collection features designer’s g...   \n",
              "3  Han is the first North Korean player in the Se...   \n",
              "4  The UK government's lawyer, David Johnston arg...   \n",
              "\n",
              "                                                 url  \\\n",
              "0  https://www.reuters.com/article/us-tesla-crash...   \n",
              "1  https://www.irishtimes.com/business/economy/un...   \n",
              "2  https://www.irishtimes.com/\\t\\t\\t\\t\\t\\t\\t/life...   \n",
              "3  https://www.aljazeera.com/news/2019/09/north-k...   \n",
              "4  https://www.bbc.co.uk/news/av/uk-scotland-4956...   \n",
              "\n",
              "                                        url_to_image          published_at  \\\n",
              "0  https://s4.reutersmedia.net/resources/r/?m=02&...  2019-09-03T16:22:20Z   \n",
              "1  https://www.irishtimes.com/image-creator/?id=1...  2019-09-03T10:32:28Z   \n",
              "2  https://www.irishtimes.com/image-creator/?id=1...  2019-09-03T14:40:00Z   \n",
              "3  https://www.aljazeera.com/mritems/Images/2019/...  2019-09-03T17:25:39Z   \n",
              "4  https://ichef.bbci.co.uk/news/1024/branded_new...  2019-09-03T14:39:21Z   \n",
              "\n",
              "                                             content  top_article  \\\n",
              "0  WASHINGTON (Reuters) - The National Transporta...          0.0   \n",
              "1  The States jobless rate fell to 5.2 per cent l...          0.0   \n",
              "2  Louise Kennedy is showing off her autumn-winte...          1.0   \n",
              "3  Han Kwang Song, the first North Korean footbal...          0.0   \n",
              "4                                                NaN          0.0   \n",
              "\n",
              "   engagement_reaction_count  engagement_comment_count  \\\n",
              "0                        0.0                       0.0   \n",
              "1                        6.0                      10.0   \n",
              "2                        NaN                       NaN   \n",
              "3                        0.0                       0.0   \n",
              "4                        0.0                       0.0   \n",
              "\n",
              "   engagement_share_count  engagement_comment_plugin_count  \n",
              "0                  2528.0                              0.0  \n",
              "1                     2.0                              0.0  \n",
              "2                     NaN                              NaN  \n",
              "3                     7.0                              0.0  \n",
              "4                     0.0                              0.0  "
            ],
            "text/html": [
              "\n",
              "  <div id=\"df-560bebdd-2216-45ca-83d5-c213d83185be\">\n",
              "    <div class=\"colab-df-container\">\n",
              "      <div>\n",
              "<style scoped>\n",
              "    .dataframe tbody tr th:only-of-type {\n",
              "        vertical-align: middle;\n",
              "    }\n",
              "\n",
              "    .dataframe tbody tr th {\n",
              "        vertical-align: top;\n",
              "    }\n",
              "\n",
              "    .dataframe thead th {\n",
              "        text-align: right;\n",
              "    }\n",
              "</style>\n",
              "<table border=\"1\" class=\"dataframe\">\n",
              "  <thead>\n",
              "    <tr style=\"text-align: right;\">\n",
              "      <th></th>\n",
              "      <th>Unnamed: 0</th>\n",
              "      <th>source_id</th>\n",
              "      <th>source_name</th>\n",
              "      <th>author</th>\n",
              "      <th>title</th>\n",
              "      <th>description</th>\n",
              "      <th>url</th>\n",
              "      <th>url_to_image</th>\n",
              "      <th>published_at</th>\n",
              "      <th>content</th>\n",
              "      <th>top_article</th>\n",
              "      <th>engagement_reaction_count</th>\n",
              "      <th>engagement_comment_count</th>\n",
              "      <th>engagement_share_count</th>\n",
              "      <th>engagement_comment_plugin_count</th>\n",
              "    </tr>\n",
              "  </thead>\n",
              "  <tbody>\n",
              "    <tr>\n",
              "      <th>0</th>\n",
              "      <td>0</td>\n",
              "      <td>reuters</td>\n",
              "      <td>Reuters</td>\n",
              "      <td>Reuters Editorial</td>\n",
              "      <td>NTSB says Autopilot engaged in 2018 California...</td>\n",
              "      <td>The National Transportation Safety Board said ...</td>\n",
              "      <td>https://www.reuters.com/article/us-tesla-crash...</td>\n",
              "      <td>https://s4.reutersmedia.net/resources/r/?m=02&amp;...</td>\n",
              "      <td>2019-09-03T16:22:20Z</td>\n",
              "      <td>WASHINGTON (Reuters) - The National Transporta...</td>\n",
              "      <td>0.0</td>\n",
              "      <td>0.0</td>\n",
              "      <td>0.0</td>\n",
              "      <td>2528.0</td>\n",
              "      <td>0.0</td>\n",
              "    </tr>\n",
              "    <tr>\n",
              "      <th>1</th>\n",
              "      <td>1</td>\n",
              "      <td>the-irish-times</td>\n",
              "      <td>The Irish Times</td>\n",
              "      <td>Eoin Burke-Kennedy</td>\n",
              "      <td>Unemployment falls to post-crash low of 5.2%</td>\n",
              "      <td>Latest monthly figures reflect continued growt...</td>\n",
              "      <td>https://www.irishtimes.com/business/economy/un...</td>\n",
              "      <td>https://www.irishtimes.com/image-creator/?id=1...</td>\n",
              "      <td>2019-09-03T10:32:28Z</td>\n",
              "      <td>The States jobless rate fell to 5.2 per cent l...</td>\n",
              "      <td>0.0</td>\n",
              "      <td>6.0</td>\n",
              "      <td>10.0</td>\n",
              "      <td>2.0</td>\n",
              "      <td>0.0</td>\n",
              "    </tr>\n",
              "    <tr>\n",
              "      <th>2</th>\n",
              "      <td>2</td>\n",
              "      <td>the-irish-times</td>\n",
              "      <td>The Irish Times</td>\n",
              "      <td>Deirdre McQuillan</td>\n",
              "      <td>Louise Kennedy AW2019: Long coats, sparkling t...</td>\n",
              "      <td>Autumn-winter collection features designer’s g...</td>\n",
              "      <td>https://www.irishtimes.com/\\t\\t\\t\\t\\t\\t\\t/life...</td>\n",
              "      <td>https://www.irishtimes.com/image-creator/?id=1...</td>\n",
              "      <td>2019-09-03T14:40:00Z</td>\n",
              "      <td>Louise Kennedy is showing off her autumn-winte...</td>\n",
              "      <td>1.0</td>\n",
              "      <td>NaN</td>\n",
              "      <td>NaN</td>\n",
              "      <td>NaN</td>\n",
              "      <td>NaN</td>\n",
              "    </tr>\n",
              "    <tr>\n",
              "      <th>3</th>\n",
              "      <td>3</td>\n",
              "      <td>al-jazeera-english</td>\n",
              "      <td>Al Jazeera English</td>\n",
              "      <td>Al Jazeera</td>\n",
              "      <td>North Korean footballer Han joins Italian gian...</td>\n",
              "      <td>Han is the first North Korean player in the Se...</td>\n",
              "      <td>https://www.aljazeera.com/news/2019/09/north-k...</td>\n",
              "      <td>https://www.aljazeera.com/mritems/Images/2019/...</td>\n",
              "      <td>2019-09-03T17:25:39Z</td>\n",
              "      <td>Han Kwang Song, the first North Korean footbal...</td>\n",
              "      <td>0.0</td>\n",
              "      <td>0.0</td>\n",
              "      <td>0.0</td>\n",
              "      <td>7.0</td>\n",
              "      <td>0.0</td>\n",
              "    </tr>\n",
              "    <tr>\n",
              "      <th>4</th>\n",
              "      <td>4</td>\n",
              "      <td>bbc-news</td>\n",
              "      <td>BBC News</td>\n",
              "      <td>BBC News</td>\n",
              "      <td>UK government lawyer says proroguing parliamen...</td>\n",
              "      <td>The UK government's lawyer, David Johnston arg...</td>\n",
              "      <td>https://www.bbc.co.uk/news/av/uk-scotland-4956...</td>\n",
              "      <td>https://ichef.bbci.co.uk/news/1024/branded_new...</td>\n",
              "      <td>2019-09-03T14:39:21Z</td>\n",
              "      <td>NaN</td>\n",
              "      <td>0.0</td>\n",
              "      <td>0.0</td>\n",
              "      <td>0.0</td>\n",
              "      <td>0.0</td>\n",
              "      <td>0.0</td>\n",
              "    </tr>\n",
              "  </tbody>\n",
              "</table>\n",
              "</div>\n",
              "      <button class=\"colab-df-convert\" onclick=\"convertToInteractive('df-560bebdd-2216-45ca-83d5-c213d83185be')\"\n",
              "              title=\"Convert this dataframe to an interactive table.\"\n",
              "              style=\"display:none;\">\n",
              "        \n",
              "  <svg xmlns=\"http://www.w3.org/2000/svg\" height=\"24px\"viewBox=\"0 0 24 24\"\n",
              "       width=\"24px\">\n",
              "    <path d=\"M0 0h24v24H0V0z\" fill=\"none\"/>\n",
              "    <path d=\"M18.56 5.44l.94 2.06.94-2.06 2.06-.94-2.06-.94-.94-2.06-.94 2.06-2.06.94zm-11 1L8.5 8.5l.94-2.06 2.06-.94-2.06-.94L8.5 2.5l-.94 2.06-2.06.94zm10 10l.94 2.06.94-2.06 2.06-.94-2.06-.94-.94-2.06-.94 2.06-2.06.94z\"/><path d=\"M17.41 7.96l-1.37-1.37c-.4-.4-.92-.59-1.43-.59-.52 0-1.04.2-1.43.59L10.3 9.45l-7.72 7.72c-.78.78-.78 2.05 0 2.83L4 21.41c.39.39.9.59 1.41.59.51 0 1.02-.2 1.41-.59l7.78-7.78 2.81-2.81c.8-.78.8-2.07 0-2.86zM5.41 20L4 18.59l7.72-7.72 1.47 1.35L5.41 20z\"/>\n",
              "  </svg>\n",
              "      </button>\n",
              "      \n",
              "  <style>\n",
              "    .colab-df-container {\n",
              "      display:flex;\n",
              "      flex-wrap:wrap;\n",
              "      gap: 12px;\n",
              "    }\n",
              "\n",
              "    .colab-df-convert {\n",
              "      background-color: #E8F0FE;\n",
              "      border: none;\n",
              "      border-radius: 50%;\n",
              "      cursor: pointer;\n",
              "      display: none;\n",
              "      fill: #1967D2;\n",
              "      height: 32px;\n",
              "      padding: 0 0 0 0;\n",
              "      width: 32px;\n",
              "    }\n",
              "\n",
              "    .colab-df-convert:hover {\n",
              "      background-color: #E2EBFA;\n",
              "      box-shadow: 0px 1px 2px rgba(60, 64, 67, 0.3), 0px 1px 3px 1px rgba(60, 64, 67, 0.15);\n",
              "      fill: #174EA6;\n",
              "    }\n",
              "\n",
              "    [theme=dark] .colab-df-convert {\n",
              "      background-color: #3B4455;\n",
              "      fill: #D2E3FC;\n",
              "    }\n",
              "\n",
              "    [theme=dark] .colab-df-convert:hover {\n",
              "      background-color: #434B5C;\n",
              "      box-shadow: 0px 1px 3px 1px rgba(0, 0, 0, 0.15);\n",
              "      filter: drop-shadow(0px 1px 2px rgba(0, 0, 0, 0.3));\n",
              "      fill: #FFFFFF;\n",
              "    }\n",
              "  </style>\n",
              "\n",
              "      <script>\n",
              "        const buttonEl =\n",
              "          document.querySelector('#df-560bebdd-2216-45ca-83d5-c213d83185be button.colab-df-convert');\n",
              "        buttonEl.style.display =\n",
              "          google.colab.kernel.accessAllowed ? 'block' : 'none';\n",
              "\n",
              "        async function convertToInteractive(key) {\n",
              "          const element = document.querySelector('#df-560bebdd-2216-45ca-83d5-c213d83185be');\n",
              "          const dataTable =\n",
              "            await google.colab.kernel.invokeFunction('convertToInteractive',\n",
              "                                                     [key], {});\n",
              "          if (!dataTable) return;\n",
              "\n",
              "          const docLinkHtml = 'Like what you see? Visit the ' +\n",
              "            '<a target=\"_blank\" href=https://colab.research.google.com/notebooks/data_table.ipynb>data table notebook</a>'\n",
              "            + ' to learn more about interactive tables.';\n",
              "          element.innerHTML = '';\n",
              "          dataTable['output_type'] = 'display_data';\n",
              "          await google.colab.output.renderOutput(dataTable, element);\n",
              "          const docLink = document.createElement('div');\n",
              "          docLink.innerHTML = docLinkHtml;\n",
              "          element.appendChild(docLink);\n",
              "        }\n",
              "      </script>\n",
              "    </div>\n",
              "  </div>\n",
              "  "
            ]
          },
          "metadata": {},
          "execution_count": 3
        }
      ]
    },
    {
      "cell_type": "code",
      "source": [
        "df.shape"
      ],
      "metadata": {
        "id": "64UyFB7gtIlv",
        "colab": {
          "base_uri": "https://localhost:8080/"
        },
        "outputId": "2d1fe445-a671-402c-d981-1aaff18680be"
      },
      "execution_count": null,
      "outputs": [
        {
          "output_type": "execute_result",
          "data": {
            "text/plain": [
              "(10437, 15)"
            ]
          },
          "metadata": {},
          "execution_count": 4
        }
      ]
    },
    {
      "cell_type": "code",
      "source": [
        "df.info()"
      ],
      "metadata": {
        "id": "sxFndGzPtd1Z",
        "colab": {
          "base_uri": "https://localhost:8080/"
        },
        "outputId": "fe4674a5-686e-44c7-9250-09002df5d8f3"
      },
      "execution_count": null,
      "outputs": [
        {
          "output_type": "stream",
          "name": "stdout",
          "text": [
            "<class 'pandas.core.frame.DataFrame'>\n",
            "RangeIndex: 10437 entries, 0 to 10436\n",
            "Data columns (total 15 columns):\n",
            " #   Column                           Non-Null Count  Dtype  \n",
            "---  ------                           --------------  -----  \n",
            " 0   Unnamed: 0                       10437 non-null  int64  \n",
            " 1   source_id                        10437 non-null  object \n",
            " 2   source_name                      10437 non-null  object \n",
            " 3   author                           9417 non-null   object \n",
            " 4   title                            10435 non-null  object \n",
            " 5   description                      10413 non-null  object \n",
            " 6   url                              10436 non-null  object \n",
            " 7   url_to_image                     9781 non-null   object \n",
            " 8   published_at                     10436 non-null  object \n",
            " 9   content                          9145 non-null   object \n",
            " 10  top_article                      10435 non-null  float64\n",
            " 11  engagement_reaction_count        10319 non-null  float64\n",
            " 12  engagement_comment_count         10319 non-null  float64\n",
            " 13  engagement_share_count           10319 non-null  float64\n",
            " 14  engagement_comment_plugin_count  10319 non-null  float64\n",
            "dtypes: float64(5), int64(1), object(9)\n",
            "memory usage: 1.2+ MB\n"
          ]
        }
      ]
    },
    {
      "cell_type": "code",
      "source": [
        "# drop atribut \n",
        "df = df.drop(['Unnamed: 0', 'source_id', 'title', 'description', 'source_name', 'author', 'url', 'url_to_image', 'published_at', 'top_article', 'engagement_reaction_count', 'engagement_comment_count', 'engagement_share_count', 'engagement_comment_plugin_count'], axis = 1)"
      ],
      "metadata": {
        "id": "xnSb1zRtw9gB"
      },
      "execution_count": null,
      "outputs": []
    },
    {
      "cell_type": "code",
      "source": [
        "df.info()"
      ],
      "metadata": {
        "id": "0-XSaGz4Nvb4",
        "colab": {
          "base_uri": "https://localhost:8080/"
        },
        "outputId": "848243f5-2bb7-4887-82d4-001b50846fb0"
      },
      "execution_count": null,
      "outputs": [
        {
          "output_type": "stream",
          "name": "stdout",
          "text": [
            "<class 'pandas.core.frame.DataFrame'>\n",
            "RangeIndex: 10437 entries, 0 to 10436\n",
            "Data columns (total 1 columns):\n",
            " #   Column   Non-Null Count  Dtype \n",
            "---  ------   --------------  ----- \n",
            " 0   content  9145 non-null   object\n",
            "dtypes: object(1)\n",
            "memory usage: 81.7+ KB\n"
          ]
        }
      ]
    },
    {
      "cell_type": "code",
      "source": [
        "# Checking duplicate value\n",
        "print(str(df.describe(include=object)))"
      ],
      "metadata": {
        "id": "BnmNZeKKtlwJ",
        "colab": {
          "base_uri": "https://localhost:8080/"
        },
        "outputId": "0d885191-833b-4621-92fa-3f205fe8c452"
      },
      "execution_count": null,
      "outputs": [
        {
          "output_type": "stream",
          "name": "stdout",
          "text": [
            "                                                  content\n",
            "count                                                9145\n",
            "unique                                               8385\n",
            "top     Chat with us in Facebook Messenger. Find out w...\n",
            "freq                                                  125\n"
          ]
        }
      ]
    },
    {
      "cell_type": "code",
      "source": [
        "# remove duplicate value (text) in contenct attribute\n",
        "df.drop_duplicates(subset=['content'], keep='last')"
      ],
      "metadata": {
        "id": "kt7hJOH6wPVF",
        "colab": {
          "base_uri": "https://localhost:8080/",
          "height": 424
        },
        "outputId": "d3da2087-83c4-4098-999b-20846fcb1781"
      },
      "execution_count": null,
      "outputs": [
        {
          "output_type": "execute_result",
          "data": {
            "text/plain": [
              "                                                 content\n",
              "1      The States jobless rate fell to 5.2 per cent l...\n",
              "2      Louise Kennedy is showing off her autumn-winte...\n",
              "3      Han Kwang Song, the first North Korean footbal...\n",
              "5      \"This Tender Land: a Novel\" (Atria Books), by ...\n",
              "6      LONDON (Reuters) - The European Union is waiti...\n",
              "...                                                  ...\n",
              "10429  For his latest installation of the SCAR Projec...\n",
              "10431  There are numerous bargains waiting to be pick...\n",
              "10432  Growth in the U.S. economys vast services sect...\n",
              "10433  ZURICH/HONG KONG (Reuters) - The announcement ...\n",
              "10436                                                NaN\n",
              "\n",
              "[8386 rows x 1 columns]"
            ],
            "text/html": [
              "\n",
              "  <div id=\"df-2c2f7685-6915-4379-907a-0797e2bddce5\">\n",
              "    <div class=\"colab-df-container\">\n",
              "      <div>\n",
              "<style scoped>\n",
              "    .dataframe tbody tr th:only-of-type {\n",
              "        vertical-align: middle;\n",
              "    }\n",
              "\n",
              "    .dataframe tbody tr th {\n",
              "        vertical-align: top;\n",
              "    }\n",
              "\n",
              "    .dataframe thead th {\n",
              "        text-align: right;\n",
              "    }\n",
              "</style>\n",
              "<table border=\"1\" class=\"dataframe\">\n",
              "  <thead>\n",
              "    <tr style=\"text-align: right;\">\n",
              "      <th></th>\n",
              "      <th>content</th>\n",
              "    </tr>\n",
              "  </thead>\n",
              "  <tbody>\n",
              "    <tr>\n",
              "      <th>1</th>\n",
              "      <td>The States jobless rate fell to 5.2 per cent l...</td>\n",
              "    </tr>\n",
              "    <tr>\n",
              "      <th>2</th>\n",
              "      <td>Louise Kennedy is showing off her autumn-winte...</td>\n",
              "    </tr>\n",
              "    <tr>\n",
              "      <th>3</th>\n",
              "      <td>Han Kwang Song, the first North Korean footbal...</td>\n",
              "    </tr>\n",
              "    <tr>\n",
              "      <th>5</th>\n",
              "      <td>\"This Tender Land: a Novel\" (Atria Books), by ...</td>\n",
              "    </tr>\n",
              "    <tr>\n",
              "      <th>6</th>\n",
              "      <td>LONDON (Reuters) - The European Union is waiti...</td>\n",
              "    </tr>\n",
              "    <tr>\n",
              "      <th>...</th>\n",
              "      <td>...</td>\n",
              "    </tr>\n",
              "    <tr>\n",
              "      <th>10429</th>\n",
              "      <td>For his latest installation of the SCAR Projec...</td>\n",
              "    </tr>\n",
              "    <tr>\n",
              "      <th>10431</th>\n",
              "      <td>There are numerous bargains waiting to be pick...</td>\n",
              "    </tr>\n",
              "    <tr>\n",
              "      <th>10432</th>\n",
              "      <td>Growth in the U.S. economys vast services sect...</td>\n",
              "    </tr>\n",
              "    <tr>\n",
              "      <th>10433</th>\n",
              "      <td>ZURICH/HONG KONG (Reuters) - The announcement ...</td>\n",
              "    </tr>\n",
              "    <tr>\n",
              "      <th>10436</th>\n",
              "      <td>NaN</td>\n",
              "    </tr>\n",
              "  </tbody>\n",
              "</table>\n",
              "<p>8386 rows × 1 columns</p>\n",
              "</div>\n",
              "      <button class=\"colab-df-convert\" onclick=\"convertToInteractive('df-2c2f7685-6915-4379-907a-0797e2bddce5')\"\n",
              "              title=\"Convert this dataframe to an interactive table.\"\n",
              "              style=\"display:none;\">\n",
              "        \n",
              "  <svg xmlns=\"http://www.w3.org/2000/svg\" height=\"24px\"viewBox=\"0 0 24 24\"\n",
              "       width=\"24px\">\n",
              "    <path d=\"M0 0h24v24H0V0z\" fill=\"none\"/>\n",
              "    <path d=\"M18.56 5.44l.94 2.06.94-2.06 2.06-.94-2.06-.94-.94-2.06-.94 2.06-2.06.94zm-11 1L8.5 8.5l.94-2.06 2.06-.94-2.06-.94L8.5 2.5l-.94 2.06-2.06.94zm10 10l.94 2.06.94-2.06 2.06-.94-2.06-.94-.94-2.06-.94 2.06-2.06.94z\"/><path d=\"M17.41 7.96l-1.37-1.37c-.4-.4-.92-.59-1.43-.59-.52 0-1.04.2-1.43.59L10.3 9.45l-7.72 7.72c-.78.78-.78 2.05 0 2.83L4 21.41c.39.39.9.59 1.41.59.51 0 1.02-.2 1.41-.59l7.78-7.78 2.81-2.81c.8-.78.8-2.07 0-2.86zM5.41 20L4 18.59l7.72-7.72 1.47 1.35L5.41 20z\"/>\n",
              "  </svg>\n",
              "      </button>\n",
              "      \n",
              "  <style>\n",
              "    .colab-df-container {\n",
              "      display:flex;\n",
              "      flex-wrap:wrap;\n",
              "      gap: 12px;\n",
              "    }\n",
              "\n",
              "    .colab-df-convert {\n",
              "      background-color: #E8F0FE;\n",
              "      border: none;\n",
              "      border-radius: 50%;\n",
              "      cursor: pointer;\n",
              "      display: none;\n",
              "      fill: #1967D2;\n",
              "      height: 32px;\n",
              "      padding: 0 0 0 0;\n",
              "      width: 32px;\n",
              "    }\n",
              "\n",
              "    .colab-df-convert:hover {\n",
              "      background-color: #E2EBFA;\n",
              "      box-shadow: 0px 1px 2px rgba(60, 64, 67, 0.3), 0px 1px 3px 1px rgba(60, 64, 67, 0.15);\n",
              "      fill: #174EA6;\n",
              "    }\n",
              "\n",
              "    [theme=dark] .colab-df-convert {\n",
              "      background-color: #3B4455;\n",
              "      fill: #D2E3FC;\n",
              "    }\n",
              "\n",
              "    [theme=dark] .colab-df-convert:hover {\n",
              "      background-color: #434B5C;\n",
              "      box-shadow: 0px 1px 3px 1px rgba(0, 0, 0, 0.15);\n",
              "      filter: drop-shadow(0px 1px 2px rgba(0, 0, 0, 0.3));\n",
              "      fill: #FFFFFF;\n",
              "    }\n",
              "  </style>\n",
              "\n",
              "      <script>\n",
              "        const buttonEl =\n",
              "          document.querySelector('#df-2c2f7685-6915-4379-907a-0797e2bddce5 button.colab-df-convert');\n",
              "        buttonEl.style.display =\n",
              "          google.colab.kernel.accessAllowed ? 'block' : 'none';\n",
              "\n",
              "        async function convertToInteractive(key) {\n",
              "          const element = document.querySelector('#df-2c2f7685-6915-4379-907a-0797e2bddce5');\n",
              "          const dataTable =\n",
              "            await google.colab.kernel.invokeFunction('convertToInteractive',\n",
              "                                                     [key], {});\n",
              "          if (!dataTable) return;\n",
              "\n",
              "          const docLinkHtml = 'Like what you see? Visit the ' +\n",
              "            '<a target=\"_blank\" href=https://colab.research.google.com/notebooks/data_table.ipynb>data table notebook</a>'\n",
              "            + ' to learn more about interactive tables.';\n",
              "          element.innerHTML = '';\n",
              "          dataTable['output_type'] = 'display_data';\n",
              "          await google.colab.output.renderOutput(dataTable, element);\n",
              "          const docLink = document.createElement('div');\n",
              "          docLink.innerHTML = docLinkHtml;\n",
              "          element.appendChild(docLink);\n",
              "        }\n",
              "      </script>\n",
              "    </div>\n",
              "  </div>\n",
              "  "
            ]
          },
          "metadata": {},
          "execution_count": 9
        }
      ]
    },
    {
      "cell_type": "code",
      "source": [
        "# Checking null value in attribute \n",
        "df.isna().sum()"
      ],
      "metadata": {
        "id": "hu5MLaFZTEqa",
        "colab": {
          "base_uri": "https://localhost:8080/"
        },
        "outputId": "b421efc7-8396-416e-cf48-aa354bb15d5f"
      },
      "execution_count": null,
      "outputs": [
        {
          "output_type": "execute_result",
          "data": {
            "text/plain": [
              "content    1292\n",
              "dtype: int64"
            ]
          },
          "metadata": {},
          "execution_count": 10
        }
      ]
    },
    {
      "cell_type": "code",
      "source": [
        "#drop null value\n",
        "data = df.dropna()\n"
      ],
      "metadata": {
        "id": "21Ps9_eyUASb"
      },
      "execution_count": null,
      "outputs": []
    },
    {
      "cell_type": "code",
      "source": [
        "df"
      ],
      "metadata": {
        "id": "zZn0x5ZkW2H5",
        "colab": {
          "base_uri": "https://localhost:8080/",
          "height": 424
        },
        "outputId": "3f50d9cb-cb97-4f68-acbb-627b2fb00e9f"
      },
      "execution_count": null,
      "outputs": [
        {
          "output_type": "execute_result",
          "data": {
            "text/plain": [
              "                                                 content\n",
              "0      WASHINGTON (Reuters) - The National Transporta...\n",
              "1      The States jobless rate fell to 5.2 per cent l...\n",
              "2      Louise Kennedy is showing off her autumn-winte...\n",
              "3      Han Kwang Song, the first North Korean footbal...\n",
              "4                                                    NaN\n",
              "...                                                  ...\n",
              "10432  Growth in the U.S. economys vast services sect...\n",
              "10433  ZURICH/HONG KONG (Reuters) - The announcement ...\n",
              "10434                                                NaN\n",
              "10435                                                NaN\n",
              "10436                                                NaN\n",
              "\n",
              "[10437 rows x 1 columns]"
            ],
            "text/html": [
              "\n",
              "  <div id=\"df-347425a1-8e00-400c-a82c-286ded34bae9\">\n",
              "    <div class=\"colab-df-container\">\n",
              "      <div>\n",
              "<style scoped>\n",
              "    .dataframe tbody tr th:only-of-type {\n",
              "        vertical-align: middle;\n",
              "    }\n",
              "\n",
              "    .dataframe tbody tr th {\n",
              "        vertical-align: top;\n",
              "    }\n",
              "\n",
              "    .dataframe thead th {\n",
              "        text-align: right;\n",
              "    }\n",
              "</style>\n",
              "<table border=\"1\" class=\"dataframe\">\n",
              "  <thead>\n",
              "    <tr style=\"text-align: right;\">\n",
              "      <th></th>\n",
              "      <th>content</th>\n",
              "    </tr>\n",
              "  </thead>\n",
              "  <tbody>\n",
              "    <tr>\n",
              "      <th>0</th>\n",
              "      <td>WASHINGTON (Reuters) - The National Transporta...</td>\n",
              "    </tr>\n",
              "    <tr>\n",
              "      <th>1</th>\n",
              "      <td>The States jobless rate fell to 5.2 per cent l...</td>\n",
              "    </tr>\n",
              "    <tr>\n",
              "      <th>2</th>\n",
              "      <td>Louise Kennedy is showing off her autumn-winte...</td>\n",
              "    </tr>\n",
              "    <tr>\n",
              "      <th>3</th>\n",
              "      <td>Han Kwang Song, the first North Korean footbal...</td>\n",
              "    </tr>\n",
              "    <tr>\n",
              "      <th>4</th>\n",
              "      <td>NaN</td>\n",
              "    </tr>\n",
              "    <tr>\n",
              "      <th>...</th>\n",
              "      <td>...</td>\n",
              "    </tr>\n",
              "    <tr>\n",
              "      <th>10432</th>\n",
              "      <td>Growth in the U.S. economys vast services sect...</td>\n",
              "    </tr>\n",
              "    <tr>\n",
              "      <th>10433</th>\n",
              "      <td>ZURICH/HONG KONG (Reuters) - The announcement ...</td>\n",
              "    </tr>\n",
              "    <tr>\n",
              "      <th>10434</th>\n",
              "      <td>NaN</td>\n",
              "    </tr>\n",
              "    <tr>\n",
              "      <th>10435</th>\n",
              "      <td>NaN</td>\n",
              "    </tr>\n",
              "    <tr>\n",
              "      <th>10436</th>\n",
              "      <td>NaN</td>\n",
              "    </tr>\n",
              "  </tbody>\n",
              "</table>\n",
              "<p>10437 rows × 1 columns</p>\n",
              "</div>\n",
              "      <button class=\"colab-df-convert\" onclick=\"convertToInteractive('df-347425a1-8e00-400c-a82c-286ded34bae9')\"\n",
              "              title=\"Convert this dataframe to an interactive table.\"\n",
              "              style=\"display:none;\">\n",
              "        \n",
              "  <svg xmlns=\"http://www.w3.org/2000/svg\" height=\"24px\"viewBox=\"0 0 24 24\"\n",
              "       width=\"24px\">\n",
              "    <path d=\"M0 0h24v24H0V0z\" fill=\"none\"/>\n",
              "    <path d=\"M18.56 5.44l.94 2.06.94-2.06 2.06-.94-2.06-.94-.94-2.06-.94 2.06-2.06.94zm-11 1L8.5 8.5l.94-2.06 2.06-.94-2.06-.94L8.5 2.5l-.94 2.06-2.06.94zm10 10l.94 2.06.94-2.06 2.06-.94-2.06-.94-.94-2.06-.94 2.06-2.06.94z\"/><path d=\"M17.41 7.96l-1.37-1.37c-.4-.4-.92-.59-1.43-.59-.52 0-1.04.2-1.43.59L10.3 9.45l-7.72 7.72c-.78.78-.78 2.05 0 2.83L4 21.41c.39.39.9.59 1.41.59.51 0 1.02-.2 1.41-.59l7.78-7.78 2.81-2.81c.8-.78.8-2.07 0-2.86zM5.41 20L4 18.59l7.72-7.72 1.47 1.35L5.41 20z\"/>\n",
              "  </svg>\n",
              "      </button>\n",
              "      \n",
              "  <style>\n",
              "    .colab-df-container {\n",
              "      display:flex;\n",
              "      flex-wrap:wrap;\n",
              "      gap: 12px;\n",
              "    }\n",
              "\n",
              "    .colab-df-convert {\n",
              "      background-color: #E8F0FE;\n",
              "      border: none;\n",
              "      border-radius: 50%;\n",
              "      cursor: pointer;\n",
              "      display: none;\n",
              "      fill: #1967D2;\n",
              "      height: 32px;\n",
              "      padding: 0 0 0 0;\n",
              "      width: 32px;\n",
              "    }\n",
              "\n",
              "    .colab-df-convert:hover {\n",
              "      background-color: #E2EBFA;\n",
              "      box-shadow: 0px 1px 2px rgba(60, 64, 67, 0.3), 0px 1px 3px 1px rgba(60, 64, 67, 0.15);\n",
              "      fill: #174EA6;\n",
              "    }\n",
              "\n",
              "    [theme=dark] .colab-df-convert {\n",
              "      background-color: #3B4455;\n",
              "      fill: #D2E3FC;\n",
              "    }\n",
              "\n",
              "    [theme=dark] .colab-df-convert:hover {\n",
              "      background-color: #434B5C;\n",
              "      box-shadow: 0px 1px 3px 1px rgba(0, 0, 0, 0.15);\n",
              "      filter: drop-shadow(0px 1px 2px rgba(0, 0, 0, 0.3));\n",
              "      fill: #FFFFFF;\n",
              "    }\n",
              "  </style>\n",
              "\n",
              "      <script>\n",
              "        const buttonEl =\n",
              "          document.querySelector('#df-347425a1-8e00-400c-a82c-286ded34bae9 button.colab-df-convert');\n",
              "        buttonEl.style.display =\n",
              "          google.colab.kernel.accessAllowed ? 'block' : 'none';\n",
              "\n",
              "        async function convertToInteractive(key) {\n",
              "          const element = document.querySelector('#df-347425a1-8e00-400c-a82c-286ded34bae9');\n",
              "          const dataTable =\n",
              "            await google.colab.kernel.invokeFunction('convertToInteractive',\n",
              "                                                     [key], {});\n",
              "          if (!dataTable) return;\n",
              "\n",
              "          const docLinkHtml = 'Like what you see? Visit the ' +\n",
              "            '<a target=\"_blank\" href=https://colab.research.google.com/notebooks/data_table.ipynb>data table notebook</a>'\n",
              "            + ' to learn more about interactive tables.';\n",
              "          element.innerHTML = '';\n",
              "          dataTable['output_type'] = 'display_data';\n",
              "          await google.colab.output.renderOutput(dataTable, element);\n",
              "          const docLink = document.createElement('div');\n",
              "          docLink.innerHTML = docLinkHtml;\n",
              "          element.appendChild(docLink);\n",
              "        }\n",
              "      </script>\n",
              "    </div>\n",
              "  </div>\n",
              "  "
            ]
          },
          "metadata": {},
          "execution_count": 12
        }
      ]
    },
    {
      "cell_type": "code",
      "source": [
        "#saving the result\n",
        "data.to_csv(\"./drive/MyDrive/STBI/Proyek/Dataset/clean_articles_data_word2vec.csv\", index=True)"
      ],
      "metadata": {
        "id": "WPJzR5wzaGvU"
      },
      "execution_count": null,
      "outputs": []
    },
    {
      "cell_type": "markdown",
      "source": [
        "#### C. Text Preprocessing"
      ],
      "metadata": {
        "id": "BGtlEWGoyWLl"
      }
    },
    {
      "cell_type": "code",
      "source": [
        "# remove punctuation\n",
        "def punctuation(txt):\n",
        "  return re.sub(r\"[^\\w\\s]\",\"\", str(txt))\n",
        "\n",
        "data['content'] = data['content'].apply(punctuation)"
      ],
      "metadata": {
        "id": "PVdttlEmyi_i",
        "colab": {
          "base_uri": "https://localhost:8080/"
        },
        "outputId": "7a4cf110-b92a-479c-fdb2-ebe6532042ca"
      },
      "execution_count": null,
      "outputs": [
        {
          "output_type": "stream",
          "name": "stderr",
          "text": [
            "/usr/local/lib/python3.7/dist-packages/ipykernel_launcher.py:5: SettingWithCopyWarning: \n",
            "A value is trying to be set on a copy of a slice from a DataFrame.\n",
            "Try using .loc[row_indexer,col_indexer] = value instead\n",
            "\n",
            "See the caveats in the documentation: https://pandas.pydata.org/pandas-docs/stable/user_guide/indexing.html#returning-a-view-versus-a-copy\n",
            "  \"\"\"\n"
          ]
        }
      ]
    },
    {
      "cell_type": "code",
      "source": [
        "import nltk\n",
        "nltk.download('punkt')\n",
        "# tokenization\n",
        "def word_tokenize_wrapper(text):\n",
        "  return word_tokenize(text)\n",
        "data['content'] = data['content'].apply(word_tokenize_wrapper)"
      ],
      "metadata": {
        "id": "eJ1E4xQdyp3B",
        "colab": {
          "base_uri": "https://localhost:8080/"
        },
        "outputId": "3ade0e7f-c52c-4533-e37b-663b3e493dc1"
      },
      "execution_count": null,
      "outputs": [
        {
          "output_type": "stream",
          "name": "stdout",
          "text": [
            "[nltk_data] Downloading package punkt to /root/nltk_data...\n",
            "[nltk_data]   Unzipping tokenizers/punkt.zip.\n"
          ]
        },
        {
          "output_type": "stream",
          "name": "stderr",
          "text": [
            "/usr/local/lib/python3.7/dist-packages/ipykernel_launcher.py:6: SettingWithCopyWarning: \n",
            "A value is trying to be set on a copy of a slice from a DataFrame.\n",
            "Try using .loc[row_indexer,col_indexer] = value instead\n",
            "\n",
            "See the caveats in the documentation: https://pandas.pydata.org/pandas-docs/stable/user_guide/indexing.html#returning-a-view-versus-a-copy\n",
            "  \n"
          ]
        }
      ]
    },
    {
      "cell_type": "code",
      "source": [
        "#stopword removal\n",
        "import nltk\n",
        "nltk.download('stopwords')\n",
        "from nltk.corpus import stopwords\n",
        "sw_nltk = stopwords.words('english')\n",
        "print(sw_nltk)\n",
        "def stopword(text):\n",
        "  words = [word for word in text if word.lower() not in sw_nltk]\n",
        "  return words\n",
        "data['content'] = data['content'].apply(stopword)"
      ],
      "metadata": {
        "id": "EnFNni5My0XL",
        "colab": {
          "base_uri": "https://localhost:8080/"
        },
        "outputId": "3db4053c-e96f-43e1-b04e-92dfc995dad0"
      },
      "execution_count": null,
      "outputs": [
        {
          "output_type": "stream",
          "name": "stdout",
          "text": [
            "[nltk_data] Downloading package stopwords to /root/nltk_data...\n",
            "[nltk_data]   Package stopwords is already up-to-date!\n",
            "['i', 'me', 'my', 'myself', 'we', 'our', 'ours', 'ourselves', 'you', \"you're\", \"you've\", \"you'll\", \"you'd\", 'your', 'yours', 'yourself', 'yourselves', 'he', 'him', 'his', 'himself', 'she', \"she's\", 'her', 'hers', 'herself', 'it', \"it's\", 'its', 'itself', 'they', 'them', 'their', 'theirs', 'themselves', 'what', 'which', 'who', 'whom', 'this', 'that', \"that'll\", 'these', 'those', 'am', 'is', 'are', 'was', 'were', 'be', 'been', 'being', 'have', 'has', 'had', 'having', 'do', 'does', 'did', 'doing', 'a', 'an', 'the', 'and', 'but', 'if', 'or', 'because', 'as', 'until', 'while', 'of', 'at', 'by', 'for', 'with', 'about', 'against', 'between', 'into', 'through', 'during', 'before', 'after', 'above', 'below', 'to', 'from', 'up', 'down', 'in', 'out', 'on', 'off', 'over', 'under', 'again', 'further', 'then', 'once', 'here', 'there', 'when', 'where', 'why', 'how', 'all', 'any', 'both', 'each', 'few', 'more', 'most', 'other', 'some', 'such', 'no', 'nor', 'not', 'only', 'own', 'same', 'so', 'than', 'too', 'very', 's', 't', 'can', 'will', 'just', 'don', \"don't\", 'should', \"should've\", 'now', 'd', 'll', 'm', 'o', 're', 've', 'y', 'ain', 'aren', \"aren't\", 'couldn', \"couldn't\", 'didn', \"didn't\", 'doesn', \"doesn't\", 'hadn', \"hadn't\", 'hasn', \"hasn't\", 'haven', \"haven't\", 'isn', \"isn't\", 'ma', 'mightn', \"mightn't\", 'mustn', \"mustn't\", 'needn', \"needn't\", 'shan', \"shan't\", 'shouldn', \"shouldn't\", 'wasn', \"wasn't\", 'weren', \"weren't\", 'won', \"won't\", 'wouldn', \"wouldn't\"]\n"
          ]
        },
        {
          "output_type": "stream",
          "name": "stderr",
          "text": [
            "/usr/local/lib/python3.7/dist-packages/ipykernel_launcher.py:10: SettingWithCopyWarning: \n",
            "A value is trying to be set on a copy of a slice from a DataFrame.\n",
            "Try using .loc[row_indexer,col_indexer] = value instead\n",
            "\n",
            "See the caveats in the documentation: https://pandas.pydata.org/pandas-docs/stable/user_guide/indexing.html#returning-a-view-versus-a-copy\n",
            "  # Remove the CWD from sys.path while we load stuff.\n"
          ]
        }
      ]
    },
    {
      "cell_type": "code",
      "source": [
        "#normalization\n",
        "nltk.download('wordnet')\n",
        "from nltk.stem import WordNetLemmatizer\n",
        "def lemma(text):\n",
        "  lemmatizer = WordNetLemmatizer()\n",
        "  Output= [lemmatizer.lemmatize(words_sent) for words_sent in text]\n",
        "  return Output\n",
        "data['content'] = data['content'].apply(lemma)"
      ],
      "metadata": {
        "id": "sgZICs3-0W12",
        "colab": {
          "base_uri": "https://localhost:8080/"
        },
        "outputId": "fd6b9969-f987-497a-e683-c786336ef4f8"
      },
      "execution_count": null,
      "outputs": [
        {
          "output_type": "stream",
          "name": "stdout",
          "text": [
            "[nltk_data] Downloading package wordnet to /root/nltk_data...\n",
            "[nltk_data]   Unzipping corpora/wordnet.zip.\n"
          ]
        },
        {
          "output_type": "stream",
          "name": "stderr",
          "text": [
            "/usr/local/lib/python3.7/dist-packages/ipykernel_launcher.py:8: SettingWithCopyWarning: \n",
            "A value is trying to be set on a copy of a slice from a DataFrame.\n",
            "Try using .loc[row_indexer,col_indexer] = value instead\n",
            "\n",
            "See the caveats in the documentation: https://pandas.pydata.org/pandas-docs/stable/user_guide/indexing.html#returning-a-view-versus-a-copy\n",
            "  \n"
          ]
        }
      ]
    },
    {
      "cell_type": "code",
      "source": [
        "#saving the rusult\n",
        "data.to_csv(\"./drive/MyDrive/STBI/Proyek/Dataset/prepro_articles_data_word2vec.csv\", index=True)"
      ],
      "metadata": {
        "id": "xSqS6MtuzKOH"
      },
      "execution_count": null,
      "outputs": []
    },
    {
      "cell_type": "code",
      "source": [
        "data"
      ],
      "metadata": {
        "colab": {
          "base_uri": "https://localhost:8080/",
          "height": 424
        },
        "id": "D5A6xBKuzYYQ",
        "outputId": "5909dd62-6527-4c3b-c446-bc02d5304896"
      },
      "execution_count": null,
      "outputs": [
        {
          "output_type": "execute_result",
          "data": {
            "text/plain": [
              "                                                 content\n",
              "0      [WASHINGTON, Reuters, National, Transportation...\n",
              "1      [States, jobless, rate, fell, 52, per, cent, l...\n",
              "2      [Louise, Kennedy, showing, autumnwinter, colle...\n",
              "3      [Han, Kwang, Song, first, North, Korean, footb...\n",
              "5      [Tender, Land, Novel, Atria, Books, William, K...\n",
              "...                                                  ...\n",
              "10428  [last, week, Disney, Magic, arrived, New, York...\n",
              "10429  [latest, installation, SCAR, Project, photogra...\n",
              "10431  [numerous, bargain, waiting, picked, stock, ma...\n",
              "10432  [Growth, US, economy, vast, service, sector, s...\n",
              "10433  [ZURICHHONG, KONG, Reuters, announcement, Juli...\n",
              "\n",
              "[9145 rows x 1 columns]"
            ],
            "text/html": [
              "\n",
              "  <div id=\"df-2371430a-683c-4e4a-b904-848ea1fbb898\">\n",
              "    <div class=\"colab-df-container\">\n",
              "      <div>\n",
              "<style scoped>\n",
              "    .dataframe tbody tr th:only-of-type {\n",
              "        vertical-align: middle;\n",
              "    }\n",
              "\n",
              "    .dataframe tbody tr th {\n",
              "        vertical-align: top;\n",
              "    }\n",
              "\n",
              "    .dataframe thead th {\n",
              "        text-align: right;\n",
              "    }\n",
              "</style>\n",
              "<table border=\"1\" class=\"dataframe\">\n",
              "  <thead>\n",
              "    <tr style=\"text-align: right;\">\n",
              "      <th></th>\n",
              "      <th>content</th>\n",
              "    </tr>\n",
              "  </thead>\n",
              "  <tbody>\n",
              "    <tr>\n",
              "      <th>0</th>\n",
              "      <td>[WASHINGTON, Reuters, National, Transportation...</td>\n",
              "    </tr>\n",
              "    <tr>\n",
              "      <th>1</th>\n",
              "      <td>[States, jobless, rate, fell, 52, per, cent, l...</td>\n",
              "    </tr>\n",
              "    <tr>\n",
              "      <th>2</th>\n",
              "      <td>[Louise, Kennedy, showing, autumnwinter, colle...</td>\n",
              "    </tr>\n",
              "    <tr>\n",
              "      <th>3</th>\n",
              "      <td>[Han, Kwang, Song, first, North, Korean, footb...</td>\n",
              "    </tr>\n",
              "    <tr>\n",
              "      <th>5</th>\n",
              "      <td>[Tender, Land, Novel, Atria, Books, William, K...</td>\n",
              "    </tr>\n",
              "    <tr>\n",
              "      <th>...</th>\n",
              "      <td>...</td>\n",
              "    </tr>\n",
              "    <tr>\n",
              "      <th>10428</th>\n",
              "      <td>[last, week, Disney, Magic, arrived, New, York...</td>\n",
              "    </tr>\n",
              "    <tr>\n",
              "      <th>10429</th>\n",
              "      <td>[latest, installation, SCAR, Project, photogra...</td>\n",
              "    </tr>\n",
              "    <tr>\n",
              "      <th>10431</th>\n",
              "      <td>[numerous, bargain, waiting, picked, stock, ma...</td>\n",
              "    </tr>\n",
              "    <tr>\n",
              "      <th>10432</th>\n",
              "      <td>[Growth, US, economy, vast, service, sector, s...</td>\n",
              "    </tr>\n",
              "    <tr>\n",
              "      <th>10433</th>\n",
              "      <td>[ZURICHHONG, KONG, Reuters, announcement, Juli...</td>\n",
              "    </tr>\n",
              "  </tbody>\n",
              "</table>\n",
              "<p>9145 rows × 1 columns</p>\n",
              "</div>\n",
              "      <button class=\"colab-df-convert\" onclick=\"convertToInteractive('df-2371430a-683c-4e4a-b904-848ea1fbb898')\"\n",
              "              title=\"Convert this dataframe to an interactive table.\"\n",
              "              style=\"display:none;\">\n",
              "        \n",
              "  <svg xmlns=\"http://www.w3.org/2000/svg\" height=\"24px\"viewBox=\"0 0 24 24\"\n",
              "       width=\"24px\">\n",
              "    <path d=\"M0 0h24v24H0V0z\" fill=\"none\"/>\n",
              "    <path d=\"M18.56 5.44l.94 2.06.94-2.06 2.06-.94-2.06-.94-.94-2.06-.94 2.06-2.06.94zm-11 1L8.5 8.5l.94-2.06 2.06-.94-2.06-.94L8.5 2.5l-.94 2.06-2.06.94zm10 10l.94 2.06.94-2.06 2.06-.94-2.06-.94-.94-2.06-.94 2.06-2.06.94z\"/><path d=\"M17.41 7.96l-1.37-1.37c-.4-.4-.92-.59-1.43-.59-.52 0-1.04.2-1.43.59L10.3 9.45l-7.72 7.72c-.78.78-.78 2.05 0 2.83L4 21.41c.39.39.9.59 1.41.59.51 0 1.02-.2 1.41-.59l7.78-7.78 2.81-2.81c.8-.78.8-2.07 0-2.86zM5.41 20L4 18.59l7.72-7.72 1.47 1.35L5.41 20z\"/>\n",
              "  </svg>\n",
              "      </button>\n",
              "      \n",
              "  <style>\n",
              "    .colab-df-container {\n",
              "      display:flex;\n",
              "      flex-wrap:wrap;\n",
              "      gap: 12px;\n",
              "    }\n",
              "\n",
              "    .colab-df-convert {\n",
              "      background-color: #E8F0FE;\n",
              "      border: none;\n",
              "      border-radius: 50%;\n",
              "      cursor: pointer;\n",
              "      display: none;\n",
              "      fill: #1967D2;\n",
              "      height: 32px;\n",
              "      padding: 0 0 0 0;\n",
              "      width: 32px;\n",
              "    }\n",
              "\n",
              "    .colab-df-convert:hover {\n",
              "      background-color: #E2EBFA;\n",
              "      box-shadow: 0px 1px 2px rgba(60, 64, 67, 0.3), 0px 1px 3px 1px rgba(60, 64, 67, 0.15);\n",
              "      fill: #174EA6;\n",
              "    }\n",
              "\n",
              "    [theme=dark] .colab-df-convert {\n",
              "      background-color: #3B4455;\n",
              "      fill: #D2E3FC;\n",
              "    }\n",
              "\n",
              "    [theme=dark] .colab-df-convert:hover {\n",
              "      background-color: #434B5C;\n",
              "      box-shadow: 0px 1px 3px 1px rgba(0, 0, 0, 0.15);\n",
              "      filter: drop-shadow(0px 1px 2px rgba(0, 0, 0, 0.3));\n",
              "      fill: #FFFFFF;\n",
              "    }\n",
              "  </style>\n",
              "\n",
              "      <script>\n",
              "        const buttonEl =\n",
              "          document.querySelector('#df-2371430a-683c-4e4a-b904-848ea1fbb898 button.colab-df-convert');\n",
              "        buttonEl.style.display =\n",
              "          google.colab.kernel.accessAllowed ? 'block' : 'none';\n",
              "\n",
              "        async function convertToInteractive(key) {\n",
              "          const element = document.querySelector('#df-2371430a-683c-4e4a-b904-848ea1fbb898');\n",
              "          const dataTable =\n",
              "            await google.colab.kernel.invokeFunction('convertToInteractive',\n",
              "                                                     [key], {});\n",
              "          if (!dataTable) return;\n",
              "\n",
              "          const docLinkHtml = 'Like what you see? Visit the ' +\n",
              "            '<a target=\"_blank\" href=https://colab.research.google.com/notebooks/data_table.ipynb>data table notebook</a>'\n",
              "            + ' to learn more about interactive tables.';\n",
              "          element.innerHTML = '';\n",
              "          dataTable['output_type'] = 'display_data';\n",
              "          await google.colab.output.renderOutput(dataTable, element);\n",
              "          const docLink = document.createElement('div');\n",
              "          docLink.innerHTML = docLinkHtml;\n",
              "          element.appendChild(docLink);\n",
              "        }\n",
              "      </script>\n",
              "    </div>\n",
              "  </div>\n",
              "  "
            ]
          },
          "metadata": {},
          "execution_count": 19
        }
      ]
    },
    {
      "cell_type": "markdown",
      "source": [
        "#### D. TF-IDF"
      ],
      "metadata": {
        "id": "TMAA3YrKDbU1"
      }
    },
    {
      "cell_type": "code",
      "source": [
        "# untuk tf-idf\n",
        "import pandas as pd\n",
        "data = pd.read_csv(\"./drive/MyDrive/STBI/Proyek/Dataset/prepro_articles_data_word2vec.csv\")\n",
        "data.head()"
      ],
      "metadata": {
        "id": "kNQHWH1YEqga",
        "colab": {
          "base_uri": "https://localhost:8080/",
          "height": 206
        },
        "outputId": "868e6df6-f379-48d4-ec14-2967024fb53a"
      },
      "execution_count": null,
      "outputs": [
        {
          "output_type": "execute_result",
          "data": {
            "text/plain": [
              "   Unnamed: 0                                            content\n",
              "0           0  ['WASHINGTON', 'Reuters', 'National', 'Transpo...\n",
              "1           1  ['States', 'jobless', 'rate', 'fell', '52', 'p...\n",
              "2           2  ['Louise', 'Kennedy', 'showing', 'autumnwinter...\n",
              "3           3  ['Han', 'Kwang', 'Song', 'first', 'North', 'Ko...\n",
              "4           5  ['Tender', 'Land', 'Novel', 'Atria', 'Books', ..."
            ],
            "text/html": [
              "\n",
              "  <div id=\"df-d9c99420-9d7f-4a5d-bea7-e561a2077219\">\n",
              "    <div class=\"colab-df-container\">\n",
              "      <div>\n",
              "<style scoped>\n",
              "    .dataframe tbody tr th:only-of-type {\n",
              "        vertical-align: middle;\n",
              "    }\n",
              "\n",
              "    .dataframe tbody tr th {\n",
              "        vertical-align: top;\n",
              "    }\n",
              "\n",
              "    .dataframe thead th {\n",
              "        text-align: right;\n",
              "    }\n",
              "</style>\n",
              "<table border=\"1\" class=\"dataframe\">\n",
              "  <thead>\n",
              "    <tr style=\"text-align: right;\">\n",
              "      <th></th>\n",
              "      <th>Unnamed: 0</th>\n",
              "      <th>content</th>\n",
              "    </tr>\n",
              "  </thead>\n",
              "  <tbody>\n",
              "    <tr>\n",
              "      <th>0</th>\n",
              "      <td>0</td>\n",
              "      <td>['WASHINGTON', 'Reuters', 'National', 'Transpo...</td>\n",
              "    </tr>\n",
              "    <tr>\n",
              "      <th>1</th>\n",
              "      <td>1</td>\n",
              "      <td>['States', 'jobless', 'rate', 'fell', '52', 'p...</td>\n",
              "    </tr>\n",
              "    <tr>\n",
              "      <th>2</th>\n",
              "      <td>2</td>\n",
              "      <td>['Louise', 'Kennedy', 'showing', 'autumnwinter...</td>\n",
              "    </tr>\n",
              "    <tr>\n",
              "      <th>3</th>\n",
              "      <td>3</td>\n",
              "      <td>['Han', 'Kwang', 'Song', 'first', 'North', 'Ko...</td>\n",
              "    </tr>\n",
              "    <tr>\n",
              "      <th>4</th>\n",
              "      <td>5</td>\n",
              "      <td>['Tender', 'Land', 'Novel', 'Atria', 'Books', ...</td>\n",
              "    </tr>\n",
              "  </tbody>\n",
              "</table>\n",
              "</div>\n",
              "      <button class=\"colab-df-convert\" onclick=\"convertToInteractive('df-d9c99420-9d7f-4a5d-bea7-e561a2077219')\"\n",
              "              title=\"Convert this dataframe to an interactive table.\"\n",
              "              style=\"display:none;\">\n",
              "        \n",
              "  <svg xmlns=\"http://www.w3.org/2000/svg\" height=\"24px\"viewBox=\"0 0 24 24\"\n",
              "       width=\"24px\">\n",
              "    <path d=\"M0 0h24v24H0V0z\" fill=\"none\"/>\n",
              "    <path d=\"M18.56 5.44l.94 2.06.94-2.06 2.06-.94-2.06-.94-.94-2.06-.94 2.06-2.06.94zm-11 1L8.5 8.5l.94-2.06 2.06-.94-2.06-.94L8.5 2.5l-.94 2.06-2.06.94zm10 10l.94 2.06.94-2.06 2.06-.94-2.06-.94-.94-2.06-.94 2.06-2.06.94z\"/><path d=\"M17.41 7.96l-1.37-1.37c-.4-.4-.92-.59-1.43-.59-.52 0-1.04.2-1.43.59L10.3 9.45l-7.72 7.72c-.78.78-.78 2.05 0 2.83L4 21.41c.39.39.9.59 1.41.59.51 0 1.02-.2 1.41-.59l7.78-7.78 2.81-2.81c.8-.78.8-2.07 0-2.86zM5.41 20L4 18.59l7.72-7.72 1.47 1.35L5.41 20z\"/>\n",
              "  </svg>\n",
              "      </button>\n",
              "      \n",
              "  <style>\n",
              "    .colab-df-container {\n",
              "      display:flex;\n",
              "      flex-wrap:wrap;\n",
              "      gap: 12px;\n",
              "    }\n",
              "\n",
              "    .colab-df-convert {\n",
              "      background-color: #E8F0FE;\n",
              "      border: none;\n",
              "      border-radius: 50%;\n",
              "      cursor: pointer;\n",
              "      display: none;\n",
              "      fill: #1967D2;\n",
              "      height: 32px;\n",
              "      padding: 0 0 0 0;\n",
              "      width: 32px;\n",
              "    }\n",
              "\n",
              "    .colab-df-convert:hover {\n",
              "      background-color: #E2EBFA;\n",
              "      box-shadow: 0px 1px 2px rgba(60, 64, 67, 0.3), 0px 1px 3px 1px rgba(60, 64, 67, 0.15);\n",
              "      fill: #174EA6;\n",
              "    }\n",
              "\n",
              "    [theme=dark] .colab-df-convert {\n",
              "      background-color: #3B4455;\n",
              "      fill: #D2E3FC;\n",
              "    }\n",
              "\n",
              "    [theme=dark] .colab-df-convert:hover {\n",
              "      background-color: #434B5C;\n",
              "      box-shadow: 0px 1px 3px 1px rgba(0, 0, 0, 0.15);\n",
              "      filter: drop-shadow(0px 1px 2px rgba(0, 0, 0, 0.3));\n",
              "      fill: #FFFFFF;\n",
              "    }\n",
              "  </style>\n",
              "\n",
              "      <script>\n",
              "        const buttonEl =\n",
              "          document.querySelector('#df-d9c99420-9d7f-4a5d-bea7-e561a2077219 button.colab-df-convert');\n",
              "        buttonEl.style.display =\n",
              "          google.colab.kernel.accessAllowed ? 'block' : 'none';\n",
              "\n",
              "        async function convertToInteractive(key) {\n",
              "          const element = document.querySelector('#df-d9c99420-9d7f-4a5d-bea7-e561a2077219');\n",
              "          const dataTable =\n",
              "            await google.colab.kernel.invokeFunction('convertToInteractive',\n",
              "                                                     [key], {});\n",
              "          if (!dataTable) return;\n",
              "\n",
              "          const docLinkHtml = 'Like what you see? Visit the ' +\n",
              "            '<a target=\"_blank\" href=https://colab.research.google.com/notebooks/data_table.ipynb>data table notebook</a>'\n",
              "            + ' to learn more about interactive tables.';\n",
              "          element.innerHTML = '';\n",
              "          dataTable['output_type'] = 'display_data';\n",
              "          await google.colab.output.renderOutput(dataTable, element);\n",
              "          const docLink = document.createElement('div');\n",
              "          docLink.innerHTML = docLinkHtml;\n",
              "          element.appendChild(docLink);\n",
              "        }\n",
              "      </script>\n",
              "    </div>\n",
              "  </div>\n",
              "  "
            ]
          },
          "metadata": {},
          "execution_count": 20
        }
      ]
    },
    {
      "cell_type": "code",
      "source": [
        "from sklearn.feature_extraction.text import TfidfVectorizer\n",
        "\n",
        "def tfidf(df):\n",
        "    tfidf = TfidfVectorizer( stop_words='english',use_idf=True)\n",
        "    tfidf_matrix = tfidf.fit_transform(df)\n",
        "    return tfidf_matrix"
      ],
      "metadata": {
        "id": "YGJWjRIWDeOn"
      },
      "execution_count": null,
      "outputs": []
    },
    {
      "cell_type": "code",
      "source": [
        "# Let's create a matrix with tfidf for the column abstract\n",
        "tfidf_matrix = tfidf(data['content'].values.astype('U'))"
      ],
      "metadata": {
        "id": "jcNL_Cm9Dkl4"
      },
      "execution_count": null,
      "outputs": []
    },
    {
      "cell_type": "code",
      "source": [
        "# in order to explore which documents have more similar respresentaiton, consine simliartiy can be used\n",
        "from sklearn.metrics.pairwise import linear_kernel\n",
        "cosine_similarities = linear_kernel(tfidf_matrix[0:1], tfidf_matrix).flatten()\n",
        "\n",
        "# 10 most related documents indices\n",
        "related_docs_indices = cosine_similarities.argsort()[:-11:-1]\n",
        "print(\"Related Document:\",related_docs_indices)\n",
        "\n",
        "# Cosine Similarties of related documents\n",
        "print(\"Cosine Similarites of related documents\",cosine_similarities[related_docs_indices])"
      ],
      "metadata": {
        "id": "8n-WuEH0F3uB",
        "colab": {
          "base_uri": "https://localhost:8080/"
        },
        "outputId": "752bb9fc-8418-4811-ad09-cd61db676834"
      },
      "execution_count": null,
      "outputs": [
        {
          "output_type": "stream",
          "name": "stdout",
          "text": [
            "Related Document: [   0  123  430 1017 7890 8156 4561 1993 1488 8725]\n",
            "Cosine Similarites of related documents [1.         1.         0.84414205 0.400582   0.25930562 0.24978156\n",
            " 0.18057069 0.17938675 0.17849513 0.17281567]\n"
          ]
        }
      ]
    },
    {
      "cell_type": "code",
      "source": [
        "# Let's take a look at two most similar document\n",
        "data.iloc[1]['content']"
      ],
      "metadata": {
        "id": "xixKLt6HGBIk",
        "colab": {
          "base_uri": "https://localhost:8080/",
          "height": 52
        },
        "outputId": "3b784d5b-9f4a-4f8c-a0f8-dfa18d8f3a54"
      },
      "execution_count": null,
      "outputs": [
        {
          "output_type": "execute_result",
          "data": {
            "text/plain": [
              "\"['States', 'jobless', 'rate', 'fell', '52', 'per', 'cent', 'last', 'month', 'according', 'latest', 'official', 'figure', 'higher', 'previously', 'reported', 'account', 'upward', 'revision', 'Central', 'Statistics', 'Office', 'CSO', 'one', 'several', 'last', 'two', 'year', 'Nonethe', '800', 'char']\""
            ],
            "application/vnd.google.colaboratory.intrinsic+json": {
              "type": "string"
            }
          },
          "metadata": {},
          "execution_count": 24
        }
      ]
    },
    {
      "cell_type": "code",
      "source": [
        "from wordcloud import WordCloud\n",
        "import matplotlib.pyplot as plt\n",
        "wordcloud = WordCloud().generate(data.iloc[0]['content'])\n",
        "plt.imshow(wordcloud, interpolation=\"bilinear\")"
      ],
      "metadata": {
        "id": "PETGgFZXGNn4",
        "colab": {
          "base_uri": "https://localhost:8080/",
          "height": 236
        },
        "outputId": "633bfebd-0534-4a48-8534-11f83e1f45ef"
      },
      "execution_count": null,
      "outputs": [
        {
          "output_type": "execute_result",
          "data": {
            "text/plain": [
              "<matplotlib.image.AxesImage at 0x7fab90d9c990>"
            ]
          },
          "metadata": {},
          "execution_count": 25
        },
        {
          "output_type": "display_data",
          "data": {
            "text/plain": [
              "<Figure size 432x288 with 1 Axes>"
            ],
            "image/png": "[encoded data removed]"
          },
          "metadata": {
            "needs_background": "light"
          }
        }
      ]
    },
    {
      "cell_type": "markdown",
      "source": [
        "#### E. Evalution"
      ],
      "metadata": {
        "id": "ysPkF_SM93GW"
      }
    },
    {
      "cell_type": "code",
      "source": [
        "def AveragePrecission(data):\n",
        "    hasil = 0\n",
        "    k = 1\n",
        "    for i in range(len(data)):\n",
        "        hasil +=  (k / data[i-1].get(\"content\"))\n",
        "        k += 1   \n",
        "    if len(dict) > 0:\n",
        "        return hasil/len(data)\n",
        "    else:\n",
        "        return 0\n",
        "            \n",
        "    \n",
        "\n",
        "def MeanAveragePrecission():\n",
        "    ct = 0\n",
        "    ans = 0\n",
        "    jumlah_result = 10\n",
        "    for i in range (10):\n",
        "        ct = result[i-1]\n",
        "        ans += AveragePrecission(ct)\n",
        "        print(\"result :\", i, \"\\tAverage Precission :\", AveragePrecission(ct))\n",
        "\n",
        "    print(\"\\nTotal Mean Average Precission :\", ans/jumlah_result)"
      ],
      "metadata": {
        "id": "ClXkEQALG3y_"
      },
      "execution_count": null,
      "outputs": []
    }
  ]
}