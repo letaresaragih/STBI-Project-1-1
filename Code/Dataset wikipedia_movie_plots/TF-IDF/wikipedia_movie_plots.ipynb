{
  "cells": [
    {
      "cell_type": "code",
      "execution_count": null,
      "metadata": {
        "colab": {
          "base_uri": "https://localhost:8080/"
        },
        "id": "rTY7DXpJ1pn7",
        "outputId": "108489b2-7815-49b4-c19f-6433ff6b2f43"
      },
      "outputs": [
        {
          "output_type": "stream",
          "name": "stdout",
          "text": [
            "Mounted at /content/drive\n"
          ]
        }
      ],
      "source": [
        "from google.colab import drive\n",
        "drive.mount('/content/drive')"
      ]
    },
    {
      "cell_type": "code",
      "execution_count": null,
      "metadata": {
        "colab": {
          "base_uri": "https://localhost:8080/"
        },
        "id": "UY_u3ywGypfb",
        "outputId": "ee171225-a376-4a62-824b-dabffe3b1c2f"
      },
      "outputs": [
        {
          "output_type": "stream",
          "name": "stdout",
          "text": [
            "[nltk_data] Downloading package punkt to /root/nltk_data...\n",
            "[nltk_data]   Unzipping tokenizers/punkt.zip.\n"
          ]
        }
      ],
      "source": [
        "import pandas as pd\n",
        "# import numpy as np \n",
        "import re\n",
        "import string \n",
        "import nltk\n",
        "nltk.download('punkt')\n",
        "# import word_tokenize & FreqDist from NLTK\n",
        "from nltk.tokenize import word_tokenize \n",
        "from nltk.probability import FreqDist\n",
        "from nltk.corpus import stopwords\n",
        "from sklearn.feature_extraction.text import TfidfVectorizer"
      ]
    },
    {
      "cell_type": "code",
      "execution_count": null,
      "metadata": {
        "id": "-9qSQS15q2RS"
      },
      "outputs": [],
      "source": [
        "df = pd.read_csv(\"./drive/MyDrive/Semester8/STBI/wiki_movie_plots_deduped.csv\", index_col=0)\n"
      ]
    },
    {
      "cell_type": "code",
      "execution_count": null,
      "metadata": {
        "colab": {
          "base_uri": "https://localhost:8080/"
        },
        "id": "tKfIJhlaMqrW",
        "outputId": "c1d936d6-fca3-47fc-ffcb-96f550476100"
      },
      "outputs": [
        {
          "output_type": "execute_result",
          "data": {
            "text/plain": [
              "<bound method DataFrame.info of                                          Title Origin/Ethnicity  \\\n",
              "Release Year                                                      \n",
              "1901                    Kansas Saloon Smashers         American   \n",
              "1901             Love by the Light of the Moon         American   \n",
              "1901                   The Martyred Presidents         American   \n",
              "1901          Terrible Teddy, the Grizzly King         American   \n",
              "1902                    Jack and the Beanstalk         American   \n",
              "...                                        ...              ...   \n",
              "2014                         The Water Diviner          Turkish   \n",
              "2017                        Çalgı Çengi İkimiz          Turkish   \n",
              "2017                              Olanlar Oldu          Turkish   \n",
              "2017                          Non-Transferable          Turkish   \n",
              "2017                        İstanbul Kırmızısı          Turkish   \n",
              "\n",
              "                                        Director  \\\n",
              "Release Year                                       \n",
              "1901                                     Unknown   \n",
              "1901                                     Unknown   \n",
              "1901                                     Unknown   \n",
              "1901                                     Unknown   \n",
              "1902          George S. Fleming, Edwin S. Porter   \n",
              "...                                          ...   \n",
              "2014                     Director: Russell Crowe   \n",
              "2017                              Selçuk Aydemir   \n",
              "2017                                 Hakan Algül   \n",
              "2017                             Brendan Bradley   \n",
              "2017                              Ferzan Özpetek   \n",
              "\n",
              "                                                           Cast  \\\n",
              "Release Year                                                      \n",
              "1901                                                        NaN   \n",
              "1901                                                        NaN   \n",
              "1901                                                        NaN   \n",
              "1901                                                        NaN   \n",
              "1902                                                        NaN   \n",
              "...                                                         ...   \n",
              "2014          Director: Russell Crowe\\r\\nCast: Russell Crowe...   \n",
              "2017                                  Ahmet Kural, Murat Cemcir   \n",
              "2017                      Ata Demirer, Tuvana Türkay, Ülkü Duru   \n",
              "2017          YouTubers Shanna Malcolm, Shira Lazar, Sara Fl...   \n",
              "2017          Halit Ergenç, Tuba Büyüküstün, Mehmet Günsür, ...   \n",
              "\n",
              "                        Genre  \\\n",
              "Release Year                    \n",
              "1901                  unknown   \n",
              "1901                  unknown   \n",
              "1901                  unknown   \n",
              "1901                  unknown   \n",
              "1902                  unknown   \n",
              "...                       ...   \n",
              "2014                  unknown   \n",
              "2017                   comedy   \n",
              "2017                   comedy   \n",
              "2017          romantic comedy   \n",
              "2017                 romantic   \n",
              "\n",
              "                                                      Wiki Page  \\\n",
              "Release Year                                                      \n",
              "1901          https://en.wikipedia.org/wiki/Kansas_Saloon_Sm...   \n",
              "1901          https://en.wikipedia.org/wiki/Love_by_the_Ligh...   \n",
              "1901          https://en.wikipedia.org/wiki/The_Martyred_Pre...   \n",
              "1901          https://en.wikipedia.org/wiki/Terrible_Teddy,_...   \n",
              "1902          https://en.wikipedia.org/wiki/Jack_and_the_Bea...   \n",
              "...                                                         ...   \n",
              "2014            https://en.wikipedia.org/wiki/The_Water_Diviner   \n",
              "2017          https://en.wikipedia.org/wiki/%C3%87alg%C4%B1_...   \n",
              "2017                 https://en.wikipedia.org/wiki/Olanlar_Oldu   \n",
              "2017          https://en.wikipedia.org/wiki/Non-Transferable...   \n",
              "2017          https://en.wikipedia.org/wiki/%C4%B0stanbul_K%...   \n",
              "\n",
              "                                                           Plot  \n",
              "Release Year                                                     \n",
              "1901          A bartender is working at a saloon, serving dr...  \n",
              "1901          The moon, painted with a smiling face hangs ov...  \n",
              "1901          The film, just over a minute long, is composed...  \n",
              "1901          Lasting just 61 seconds and consisting of two ...  \n",
              "1902          The earliest known adaptation of the classic f...  \n",
              "...                                                         ...  \n",
              "2014          The film begins in 1919, just after World War ...  \n",
              "2017          Two musicians, Salih and Gürkan, described the...  \n",
              "2017          Zafer, a sailor living with his mother Döndü i...  \n",
              "2017          The film centres around a young woman named Am...  \n",
              "2017          The writer Orhan Şahin returns to İstanbul aft...  \n",
              "\n",
              "[34886 rows x 7 columns]>"
            ]
          },
          "metadata": {},
          "execution_count": 4
        }
      ],
      "source": [
        "df.info"
      ]
    },
    {
      "cell_type": "code",
      "execution_count": null,
      "metadata": {
        "colab": {
          "base_uri": "https://localhost:8080/",
          "height": 236
        },
        "id": "RfAlfVJ4lqdg",
        "outputId": "66e31d4f-0fe2-4ca1-c8d8-39513661ef44"
      },
      "outputs": [
        {
          "output_type": "execute_result",
          "data": {
            "text/plain": [
              "             Title Origin/Ethnicity Director           Cast    Genre  \\\n",
              "count        34886            34886    34886          33464    34886   \n",
              "unique       32432               24    12593          32182     2265   \n",
              "top     Cinderella         American  Unknown  Tom and Jerry  unknown   \n",
              "freq             8            17377     1124             80     6083   \n",
              "\n",
              "                                                Wiki Page  \\\n",
              "count                                               34886   \n",
              "unique                                              34070   \n",
              "top     https://en.wikipedia.org/wiki/Digimon_Adventur...   \n",
              "freq                                                    5   \n",
              "\n",
              "                                                     Plot  \n",
              "count                                               34886  \n",
              "unique                                              33869  \n",
              "top     (マッスル人参争奪！超人大戦争, Massuru Ninjin Soudatsu! Chou...  \n",
              "freq                                                    6  "
            ],
            "text/html": [
              "\n",
              "  <div id=\"df-d27c0242-f98e-4f84-80bf-fb6a69d61c65\">\n",
              "    <div class=\"colab-df-container\">\n",
              "      <div>\n",
              "<style scoped>\n",
              "    .dataframe tbody tr th:only-of-type {\n",
              "        vertical-align: middle;\n",
              "    }\n",
              "\n",
              "    .dataframe tbody tr th {\n",
              "        vertical-align: top;\n",
              "    }\n",
              "\n",
              "    .dataframe thead th {\n",
              "        text-align: right;\n",
              "    }\n",
              "</style>\n",
              "<table border=\"1\" class=\"dataframe\">\n",
              "  <thead>\n",
              "    <tr style=\"text-align: right;\">\n",
              "      <th></th>\n",
              "      <th>Title</th>\n",
              "      <th>Origin/Ethnicity</th>\n",
              "      <th>Director</th>\n",
              "      <th>Cast</th>\n",
              "      <th>Genre</th>\n",
              "      <th>Wiki Page</th>\n",
              "      <th>Plot</th>\n",
              "    </tr>\n",
              "  </thead>\n",
              "  <tbody>\n",
              "    <tr>\n",
              "      <th>count</th>\n",
              "      <td>34886</td>\n",
              "      <td>34886</td>\n",
              "      <td>34886</td>\n",
              "      <td>33464</td>\n",
              "      <td>34886</td>\n",
              "      <td>34886</td>\n",
              "      <td>34886</td>\n",
              "    </tr>\n",
              "    <tr>\n",
              "      <th>unique</th>\n",
              "      <td>32432</td>\n",
              "      <td>24</td>\n",
              "      <td>12593</td>\n",
              "      <td>32182</td>\n",
              "      <td>2265</td>\n",
              "      <td>34070</td>\n",
              "      <td>33869</td>\n",
              "    </tr>\n",
              "    <tr>\n",
              "      <th>top</th>\n",
              "      <td>Cinderella</td>\n",
              "      <td>American</td>\n",
              "      <td>Unknown</td>\n",
              "      <td>Tom and Jerry</td>\n",
              "      <td>unknown</td>\n",
              "      <td>https://en.wikipedia.org/wiki/Digimon_Adventur...</td>\n",
              "      <td>(マッスル人参争奪！超人大戦争, Massuru Ninjin Soudatsu! Chou...</td>\n",
              "    </tr>\n",
              "    <tr>\n",
              "      <th>freq</th>\n",
              "      <td>8</td>\n",
              "      <td>17377</td>\n",
              "      <td>1124</td>\n",
              "      <td>80</td>\n",
              "      <td>6083</td>\n",
              "      <td>5</td>\n",
              "      <td>6</td>\n",
              "    </tr>\n",
              "  </tbody>\n",
              "</table>\n",
              "</div>\n",
              "      <button class=\"colab-df-convert\" onclick=\"convertToInteractive('df-d27c0242-f98e-4f84-80bf-fb6a69d61c65')\"\n",
              "              title=\"Convert this dataframe to an interactive table.\"\n",
              "              style=\"display:none;\">\n",
              "        \n",
              "  <svg xmlns=\"http://www.w3.org/2000/svg\" height=\"24px\"viewBox=\"0 0 24 24\"\n",
              "       width=\"24px\">\n",
              "    <path d=\"M0 0h24v24H0V0z\" fill=\"none\"/>\n",
              "    <path d=\"M18.56 5.44l.94 2.06.94-2.06 2.06-.94-2.06-.94-.94-2.06-.94 2.06-2.06.94zm-11 1L8.5 8.5l.94-2.06 2.06-.94-2.06-.94L8.5 2.5l-.94 2.06-2.06.94zm10 10l.94 2.06.94-2.06 2.06-.94-2.06-.94-.94-2.06-.94 2.06-2.06.94z\"/><path d=\"M17.41 7.96l-1.37-1.37c-.4-.4-.92-.59-1.43-.59-.52 0-1.04.2-1.43.59L10.3 9.45l-7.72 7.72c-.78.78-.78 2.05 0 2.83L4 21.41c.39.39.9.59 1.41.59.51 0 1.02-.2 1.41-.59l7.78-7.78 2.81-2.81c.8-.78.8-2.07 0-2.86zM5.41 20L4 18.59l7.72-7.72 1.47 1.35L5.41 20z\"/>\n",
              "  </svg>\n",
              "      </button>\n",
              "      \n",
              "  <style>\n",
              "    .colab-df-container {\n",
              "      display:flex;\n",
              "      flex-wrap:wrap;\n",
              "      gap: 12px;\n",
              "    }\n",
              "\n",
              "    .colab-df-convert {\n",
              "      background-color: #E8F0FE;\n",
              "      border: none;\n",
              "      border-radius: 50%;\n",
              "      cursor: pointer;\n",
              "      display: none;\n",
              "      fill: #1967D2;\n",
              "      height: 32px;\n",
              "      padding: 0 0 0 0;\n",
              "      width: 32px;\n",
              "    }\n",
              "\n",
              "    .colab-df-convert:hover {\n",
              "      background-color: #E2EBFA;\n",
              "      box-shadow: 0px 1px 2px rgba(60, 64, 67, 0.3), 0px 1px 3px 1px rgba(60, 64, 67, 0.15);\n",
              "      fill: #174EA6;\n",
              "    }\n",
              "\n",
              "    [theme=dark] .colab-df-convert {\n",
              "      background-color: #3B4455;\n",
              "      fill: #D2E3FC;\n",
              "    }\n",
              "\n",
              "    [theme=dark] .colab-df-convert:hover {\n",
              "      background-color: #434B5C;\n",
              "      box-shadow: 0px 1px 3px 1px rgba(0, 0, 0, 0.15);\n",
              "      filter: drop-shadow(0px 1px 2px rgba(0, 0, 0, 0.3));\n",
              "      fill: #FFFFFF;\n",
              "    }\n",
              "  </style>\n",
              "\n",
              "      <script>\n",
              "        const buttonEl =\n",
              "          document.querySelector('#df-d27c0242-f98e-4f84-80bf-fb6a69d61c65 button.colab-df-convert');\n",
              "        buttonEl.style.display =\n",
              "          google.colab.kernel.accessAllowed ? 'block' : 'none';\n",
              "\n",
              "        async function convertToInteractive(key) {\n",
              "          const element = document.querySelector('#df-d27c0242-f98e-4f84-80bf-fb6a69d61c65');\n",
              "          const dataTable =\n",
              "            await google.colab.kernel.invokeFunction('convertToInteractive',\n",
              "                                                     [key], {});\n",
              "          if (!dataTable) return;\n",
              "\n",
              "          const docLinkHtml = 'Like what you see? Visit the ' +\n",
              "            '<a target=\"_blank\" href=https://colab.research.google.com/notebooks/data_table.ipynb>data table notebook</a>'\n",
              "            + ' to learn more about interactive tables.';\n",
              "          element.innerHTML = '';\n",
              "          dataTable['output_type'] = 'display_data';\n",
              "          await google.colab.output.renderOutput(dataTable, element);\n",
              "          const docLink = document.createElement('div');\n",
              "          docLink.innerHTML = docLinkHtml;\n",
              "          element.appendChild(docLink);\n",
              "        }\n",
              "      </script>\n",
              "    </div>\n",
              "  </div>\n",
              "  "
            ]
          },
          "metadata": {},
          "execution_count": 5
        }
      ],
      "source": [
        "df.describe(include=object)"
      ]
    },
    {
      "cell_type": "code",
      "execution_count": null,
      "metadata": {
        "colab": {
          "base_uri": "https://localhost:8080/"
        },
        "id": "5B2COi-B4-3D",
        "outputId": "ce324c58-4379-4e1e-f468-d0562407058c"
      },
      "outputs": [
        {
          "output_type": "execute_result",
          "data": {
            "text/plain": [
              "Title                  0\n",
              "Origin/Ethnicity       0\n",
              "Director               0\n",
              "Cast                1422\n",
              "Genre                  0\n",
              "Wiki Page              0\n",
              "Plot                   0\n",
              "dtype: int64"
            ]
          },
          "metadata": {},
          "execution_count": 6
        }
      ],
      "source": [
        "df.isna().sum()"
      ]
    },
    {
      "cell_type": "code",
      "execution_count": null,
      "metadata": {
        "id": "It2-U3wlMtcB"
      },
      "outputs": [],
      "source": [
        "result = df.drop(['Origin/Ethnicity', 'Director', 'Cast', 'Wiki Page'], axis = 1)"
      ]
    },
    {
      "cell_type": "code",
      "execution_count": null,
      "metadata": {
        "colab": {
          "base_uri": "https://localhost:8080/",
          "height": 455
        },
        "id": "gva_bSA4PZrP",
        "outputId": "e2fc0839-6958-4e7c-fcc2-634917adc9b0"
      },
      "outputs": [
        {
          "output_type": "execute_result",
          "data": {
            "text/plain": [
              "                                         Title            Genre  \\\n",
              "Release Year                                                      \n",
              "1901                    Kansas Saloon Smashers          unknown   \n",
              "1901             Love by the Light of the Moon          unknown   \n",
              "1901                   The Martyred Presidents          unknown   \n",
              "1901          Terrible Teddy, the Grizzly King          unknown   \n",
              "1902                    Jack and the Beanstalk          unknown   \n",
              "...                                        ...              ...   \n",
              "2014                         The Water Diviner          unknown   \n",
              "2017                        Çalgı Çengi İkimiz           comedy   \n",
              "2017                              Olanlar Oldu           comedy   \n",
              "2017                          Non-Transferable  romantic comedy   \n",
              "2017                        İstanbul Kırmızısı         romantic   \n",
              "\n",
              "                                                           Plot  \n",
              "Release Year                                                     \n",
              "1901          A bartender is working at a saloon, serving dr...  \n",
              "1901          The moon, painted with a smiling face hangs ov...  \n",
              "1901          The film, just over a minute long, is composed...  \n",
              "1901          Lasting just 61 seconds and consisting of two ...  \n",
              "1902          The earliest known adaptation of the classic f...  \n",
              "...                                                         ...  \n",
              "2014          The film begins in 1919, just after World War ...  \n",
              "2017          Two musicians, Salih and Gürkan, described the...  \n",
              "2017          Zafer, a sailor living with his mother Döndü i...  \n",
              "2017          The film centres around a young woman named Am...  \n",
              "2017          The writer Orhan Şahin returns to İstanbul aft...  \n",
              "\n",
              "[34886 rows x 3 columns]"
            ],
            "text/html": [
              "\n",
              "  <div id=\"df-ff4875af-5985-4243-8f2e-580415438ec3\">\n",
              "    <div class=\"colab-df-container\">\n",
              "      <div>\n",
              "<style scoped>\n",
              "    .dataframe tbody tr th:only-of-type {\n",
              "        vertical-align: middle;\n",
              "    }\n",
              "\n",
              "    .dataframe tbody tr th {\n",
              "        vertical-align: top;\n",
              "    }\n",
              "\n",
              "    .dataframe thead th {\n",
              "        text-align: right;\n",
              "    }\n",
              "</style>\n",
              "<table border=\"1\" class=\"dataframe\">\n",
              "  <thead>\n",
              "    <tr style=\"text-align: right;\">\n",
              "      <th></th>\n",
              "      <th>Title</th>\n",
              "      <th>Genre</th>\n",
              "      <th>Plot</th>\n",
              "    </tr>\n",
              "    <tr>\n",
              "      <th>Release Year</th>\n",
              "      <th></th>\n",
              "      <th></th>\n",
              "      <th></th>\n",
              "    </tr>\n",
              "  </thead>\n",
              "  <tbody>\n",
              "    <tr>\n",
              "      <th>1901</th>\n",
              "      <td>Kansas Saloon Smashers</td>\n",
              "      <td>unknown</td>\n",
              "      <td>A bartender is working at a saloon, serving dr...</td>\n",
              "    </tr>\n",
              "    <tr>\n",
              "      <th>1901</th>\n",
              "      <td>Love by the Light of the Moon</td>\n",
              "      <td>unknown</td>\n",
              "      <td>The moon, painted with a smiling face hangs ov...</td>\n",
              "    </tr>\n",
              "    <tr>\n",
              "      <th>1901</th>\n",
              "      <td>The Martyred Presidents</td>\n",
              "      <td>unknown</td>\n",
              "      <td>The film, just over a minute long, is composed...</td>\n",
              "    </tr>\n",
              "    <tr>\n",
              "      <th>1901</th>\n",
              "      <td>Terrible Teddy, the Grizzly King</td>\n",
              "      <td>unknown</td>\n",
              "      <td>Lasting just 61 seconds and consisting of two ...</td>\n",
              "    </tr>\n",
              "    <tr>\n",
              "      <th>1902</th>\n",
              "      <td>Jack and the Beanstalk</td>\n",
              "      <td>unknown</td>\n",
              "      <td>The earliest known adaptation of the classic f...</td>\n",
              "    </tr>\n",
              "    <tr>\n",
              "      <th>...</th>\n",
              "      <td>...</td>\n",
              "      <td>...</td>\n",
              "      <td>...</td>\n",
              "    </tr>\n",
              "    <tr>\n",
              "      <th>2014</th>\n",
              "      <td>The Water Diviner</td>\n",
              "      <td>unknown</td>\n",
              "      <td>The film begins in 1919, just after World War ...</td>\n",
              "    </tr>\n",
              "    <tr>\n",
              "      <th>2017</th>\n",
              "      <td>Çalgı Çengi İkimiz</td>\n",
              "      <td>comedy</td>\n",
              "      <td>Two musicians, Salih and Gürkan, described the...</td>\n",
              "    </tr>\n",
              "    <tr>\n",
              "      <th>2017</th>\n",
              "      <td>Olanlar Oldu</td>\n",
              "      <td>comedy</td>\n",
              "      <td>Zafer, a sailor living with his mother Döndü i...</td>\n",
              "    </tr>\n",
              "    <tr>\n",
              "      <th>2017</th>\n",
              "      <td>Non-Transferable</td>\n",
              "      <td>romantic comedy</td>\n",
              "      <td>The film centres around a young woman named Am...</td>\n",
              "    </tr>\n",
              "    <tr>\n",
              "      <th>2017</th>\n",
              "      <td>İstanbul Kırmızısı</td>\n",
              "      <td>romantic</td>\n",
              "      <td>The writer Orhan Şahin returns to İstanbul aft...</td>\n",
              "    </tr>\n",
              "  </tbody>\n",
              "</table>\n",
              "<p>34886 rows × 3 columns</p>\n",
              "</div>\n",
              "      <button class=\"colab-df-convert\" onclick=\"convertToInteractive('df-ff4875af-5985-4243-8f2e-580415438ec3')\"\n",
              "              title=\"Convert this dataframe to an interactive table.\"\n",
              "              style=\"display:none;\">\n",
              "        \n",
              "  <svg xmlns=\"http://www.w3.org/2000/svg\" height=\"24px\"viewBox=\"0 0 24 24\"\n",
              "       width=\"24px\">\n",
              "    <path d=\"M0 0h24v24H0V0z\" fill=\"none\"/>\n",
              "    <path d=\"M18.56 5.44l.94 2.06.94-2.06 2.06-.94-2.06-.94-.94-2.06-.94 2.06-2.06.94zm-11 1L8.5 8.5l.94-2.06 2.06-.94-2.06-.94L8.5 2.5l-.94 2.06-2.06.94zm10 10l.94 2.06.94-2.06 2.06-.94-2.06-.94-.94-2.06-.94 2.06-2.06.94z\"/><path d=\"M17.41 7.96l-1.37-1.37c-.4-.4-.92-.59-1.43-.59-.52 0-1.04.2-1.43.59L10.3 9.45l-7.72 7.72c-.78.78-.78 2.05 0 2.83L4 21.41c.39.39.9.59 1.41.59.51 0 1.02-.2 1.41-.59l7.78-7.78 2.81-2.81c.8-.78.8-2.07 0-2.86zM5.41 20L4 18.59l7.72-7.72 1.47 1.35L5.41 20z\"/>\n",
              "  </svg>\n",
              "      </button>\n",
              "      \n",
              "  <style>\n",
              "    .colab-df-container {\n",
              "      display:flex;\n",
              "      flex-wrap:wrap;\n",
              "      gap: 12px;\n",
              "    }\n",
              "\n",
              "    .colab-df-convert {\n",
              "      background-color: #E8F0FE;\n",
              "      border: none;\n",
              "      border-radius: 50%;\n",
              "      cursor: pointer;\n",
              "      display: none;\n",
              "      fill: #1967D2;\n",
              "      height: 32px;\n",
              "      padding: 0 0 0 0;\n",
              "      width: 32px;\n",
              "    }\n",
              "\n",
              "    .colab-df-convert:hover {\n",
              "      background-color: #E2EBFA;\n",
              "      box-shadow: 0px 1px 2px rgba(60, 64, 67, 0.3), 0px 1px 3px 1px rgba(60, 64, 67, 0.15);\n",
              "      fill: #174EA6;\n",
              "    }\n",
              "\n",
              "    [theme=dark] .colab-df-convert {\n",
              "      background-color: #3B4455;\n",
              "      fill: #D2E3FC;\n",
              "    }\n",
              "\n",
              "    [theme=dark] .colab-df-convert:hover {\n",
              "      background-color: #434B5C;\n",
              "      box-shadow: 0px 1px 3px 1px rgba(0, 0, 0, 0.15);\n",
              "      filter: drop-shadow(0px 1px 2px rgba(0, 0, 0, 0.3));\n",
              "      fill: #FFFFFF;\n",
              "    }\n",
              "  </style>\n",
              "\n",
              "      <script>\n",
              "        const buttonEl =\n",
              "          document.querySelector('#df-ff4875af-5985-4243-8f2e-580415438ec3 button.colab-df-convert');\n",
              "        buttonEl.style.display =\n",
              "          google.colab.kernel.accessAllowed ? 'block' : 'none';\n",
              "\n",
              "        async function convertToInteractive(key) {\n",
              "          const element = document.querySelector('#df-ff4875af-5985-4243-8f2e-580415438ec3');\n",
              "          const dataTable =\n",
              "            await google.colab.kernel.invokeFunction('convertToInteractive',\n",
              "                                                     [key], {});\n",
              "          if (!dataTable) return;\n",
              "\n",
              "          const docLinkHtml = 'Like what you see? Visit the ' +\n",
              "            '<a target=\"_blank\" href=https://colab.research.google.com/notebooks/data_table.ipynb>data table notebook</a>'\n",
              "            + ' to learn more about interactive tables.';\n",
              "          element.innerHTML = '';\n",
              "          dataTable['output_type'] = 'display_data';\n",
              "          await google.colab.output.renderOutput(dataTable, element);\n",
              "          const docLink = document.createElement('div');\n",
              "          docLink.innerHTML = docLinkHtml;\n",
              "          element.appendChild(docLink);\n",
              "        }\n",
              "      </script>\n",
              "    </div>\n",
              "  </div>\n",
              "  "
            ]
          },
          "metadata": {},
          "execution_count": 8
        }
      ],
      "source": [
        "result"
      ]
    },
    {
      "cell_type": "code",
      "execution_count": null,
      "metadata": {
        "colab": {
          "base_uri": "https://localhost:8080/"
        },
        "id": "vXdW_IHuP7Ij",
        "outputId": "1f6c999d-a44e-407a-f579-894de1753d14"
      },
      "outputs": [
        {
          "output_type": "stream",
          "name": "stdout",
          "text": [
            "             Title    Genre                                               Plot\n",
            "count        34886    34886                                              34886\n",
            "unique       32432     2265                                              33869\n",
            "top     Cinderella  unknown  (マッスル人参争奪！超人大戦争, Massuru Ninjin Soudatsu! Chou...\n",
            "freq             8     6083                                                  6\n"
          ]
        }
      ],
      "source": [
        "print(str(result.describe(include=object)))"
      ]
    },
    {
      "cell_type": "code",
      "execution_count": null,
      "metadata": {
        "colab": {
          "base_uri": "https://localhost:8080/",
          "height": 175
        },
        "id": "MDYZ5VNnQJC8",
        "outputId": "1a9dd7ae-b5b6-4879-e6aa-fd1d1936866a"
      },
      "outputs": [
        {
          "output_type": "execute_result",
          "data": {
            "text/plain": [
              "             Title  Genre                                               Plot\n",
              "count        33869  33869                                              33869\n",
              "unique       31977   2192                                              33869\n",
              "top     Cinderella  drama  A bartender is working at a saloon, serving dr...\n",
              "freq             7   5860                                                  1"
            ],
            "text/html": [
              "\n",
              "  <div id=\"df-3138ee7f-ab87-4bac-ab51-8d0c8311b87d\">\n",
              "    <div class=\"colab-df-container\">\n",
              "      <div>\n",
              "<style scoped>\n",
              "    .dataframe tbody tr th:only-of-type {\n",
              "        vertical-align: middle;\n",
              "    }\n",
              "\n",
              "    .dataframe tbody tr th {\n",
              "        vertical-align: top;\n",
              "    }\n",
              "\n",
              "    .dataframe thead th {\n",
              "        text-align: right;\n",
              "    }\n",
              "</style>\n",
              "<table border=\"1\" class=\"dataframe\">\n",
              "  <thead>\n",
              "    <tr style=\"text-align: right;\">\n",
              "      <th></th>\n",
              "      <th>Title</th>\n",
              "      <th>Genre</th>\n",
              "      <th>Plot</th>\n",
              "    </tr>\n",
              "  </thead>\n",
              "  <tbody>\n",
              "    <tr>\n",
              "      <th>count</th>\n",
              "      <td>33869</td>\n",
              "      <td>33869</td>\n",
              "      <td>33869</td>\n",
              "    </tr>\n",
              "    <tr>\n",
              "      <th>unique</th>\n",
              "      <td>31977</td>\n",
              "      <td>2192</td>\n",
              "      <td>33869</td>\n",
              "    </tr>\n",
              "    <tr>\n",
              "      <th>top</th>\n",
              "      <td>Cinderella</td>\n",
              "      <td>drama</td>\n",
              "      <td>A bartender is working at a saloon, serving dr...</td>\n",
              "    </tr>\n",
              "    <tr>\n",
              "      <th>freq</th>\n",
              "      <td>7</td>\n",
              "      <td>5860</td>\n",
              "      <td>1</td>\n",
              "    </tr>\n",
              "  </tbody>\n",
              "</table>\n",
              "</div>\n",
              "      <button class=\"colab-df-convert\" onclick=\"convertToInteractive('df-3138ee7f-ab87-4bac-ab51-8d0c8311b87d')\"\n",
              "              title=\"Convert this dataframe to an interactive table.\"\n",
              "              style=\"display:none;\">\n",
              "        \n",
              "  <svg xmlns=\"http://www.w3.org/2000/svg\" height=\"24px\"viewBox=\"0 0 24 24\"\n",
              "       width=\"24px\">\n",
              "    <path d=\"M0 0h24v24H0V0z\" fill=\"none\"/>\n",
              "    <path d=\"M18.56 5.44l.94 2.06.94-2.06 2.06-.94-2.06-.94-.94-2.06-.94 2.06-2.06.94zm-11 1L8.5 8.5l.94-2.06 2.06-.94-2.06-.94L8.5 2.5l-.94 2.06-2.06.94zm10 10l.94 2.06.94-2.06 2.06-.94-2.06-.94-.94-2.06-.94 2.06-2.06.94z\"/><path d=\"M17.41 7.96l-1.37-1.37c-.4-.4-.92-.59-1.43-.59-.52 0-1.04.2-1.43.59L10.3 9.45l-7.72 7.72c-.78.78-.78 2.05 0 2.83L4 21.41c.39.39.9.59 1.41.59.51 0 1.02-.2 1.41-.59l7.78-7.78 2.81-2.81c.8-.78.8-2.07 0-2.86zM5.41 20L4 18.59l7.72-7.72 1.47 1.35L5.41 20z\"/>\n",
              "  </svg>\n",
              "      </button>\n",
              "      \n",
              "  <style>\n",
              "    .colab-df-container {\n",
              "      display:flex;\n",
              "      flex-wrap:wrap;\n",
              "      gap: 12px;\n",
              "    }\n",
              "\n",
              "    .colab-df-convert {\n",
              "      background-color: #E8F0FE;\n",
              "      border: none;\n",
              "      border-radius: 50%;\n",
              "      cursor: pointer;\n",
              "      display: none;\n",
              "      fill: #1967D2;\n",
              "      height: 32px;\n",
              "      padding: 0 0 0 0;\n",
              "      width: 32px;\n",
              "    }\n",
              "\n",
              "    .colab-df-convert:hover {\n",
              "      background-color: #E2EBFA;\n",
              "      box-shadow: 0px 1px 2px rgba(60, 64, 67, 0.3), 0px 1px 3px 1px rgba(60, 64, 67, 0.15);\n",
              "      fill: #174EA6;\n",
              "    }\n",
              "\n",
              "    [theme=dark] .colab-df-convert {\n",
              "      background-color: #3B4455;\n",
              "      fill: #D2E3FC;\n",
              "    }\n",
              "\n",
              "    [theme=dark] .colab-df-convert:hover {\n",
              "      background-color: #434B5C;\n",
              "      box-shadow: 0px 1px 3px 1px rgba(0, 0, 0, 0.15);\n",
              "      filter: drop-shadow(0px 1px 2px rgba(0, 0, 0, 0.3));\n",
              "      fill: #FFFFFF;\n",
              "    }\n",
              "  </style>\n",
              "\n",
              "      <script>\n",
              "        const buttonEl =\n",
              "          document.querySelector('#df-3138ee7f-ab87-4bac-ab51-8d0c8311b87d button.colab-df-convert');\n",
              "        buttonEl.style.display =\n",
              "          google.colab.kernel.accessAllowed ? 'block' : 'none';\n",
              "\n",
              "        async function convertToInteractive(key) {\n",
              "          const element = document.querySelector('#df-3138ee7f-ab87-4bac-ab51-8d0c8311b87d');\n",
              "          const dataTable =\n",
              "            await google.colab.kernel.invokeFunction('convertToInteractive',\n",
              "                                                     [key], {});\n",
              "          if (!dataTable) return;\n",
              "\n",
              "          const docLinkHtml = 'Like what you see? Visit the ' +\n",
              "            '<a target=\"_blank\" href=https://colab.research.google.com/notebooks/data_table.ipynb>data table notebook</a>'\n",
              "            + ' to learn more about interactive tables.';\n",
              "          element.innerHTML = '';\n",
              "          dataTable['output_type'] = 'display_data';\n",
              "          await google.colab.output.renderOutput(dataTable, element);\n",
              "          const docLink = document.createElement('div');\n",
              "          docLink.innerHTML = docLinkHtml;\n",
              "          element.appendChild(docLink);\n",
              "        }\n",
              "      </script>\n",
              "    </div>\n",
              "  </div>\n",
              "  "
            ]
          },
          "metadata": {},
          "execution_count": 10
        }
      ],
      "source": [
        "result =result.drop_duplicates('Plot')\n",
        "result.describe()"
      ]
    },
    {
      "cell_type": "code",
      "execution_count": null,
      "metadata": {
        "colab": {
          "base_uri": "https://localhost:8080/"
        },
        "id": "__UxfHkNOL7q",
        "outputId": "845821bf-9a4e-40a4-fb21-9c73d6827b87"
      },
      "outputs": [
        {
          "output_type": "stream",
          "name": "stderr",
          "text": [
            "/usr/local/lib/python3.7/dist-packages/ipykernel_launcher.py:5: SettingWithCopyWarning: \n",
            "A value is trying to be set on a copy of a slice from a DataFrame.\n",
            "Try using .loc[row_indexer,col_indexer] = value instead\n",
            "\n",
            "See the caveats in the documentation: https://pandas.pydata.org/pandas-docs/stable/user_guide/indexing.html#returning-a-view-versus-a-copy\n",
            "  \"\"\"\n"
          ]
        }
      ],
      "source": [
        "# remove number\n",
        "def remove_number(text):\n",
        "    return  re.sub(r\"\\[0-9]+\", \"\", str(text))\n",
        " \n",
        "result['Plot'] = result['Plot'].apply(remove_number)\n"
      ]
    },
    {
      "cell_type": "code",
      "execution_count": null,
      "metadata": {
        "colab": {
          "base_uri": "https://localhost:8080/"
        },
        "id": "1KE_U9WTOO-_",
        "outputId": "60b237ed-5188-45a9-bbca-fa2777be21e8"
      },
      "outputs": [
        {
          "output_type": "stream",
          "name": "stderr",
          "text": [
            "/usr/local/lib/python3.7/dist-packages/ipykernel_launcher.py:5: SettingWithCopyWarning: \n",
            "A value is trying to be set on a copy of a slice from a DataFrame.\n",
            "Try using .loc[row_indexer,col_indexer] = value instead\n",
            "\n",
            "See the caveats in the documentation: https://pandas.pydata.org/pandas-docs/stable/user_guide/indexing.html#returning-a-view-versus-a-copy\n",
            "  \"\"\"\n"
          ]
        }
      ],
      "source": [
        "# remove punctuation\n",
        "def punctuation(txt):\n",
        "  return re.sub(r\"[^\\w\\s]\",\"\", str(txt))\n",
        "\n",
        "result['Plot'] = result['Plot'].apply(punctuation)\n"
      ]
    },
    {
      "cell_type": "code",
      "execution_count": null,
      "metadata": {
        "id": "RO0HMmXzOdLE"
      },
      "outputs": [],
      "source": [
        "# tokenization\n",
        "def word_tokenize_wrapper(text):\n",
        "  return word_tokenize(text)\n",
        "result = result['Plot'].apply(word_tokenize_wrapper)"
      ]
    },
    {
      "cell_type": "code",
      "execution_count": null,
      "metadata": {
        "colab": {
          "base_uri": "https://localhost:8080/"
        },
        "id": "BVBL22qLOkKd",
        "outputId": "7e02a657-ec53-4b40-fc9f-a38f526f6aa9"
      },
      "outputs": [
        {
          "output_type": "stream",
          "name": "stdout",
          "text": [
            "[nltk_data] Downloading package stopwords to /root/nltk_data...\n",
            "[nltk_data]   Unzipping corpora/stopwords.zip.\n",
            "['i', 'me', 'my', 'myself', 'we', 'our', 'ours', 'ourselves', 'you', \"you're\", \"you've\", \"you'll\", \"you'd\", 'your', 'yours', 'yourself', 'yourselves', 'he', 'him', 'his', 'himself', 'she', \"she's\", 'her', 'hers', 'herself', 'it', \"it's\", 'its', 'itself', 'they', 'them', 'their', 'theirs', 'themselves', 'what', 'which', 'who', 'whom', 'this', 'that', \"that'll\", 'these', 'those', 'am', 'is', 'are', 'was', 'were', 'be', 'been', 'being', 'have', 'has', 'had', 'having', 'do', 'does', 'did', 'doing', 'a', 'an', 'the', 'and', 'but', 'if', 'or', 'because', 'as', 'until', 'while', 'of', 'at', 'by', 'for', 'with', 'about', 'against', 'between', 'into', 'through', 'during', 'before', 'after', 'above', 'below', 'to', 'from', 'up', 'down', 'in', 'out', 'on', 'off', 'over', 'under', 'again', 'further', 'then', 'once', 'here', 'there', 'when', 'where', 'why', 'how', 'all', 'any', 'both', 'each', 'few', 'more', 'most', 'other', 'some', 'such', 'no', 'nor', 'not', 'only', 'own', 'same', 'so', 'than', 'too', 'very', 's', 't', 'can', 'will', 'just', 'don', \"don't\", 'should', \"should've\", 'now', 'd', 'll', 'm', 'o', 're', 've', 'y', 'ain', 'aren', \"aren't\", 'couldn', \"couldn't\", 'didn', \"didn't\", 'doesn', \"doesn't\", 'hadn', \"hadn't\", 'hasn', \"hasn't\", 'haven', \"haven't\", 'isn', \"isn't\", 'ma', 'mightn', \"mightn't\", 'mustn', \"mustn't\", 'needn', \"needn't\", 'shan', \"shan't\", 'shouldn', \"shouldn't\", 'wasn', \"wasn't\", 'weren', \"weren't\", 'won', \"won't\", 'wouldn', \"wouldn't\"]\n"
          ]
        }
      ],
      "source": [
        "#stopword removal\n",
        "import nltk\n",
        "nltk.download('stopwords')\n",
        "from nltk.corpus import stopwords\n",
        "sw_nltk = stopwords.words('english')\n",
        "print(sw_nltk)\n",
        "def stopword(text):\n",
        "  words = [word for word in text if word.lower() not in sw_nltk]\n",
        "  return words\n",
        "result = result.apply(stopword)"
      ]
    },
    {
      "cell_type": "code",
      "execution_count": null,
      "metadata": {
        "colab": {
          "base_uri": "https://localhost:8080/"
        },
        "id": "j8lavO8_RDGp",
        "outputId": "98662404-675b-4cba-89bf-f4ad1026ed8f"
      },
      "outputs": [
        {
          "output_type": "execute_result",
          "data": {
            "text/plain": [
              "Release Year\n",
              "1901    [bartender, working, saloon, serving, drinks, ...\n",
              "1901    [moon, painted, smiling, face, hangs, park, ni...\n",
              "1901    [film, minute, long, composed, two, shots, fir...\n",
              "1901    [Lasting, 61, seconds, consisting, two, shots,...\n",
              "1902    [earliest, known, adaptation, classic, fairyta...\n",
              "                              ...                        \n",
              "2014    [film, follows, elevenyearold, boy, named, Asl...\n",
              "2017    [Two, musicians, Salih, Gürkan, described, adv...\n",
              "2017    [Zafer, sailor, living, mother, Döndü, coastal...\n",
              "2017    [film, centres, around, young, woman, named, A...\n",
              "2017    [writer, Orhan, Şahin, returns, İstanbul, many...\n",
              "Name: Plot, Length: 33869, dtype: object"
            ]
          },
          "metadata": {},
          "execution_count": 15
        }
      ],
      "source": [
        "result"
      ]
    },
    {
      "cell_type": "code",
      "execution_count": null,
      "metadata": {
        "colab": {
          "base_uri": "https://localhost:8080/"
        },
        "id": "rGQJCwCzOo9a",
        "outputId": "5e4f9525-66f9-48b3-9ca7-904457ee99da"
      },
      "outputs": [
        {
          "output_type": "stream",
          "name": "stdout",
          "text": [
            "[nltk_data] Downloading package wordnet to /root/nltk_data...\n",
            "[nltk_data]   Unzipping corpora/wordnet.zip.\n"
          ]
        }
      ],
      "source": [
        "#normalization\n",
        "nltk.download('wordnet')\n",
        "from nltk.stem import WordNetLemmatizer\n",
        "def lemma(text):\n",
        "  lemmatizer = WordNetLemmatizer()\n",
        "  Output= [lemmatizer.lemmatize(words_sent) for words_sent in text]\n",
        "  return Output\n",
        "result = result.apply(lemma)\n"
      ]
    },
    {
      "cell_type": "code",
      "execution_count": null,
      "metadata": {
        "colab": {
          "base_uri": "https://localhost:8080/"
        },
        "id": "__6uovDePYVR",
        "outputId": "5243e948-7cd3-43b7-8bbf-f918b863194a"
      },
      "outputs": [
        {
          "output_type": "execute_result",
          "data": {
            "text/plain": [
              "Release Year\n",
              "1901    [bartender, working, saloon, serving, drink, c...\n",
              "1901    [moon, painted, smiling, face, hang, park, nig...\n",
              "1901    [film, minute, long, composed, two, shot, firs...\n",
              "1901    [Lasting, 61, second, consisting, two, shot, f...\n",
              "1902    [earliest, known, adaptation, classic, fairyta...\n",
              "Name: Plot, dtype: object"
            ]
          },
          "metadata": {},
          "execution_count": 17
        }
      ],
      "source": [
        "result.head()"
      ]
    },
    {
      "cell_type": "code",
      "source": [
        "from sklearn.feature_extraction.text import TfidfVectorizer\n",
        "\n",
        "def tfidf(data):\n",
        "    tfidf = TfidfVectorizer( stop_words='english',use_idf=True)\n",
        "    tfidf_matrix = tfidf.fit_transform(data)\n",
        "    return tfidf_matrix"
      ],
      "metadata": {
        "id": "wffovDst_bUZ"
      },
      "execution_count": null,
      "outputs": []
    },
    {
      "cell_type": "code",
      "execution_count": null,
      "metadata": {
        "id": "NAeAp5PVDghw",
        "colab": {
          "base_uri": "https://localhost:8080/"
        },
        "outputId": "c020eb8b-c9c2-42c6-d6f2-8dd18b76955c"
      },
      "outputs": [
        {
          "output_type": "stream",
          "name": "stdout",
          "text": [
            "(34886, 133863)\n"
          ]
        }
      ],
      "source": [
        "from sklearn.feature_extraction.text import TfidfVectorizer\n",
        "\n",
        "# Create TfidfVectorizer object\n",
        "vectorizer = TfidfVectorizer()\n",
        "\n",
        "# Generate matrix of word vectors\n",
        "tfidf_matrix = vectorizer.fit_transform(df['Plot'])\n",
        "\n",
        "# Print the shape of tfidf_matrix\n",
        "print(tfidf_matrix.shape)"
      ]
    },
    {
      "cell_type": "code",
      "execution_count": null,
      "metadata": {
        "colab": {
          "base_uri": "https://localhost:8080/"
        },
        "id": "FMAb869mEN6q",
        "outputId": "a3e77b25-50bb-4aa1-9c60-fb8e4e7a8a94"
      },
      "outputs": [
        {
          "output_type": "stream",
          "name": "stdout",
          "text": [
            "[1.         0.0972759  0.06480182 ... 0.02055285 0.06222197 0.03647916]\n"
          ]
        }
      ],
      "source": [
        "# in order to explore which documents have more similar respresentaiton, consine simliartiy can be used\n",
        "from sklearn.metrics.pairwise import linear_kernel\n",
        "cosine_similarities = linear_kernel(tfidf_matrix[0:1], tfidf_matrix).flatten()\n",
        "\n",
        "print(cosine_similarities)"
      ]
    },
    {
      "cell_type": "code",
      "source": [
        "# 10 most related documents indices\n",
        "related_docs_indices = cosine_similarities.argsort()[:-11:-1]\n",
        "print(\"Related Document:\",related_docs_indices)\n",
        "\n",
        "# Cosine Similarties of related documents\n",
        "print(\"Cosine Similarites of related documents\",cosine_similarities[related_docs_indices])"
      ],
      "metadata": {
        "id": "YuFFs2KsUSbo",
        "colab": {
          "base_uri": "https://localhost:8080/"
        },
        "outputId": "daa4b39c-9779-4d8b-9b2c-9583946b97e8"
      },
      "execution_count": null,
      "outputs": [
        {
          "output_type": "stream",
          "name": "stdout",
          "text": [
            "Related Document: [    0  9228 16469 14017 21299 15929  8307 15523 21250 15486]\n",
            "Cosine Similarites of related documents [1.         0.18654943 0.18591921 0.17602167 0.17265128 0.1721358\n",
            " 0.16985271 0.16614142 0.16147765 0.15977919]\n"
          ]
        }
      ]
    },
    {
      "cell_type": "code",
      "execution_count": null,
      "metadata": {
        "colab": {
          "base_uri": "https://localhost:8080/",
          "height": 87
        },
        "id": "9GkDaRkIEk7Q",
        "outputId": "dbaa7669-ae69-42df-ccd9-523e91b752e2"
      },
      "outputs": [
        {
          "output_type": "execute_result",
          "data": {
            "text/plain": [
              "\"A bartender is working at a saloon, serving drinks to customers. After he fills a stereotypically Irish man's bucket with beer, Carrie Nation and her followers burst inside. They assault the Irish man, pulling his hat over his eyes and then dumping the beer over his head. The group then begin wrecking the bar, smashing the fixtures, mirrors, and breaking the cash register. The bartender then sprays seltzer water in Nation's face before a group of policemen appear and order everybody to leave.[1]\""
            ],
            "application/vnd.google.colaboratory.intrinsic+json": {
              "type": "string"
            }
          },
          "metadata": {},
          "execution_count": 22
        }
      ],
      "source": [
        "df.iloc[0]['Plot']"
      ]
    },
    {
      "cell_type": "code",
      "execution_count": null,
      "metadata": {
        "colab": {
          "base_uri": "https://localhost:8080/",
          "height": 236
        },
        "id": "bFFBttooEvwB",
        "outputId": "65eea7b4-43d8-4ed9-c412-70624c4bb531"
      },
      "outputs": [
        {
          "output_type": "execute_result",
          "data": {
            "text/plain": [
              "<matplotlib.image.AxesImage at 0x7f23650f8950>"
            ]
          },
          "metadata": {},
          "execution_count": 23
        },
        {
          "output_type": "display_data",
          "data": {
            "text/plain": [
              "<Figure size 432x288 with 1 Axes>"
            ],
            "image/png": "[encoded data removed]"
          },
          "metadata": {
            "needs_background": "light"
          }
        }
      ],
      "source": [
        "from wordcloud import WordCloud\n",
        "import matplotlib.pyplot as plt\n",
        "wordcloud = WordCloud().generate(df.iloc[0]['Plot'])\n",
        "plt.imshow(wordcloud, interpolation=\"bilinear\")"
      ]
    }
  ],
  "metadata": {
    "colab": {
      "collapsed_sections": [],
      "name": "Wikipedia Movie Plots.ipynb",
      "provenance": []
    },
    "kernelspec": {
      "display_name": "Python 3",
      "name": "python3"
    },
    "language_info": {
      "name": "python"
    }
  },
  "nbformat": 4,
  "nbformat_minor": 0
}