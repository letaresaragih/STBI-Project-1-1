{
  "cells": [
    {
      "cell_type": "code",
      "execution_count": null,
      "metadata": {
        "colab": {
          "base_uri": "https://localhost:8080/"
        },
        "id": "rTY7DXpJ1pn7",
        "outputId": "be7af3ac-2272-4048-f7bb-89f9afc6e893"
      },
      "outputs": [
        {
          "output_type": "stream",
          "name": "stdout",
          "text": [
            "Mounted at /content/drive\n"
          ]
        }
      ],
      "source": [
        "from google.colab import drive\n",
        "drive.mount('/content/drive')"
      ]
    },
    {
      "cell_type": "code",
      "execution_count": null,
      "metadata": {
        "colab": {
          "base_uri": "https://localhost:8080/"
        },
        "id": "UY_u3ywGypfb",
        "outputId": "730df5d5-7435-4709-97f3-363c0a45a2ed"
      },
      "outputs": [
        {
          "output_type": "stream",
          "name": "stdout",
          "text": [
            "[nltk_data] Downloading package punkt to /root/nltk_data...\n",
            "[nltk_data]   Unzipping tokenizers/punkt.zip.\n"
          ]
        }
      ],
      "source": [
        "import pandas as pd\n",
        "# import numpy as np \n",
        "import re\n",
        "import string \n",
        "import nltk\n",
        "nltk.download('punkt')\n",
        "# import word_tokenize & FreqDist from NLTK\n",
        "from nltk.tokenize import word_tokenize \n",
        "from nltk.probability import FreqDist\n",
        "from nltk.corpus import stopwords\n",
        "from sklearn.feature_extraction.text import TfidfVectorizer"
      ]
    },
    {
      "cell_type": "code",
      "execution_count": null,
      "metadata": {
        "id": "-9qSQS15q2RS"
      },
      "outputs": [],
      "source": [
        "df = pd.read_csv(\"./drive/MyDrive/Semester8/STBI/wiki_movie_plots_deduped.csv\", index_col=0)\n"
      ]
    },
    {
      "cell_type": "code",
      "execution_count": null,
      "metadata": {
        "colab": {
          "base_uri": "https://localhost:8080/"
        },
        "id": "tKfIJhlaMqrW",
        "outputId": "83c4ae62-eb8d-4df4-8a14-3144aa12d3fc"
      },
      "outputs": [
        {
          "output_type": "execute_result",
          "data": {
            "text/plain": [
              "<bound method DataFrame.info of                                          Title Origin/Ethnicity  \\\n",
              "Release Year                                                      \n",
              "1901                    Kansas Saloon Smashers         American   \n",
              "1901             Love by the Light of the Moon         American   \n",
              "1901                   The Martyred Presidents         American   \n",
              "1901          Terrible Teddy, the Grizzly King         American   \n",
              "1902                    Jack and the Beanstalk         American   \n",
              "...                                        ...              ...   \n",
              "2014                         The Water Diviner          Turkish   \n",
              "2017                        Çalgı Çengi İkimiz          Turkish   \n",
              "2017                              Olanlar Oldu          Turkish   \n",
              "2017                          Non-Transferable          Turkish   \n",
              "2017                        İstanbul Kırmızısı          Turkish   \n",
              "\n",
              "                                        Director  \\\n",
              "Release Year                                       \n",
              "1901                                     Unknown   \n",
              "1901                                     Unknown   \n",
              "1901                                     Unknown   \n",
              "1901                                     Unknown   \n",
              "1902          George S. Fleming, Edwin S. Porter   \n",
              "...                                          ...   \n",
              "2014                     Director: Russell Crowe   \n",
              "2017                              Selçuk Aydemir   \n",
              "2017                                 Hakan Algül   \n",
              "2017                             Brendan Bradley   \n",
              "2017                              Ferzan Özpetek   \n",
              "\n",
              "                                                           Cast  \\\n",
              "Release Year                                                      \n",
              "1901                                                        NaN   \n",
              "1901                                                        NaN   \n",
              "1901                                                        NaN   \n",
              "1901                                                        NaN   \n",
              "1902                                                        NaN   \n",
              "...                                                         ...   \n",
              "2014          Director: Russell Crowe\\r\\nCast: Russell Crowe...   \n",
              "2017                                  Ahmet Kural, Murat Cemcir   \n",
              "2017                      Ata Demirer, Tuvana Türkay, Ülkü Duru   \n",
              "2017          YouTubers Shanna Malcolm, Shira Lazar, Sara Fl...   \n",
              "2017          Halit Ergenç, Tuba Büyüküstün, Mehmet Günsür, ...   \n",
              "\n",
              "                        Genre  \\\n",
              "Release Year                    \n",
              "1901                  unknown   \n",
              "1901                  unknown   \n",
              "1901                  unknown   \n",
              "1901                  unknown   \n",
              "1902                  unknown   \n",
              "...                       ...   \n",
              "2014                  unknown   \n",
              "2017                   comedy   \n",
              "2017                   comedy   \n",
              "2017          romantic comedy   \n",
              "2017                 romantic   \n",
              "\n",
              "                                                      Wiki Page  \\\n",
              "Release Year                                                      \n",
              "1901          https://en.wikipedia.org/wiki/Kansas_Saloon_Sm...   \n",
              "1901          https://en.wikipedia.org/wiki/Love_by_the_Ligh...   \n",
              "1901          https://en.wikipedia.org/wiki/The_Martyred_Pre...   \n",
              "1901          https://en.wikipedia.org/wiki/Terrible_Teddy,_...   \n",
              "1902          https://en.wikipedia.org/wiki/Jack_and_the_Bea...   \n",
              "...                                                         ...   \n",
              "2014            https://en.wikipedia.org/wiki/The_Water_Diviner   \n",
              "2017          https://en.wikipedia.org/wiki/%C3%87alg%C4%B1_...   \n",
              "2017                 https://en.wikipedia.org/wiki/Olanlar_Oldu   \n",
              "2017          https://en.wikipedia.org/wiki/Non-Transferable...   \n",
              "2017          https://en.wikipedia.org/wiki/%C4%B0stanbul_K%...   \n",
              "\n",
              "                                                           Plot  \n",
              "Release Year                                                     \n",
              "1901          A bartender is working at a saloon, serving dr...  \n",
              "1901          The moon, painted with a smiling face hangs ov...  \n",
              "1901          The film, just over a minute long, is composed...  \n",
              "1901          Lasting just 61 seconds and consisting of two ...  \n",
              "1902          The earliest known adaptation of the classic f...  \n",
              "...                                                         ...  \n",
              "2014          The film begins in 1919, just after World War ...  \n",
              "2017          Two musicians, Salih and Gürkan, described the...  \n",
              "2017          Zafer, a sailor living with his mother Döndü i...  \n",
              "2017          The film centres around a young woman named Am...  \n",
              "2017          The writer Orhan Şahin returns to İstanbul aft...  \n",
              "\n",
              "[34886 rows x 7 columns]>"
            ]
          },
          "metadata": {},
          "execution_count": 4
        }
      ],
      "source": [
        "df.info"
      ]
    },
    {
      "cell_type": "code",
      "execution_count": null,
      "metadata": {
        "colab": {
          "base_uri": "https://localhost:8080/",
          "height": 236
        },
        "id": "RfAlfVJ4lqdg",
        "outputId": "d30baa10-7fd8-460c-8f38-0a524593ee42"
      },
      "outputs": [
        {
          "output_type": "execute_result",
          "data": {
            "text/plain": [
              "             Title Origin/Ethnicity Director           Cast    Genre  \\\n",
              "count        34886            34886    34886          33464    34886   \n",
              "unique       32432               24    12593          32182     2265   \n",
              "top     Cinderella         American  Unknown  Tom and Jerry  unknown   \n",
              "freq             8            17377     1124             80     6083   \n",
              "\n",
              "                                                Wiki Page  \\\n",
              "count                                               34886   \n",
              "unique                                              34070   \n",
              "top     https://en.wikipedia.org/wiki/Digimon_Adventur...   \n",
              "freq                                                    5   \n",
              "\n",
              "                                                     Plot  \n",
              "count                                               34886  \n",
              "unique                                              33869  \n",
              "top     (マッスル人参争奪！超人大戦争, Massuru Ninjin Soudatsu! Chou...  \n",
              "freq                                                    6  "
            ],
            "text/html": [
              "\n",
              "  <div id=\"df-7a175a02-5bf2-4dcd-8a87-582c1335aae4\">\n",
              "    <div class=\"colab-df-container\">\n",
              "      <div>\n",
              "<style scoped>\n",
              "    .dataframe tbody tr th:only-of-type {\n",
              "        vertical-align: middle;\n",
              "    }\n",
              "\n",
              "    .dataframe tbody tr th {\n",
              "        vertical-align: top;\n",
              "    }\n",
              "\n",
              "    .dataframe thead th {\n",
              "        text-align: right;\n",
              "    }\n",
              "</style>\n",
              "<table border=\"1\" class=\"dataframe\">\n",
              "  <thead>\n",
              "    <tr style=\"text-align: right;\">\n",
              "      <th></th>\n",
              "      <th>Title</th>\n",
              "      <th>Origin/Ethnicity</th>\n",
              "      <th>Director</th>\n",
              "      <th>Cast</th>\n",
              "      <th>Genre</th>\n",
              "      <th>Wiki Page</th>\n",
              "      <th>Plot</th>\n",
              "    </tr>\n",
              "  </thead>\n",
              "  <tbody>\n",
              "    <tr>\n",
              "      <th>count</th>\n",
              "      <td>34886</td>\n",
              "      <td>34886</td>\n",
              "      <td>34886</td>\n",
              "      <td>33464</td>\n",
              "      <td>34886</td>\n",
              "      <td>34886</td>\n",
              "      <td>34886</td>\n",
              "    </tr>\n",
              "    <tr>\n",
              "      <th>unique</th>\n",
              "      <td>32432</td>\n",
              "      <td>24</td>\n",
              "      <td>12593</td>\n",
              "      <td>32182</td>\n",
              "      <td>2265</td>\n",
              "      <td>34070</td>\n",
              "      <td>33869</td>\n",
              "    </tr>\n",
              "    <tr>\n",
              "      <th>top</th>\n",
              "      <td>Cinderella</td>\n",
              "      <td>American</td>\n",
              "      <td>Unknown</td>\n",
              "      <td>Tom and Jerry</td>\n",
              "      <td>unknown</td>\n",
              "      <td>https://en.wikipedia.org/wiki/Digimon_Adventur...</td>\n",
              "      <td>(マッスル人参争奪！超人大戦争, Massuru Ninjin Soudatsu! Chou...</td>\n",
              "    </tr>\n",
              "    <tr>\n",
              "      <th>freq</th>\n",
              "      <td>8</td>\n",
              "      <td>17377</td>\n",
              "      <td>1124</td>\n",
              "      <td>80</td>\n",
              "      <td>6083</td>\n",
              "      <td>5</td>\n",
              "      <td>6</td>\n",
              "    </tr>\n",
              "  </tbody>\n",
              "</table>\n",
              "</div>\n",
              "      <button class=\"colab-df-convert\" onclick=\"convertToInteractive('df-7a175a02-5bf2-4dcd-8a87-582c1335aae4')\"\n",
              "              title=\"Convert this dataframe to an interactive table.\"\n",
              "              style=\"display:none;\">\n",
              "        \n",
              "  <svg xmlns=\"http://www.w3.org/2000/svg\" height=\"24px\"viewBox=\"0 0 24 24\"\n",
              "       width=\"24px\">\n",
              "    <path d=\"M0 0h24v24H0V0z\" fill=\"none\"/>\n",
              "    <path d=\"M18.56 5.44l.94 2.06.94-2.06 2.06-.94-2.06-.94-.94-2.06-.94 2.06-2.06.94zm-11 1L8.5 8.5l.94-2.06 2.06-.94-2.06-.94L8.5 2.5l-.94 2.06-2.06.94zm10 10l.94 2.06.94-2.06 2.06-.94-2.06-.94-.94-2.06-.94 2.06-2.06.94z\"/><path d=\"M17.41 7.96l-1.37-1.37c-.4-.4-.92-.59-1.43-.59-.52 0-1.04.2-1.43.59L10.3 9.45l-7.72 7.72c-.78.78-.78 2.05 0 2.83L4 21.41c.39.39.9.59 1.41.59.51 0 1.02-.2 1.41-.59l7.78-7.78 2.81-2.81c.8-.78.8-2.07 0-2.86zM5.41 20L4 18.59l7.72-7.72 1.47 1.35L5.41 20z\"/>\n",
              "  </svg>\n",
              "      </button>\n",
              "      \n",
              "  <style>\n",
              "    .colab-df-container {\n",
              "      display:flex;\n",
              "      flex-wrap:wrap;\n",
              "      gap: 12px;\n",
              "    }\n",
              "\n",
              "    .colab-df-convert {\n",
              "      background-color: #E8F0FE;\n",
              "      border: none;\n",
              "      border-radius: 50%;\n",
              "      cursor: pointer;\n",
              "      display: none;\n",
              "      fill: #1967D2;\n",
              "      height: 32px;\n",
              "      padding: 0 0 0 0;\n",
              "      width: 32px;\n",
              "    }\n",
              "\n",
              "    .colab-df-convert:hover {\n",
              "      background-color: #E2EBFA;\n",
              "      box-shadow: 0px 1px 2px rgba(60, 64, 67, 0.3), 0px 1px 3px 1px rgba(60, 64, 67, 0.15);\n",
              "      fill: #174EA6;\n",
              "    }\n",
              "\n",
              "    [theme=dark] .colab-df-convert {\n",
              "      background-color: #3B4455;\n",
              "      fill: #D2E3FC;\n",
              "    }\n",
              "\n",
              "    [theme=dark] .colab-df-convert:hover {\n",
              "      background-color: #434B5C;\n",
              "      box-shadow: 0px 1px 3px 1px rgba(0, 0, 0, 0.15);\n",
              "      filter: drop-shadow(0px 1px 2px rgba(0, 0, 0, 0.3));\n",
              "      fill: #FFFFFF;\n",
              "    }\n",
              "  </style>\n",
              "\n",
              "      <script>\n",
              "        const buttonEl =\n",
              "          document.querySelector('#df-7a175a02-5bf2-4dcd-8a87-582c1335aae4 button.colab-df-convert');\n",
              "        buttonEl.style.display =\n",
              "          google.colab.kernel.accessAllowed ? 'block' : 'none';\n",
              "\n",
              "        async function convertToInteractive(key) {\n",
              "          const element = document.querySelector('#df-7a175a02-5bf2-4dcd-8a87-582c1335aae4');\n",
              "          const dataTable =\n",
              "            await google.colab.kernel.invokeFunction('convertToInteractive',\n",
              "                                                     [key], {});\n",
              "          if (!dataTable) return;\n",
              "\n",
              "          const docLinkHtml = 'Like what you see? Visit the ' +\n",
              "            '<a target=\"_blank\" href=https://colab.research.google.com/notebooks/data_table.ipynb>data table notebook</a>'\n",
              "            + ' to learn more about interactive tables.';\n",
              "          element.innerHTML = '';\n",
              "          dataTable['output_type'] = 'display_data';\n",
              "          await google.colab.output.renderOutput(dataTable, element);\n",
              "          const docLink = document.createElement('div');\n",
              "          docLink.innerHTML = docLinkHtml;\n",
              "          element.appendChild(docLink);\n",
              "        }\n",
              "      </script>\n",
              "    </div>\n",
              "  </div>\n",
              "  "
            ]
          },
          "metadata": {},
          "execution_count": 5
        }
      ],
      "source": [
        "df.describe(include=object)"
      ]
    },
    {
      "cell_type": "code",
      "execution_count": null,
      "metadata": {
        "colab": {
          "base_uri": "https://localhost:8080/"
        },
        "id": "5B2COi-B4-3D",
        "outputId": "dcbcffd6-8d19-4d40-860c-e297c71e4d82"
      },
      "outputs": [
        {
          "output_type": "execute_result",
          "data": {
            "text/plain": [
              "Title                  0\n",
              "Origin/Ethnicity       0\n",
              "Director               0\n",
              "Cast                1422\n",
              "Genre                  0\n",
              "Wiki Page              0\n",
              "Plot                   0\n",
              "dtype: int64"
            ]
          },
          "metadata": {},
          "execution_count": 6
        }
      ],
      "source": [
        "df.isna().sum()"
      ]
    },
    {
      "cell_type": "code",
      "execution_count": null,
      "metadata": {
        "id": "It2-U3wlMtcB"
      },
      "outputs": [],
      "source": [
        "result = df.drop(['Origin/Ethnicity', 'Director', 'Cast', 'Wiki Page'], axis = 1)"
      ]
    },
    {
      "cell_type": "code",
      "execution_count": null,
      "metadata": {
        "colab": {
          "base_uri": "https://localhost:8080/",
          "height": 455
        },
        "id": "gva_bSA4PZrP",
        "outputId": "be2ad04f-5118-48a6-d58e-04ba2569e9fa"
      },
      "outputs": [
        {
          "output_type": "execute_result",
          "data": {
            "text/plain": [
              "                                         Title            Genre  \\\n",
              "Release Year                                                      \n",
              "1901                    Kansas Saloon Smashers          unknown   \n",
              "1901             Love by the Light of the Moon          unknown   \n",
              "1901                   The Martyred Presidents          unknown   \n",
              "1901          Terrible Teddy, the Grizzly King          unknown   \n",
              "1902                    Jack and the Beanstalk          unknown   \n",
              "...                                        ...              ...   \n",
              "2014                         The Water Diviner          unknown   \n",
              "2017                        Çalgı Çengi İkimiz           comedy   \n",
              "2017                              Olanlar Oldu           comedy   \n",
              "2017                          Non-Transferable  romantic comedy   \n",
              "2017                        İstanbul Kırmızısı         romantic   \n",
              "\n",
              "                                                           Plot  \n",
              "Release Year                                                     \n",
              "1901          A bartender is working at a saloon, serving dr...  \n",
              "1901          The moon, painted with a smiling face hangs ov...  \n",
              "1901          The film, just over a minute long, is composed...  \n",
              "1901          Lasting just 61 seconds and consisting of two ...  \n",
              "1902          The earliest known adaptation of the classic f...  \n",
              "...                                                         ...  \n",
              "2014          The film begins in 1919, just after World War ...  \n",
              "2017          Two musicians, Salih and Gürkan, described the...  \n",
              "2017          Zafer, a sailor living with his mother Döndü i...  \n",
              "2017          The film centres around a young woman named Am...  \n",
              "2017          The writer Orhan Şahin returns to İstanbul aft...  \n",
              "\n",
              "[34886 rows x 3 columns]"
            ],
            "text/html": [
              "\n",
              "  <div id=\"df-e9a8be86-05a7-4828-a43e-002f2a71da4e\">\n",
              "    <div class=\"colab-df-container\">\n",
              "      <div>\n",
              "<style scoped>\n",
              "    .dataframe tbody tr th:only-of-type {\n",
              "        vertical-align: middle;\n",
              "    }\n",
              "\n",
              "    .dataframe tbody tr th {\n",
              "        vertical-align: top;\n",
              "    }\n",
              "\n",
              "    .dataframe thead th {\n",
              "        text-align: right;\n",
              "    }\n",
              "</style>\n",
              "<table border=\"1\" class=\"dataframe\">\n",
              "  <thead>\n",
              "    <tr style=\"text-align: right;\">\n",
              "      <th></th>\n",
              "      <th>Title</th>\n",
              "      <th>Genre</th>\n",
              "      <th>Plot</th>\n",
              "    </tr>\n",
              "    <tr>\n",
              "      <th>Release Year</th>\n",
              "      <th></th>\n",
              "      <th></th>\n",
              "      <th></th>\n",
              "    </tr>\n",
              "  </thead>\n",
              "  <tbody>\n",
              "    <tr>\n",
              "      <th>1901</th>\n",
              "      <td>Kansas Saloon Smashers</td>\n",
              "      <td>unknown</td>\n",
              "      <td>A bartender is working at a saloon, serving dr...</td>\n",
              "    </tr>\n",
              "    <tr>\n",
              "      <th>1901</th>\n",
              "      <td>Love by the Light of the Moon</td>\n",
              "      <td>unknown</td>\n",
              "      <td>The moon, painted with a smiling face hangs ov...</td>\n",
              "    </tr>\n",
              "    <tr>\n",
              "      <th>1901</th>\n",
              "      <td>The Martyred Presidents</td>\n",
              "      <td>unknown</td>\n",
              "      <td>The film, just over a minute long, is composed...</td>\n",
              "    </tr>\n",
              "    <tr>\n",
              "      <th>1901</th>\n",
              "      <td>Terrible Teddy, the Grizzly King</td>\n",
              "      <td>unknown</td>\n",
              "      <td>Lasting just 61 seconds and consisting of two ...</td>\n",
              "    </tr>\n",
              "    <tr>\n",
              "      <th>1902</th>\n",
              "      <td>Jack and the Beanstalk</td>\n",
              "      <td>unknown</td>\n",
              "      <td>The earliest known adaptation of the classic f...</td>\n",
              "    </tr>\n",
              "    <tr>\n",
              "      <th>...</th>\n",
              "      <td>...</td>\n",
              "      <td>...</td>\n",
              "      <td>...</td>\n",
              "    </tr>\n",
              "    <tr>\n",
              "      <th>2014</th>\n",
              "      <td>The Water Diviner</td>\n",
              "      <td>unknown</td>\n",
              "      <td>The film begins in 1919, just after World War ...</td>\n",
              "    </tr>\n",
              "    <tr>\n",
              "      <th>2017</th>\n",
              "      <td>Çalgı Çengi İkimiz</td>\n",
              "      <td>comedy</td>\n",
              "      <td>Two musicians, Salih and Gürkan, described the...</td>\n",
              "    </tr>\n",
              "    <tr>\n",
              "      <th>2017</th>\n",
              "      <td>Olanlar Oldu</td>\n",
              "      <td>comedy</td>\n",
              "      <td>Zafer, a sailor living with his mother Döndü i...</td>\n",
              "    </tr>\n",
              "    <tr>\n",
              "      <th>2017</th>\n",
              "      <td>Non-Transferable</td>\n",
              "      <td>romantic comedy</td>\n",
              "      <td>The film centres around a young woman named Am...</td>\n",
              "    </tr>\n",
              "    <tr>\n",
              "      <th>2017</th>\n",
              "      <td>İstanbul Kırmızısı</td>\n",
              "      <td>romantic</td>\n",
              "      <td>The writer Orhan Şahin returns to İstanbul aft...</td>\n",
              "    </tr>\n",
              "  </tbody>\n",
              "</table>\n",
              "<p>34886 rows × 3 columns</p>\n",
              "</div>\n",
              "      <button class=\"colab-df-convert\" onclick=\"convertToInteractive('df-e9a8be86-05a7-4828-a43e-002f2a71da4e')\"\n",
              "              title=\"Convert this dataframe to an interactive table.\"\n",
              "              style=\"display:none;\">\n",
              "        \n",
              "  <svg xmlns=\"http://www.w3.org/2000/svg\" height=\"24px\"viewBox=\"0 0 24 24\"\n",
              "       width=\"24px\">\n",
              "    <path d=\"M0 0h24v24H0V0z\" fill=\"none\"/>\n",
              "    <path d=\"M18.56 5.44l.94 2.06.94-2.06 2.06-.94-2.06-.94-.94-2.06-.94 2.06-2.06.94zm-11 1L8.5 8.5l.94-2.06 2.06-.94-2.06-.94L8.5 2.5l-.94 2.06-2.06.94zm10 10l.94 2.06.94-2.06 2.06-.94-2.06-.94-.94-2.06-.94 2.06-2.06.94z\"/><path d=\"M17.41 7.96l-1.37-1.37c-.4-.4-.92-.59-1.43-.59-.52 0-1.04.2-1.43.59L10.3 9.45l-7.72 7.72c-.78.78-.78 2.05 0 2.83L4 21.41c.39.39.9.59 1.41.59.51 0 1.02-.2 1.41-.59l7.78-7.78 2.81-2.81c.8-.78.8-2.07 0-2.86zM5.41 20L4 18.59l7.72-7.72 1.47 1.35L5.41 20z\"/>\n",
              "  </svg>\n",
              "      </button>\n",
              "      \n",
              "  <style>\n",
              "    .colab-df-container {\n",
              "      display:flex;\n",
              "      flex-wrap:wrap;\n",
              "      gap: 12px;\n",
              "    }\n",
              "\n",
              "    .colab-df-convert {\n",
              "      background-color: #E8F0FE;\n",
              "      border: none;\n",
              "      border-radius: 50%;\n",
              "      cursor: pointer;\n",
              "      display: none;\n",
              "      fill: #1967D2;\n",
              "      height: 32px;\n",
              "      padding: 0 0 0 0;\n",
              "      width: 32px;\n",
              "    }\n",
              "\n",
              "    .colab-df-convert:hover {\n",
              "      background-color: #E2EBFA;\n",
              "      box-shadow: 0px 1px 2px rgba(60, 64, 67, 0.3), 0px 1px 3px 1px rgba(60, 64, 67, 0.15);\n",
              "      fill: #174EA6;\n",
              "    }\n",
              "\n",
              "    [theme=dark] .colab-df-convert {\n",
              "      background-color: #3B4455;\n",
              "      fill: #D2E3FC;\n",
              "    }\n",
              "\n",
              "    [theme=dark] .colab-df-convert:hover {\n",
              "      background-color: #434B5C;\n",
              "      box-shadow: 0px 1px 3px 1px rgba(0, 0, 0, 0.15);\n",
              "      filter: drop-shadow(0px 1px 2px rgba(0, 0, 0, 0.3));\n",
              "      fill: #FFFFFF;\n",
              "    }\n",
              "  </style>\n",
              "\n",
              "      <script>\n",
              "        const buttonEl =\n",
              "          document.querySelector('#df-e9a8be86-05a7-4828-a43e-002f2a71da4e button.colab-df-convert');\n",
              "        buttonEl.style.display =\n",
              "          google.colab.kernel.accessAllowed ? 'block' : 'none';\n",
              "\n",
              "        async function convertToInteractive(key) {\n",
              "          const element = document.querySelector('#df-e9a8be86-05a7-4828-a43e-002f2a71da4e');\n",
              "          const dataTable =\n",
              "            await google.colab.kernel.invokeFunction('convertToInteractive',\n",
              "                                                     [key], {});\n",
              "          if (!dataTable) return;\n",
              "\n",
              "          const docLinkHtml = 'Like what you see? Visit the ' +\n",
              "            '<a target=\"_blank\" href=https://colab.research.google.com/notebooks/data_table.ipynb>data table notebook</a>'\n",
              "            + ' to learn more about interactive tables.';\n",
              "          element.innerHTML = '';\n",
              "          dataTable['output_type'] = 'display_data';\n",
              "          await google.colab.output.renderOutput(dataTable, element);\n",
              "          const docLink = document.createElement('div');\n",
              "          docLink.innerHTML = docLinkHtml;\n",
              "          element.appendChild(docLink);\n",
              "        }\n",
              "      </script>\n",
              "    </div>\n",
              "  </div>\n",
              "  "
            ]
          },
          "metadata": {},
          "execution_count": 8
        }
      ],
      "source": [
        "result"
      ]
    },
    {
      "cell_type": "code",
      "execution_count": null,
      "metadata": {
        "colab": {
          "base_uri": "https://localhost:8080/"
        },
        "id": "vXdW_IHuP7Ij",
        "outputId": "85b2c686-b027-46ab-b217-a2e010be4293"
      },
      "outputs": [
        {
          "output_type": "stream",
          "name": "stdout",
          "text": [
            "             Title    Genre                                               Plot\n",
            "count        34886    34886                                              34886\n",
            "unique       32432     2265                                              33869\n",
            "top     Cinderella  unknown  (マッスル人参争奪！超人大戦争, Massuru Ninjin Soudatsu! Chou...\n",
            "freq             8     6083                                                  6\n"
          ]
        }
      ],
      "source": [
        "print(str(result.describe(include=object)))"
      ]
    },
    {
      "cell_type": "code",
      "execution_count": null,
      "metadata": {
        "colab": {
          "base_uri": "https://localhost:8080/",
          "height": 175
        },
        "id": "MDYZ5VNnQJC8",
        "outputId": "19dd41d8-e4db-4279-f9c9-1a4e0d9bf9ce"
      },
      "outputs": [
        {
          "output_type": "execute_result",
          "data": {
            "text/plain": [
              "             Title  Genre                                               Plot\n",
              "count        33869  33869                                              33869\n",
              "unique       31977   2192                                              33869\n",
              "top     Cinderella  drama  A bartender is working at a saloon, serving dr...\n",
              "freq             7   5860                                                  1"
            ],
            "text/html": [
              "\n",
              "  <div id=\"df-b2880e0d-78da-4a6f-93ce-503d79e3061a\">\n",
              "    <div class=\"colab-df-container\">\n",
              "      <div>\n",
              "<style scoped>\n",
              "    .dataframe tbody tr th:only-of-type {\n",
              "        vertical-align: middle;\n",
              "    }\n",
              "\n",
              "    .dataframe tbody tr th {\n",
              "        vertical-align: top;\n",
              "    }\n",
              "\n",
              "    .dataframe thead th {\n",
              "        text-align: right;\n",
              "    }\n",
              "</style>\n",
              "<table border=\"1\" class=\"dataframe\">\n",
              "  <thead>\n",
              "    <tr style=\"text-align: right;\">\n",
              "      <th></th>\n",
              "      <th>Title</th>\n",
              "      <th>Genre</th>\n",
              "      <th>Plot</th>\n",
              "    </tr>\n",
              "  </thead>\n",
              "  <tbody>\n",
              "    <tr>\n",
              "      <th>count</th>\n",
              "      <td>33869</td>\n",
              "      <td>33869</td>\n",
              "      <td>33869</td>\n",
              "    </tr>\n",
              "    <tr>\n",
              "      <th>unique</th>\n",
              "      <td>31977</td>\n",
              "      <td>2192</td>\n",
              "      <td>33869</td>\n",
              "    </tr>\n",
              "    <tr>\n",
              "      <th>top</th>\n",
              "      <td>Cinderella</td>\n",
              "      <td>drama</td>\n",
              "      <td>A bartender is working at a saloon, serving dr...</td>\n",
              "    </tr>\n",
              "    <tr>\n",
              "      <th>freq</th>\n",
              "      <td>7</td>\n",
              "      <td>5860</td>\n",
              "      <td>1</td>\n",
              "    </tr>\n",
              "  </tbody>\n",
              "</table>\n",
              "</div>\n",
              "      <button class=\"colab-df-convert\" onclick=\"convertToInteractive('df-b2880e0d-78da-4a6f-93ce-503d79e3061a')\"\n",
              "              title=\"Convert this dataframe to an interactive table.\"\n",
              "              style=\"display:none;\">\n",
              "        \n",
              "  <svg xmlns=\"http://www.w3.org/2000/svg\" height=\"24px\"viewBox=\"0 0 24 24\"\n",
              "       width=\"24px\">\n",
              "    <path d=\"M0 0h24v24H0V0z\" fill=\"none\"/>\n",
              "    <path d=\"M18.56 5.44l.94 2.06.94-2.06 2.06-.94-2.06-.94-.94-2.06-.94 2.06-2.06.94zm-11 1L8.5 8.5l.94-2.06 2.06-.94-2.06-.94L8.5 2.5l-.94 2.06-2.06.94zm10 10l.94 2.06.94-2.06 2.06-.94-2.06-.94-.94-2.06-.94 2.06-2.06.94z\"/><path d=\"M17.41 7.96l-1.37-1.37c-.4-.4-.92-.59-1.43-.59-.52 0-1.04.2-1.43.59L10.3 9.45l-7.72 7.72c-.78.78-.78 2.05 0 2.83L4 21.41c.39.39.9.59 1.41.59.51 0 1.02-.2 1.41-.59l7.78-7.78 2.81-2.81c.8-.78.8-2.07 0-2.86zM5.41 20L4 18.59l7.72-7.72 1.47 1.35L5.41 20z\"/>\n",
              "  </svg>\n",
              "      </button>\n",
              "      \n",
              "  <style>\n",
              "    .colab-df-container {\n",
              "      display:flex;\n",
              "      flex-wrap:wrap;\n",
              "      gap: 12px;\n",
              "    }\n",
              "\n",
              "    .colab-df-convert {\n",
              "      background-color: #E8F0FE;\n",
              "      border: none;\n",
              "      border-radius: 50%;\n",
              "      cursor: pointer;\n",
              "      display: none;\n",
              "      fill: #1967D2;\n",
              "      height: 32px;\n",
              "      padding: 0 0 0 0;\n",
              "      width: 32px;\n",
              "    }\n",
              "\n",
              "    .colab-df-convert:hover {\n",
              "      background-color: #E2EBFA;\n",
              "      box-shadow: 0px 1px 2px rgba(60, 64, 67, 0.3), 0px 1px 3px 1px rgba(60, 64, 67, 0.15);\n",
              "      fill: #174EA6;\n",
              "    }\n",
              "\n",
              "    [theme=dark] .colab-df-convert {\n",
              "      background-color: #3B4455;\n",
              "      fill: #D2E3FC;\n",
              "    }\n",
              "\n",
              "    [theme=dark] .colab-df-convert:hover {\n",
              "      background-color: #434B5C;\n",
              "      box-shadow: 0px 1px 3px 1px rgba(0, 0, 0, 0.15);\n",
              "      filter: drop-shadow(0px 1px 2px rgba(0, 0, 0, 0.3));\n",
              "      fill: #FFFFFF;\n",
              "    }\n",
              "  </style>\n",
              "\n",
              "      <script>\n",
              "        const buttonEl =\n",
              "          document.querySelector('#df-b2880e0d-78da-4a6f-93ce-503d79e3061a button.colab-df-convert');\n",
              "        buttonEl.style.display =\n",
              "          google.colab.kernel.accessAllowed ? 'block' : 'none';\n",
              "\n",
              "        async function convertToInteractive(key) {\n",
              "          const element = document.querySelector('#df-b2880e0d-78da-4a6f-93ce-503d79e3061a');\n",
              "          const dataTable =\n",
              "            await google.colab.kernel.invokeFunction('convertToInteractive',\n",
              "                                                     [key], {});\n",
              "          if (!dataTable) return;\n",
              "\n",
              "          const docLinkHtml = 'Like what you see? Visit the ' +\n",
              "            '<a target=\"_blank\" href=https://colab.research.google.com/notebooks/data_table.ipynb>data table notebook</a>'\n",
              "            + ' to learn more about interactive tables.';\n",
              "          element.innerHTML = '';\n",
              "          dataTable['output_type'] = 'display_data';\n",
              "          await google.colab.output.renderOutput(dataTable, element);\n",
              "          const docLink = document.createElement('div');\n",
              "          docLink.innerHTML = docLinkHtml;\n",
              "          element.appendChild(docLink);\n",
              "        }\n",
              "      </script>\n",
              "    </div>\n",
              "  </div>\n",
              "  "
            ]
          },
          "metadata": {},
          "execution_count": 10
        }
      ],
      "source": [
        "result =result.drop_duplicates('Plot')\n",
        "result.describe()"
      ]
    },
    {
      "cell_type": "code",
      "execution_count": null,
      "metadata": {
        "colab": {
          "base_uri": "https://localhost:8080/"
        },
        "id": "__UxfHkNOL7q",
        "outputId": "4de8161a-277e-4fd0-9730-3f3776f15d2c"
      },
      "outputs": [
        {
          "output_type": "stream",
          "name": "stderr",
          "text": [
            "/usr/local/lib/python3.7/dist-packages/ipykernel_launcher.py:5: SettingWithCopyWarning: \n",
            "A value is trying to be set on a copy of a slice from a DataFrame.\n",
            "Try using .loc[row_indexer,col_indexer] = value instead\n",
            "\n",
            "See the caveats in the documentation: https://pandas.pydata.org/pandas-docs/stable/user_guide/indexing.html#returning-a-view-versus-a-copy\n",
            "  \"\"\"\n"
          ]
        }
      ],
      "source": [
        "# remove number\n",
        "def remove_number(text):\n",
        "    return  re.sub(r\"\\[0-9]+\", \"\", str(text))\n",
        " \n",
        "result['Plot'] = result['Plot'].apply(remove_number)\n"
      ]
    },
    {
      "cell_type": "code",
      "execution_count": null,
      "metadata": {
        "colab": {
          "base_uri": "https://localhost:8080/"
        },
        "id": "1KE_U9WTOO-_",
        "outputId": "9e2ce90d-62ee-498d-be63-1d729ecd8bf8"
      },
      "outputs": [
        {
          "output_type": "stream",
          "name": "stderr",
          "text": [
            "/usr/local/lib/python3.7/dist-packages/ipykernel_launcher.py:5: SettingWithCopyWarning: \n",
            "A value is trying to be set on a copy of a slice from a DataFrame.\n",
            "Try using .loc[row_indexer,col_indexer] = value instead\n",
            "\n",
            "See the caveats in the documentation: https://pandas.pydata.org/pandas-docs/stable/user_guide/indexing.html#returning-a-view-versus-a-copy\n",
            "  \"\"\"\n"
          ]
        }
      ],
      "source": [
        "# remove punctuation\n",
        "def punctuation(txt):\n",
        "  return re.sub(r\"[^\\w\\s]\",\"\", str(txt))\n",
        "\n",
        "result['Plot'] = result['Plot'].apply(punctuation)\n"
      ]
    },
    {
      "cell_type": "code",
      "execution_count": null,
      "metadata": {
        "id": "RO0HMmXzOdLE"
      },
      "outputs": [],
      "source": [
        "# tokenization\n",
        "def word_tokenize_wrapper(text):\n",
        "  return word_tokenize(text)\n",
        "result = result['Plot'].apply(word_tokenize_wrapper)"
      ]
    },
    {
      "cell_type": "code",
      "execution_count": null,
      "metadata": {
        "colab": {
          "base_uri": "https://localhost:8080/"
        },
        "id": "BVBL22qLOkKd",
        "outputId": "f47c5ac3-34f3-4e84-aac5-628827a67b04"
      },
      "outputs": [
        {
          "output_type": "stream",
          "name": "stdout",
          "text": [
            "[nltk_data] Downloading package stopwords to /root/nltk_data...\n",
            "[nltk_data]   Unzipping corpora/stopwords.zip.\n",
            "['i', 'me', 'my', 'myself', 'we', 'our', 'ours', 'ourselves', 'you', \"you're\", \"you've\", \"you'll\", \"you'd\", 'your', 'yours', 'yourself', 'yourselves', 'he', 'him', 'his', 'himself', 'she', \"she's\", 'her', 'hers', 'herself', 'it', \"it's\", 'its', 'itself', 'they', 'them', 'their', 'theirs', 'themselves', 'what', 'which', 'who', 'whom', 'this', 'that', \"that'll\", 'these', 'those', 'am', 'is', 'are', 'was', 'were', 'be', 'been', 'being', 'have', 'has', 'had', 'having', 'do', 'does', 'did', 'doing', 'a', 'an', 'the', 'and', 'but', 'if', 'or', 'because', 'as', 'until', 'while', 'of', 'at', 'by', 'for', 'with', 'about', 'against', 'between', 'into', 'through', 'during', 'before', 'after', 'above', 'below', 'to', 'from', 'up', 'down', 'in', 'out', 'on', 'off', 'over', 'under', 'again', 'further', 'then', 'once', 'here', 'there', 'when', 'where', 'why', 'how', 'all', 'any', 'both', 'each', 'few', 'more', 'most', 'other', 'some', 'such', 'no', 'nor', 'not', 'only', 'own', 'same', 'so', 'than', 'too', 'very', 's', 't', 'can', 'will', 'just', 'don', \"don't\", 'should', \"should've\", 'now', 'd', 'll', 'm', 'o', 're', 've', 'y', 'ain', 'aren', \"aren't\", 'couldn', \"couldn't\", 'didn', \"didn't\", 'doesn', \"doesn't\", 'hadn', \"hadn't\", 'hasn', \"hasn't\", 'haven', \"haven't\", 'isn', \"isn't\", 'ma', 'mightn', \"mightn't\", 'mustn', \"mustn't\", 'needn', \"needn't\", 'shan', \"shan't\", 'shouldn', \"shouldn't\", 'wasn', \"wasn't\", 'weren', \"weren't\", 'won', \"won't\", 'wouldn', \"wouldn't\"]\n"
          ]
        }
      ],
      "source": [
        "#stopword removal\n",
        "import nltk\n",
        "nltk.download('stopwords')\n",
        "from nltk.corpus import stopwords\n",
        "sw_nltk = stopwords.words('english')\n",
        "print(sw_nltk)\n",
        "def stopword(text):\n",
        "  words = [word for word in text if word.lower() not in sw_nltk]\n",
        "  return words\n",
        "result = result.apply(stopword)"
      ]
    },
    {
      "cell_type": "code",
      "execution_count": null,
      "metadata": {
        "colab": {
          "base_uri": "https://localhost:8080/"
        },
        "id": "j8lavO8_RDGp",
        "outputId": "10fe5b53-93c5-4c6a-e711-82c834e402fc"
      },
      "outputs": [
        {
          "output_type": "execute_result",
          "data": {
            "text/plain": [
              "Release Year\n",
              "1901    [bartender, working, saloon, serving, drinks, ...\n",
              "1901    [moon, painted, smiling, face, hangs, park, ni...\n",
              "1901    [film, minute, long, composed, two, shots, fir...\n",
              "1901    [Lasting, 61, seconds, consisting, two, shots,...\n",
              "1902    [earliest, known, adaptation, classic, fairyta...\n",
              "                              ...                        \n",
              "2014    [film, follows, elevenyearold, boy, named, Asl...\n",
              "2017    [Two, musicians, Salih, Gürkan, described, adv...\n",
              "2017    [Zafer, sailor, living, mother, Döndü, coastal...\n",
              "2017    [film, centres, around, young, woman, named, A...\n",
              "2017    [writer, Orhan, Şahin, returns, İstanbul, many...\n",
              "Name: Plot, Length: 33869, dtype: object"
            ]
          },
          "metadata": {},
          "execution_count": 15
        }
      ],
      "source": [
        "result"
      ]
    },
    {
      "cell_type": "code",
      "execution_count": null,
      "metadata": {
        "colab": {
          "base_uri": "https://localhost:8080/"
        },
        "id": "rGQJCwCzOo9a",
        "outputId": "2645fab6-abf8-4cf2-e09e-c039c40cb7d3"
      },
      "outputs": [
        {
          "output_type": "stream",
          "name": "stdout",
          "text": [
            "[nltk_data] Downloading package wordnet to /root/nltk_data...\n",
            "[nltk_data]   Unzipping corpora/wordnet.zip.\n"
          ]
        }
      ],
      "source": [
        "#normalization\n",
        "nltk.download('wordnet')\n",
        "from nltk.stem import WordNetLemmatizer\n",
        "def lemma(text):\n",
        "  lemmatizer = WordNetLemmatizer()\n",
        "  Output= [lemmatizer.lemmatize(words_sent) for words_sent in text]\n",
        "  return Output\n",
        "result = result.apply(lemma)\n"
      ]
    },
    {
      "cell_type": "code",
      "execution_count": null,
      "metadata": {
        "colab": {
          "base_uri": "https://localhost:8080/"
        },
        "id": "__6uovDePYVR",
        "outputId": "2e9b1942-08ae-45d5-ebdc-870b63e9cbb9"
      },
      "outputs": [
        {
          "output_type": "execute_result",
          "data": {
            "text/plain": [
              "Release Year\n",
              "1901    [bartender, working, saloon, serving, drink, c...\n",
              "1901    [moon, painted, smiling, face, hang, park, nig...\n",
              "1901    [film, minute, long, composed, two, shot, firs...\n",
              "1901    [Lasting, 61, second, consisting, two, shot, f...\n",
              "1902    [earliest, known, adaptation, classic, fairyta...\n",
              "Name: Plot, dtype: object"
            ]
          },
          "metadata": {},
          "execution_count": 17
        }
      ],
      "source": [
        "result.head()"
      ]
    },
    {
      "cell_type": "code",
      "source": [
        "#word embedding\n",
        "from gensim.models import FastText\n",
        "model = FastText(result,  window=5,  min_count=5,   sg=1 ,size = 200)"
      ],
      "metadata": {
        "id": "_oguaa1l8v73"
      },
      "execution_count": null,
      "outputs": []
    },
    {
      "cell_type": "code",
      "execution_count": null,
      "metadata": {
        "id": "bbW0YWSHZU1u"
      },
      "outputs": [],
      "source": [
        "fasttext = model.wv"
      ]
    },
    {
      "cell_type": "code",
      "execution_count": null,
      "metadata": {
        "colab": {
          "base_uri": "https://localhost:8080/"
        },
        "id": "UG2KAQ2oZYQ-",
        "outputId": "8c4aca2a-8030-4ebf-c2d7-52158bfecb1c"
      },
      "outputs": [
        {
          "data": {
            "text/plain": [
              "[('fullmoon', 0.743504524230957),\n",
              " ('moonlight', 0.7376183271408081),\n",
              " ('moonlighting', 0.7136588096618652),\n",
              " ('mooning', 0.6914658546447754),\n",
              " ('eclipsed', 0.687670111656189)]"
            ]
          },
          "execution_count": 20,
          "metadata": {},
          "output_type": "execute_result"
        }
      ],
      "source": [
        "fasttext.similar_by_word(\"moon\", topn=5)"
      ]
    },
    {
      "cell_type": "code",
      "execution_count": null,
      "metadata": {
        "colab": {
          "base_uri": "https://localhost:8080/"
        },
        "id": "SR8UuhomrRu9",
        "outputId": "d15aaf40-3913-4599-e765-e7383daf8f4b"
      },
      "outputs": [
        {
          "data": {
            "text/plain": [
              "array([ 0.10312438,  0.05913728,  0.08126647, -0.1740665 , -0.03519392,\n",
              "       -0.25567424, -0.19957957,  0.12243085,  0.13962986,  0.10401208,\n",
              "       -0.12825163, -0.15535837, -0.618083  , -0.38556835, -0.3685807 ,\n",
              "        0.08515002,  0.37504166, -0.24405736, -0.39573163,  0.0215664 ,\n",
              "       -0.05522411,  0.05272481, -0.42954323,  0.2740605 ,  0.5540412 ,\n",
              "        0.30928805, -0.0354096 , -0.03576476,  0.06685276,  0.03347394,\n",
              "       -0.21175686, -0.30729118,  0.2519637 , -0.05942947, -0.39994577,\n",
              "       -0.2114439 , -0.37437192, -0.6893602 ,  0.22681531,  0.0019329 ,\n",
              "       -0.06181175, -0.20685917, -0.5175328 , -0.05205783,  0.2549801 ,\n",
              "        0.05680652, -0.5288616 ,  0.13456024, -0.0289307 , -0.23707022,\n",
              "        0.43041185, -0.05529362,  0.4174359 , -0.27538422,  0.2212479 ,\n",
              "       -0.03327371,  0.2516384 ,  0.10364995,  0.35520834,  0.35740936,\n",
              "        0.09812567, -0.04032316,  0.07871911, -0.3222268 , -0.7244035 ,\n",
              "       -0.26037455,  0.24205767,  0.09480205,  0.02399155, -0.34477377,\n",
              "        0.01722676, -0.27327308,  0.55987555, -0.1107272 , -0.22431564,\n",
              "        0.54256964,  0.11208684, -0.19385535,  0.08518749,  0.03127012,\n",
              "        0.26677245, -0.10408451, -0.2377499 , -0.04535145,  0.29388425,\n",
              "       -0.09867708,  0.00962894, -0.23209094,  0.10703877, -0.35151646,\n",
              "        0.17115325, -0.1029763 , -0.21141554, -0.3629725 ,  0.15636577,\n",
              "        0.27630818,  0.5137206 ,  0.91142976,  0.32109034, -0.16172723,\n",
              "        0.29286423, -0.2832862 , -0.19953303,  0.09321124, -0.30774108,\n",
              "       -0.09014922, -0.2272748 , -0.29804364, -0.48543796,  0.12726714,\n",
              "        0.30598643,  0.30102053, -0.45530418,  0.36677554, -0.30346575,\n",
              "        0.3608658 ,  0.31824788,  0.41379544, -0.37883395, -0.05219606,\n",
              "       -0.3004834 ,  0.5648042 ,  0.1301576 , -0.06652593, -0.10051993,\n",
              "       -0.25371858, -0.05211482,  0.26673448,  0.1494341 ,  0.19114529,\n",
              "        0.21174866,  0.20800138, -0.10168929,  0.11133724, -0.01986628,\n",
              "       -0.4314003 ,  0.5673609 ,  0.10243235, -0.12973897, -0.02668545,\n",
              "       -0.2208322 ,  0.03956375,  0.14482488, -0.09114751, -0.00886697,\n",
              "       -0.24721836,  0.26804855, -0.07664343, -0.44404018, -0.27536523,\n",
              "        0.2894445 ,  0.03547319,  0.08701563,  0.01889472, -0.20120515,\n",
              "       -0.01026306,  0.22734839,  0.28777447, -0.10962636,  0.36519098,\n",
              "        0.12641305,  0.3660982 , -0.10826016,  0.37132576,  0.37605885,\n",
              "        0.18344645, -0.14446689,  0.15270354, -0.09228294, -0.05279829,\n",
              "       -0.48428333,  0.14112209,  0.13949965,  0.3745412 ,  0.05602684,\n",
              "        0.2945423 ,  0.24082527,  0.3272606 ,  0.32552597, -0.08011598,\n",
              "        0.08144759, -0.55000633, -0.02382946,  0.26314023, -0.17700003,\n",
              "       -0.03483453, -0.27971676,  0.3013954 , -0.16597971, -0.22661968,\n",
              "        0.03933053, -0.14976345, -0.568685  ,  0.30934155,  0.2865238 ,\n",
              "        0.18588471,  0.16196923, -0.29684302,  0.12209471, -0.2670558 ],\n",
              "      dtype=float32)"
            ]
          },
          "execution_count": 21,
          "metadata": {},
          "output_type": "execute_result"
        }
      ],
      "source": [
        "fasttext.get_vector('moon')"
      ]
    },
    {
      "cell_type": "code",
      "execution_count": null,
      "metadata": {
        "id": "HnDfaqE315zk"
      },
      "outputs": [],
      "source": [
        "from sklearn.feature_extraction.text import TfidfVectorizer\n",
        "\n",
        "def tfidf(data):\n",
        "    tfidf = TfidfVectorizer( stop_words='english',use_idf=True)\n",
        "    tfidf_matrix = tfidf.fit_transform(data)\n",
        "    return tfidf_matrix"
      ]
    },
    {
      "cell_type": "code",
      "execution_count": null,
      "metadata": {
        "id": "NAeAp5PVDghw"
      },
      "outputs": [],
      "source": [
        "# Let's create a matrix with tfidf for the column abstract\n",
        "tfidf_matrix = tfidf(df['Plot'])"
      ]
    },
    {
      "cell_type": "code",
      "execution_count": null,
      "metadata": {
        "colab": {
          "base_uri": "https://localhost:8080/"
        },
        "id": "FMAb869mEN6q",
        "outputId": "8746f658-73df-4295-8c60-f2e5b044003a"
      },
      "outputs": [
        {
          "name": "stdout",
          "output_type": "stream",
          "text": [
            "Related Document: [    0 16469 14017  9228 15523 15929   231  8307  6024 18496]\n",
            "Cosine Similarites of related documents [1.         0.15179715 0.15148911 0.14949147 0.12348549 0.12267833\n",
            " 0.11271582 0.10805585 0.10767625 0.10554338]\n"
          ]
        }
      ],
      "source": [
        "# in order to explore which documents have more similar respresentaiton, consine simliartiy can be used\n",
        "from sklearn.metrics.pairwise import linear_kernel\n",
        "cosine_similarities = linear_kernel(tfidf_matrix[0:1], tfidf_matrix).flatten()\n",
        "\n",
        "# 10 most related documents indices\n",
        "related_docs_indices = cosine_similarities.argsort()[:-11:-1]\n",
        "print(\"Related Document:\",related_docs_indices)\n",
        "\n",
        "# Cosine Similarties of related documents\n",
        "print(\"Cosine Similarites of related documents\",cosine_similarities[related_docs_indices])"
      ]
    },
    {
      "cell_type": "code",
      "execution_count": null,
      "metadata": {
        "colab": {
          "base_uri": "https://localhost:8080/",
          "height": 87
        },
        "id": "9GkDaRkIEk7Q",
        "outputId": "bdfe84dc-8fdb-43f3-a8bb-c0be92090a2d"
      },
      "outputs": [
        {
          "data": {
            "application/vnd.google.colaboratory.intrinsic+json": {
              "type": "string"
            },
            "text/plain": [
              "\"A bartender is working at a saloon, serving drinks to customers. After he fills a stereotypically Irish man's bucket with beer, Carrie Nation and her followers burst inside. They assault the Irish man, pulling his hat over his eyes and then dumping the beer over his head. The group then begin wrecking the bar, smashing the fixtures, mirrors, and breaking the cash register. The bartender then sprays seltzer water in Nation's face before a group of policemen appear and order everybody to leave.[1]\""
            ]
          },
          "execution_count": 36,
          "metadata": {},
          "output_type": "execute_result"
        }
      ],
      "source": [
        "df.iloc[0]['Plot']"
      ]
    },
    {
      "cell_type": "code",
      "execution_count": null,
      "metadata": {
        "colab": {
          "base_uri": "https://localhost:8080/",
          "height": 236
        },
        "id": "bFFBttooEvwB",
        "outputId": "66714903-d7ab-4cae-bb39-8770eac18781"
      },
      "outputs": [
        {
          "data": {
            "text/plain": [
              "<matplotlib.image.AxesImage at 0x7f38d4fa20d0>"
            ]
          },
          "execution_count": 37,
          "metadata": {},
          "output_type": "execute_result"
        },
        {
          "data": {
            "image/png": "[encoded data removed]",
            "text/plain": [
              "<Figure size 432x288 with 1 Axes>"
            ]
          },
          "metadata": {},
          "output_type": "display_data"
        }
      ],
      "source": [
        "from wordcloud import WordCloud\n",
        "import matplotlib.pyplot as plt\n",
        "wordcloud = WordCloud().generate(df.iloc[0]['Plot'])\n",
        "plt.imshow(wordcloud, interpolation=\"bilinear\")"
      ]
    },
    {
      "cell_type": "code",
      "execution_count": null,
      "metadata": {
        "id": "zp9YuHxSE8gf"
      },
      "outputs": [],
      "source": [
        "# importing KMeans library of sklearn\n",
        "from sklearn.cluster import KMeans\n",
        "\n",
        "def kmeans(n_clusters):\n",
        "    kmean_model = KMeans(n_clusters = n_clusters,random_state=0)\n",
        "    return kmean_model"
      ]
    },
    {
      "cell_type": "code",
      "execution_count": null,
      "metadata": {
        "id": "RenufoErGdcJ"
      },
      "outputs": [],
      "source": [
        "import gensim\n",
        "from gensim.models import Doc2Vec\n",
        "\n",
        "def doc2vec():\n",
        "    document_tagged = []\n",
        "    tagged_count = 0\n",
        "    for _ in df['Plot'].values:\n",
        "        document_tagged.append(gensim.models.doc2vec.TaggedDocument(_,[tagged_count]))\n",
        "        tagged_count +=1 \n",
        "    d2v = Doc2Vec(document_tagged)\n",
        "    d2v.train(document_tagged,epochs=d2v.epochs,total_examples=d2v.corpus_count)\n",
        "    return d2v.docvecs.vectors_docs"
      ]
    },
    {
      "cell_type": "code",
      "execution_count": null,
      "metadata": {
        "id": "8-_e42lZGrP0"
      },
      "outputs": [],
      "source": [
        "from sklearn.feature_extraction.text import TfidfVectorizer\n",
        "\n",
        "def tfidf(result):\n",
        "    tfidf = TfidfVectorizer( stop_words='english',use_idf=True)\n",
        "    tfidf_matrix = tfidf.fit_transform(result)\n",
        "    return tfidf_matrix"
      ]
    },
    {
      "cell_type": "code",
      "execution_count": null,
      "metadata": {
        "id": "2U_5EWAqANtL"
      },
      "outputs": [],
      "source": [
        "# Let's create a matrix with tfidf for the column abstract\n",
        "tfidf_matrix = tfidf(df['Plot'].values.astype('U'))"
      ]
    },
    {
      "cell_type": "code",
      "execution_count": null,
      "metadata": {
        "colab": {
          "background_save": true
        },
        "id": "DnUCpzIrBU0E",
        "outputId": "751294a5-56fc-47bf-b8f9-a7d6bd0a39f5"
      },
      "outputs": [
        {
          "data": {
            "image/png": "[encoded data removed]",
            "text/plain": [
              "<Figure size 432x288 with 1 Axes>"
            ]
          },
          "metadata": {},
          "output_type": "display_data"
        }
      ],
      "source": [
        "from sklearn.cluster import KMeans\n",
        "import matplotlib.pyplot as plt\n",
        "\n",
        "nc = range(1,10)\n",
        "kmeans = [KMeans(n_clusters = i, n_init = 100, max_iter = 500) for i in nc]\n",
        "score = [kmeans[i].fit(tfidf_matrix).score(tfidf_matrix) for i in range(len(kmeans))]\n",
        "plt.plot(nc,score)\n",
        "plt.xlabel('Number of Clusters')\n",
        "plt.ylabel('Score')\n",
        "plt.title('Elbow Curve')\n",
        "plt.show()"
      ]
    }
  ],
  "metadata": {
    "colab": {
      "collapsed_sections": [],
      "name": "Wikipedia Movie Plots Fasttext.ipynb",
      "provenance": []
    },
    "kernelspec": {
      "display_name": "Python 3",
      "name": "python3"
    },
    "language_info": {
      "name": "python"
    }
  },
  "nbformat": 4,
  "nbformat_minor": 0
}